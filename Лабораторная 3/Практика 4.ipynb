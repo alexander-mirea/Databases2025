{
  "nbformat": 4,
  "nbformat_minor": 0,
  "metadata": {
    "kernelspec": {
      "display_name": "Python 3",
      "language": "python",
      "name": "python3"
    },
    "language_info": {
      "codemirror_mode": {
        "name": "ipython",
        "version": 3
      },
      "file_extension": ".py",
      "mimetype": "text/x-python",
      "name": "python",
      "nbconvert_exporter": "python",
      "pygments_lexer": "ipython3",
      "version": "3.7.6"
    },
    "colab": {
      "provenance": []
    }
  },
  "cells": [
    {
      "cell_type": "code",
      "metadata": {
        "id": "gxs2m9kfS2CP",
        "colab": {
          "base_uri": "https://localhost:8080/"
        },
        "outputId": "449dcb8c-6195-475f-8251-f49de82856dc"
      },
      "source": [
        "%load_ext sql\n",
        "%sql sqlite:///base.db\n",
        "%config SqlMagic.style = '_DEPRECATED_DEFAULT'"
      ],
      "execution_count": 12,
      "outputs": [
        {
          "output_type": "stream",
          "name": "stdout",
          "text": [
            "The sql extension is already loaded. To reload it, use:\n",
            "  %reload_ext sql\n"
          ]
        }
      ]
    },
    {
      "cell_type": "markdown",
      "metadata": {
        "id": "B1tvnB48Iqnp"
      },
      "source": [
        "# Написание функций для работы с sqlite с использованием python"
      ]
    },
    {
      "cell_type": "markdown",
      "source": [
        "Зачем нужно:\n",
        "\n",
        "- Анализ данных и другие сложные операции\n",
        "- API (application programming interface)"
      ],
      "metadata": {
        "id": "xiKfc2UpSxWt"
      }
    },
    {
      "cell_type": "code",
      "metadata": {
        "id": "HhI93YVFS2CS",
        "colab": {
          "base_uri": "https://localhost:8080/"
        },
        "outputId": "5bee43f1-0ad3-476b-f1f7-44b31b6dcc72"
      },
      "source": [
        "%%sql\n",
        "Pragma foreign_keys=on;\n",
        "\n",
        "DROP TABLE if exists Products;\n",
        "DROP TABLE if exists Invoices;\n",
        "DROP TABLE if exists Customers;\n",
        "\n",
        "CREATE TABLE Customers (\n",
        "          cust_ID integer NOT NULL Primary key,\n",
        "          cust_name varchar NOT NULL UNIQUE,\n",
        "          cust_password varchar NOT NULL,\n",
        "          address varchar NOT NULL\n",
        "          );\n",
        "\n",
        "CREATE TABLE Invoices (\n",
        "          invoice_ID integer NOT NULL Primary key,\n",
        "          product_id integer NOT NULL,\n",
        "          customer_id integer NOT NULL,\n",
        "          qty integer DEFAULT 0,\n",
        "          order_sum integer DEFAULT 0,\n",
        "          invoice_date integer,\n",
        "          FOREIGN KEY (product_id) REFERENCES Products(product_id)\n",
        "          FOREIGN KEY (customer_id) REFERENCES Customers(cust_ID));\n",
        "\n",
        "CREATE TABLE Products (\n",
        "          product_id integer NOT NULL Primary key,\n",
        "          product_name varchar NOT NULL UNIQUE,\n",
        "          qty integer NOT NULL DEFAULT 0,\n",
        "          price integer);"
      ],
      "execution_count": 2,
      "outputs": [
        {
          "output_type": "stream",
          "name": "stdout",
          "text": [
            " * sqlite:///base.db\n",
            "Done.\n",
            "Done.\n",
            "Done.\n",
            "Done.\n",
            "Done.\n",
            "Done.\n",
            "Done.\n"
          ]
        },
        {
          "output_type": "execute_result",
          "data": {
            "text/plain": [
              "[]"
            ]
          },
          "metadata": {},
          "execution_count": 2
        }
      ]
    },
    {
      "cell_type": "code",
      "source": [
        "%%sql\n",
        "\n",
        "INSERT INTO Products (product_name, qty, price) VALUES (\"Ноутбук\", 10, 30000);\n",
        "INSERT INTO Products (product_name, qty, price) VALUES (\"Монитор\", 20, 10000);\n",
        "INSERT INTO Products (product_name, qty, price) VALUES (\"Наушники\", 20, 8000);\n",
        "INSERT INTO Products (product_name, qty, price) VALUES (\"Смартфон\", 50, 34000);"
      ],
      "metadata": {
        "id": "j5RFqW4kN4mm",
        "colab": {
          "base_uri": "https://localhost:8080/"
        },
        "outputId": "1ac04340-3969-4f99-a4db-7986a24b3754"
      },
      "execution_count": 3,
      "outputs": [
        {
          "output_type": "stream",
          "name": "stdout",
          "text": [
            " * sqlite:///base.db\n",
            "1 rows affected.\n",
            "1 rows affected.\n",
            "1 rows affected.\n",
            "1 rows affected.\n"
          ]
        },
        {
          "output_type": "execute_result",
          "data": {
            "text/plain": [
              "[]"
            ]
          },
          "metadata": {},
          "execution_count": 3
        }
      ]
    },
    {
      "cell_type": "markdown",
      "source": [
        "Необходимо подключить приложение к базе данных:"
      ],
      "metadata": {
        "id": "RTnPnoz6THMG"
      }
    },
    {
      "cell_type": "code",
      "metadata": {
        "id": "iEiBNdrGS2CT"
      },
      "source": [
        "import sqlite3\n",
        "connection = sqlite3.connect('base.db') # логин-пароль не нужны, sqlite не работает как отдельный сервер"
      ],
      "execution_count": 4,
      "outputs": []
    },
    {
      "cell_type": "markdown",
      "source": [
        "В случае серверной SQL (на примере MySQL):\n",
        "\n",
        "connection = mysql.connector.connect(\n",
        "            host=host_name,\n",
        "            user=user_name,\n",
        "            passwd=user_password\n",
        "        )"
      ],
      "metadata": {
        "id": "gNahAdjpo1LP"
      }
    },
    {
      "cell_type": "code",
      "metadata": {
        "id": "EpvzBZV0S2CU",
        "colab": {
          "base_uri": "https://localhost:8080/"
        },
        "outputId": "b11f18b4-4507-44d8-aa71-1d33c6bc5ef5"
      },
      "source": [
        "type(connection)"
      ],
      "execution_count": 5,
      "outputs": [
        {
          "output_type": "execute_result",
          "data": {
            "text/plain": [
              "sqlite3.Connection"
            ]
          },
          "metadata": {},
          "execution_count": 5
        }
      ]
    },
    {
      "cell_type": "code",
      "metadata": {
        "id": "BIHatJdyS2CU"
      },
      "source": [
        "cur = connection.cursor()"
      ],
      "execution_count": 6,
      "outputs": []
    },
    {
      "cell_type": "markdown",
      "source": [
        "Курсор служит указателем, который позволяет языку программирования обрабатывать результаты запроса по одной записи за раз."
      ],
      "metadata": {
        "id": "b2OzJ4tDEL5r"
      }
    },
    {
      "cell_type": "code",
      "metadata": {
        "id": "HCbxIcedS2CV",
        "colab": {
          "base_uri": "https://localhost:8080/"
        },
        "outputId": "020abb2d-b1f2-48a7-d626-55b539a29fa2"
      },
      "source": [
        "cur.execute(\"\"\"SELECT *\n",
        "            FROM Products\"\"\") # execute(sql[, parameters]) - создание промежуточного объекта типа cursor и вызов метода execute объекта cursor"
      ],
      "execution_count": 7,
      "outputs": [
        {
          "output_type": "execute_result",
          "data": {
            "text/plain": [
              "<sqlite3.Cursor at 0x7fe67d4258c0>"
            ]
          },
          "metadata": {},
          "execution_count": 7
        }
      ]
    },
    {
      "cell_type": "code",
      "metadata": {
        "id": "jSWvR6SES2CV"
      },
      "source": [
        "a = cur.fetchone() # вывод 1 строки"
      ],
      "execution_count": 8,
      "outputs": []
    },
    {
      "cell_type": "code",
      "metadata": {
        "id": "LR8gsvcOS2CW",
        "colab": {
          "base_uri": "https://localhost:8080/"
        },
        "outputId": "6eb34445-bafd-42b8-8b1f-72a4c3641e6c"
      },
      "source": [
        "a"
      ],
      "execution_count": 9,
      "outputs": [
        {
          "output_type": "execute_result",
          "data": {
            "text/plain": [
              "(1, 'Ноутбук', 10, 30000)"
            ]
          },
          "metadata": {},
          "execution_count": 9
        }
      ]
    },
    {
      "cell_type": "code",
      "metadata": {
        "id": "Xukgf0htS2CX",
        "colab": {
          "base_uri": "https://localhost:8080/"
        },
        "outputId": "0af711cf-5b5a-4398-bf70-ee96dba7d7c0"
      },
      "source": [
        "cur.fetchall() # вывод всего"
      ],
      "execution_count": 10,
      "outputs": [
        {
          "output_type": "execute_result",
          "data": {
            "text/plain": [
              "[(2, 'Монитор', 20, 10000),\n",
              " (3, 'Наушники', 20, 8000),\n",
              " (4, 'Смартфон', 50, 34000)]"
            ]
          },
          "metadata": {},
          "execution_count": 10
        }
      ]
    },
    {
      "cell_type": "code",
      "metadata": {
        "id": "DWDaqkFyWS9A",
        "colab": {
          "base_uri": "https://localhost:8080/",
          "height": 161
        },
        "outputId": "84e837ad-b88c-4b91-8ef5-cf2f9539bf91"
      },
      "source": [
        "%sql SELECT * FROM Products;"
      ],
      "execution_count": 13,
      "outputs": [
        {
          "output_type": "stream",
          "name": "stdout",
          "text": [
            " * sqlite:///base.db\n",
            "Done.\n"
          ]
        },
        {
          "output_type": "execute_result",
          "data": {
            "text/plain": [
              "[(1, 'Ноутбук', 10, 30000),\n",
              " (2, 'Монитор', 20, 10000),\n",
              " (3, 'Наушники', 20, 8000),\n",
              " (4, 'Смартфон', 50, 34000)]"
            ],
            "text/html": [
              "<table>\n",
              "    <thead>\n",
              "        <tr>\n",
              "            <th>product_id</th>\n",
              "            <th>product_name</th>\n",
              "            <th>qty</th>\n",
              "            <th>price</th>\n",
              "        </tr>\n",
              "    </thead>\n",
              "    <tbody>\n",
              "        <tr>\n",
              "            <td>1</td>\n",
              "            <td>Ноутбук</td>\n",
              "            <td>10</td>\n",
              "            <td>30000</td>\n",
              "        </tr>\n",
              "        <tr>\n",
              "            <td>2</td>\n",
              "            <td>Монитор</td>\n",
              "            <td>20</td>\n",
              "            <td>10000</td>\n",
              "        </tr>\n",
              "        <tr>\n",
              "            <td>3</td>\n",
              "            <td>Наушники</td>\n",
              "            <td>20</td>\n",
              "            <td>8000</td>\n",
              "        </tr>\n",
              "        <tr>\n",
              "            <td>4</td>\n",
              "            <td>Смартфон</td>\n",
              "            <td>50</td>\n",
              "            <td>34000</td>\n",
              "        </tr>\n",
              "    </tbody>\n",
              "</table>"
            ]
          },
          "metadata": {},
          "execution_count": 13
        }
      ]
    },
    {
      "cell_type": "markdown",
      "metadata": {
        "id": "V-y3jgYZOxj3"
      },
      "source": [
        "Написать функцию для добавления клиента (имя, инфо):"
      ]
    },
    {
      "cell_type": "code",
      "metadata": {
        "id": "8EfYC8HyS2CX"
      },
      "source": [
        "def insert_customer(name, passw, address, con):\n",
        "    cur = con.cursor()\n",
        "    cur.execute('''\n",
        "        INSERT INTO Customers(cust_name, cust_password, address)\n",
        "        VALUES(?,?,?)''', (name,passw,address))\n",
        "    con.commit() # сохранить изменения"
      ],
      "execution_count": 14,
      "outputs": []
    },
    {
      "cell_type": "code",
      "metadata": {
        "id": "gDF6QookS2CX"
      },
      "source": [
        "insert_customer('Александр', '12345', 'Адрес_1', connection)\n",
        "insert_customer('Антон', '67890', 'Адрес2', connection)\n",
        "insert_customer('Михаил', 'qwerty', 'Адрес3', connection)\n",
        "insert_customer('Наталья', 'asdfgh', 'Адрес4', connection)"
      ],
      "execution_count": 15,
      "outputs": []
    },
    {
      "cell_type": "code",
      "metadata": {
        "id": "z6rRQCP-S2CY",
        "colab": {
          "base_uri": "https://localhost:8080/",
          "height": 161
        },
        "outputId": "bf7824ef-c328-4680-f054-fe9b22eef4ea"
      },
      "source": [
        "%%sql\n",
        "select * from customers;"
      ],
      "execution_count": 16,
      "outputs": [
        {
          "output_type": "stream",
          "name": "stdout",
          "text": [
            " * sqlite:///base.db\n",
            "Done.\n"
          ]
        },
        {
          "output_type": "execute_result",
          "data": {
            "text/plain": [
              "[(1, 'Александр', '12345', 'Адрес_1'),\n",
              " (2, 'Антон', '67890', 'Адрес2'),\n",
              " (3, 'Михаил', 'qwerty', 'Адрес3'),\n",
              " (4, 'Наталья', 'asdfgh', 'Адрес4')]"
            ],
            "text/html": [
              "<table>\n",
              "    <thead>\n",
              "        <tr>\n",
              "            <th>cust_ID</th>\n",
              "            <th>cust_name</th>\n",
              "            <th>cust_password</th>\n",
              "            <th>address</th>\n",
              "        </tr>\n",
              "    </thead>\n",
              "    <tbody>\n",
              "        <tr>\n",
              "            <td>1</td>\n",
              "            <td>Александр</td>\n",
              "            <td>12345</td>\n",
              "            <td>Адрес_1</td>\n",
              "        </tr>\n",
              "        <tr>\n",
              "            <td>2</td>\n",
              "            <td>Антон</td>\n",
              "            <td>67890</td>\n",
              "            <td>Адрес2</td>\n",
              "        </tr>\n",
              "        <tr>\n",
              "            <td>3</td>\n",
              "            <td>Михаил</td>\n",
              "            <td>qwerty</td>\n",
              "            <td>Адрес3</td>\n",
              "        </tr>\n",
              "        <tr>\n",
              "            <td>4</td>\n",
              "            <td>Наталья</td>\n",
              "            <td>asdfgh</td>\n",
              "            <td>Адрес4</td>\n",
              "        </tr>\n",
              "    </tbody>\n",
              "</table>"
            ]
          },
          "metadata": {},
          "execution_count": 16
        }
      ]
    },
    {
      "cell_type": "markdown",
      "metadata": {
        "id": "ZB1RY2MjOqJX"
      },
      "source": [
        "Написать функцию для смены адреса клиента"
      ]
    },
    {
      "cell_type": "code",
      "source": [
        "def update_address(name, new_address):\n",
        "    cur = connection.cursor()\n",
        "    cur.execute('''UPDATE customers set address = ? where cust_name = ?''', (new_address, name))\n",
        "    connection.commit()"
      ],
      "metadata": {
        "id": "cvtju4VuQ8PE"
      },
      "execution_count": 17,
      "outputs": []
    },
    {
      "cell_type": "code",
      "metadata": {
        "id": "-vi2agFfS2CY"
      },
      "source": [
        "update_address('Александр', \"Новый_адрес\");"
      ],
      "execution_count": 18,
      "outputs": []
    },
    {
      "cell_type": "code",
      "metadata": {
        "id": "_-K44N-xS2CZ",
        "colab": {
          "base_uri": "https://localhost:8080/",
          "height": 161
        },
        "outputId": "0538e38b-8292-4d65-8c1a-b0bbf8f74520"
      },
      "source": [
        "%%sql\n",
        "select * from customers;"
      ],
      "execution_count": 19,
      "outputs": [
        {
          "output_type": "stream",
          "name": "stdout",
          "text": [
            " * sqlite:///base.db\n",
            "Done.\n"
          ]
        },
        {
          "output_type": "execute_result",
          "data": {
            "text/plain": [
              "[(1, 'Александр', '12345', 'Новый_адрес'),\n",
              " (2, 'Антон', '67890', 'Адрес2'),\n",
              " (3, 'Михаил', 'qwerty', 'Адрес3'),\n",
              " (4, 'Наталья', 'asdfgh', 'Адрес4')]"
            ],
            "text/html": [
              "<table>\n",
              "    <thead>\n",
              "        <tr>\n",
              "            <th>cust_ID</th>\n",
              "            <th>cust_name</th>\n",
              "            <th>cust_password</th>\n",
              "            <th>address</th>\n",
              "        </tr>\n",
              "    </thead>\n",
              "    <tbody>\n",
              "        <tr>\n",
              "            <td>1</td>\n",
              "            <td>Александр</td>\n",
              "            <td>12345</td>\n",
              "            <td>Новый_адрес</td>\n",
              "        </tr>\n",
              "        <tr>\n",
              "            <td>2</td>\n",
              "            <td>Антон</td>\n",
              "            <td>67890</td>\n",
              "            <td>Адрес2</td>\n",
              "        </tr>\n",
              "        <tr>\n",
              "            <td>3</td>\n",
              "            <td>Михаил</td>\n",
              "            <td>qwerty</td>\n",
              "            <td>Адрес3</td>\n",
              "        </tr>\n",
              "        <tr>\n",
              "            <td>4</td>\n",
              "            <td>Наталья</td>\n",
              "            <td>asdfgh</td>\n",
              "            <td>Адрес4</td>\n",
              "        </tr>\n",
              "    </tbody>\n",
              "</table>"
            ]
          },
          "metadata": {},
          "execution_count": 19
        }
      ]
    },
    {
      "cell_type": "markdown",
      "source": [
        "Применение пароля для смены адреса:"
      ],
      "metadata": {
        "id": "ZccVREcYTLJ0"
      }
    },
    {
      "cell_type": "code",
      "source": [
        "def update_address(name, passw, new_address):\n",
        "    cur = connection.cursor()\n",
        "    cur.execute('''UPDATE customers set address = ? where cust_name = ? and cust_password = ?''', (new_address, name, passw))\n",
        "    connection.commit()"
      ],
      "metadata": {
        "id": "fHDDxYhLSHLc"
      },
      "execution_count": 20,
      "outputs": []
    },
    {
      "cell_type": "code",
      "source": [
        "update_address(\"Александр\", \"qwerty\", \"Адрес_еще_новее\");"
      ],
      "metadata": {
        "id": "9n7jbfjXSK3c"
      },
      "execution_count": 21,
      "outputs": []
    },
    {
      "cell_type": "code",
      "source": [
        "%%sql\n",
        "select * from customers;"
      ],
      "metadata": {
        "id": "_lMUnHWfSLws",
        "colab": {
          "base_uri": "https://localhost:8080/",
          "height": 161
        },
        "outputId": "81f8a535-35af-4440-bb72-c2b579c594f4"
      },
      "execution_count": 22,
      "outputs": [
        {
          "output_type": "stream",
          "name": "stdout",
          "text": [
            " * sqlite:///base.db\n",
            "Done.\n"
          ]
        },
        {
          "output_type": "execute_result",
          "data": {
            "text/plain": [
              "[(1, 'Александр', '12345', 'Новый_адрес'),\n",
              " (2, 'Антон', '67890', 'Адрес2'),\n",
              " (3, 'Михаил', 'qwerty', 'Адрес3'),\n",
              " (4, 'Наталья', 'asdfgh', 'Адрес4')]"
            ],
            "text/html": [
              "<table>\n",
              "    <thead>\n",
              "        <tr>\n",
              "            <th>cust_ID</th>\n",
              "            <th>cust_name</th>\n",
              "            <th>cust_password</th>\n",
              "            <th>address</th>\n",
              "        </tr>\n",
              "    </thead>\n",
              "    <tbody>\n",
              "        <tr>\n",
              "            <td>1</td>\n",
              "            <td>Александр</td>\n",
              "            <td>12345</td>\n",
              "            <td>Новый_адрес</td>\n",
              "        </tr>\n",
              "        <tr>\n",
              "            <td>2</td>\n",
              "            <td>Антон</td>\n",
              "            <td>67890</td>\n",
              "            <td>Адрес2</td>\n",
              "        </tr>\n",
              "        <tr>\n",
              "            <td>3</td>\n",
              "            <td>Михаил</td>\n",
              "            <td>qwerty</td>\n",
              "            <td>Адрес3</td>\n",
              "        </tr>\n",
              "        <tr>\n",
              "            <td>4</td>\n",
              "            <td>Наталья</td>\n",
              "            <td>asdfgh</td>\n",
              "            <td>Адрес4</td>\n",
              "        </tr>\n",
              "    </tbody>\n",
              "</table>"
            ]
          },
          "metadata": {},
          "execution_count": 22
        }
      ]
    },
    {
      "cell_type": "markdown",
      "metadata": {
        "id": "PIQfOkchS2CZ"
      },
      "source": [
        "Написать функцию для добавления заказа (тоже по паролю).\n",
        "\n",
        "\n",
        "Вход: имя/пароль клиента, продукт, кол-во\n",
        "\n",
        "1 шаг - проверка, что такие продукты и клиенты существуют,\n",
        "2 шаг - добавление в таблицу invoices"
      ]
    },
    {
      "cell_type": "code",
      "metadata": {
        "id": "1OOekbv1S2Cb"
      },
      "source": [
        "def check_client(name, passw): # Проверяем, есть ли такая комбинация имя-пароль\n",
        "    cur = connection.cursor()\n",
        "    cur.execute('''select cust_id from customers where cust_name = ? and cust_password = ?''', (name, passw))\n",
        "    try:\n",
        "        cli_id = cur.fetchone()[0]\n",
        "        print('Клиент найден')\n",
        "        return cli_id\n",
        "    except:\n",
        "        print('Ошибка аутентификации')\n",
        "        return 0"
      ],
      "execution_count": 23,
      "outputs": []
    },
    {
      "cell_type": "code",
      "metadata": {
        "id": "qr4pT5NXS2Cc"
      },
      "source": [
        "def check_product(product, quantity): # Проверяем, есть ли такой продукт (и кол-во)\n",
        "    cur = connection.cursor()\n",
        "    cur.execute('''select qty from products where product_name = ? ''', (product, ))\n",
        "    try:\n",
        "        qty = cur.fetchone()[0]\n",
        "        if quantity > qty:\n",
        "            print('Нет столько товаров на складе')\n",
        "            return 0\n",
        "        cur.execute('''select product_id from products where product_name = ? ''', (product, ))\n",
        "        product_id = cur.fetchone()[0]\n",
        "    except:\n",
        "        print('Такой продукт не существует')\n",
        "        return 0\n",
        "    print('Продукт можно забрать')\n",
        "    return product_id"
      ],
      "execution_count": 24,
      "outputs": []
    },
    {
      "cell_type": "code",
      "metadata": {
        "collapsed": true,
        "id": "wZfWCIzqS2Cc"
      },
      "source": [
        "def add_invoice(customer_id, product, qty, invoice_date):\n",
        "    cur = connection.cursor()\n",
        "    cur.execute('''select coalesce(max(invoice_id) + 1, 1) from invoices''')\n",
        "    inv_id = cur.fetchone()[0]\n",
        "    cur.execute('''insert into invoices(invoice_id, customer_id, product_id, qty, order_sum, invoice_date)\n",
        "                    VALUES(?,?,?,?,NULL,?)''', (inv_id, customer_id, product, qty, invoice_date))\n",
        "    connection.commit()\n",
        "    print('Заказ добавлен')\n",
        "    return inv_id"
      ],
      "execution_count": 25,
      "outputs": []
    },
    {
      "cell_type": "code",
      "metadata": {
        "collapsed": true,
        "id": "QkxqwIPYS2Cd"
      },
      "source": [
        "def update_invoice(inv_id):\n",
        "    cur = connection.cursor()\n",
        "    cur.execute('''\n",
        "    select i.qty*price\n",
        "        from Invoices i\n",
        "        inner join Products p\n",
        "        on i.product_id = p.product_id\n",
        "        where invoice_id = ?''', (inv_id,))\n",
        "    sum_order = cur.fetchone()[0]\n",
        "    cur.execute('''Update Invoices set order_sum = ? where invoice_id = ?''', (sum_order, inv_id))\n",
        "    connection.commit()"
      ],
      "execution_count": 26,
      "outputs": []
    },
    {
      "cell_type": "code",
      "source": [
        "def update_storage(product_id, quantity):\n",
        "    cur = connection.cursor()\n",
        "    cur.execute('''Update Products set qty = qty - ? where product_id = ?''', (quantity, product_id))\n",
        "    connection.commit()"
      ],
      "metadata": {
        "id": "4sLQu-BKYY7i"
      },
      "execution_count": 27,
      "outputs": []
    },
    {
      "cell_type": "code",
      "metadata": {
        "id": "IlsjYGIZS2Cd"
      },
      "source": [
        "def add_order(client_name, passw, product, quantity, invoice_date='2024-04-01'):\n",
        "    client_id = check_client(client_name, passw)\n",
        "    if client_id == 0:\n",
        "        return -1\n",
        "    prod_id = check_product(product, quantity)\n",
        "    if prod_id == 0:\n",
        "        return -2\n",
        "    inv_id = add_invoice(client_id, prod_id, quantity, invoice_date)\n",
        "    update_invoice(inv_id)\n",
        "    update_storage(prod_id, quantity)\n",
        "    connection.commit()"
      ],
      "execution_count": 28,
      "outputs": []
    },
    {
      "cell_type": "code",
      "metadata": {
        "id": "Uw1AiisWS2Ce",
        "colab": {
          "base_uri": "https://localhost:8080/"
        },
        "outputId": "2959edfb-5979-4a97-bf76-468f5f6997ab"
      },
      "source": [
        "add_order('Александр', '12345', 'Ноутбук', 2, '2024-04-05');"
      ],
      "execution_count": 29,
      "outputs": [
        {
          "output_type": "stream",
          "name": "stdout",
          "text": [
            "Клиент найден\n",
            "Продукт можно забрать\n",
            "Заказ добавлен\n"
          ]
        }
      ]
    },
    {
      "cell_type": "code",
      "source": [
        "%sql SELECT * FROM customers;"
      ],
      "metadata": {
        "id": "-eivkJqwZXR2",
        "colab": {
          "base_uri": "https://localhost:8080/",
          "height": 161
        },
        "outputId": "b6567225-d4bf-43aa-d2eb-be9aa26aac18"
      },
      "execution_count": 30,
      "outputs": [
        {
          "output_type": "stream",
          "name": "stdout",
          "text": [
            " * sqlite:///base.db\n",
            "Done.\n"
          ]
        },
        {
          "output_type": "execute_result",
          "data": {
            "text/plain": [
              "[(1, 'Александр', '12345', 'Новый_адрес'),\n",
              " (2, 'Антон', '67890', 'Адрес2'),\n",
              " (3, 'Михаил', 'qwerty', 'Адрес3'),\n",
              " (4, 'Наталья', 'asdfgh', 'Адрес4')]"
            ],
            "text/html": [
              "<table>\n",
              "    <thead>\n",
              "        <tr>\n",
              "            <th>cust_ID</th>\n",
              "            <th>cust_name</th>\n",
              "            <th>cust_password</th>\n",
              "            <th>address</th>\n",
              "        </tr>\n",
              "    </thead>\n",
              "    <tbody>\n",
              "        <tr>\n",
              "            <td>1</td>\n",
              "            <td>Александр</td>\n",
              "            <td>12345</td>\n",
              "            <td>Новый_адрес</td>\n",
              "        </tr>\n",
              "        <tr>\n",
              "            <td>2</td>\n",
              "            <td>Антон</td>\n",
              "            <td>67890</td>\n",
              "            <td>Адрес2</td>\n",
              "        </tr>\n",
              "        <tr>\n",
              "            <td>3</td>\n",
              "            <td>Михаил</td>\n",
              "            <td>qwerty</td>\n",
              "            <td>Адрес3</td>\n",
              "        </tr>\n",
              "        <tr>\n",
              "            <td>4</td>\n",
              "            <td>Наталья</td>\n",
              "            <td>asdfgh</td>\n",
              "            <td>Адрес4</td>\n",
              "        </tr>\n",
              "    </tbody>\n",
              "</table>"
            ]
          },
          "metadata": {},
          "execution_count": 30
        }
      ]
    },
    {
      "cell_type": "code",
      "source": [
        "%sql SELECT * FROM Invoices;"
      ],
      "metadata": {
        "id": "ku2uBbvpZPOG",
        "colab": {
          "base_uri": "https://localhost:8080/",
          "height": 96
        },
        "outputId": "3a86baaa-a65a-4ee3-f961-46551b244499"
      },
      "execution_count": 31,
      "outputs": [
        {
          "output_type": "stream",
          "name": "stdout",
          "text": [
            " * sqlite:///base.db\n",
            "Done.\n"
          ]
        },
        {
          "output_type": "execute_result",
          "data": {
            "text/plain": [
              "[(1, 1, 1, 2, 60000, '2024-04-05')]"
            ],
            "text/html": [
              "<table>\n",
              "    <thead>\n",
              "        <tr>\n",
              "            <th>invoice_ID</th>\n",
              "            <th>product_id</th>\n",
              "            <th>customer_id</th>\n",
              "            <th>qty</th>\n",
              "            <th>order_sum</th>\n",
              "            <th>invoice_date</th>\n",
              "        </tr>\n",
              "    </thead>\n",
              "    <tbody>\n",
              "        <tr>\n",
              "            <td>1</td>\n",
              "            <td>1</td>\n",
              "            <td>1</td>\n",
              "            <td>2</td>\n",
              "            <td>60000</td>\n",
              "            <td>2024-04-05</td>\n",
              "        </tr>\n",
              "    </tbody>\n",
              "</table>"
            ]
          },
          "metadata": {},
          "execution_count": 31
        }
      ]
    },
    {
      "cell_type": "code",
      "source": [
        "%sql SELECT * FROM Products;"
      ],
      "metadata": {
        "id": "QuXUvWjiZApC",
        "colab": {
          "base_uri": "https://localhost:8080/",
          "height": 161
        },
        "outputId": "45b63b79-8547-4070-f26d-ddcf18ec0c7b"
      },
      "execution_count": 32,
      "outputs": [
        {
          "output_type": "stream",
          "name": "stdout",
          "text": [
            " * sqlite:///base.db\n",
            "Done.\n"
          ]
        },
        {
          "output_type": "execute_result",
          "data": {
            "text/plain": [
              "[(1, 'Ноутбук', 8, 30000),\n",
              " (2, 'Монитор', 20, 10000),\n",
              " (3, 'Наушники', 20, 8000),\n",
              " (4, 'Смартфон', 50, 34000)]"
            ],
            "text/html": [
              "<table>\n",
              "    <thead>\n",
              "        <tr>\n",
              "            <th>product_id</th>\n",
              "            <th>product_name</th>\n",
              "            <th>qty</th>\n",
              "            <th>price</th>\n",
              "        </tr>\n",
              "    </thead>\n",
              "    <tbody>\n",
              "        <tr>\n",
              "            <td>1</td>\n",
              "            <td>Ноутбук</td>\n",
              "            <td>8</td>\n",
              "            <td>30000</td>\n",
              "        </tr>\n",
              "        <tr>\n",
              "            <td>2</td>\n",
              "            <td>Монитор</td>\n",
              "            <td>20</td>\n",
              "            <td>10000</td>\n",
              "        </tr>\n",
              "        <tr>\n",
              "            <td>3</td>\n",
              "            <td>Наушники</td>\n",
              "            <td>20</td>\n",
              "            <td>8000</td>\n",
              "        </tr>\n",
              "        <tr>\n",
              "            <td>4</td>\n",
              "            <td>Смартфон</td>\n",
              "            <td>50</td>\n",
              "            <td>34000</td>\n",
              "        </tr>\n",
              "    </tbody>\n",
              "</table>"
            ]
          },
          "metadata": {},
          "execution_count": 32
        }
      ]
    },
    {
      "cell_type": "code",
      "source": [
        "add_order('Александр', '123456', 'Ноутбук', 2);"
      ],
      "metadata": {
        "id": "YcbxCqMwmNZF",
        "colab": {
          "base_uri": "https://localhost:8080/"
        },
        "outputId": "1f5ba8d2-ec41-40f6-cb1d-cb665dd32109"
      },
      "execution_count": 33,
      "outputs": [
        {
          "output_type": "stream",
          "name": "stdout",
          "text": [
            "Ошибка аутентификации\n"
          ]
        }
      ]
    },
    {
      "cell_type": "code",
      "source": [
        "add_order('Александр', '12345', 'Ноутбук', 12);"
      ],
      "metadata": {
        "id": "NtyqtgTdmmuG",
        "colab": {
          "base_uri": "https://localhost:8080/"
        },
        "outputId": "4b436146-a007-4fd8-ad65-d74019be81b5"
      },
      "execution_count": 34,
      "outputs": [
        {
          "output_type": "stream",
          "name": "stdout",
          "text": [
            "Клиент найден\n",
            "Нет столько товаров на складе\n"
          ]
        }
      ]
    },
    {
      "cell_type": "code",
      "source": [
        "add_order('Александр', '12345', 'Ноутбук1', 1);"
      ],
      "metadata": {
        "id": "5hgRl6JQm-fW",
        "colab": {
          "base_uri": "https://localhost:8080/"
        },
        "outputId": "54738ebf-7e62-4cb2-f7d7-3f0003ebddfc"
      },
      "execution_count": 35,
      "outputs": [
        {
          "output_type": "stream",
          "name": "stdout",
          "text": [
            "Клиент найден\n",
            "Такой продукт не существует\n"
          ]
        }
      ]
    },
    {
      "cell_type": "code",
      "source": [
        "add_order('Александр', '12345', 'Ноутбук', 0);"
      ],
      "metadata": {
        "id": "qC0bfdz5nfTW",
        "colab": {
          "base_uri": "https://localhost:8080/"
        },
        "outputId": "f3d0023a-ab78-4091-df72-1b67fcdf747d"
      },
      "execution_count": 36,
      "outputs": [
        {
          "output_type": "stream",
          "name": "stdout",
          "text": [
            "Клиент найден\n",
            "Продукт можно забрать\n",
            "Заказ добавлен\n"
          ]
        }
      ]
    },
    {
      "cell_type": "code",
      "source": [
        "add_order('Александр', '12345', 'Ноутбук', -10);  # :("
      ],
      "metadata": {
        "id": "BqfCXey_nk54",
        "colab": {
          "base_uri": "https://localhost:8080/"
        },
        "outputId": "c0e3c079-9216-4569-f627-717884272952"
      },
      "execution_count": 37,
      "outputs": [
        {
          "output_type": "stream",
          "name": "stdout",
          "text": [
            "Клиент найден\n",
            "Продукт можно забрать\n",
            "Заказ добавлен\n"
          ]
        }
      ]
    },
    {
      "cell_type": "code",
      "source": [
        "%%sql\n",
        "select *\n",
        "from invoices;"
      ],
      "metadata": {
        "id": "GR7qsSucF23c",
        "colab": {
          "base_uri": "https://localhost:8080/",
          "height": 139
        },
        "outputId": "eab921ea-eea9-4b29-99e4-9b9681a3775d"
      },
      "execution_count": 38,
      "outputs": [
        {
          "output_type": "stream",
          "name": "stdout",
          "text": [
            " * sqlite:///base.db\n",
            "Done.\n"
          ]
        },
        {
          "output_type": "execute_result",
          "data": {
            "text/plain": [
              "[(1, 1, 1, 2, 60000, '2024-04-05'),\n",
              " (2, 1, 1, 0, 0, '2024-04-01'),\n",
              " (3, 1, 1, -10, -300000, '2024-04-01')]"
            ],
            "text/html": [
              "<table>\n",
              "    <thead>\n",
              "        <tr>\n",
              "            <th>invoice_ID</th>\n",
              "            <th>product_id</th>\n",
              "            <th>customer_id</th>\n",
              "            <th>qty</th>\n",
              "            <th>order_sum</th>\n",
              "            <th>invoice_date</th>\n",
              "        </tr>\n",
              "    </thead>\n",
              "    <tbody>\n",
              "        <tr>\n",
              "            <td>1</td>\n",
              "            <td>1</td>\n",
              "            <td>1</td>\n",
              "            <td>2</td>\n",
              "            <td>60000</td>\n",
              "            <td>2024-04-05</td>\n",
              "        </tr>\n",
              "        <tr>\n",
              "            <td>2</td>\n",
              "            <td>1</td>\n",
              "            <td>1</td>\n",
              "            <td>0</td>\n",
              "            <td>0</td>\n",
              "            <td>2024-04-01</td>\n",
              "        </tr>\n",
              "        <tr>\n",
              "            <td>3</td>\n",
              "            <td>1</td>\n",
              "            <td>1</td>\n",
              "            <td>-10</td>\n",
              "            <td>-300000</td>\n",
              "            <td>2024-04-01</td>\n",
              "        </tr>\n",
              "    </tbody>\n",
              "</table>"
            ]
          },
          "metadata": {},
          "execution_count": 38
        }
      ]
    },
    {
      "cell_type": "code",
      "source": [
        "add_order('Александр', '12345', 'Монитор', 5);\n",
        "add_order('Александр', '12345', 'Наушники', 5);\n",
        "add_order('Александр', '12345', 'Смартфон', 5);\n",
        "add_order('Антон', '67890', 'Монитор', 8);\n",
        "add_order('Антон', '67890', 'Наушники', 5);\n",
        "add_order('Антон', '67890', 'Смартфон', 1);\n",
        "add_order('Михаил', 'qwerty', 'Монитор', 5);\n",
        "add_order('Михаил', 'qwerty', 'Наушники', 3);\n",
        "add_order('Михаил', 'qwerty', 'Смартфон', 1);\n",
        "add_order('Наталья', 'asdfgh', 'Монитор', 1);\n",
        "add_order('Наталья', 'asdfgh', 'Наушники', 6);\n",
        "add_order('Наталья', 'asdfgh', 'Смартфон', 2);"
      ],
      "metadata": {
        "id": "dN_kyG68nDpH",
        "colab": {
          "base_uri": "https://localhost:8080/"
        },
        "outputId": "e269523f-2624-4228-dee5-d079df069070"
      },
      "execution_count": 39,
      "outputs": [
        {
          "output_type": "stream",
          "name": "stdout",
          "text": [
            "Клиент найден\n",
            "Продукт можно забрать\n",
            "Заказ добавлен\n",
            "Клиент найден\n",
            "Продукт можно забрать\n",
            "Заказ добавлен\n",
            "Клиент найден\n",
            "Продукт можно забрать\n",
            "Заказ добавлен\n",
            "Клиент найден\n",
            "Продукт можно забрать\n",
            "Заказ добавлен\n",
            "Клиент найден\n",
            "Продукт можно забрать\n",
            "Заказ добавлен\n",
            "Клиент найден\n",
            "Продукт можно забрать\n",
            "Заказ добавлен\n",
            "Клиент найден\n",
            "Продукт можно забрать\n",
            "Заказ добавлен\n",
            "Клиент найден\n",
            "Продукт можно забрать\n",
            "Заказ добавлен\n",
            "Клиент найден\n",
            "Продукт можно забрать\n",
            "Заказ добавлен\n",
            "Клиент найден\n",
            "Продукт можно забрать\n",
            "Заказ добавлен\n",
            "Клиент найден\n",
            "Продукт можно забрать\n",
            "Заказ добавлен\n",
            "Клиент найден\n",
            "Продукт можно забрать\n",
            "Заказ добавлен\n"
          ]
        }
      ]
    },
    {
      "cell_type": "code",
      "metadata": {
        "id": "2odreikVS2Cf",
        "colab": {
          "base_uri": "https://localhost:8080/",
          "height": 395
        },
        "outputId": "9a24b607-52ad-4a2a-aa6b-3e6f9a402cec"
      },
      "source": [
        "%%sql\n",
        "select *\n",
        "from invoices;"
      ],
      "execution_count": 40,
      "outputs": [
        {
          "output_type": "stream",
          "name": "stdout",
          "text": [
            " * sqlite:///base.db\n",
            "Done.\n"
          ]
        },
        {
          "output_type": "execute_result",
          "data": {
            "text/plain": [
              "[(1, 1, 1, 2, 60000, '2024-04-05'),\n",
              " (2, 1, 1, 0, 0, '2024-04-01'),\n",
              " (3, 1, 1, -10, -300000, '2024-04-01'),\n",
              " (4, 2, 1, 5, 50000, '2024-04-01'),\n",
              " (5, 3, 1, 5, 40000, '2024-04-01'),\n",
              " (6, 4, 1, 5, 170000, '2024-04-01'),\n",
              " (7, 2, 2, 8, 80000, '2024-04-01'),\n",
              " (8, 3, 2, 5, 40000, '2024-04-01'),\n",
              " (9, 4, 2, 1, 34000, '2024-04-01'),\n",
              " (10, 2, 3, 5, 50000, '2024-04-01'),\n",
              " (11, 3, 3, 3, 24000, '2024-04-01'),\n",
              " (12, 4, 3, 1, 34000, '2024-04-01'),\n",
              " (13, 2, 4, 1, 10000, '2024-04-01'),\n",
              " (14, 3, 4, 6, 48000, '2024-04-01'),\n",
              " (15, 4, 4, 2, 68000, '2024-04-01')]"
            ],
            "text/html": [
              "<table>\n",
              "    <thead>\n",
              "        <tr>\n",
              "            <th>invoice_ID</th>\n",
              "            <th>product_id</th>\n",
              "            <th>customer_id</th>\n",
              "            <th>qty</th>\n",
              "            <th>order_sum</th>\n",
              "            <th>invoice_date</th>\n",
              "        </tr>\n",
              "    </thead>\n",
              "    <tbody>\n",
              "        <tr>\n",
              "            <td>1</td>\n",
              "            <td>1</td>\n",
              "            <td>1</td>\n",
              "            <td>2</td>\n",
              "            <td>60000</td>\n",
              "            <td>2024-04-05</td>\n",
              "        </tr>\n",
              "        <tr>\n",
              "            <td>2</td>\n",
              "            <td>1</td>\n",
              "            <td>1</td>\n",
              "            <td>0</td>\n",
              "            <td>0</td>\n",
              "            <td>2024-04-01</td>\n",
              "        </tr>\n",
              "        <tr>\n",
              "            <td>3</td>\n",
              "            <td>1</td>\n",
              "            <td>1</td>\n",
              "            <td>-10</td>\n",
              "            <td>-300000</td>\n",
              "            <td>2024-04-01</td>\n",
              "        </tr>\n",
              "        <tr>\n",
              "            <td>4</td>\n",
              "            <td>2</td>\n",
              "            <td>1</td>\n",
              "            <td>5</td>\n",
              "            <td>50000</td>\n",
              "            <td>2024-04-01</td>\n",
              "        </tr>\n",
              "        <tr>\n",
              "            <td>5</td>\n",
              "            <td>3</td>\n",
              "            <td>1</td>\n",
              "            <td>5</td>\n",
              "            <td>40000</td>\n",
              "            <td>2024-04-01</td>\n",
              "        </tr>\n",
              "        <tr>\n",
              "            <td>6</td>\n",
              "            <td>4</td>\n",
              "            <td>1</td>\n",
              "            <td>5</td>\n",
              "            <td>170000</td>\n",
              "            <td>2024-04-01</td>\n",
              "        </tr>\n",
              "        <tr>\n",
              "            <td>7</td>\n",
              "            <td>2</td>\n",
              "            <td>2</td>\n",
              "            <td>8</td>\n",
              "            <td>80000</td>\n",
              "            <td>2024-04-01</td>\n",
              "        </tr>\n",
              "        <tr>\n",
              "            <td>8</td>\n",
              "            <td>3</td>\n",
              "            <td>2</td>\n",
              "            <td>5</td>\n",
              "            <td>40000</td>\n",
              "            <td>2024-04-01</td>\n",
              "        </tr>\n",
              "        <tr>\n",
              "            <td>9</td>\n",
              "            <td>4</td>\n",
              "            <td>2</td>\n",
              "            <td>1</td>\n",
              "            <td>34000</td>\n",
              "            <td>2024-04-01</td>\n",
              "        </tr>\n",
              "        <tr>\n",
              "            <td>10</td>\n",
              "            <td>2</td>\n",
              "            <td>3</td>\n",
              "            <td>5</td>\n",
              "            <td>50000</td>\n",
              "            <td>2024-04-01</td>\n",
              "        </tr>\n",
              "        <tr>\n",
              "            <td>11</td>\n",
              "            <td>3</td>\n",
              "            <td>3</td>\n",
              "            <td>3</td>\n",
              "            <td>24000</td>\n",
              "            <td>2024-04-01</td>\n",
              "        </tr>\n",
              "        <tr>\n",
              "            <td>12</td>\n",
              "            <td>4</td>\n",
              "            <td>3</td>\n",
              "            <td>1</td>\n",
              "            <td>34000</td>\n",
              "            <td>2024-04-01</td>\n",
              "        </tr>\n",
              "        <tr>\n",
              "            <td>13</td>\n",
              "            <td>2</td>\n",
              "            <td>4</td>\n",
              "            <td>1</td>\n",
              "            <td>10000</td>\n",
              "            <td>2024-04-01</td>\n",
              "        </tr>\n",
              "        <tr>\n",
              "            <td>14</td>\n",
              "            <td>3</td>\n",
              "            <td>4</td>\n",
              "            <td>6</td>\n",
              "            <td>48000</td>\n",
              "            <td>2024-04-01</td>\n",
              "        </tr>\n",
              "        <tr>\n",
              "            <td>15</td>\n",
              "            <td>4</td>\n",
              "            <td>4</td>\n",
              "            <td>2</td>\n",
              "            <td>68000</td>\n",
              "            <td>2024-04-01</td>\n",
              "        </tr>\n",
              "    </tbody>\n",
              "</table>"
            ]
          },
          "metadata": {},
          "execution_count": 40
        }
      ]
    },
    {
      "cell_type": "code",
      "source": [
        "cur = connection.cursor()\n",
        "cur.execute('''select sum(order_sum) from invoices group by customer_id order by customer_id''')\n",
        "vals = cur.fetchall()\n",
        "cur.execute('''select cust_name from customers order by cust_ID''')\n",
        "labels = cur.fetchall()"
      ],
      "metadata": {
        "id": "ulIiU8WNp8ld"
      },
      "execution_count": 41,
      "outputs": []
    },
    {
      "cell_type": "code",
      "source": [
        "vals"
      ],
      "metadata": {
        "colab": {
          "base_uri": "https://localhost:8080/"
        },
        "id": "ILTyNi3xNjwV",
        "outputId": "a2a0152c-45a1-4516-fa0d-9e8652172f3c"
      },
      "execution_count": 43,
      "outputs": [
        {
          "output_type": "execute_result",
          "data": {
            "text/plain": [
              "[(20000,), (154000,), (108000,), (126000,)]"
            ]
          },
          "metadata": {},
          "execution_count": 43
        }
      ]
    },
    {
      "cell_type": "code",
      "source": [
        "labels"
      ],
      "metadata": {
        "colab": {
          "base_uri": "https://localhost:8080/"
        },
        "id": "vrBbhZebNmvt",
        "outputId": "5699b4f8-e131-4355-cced-00ad007128b6"
      },
      "execution_count": 44,
      "outputs": [
        {
          "output_type": "execute_result",
          "data": {
            "text/plain": [
              "[('Александр',), ('Антон',), ('Михаил',), ('Наталья',)]"
            ]
          },
          "metadata": {},
          "execution_count": 44
        }
      ]
    },
    {
      "cell_type": "code",
      "source": [
        "import matplotlib.pyplot as plt\n",
        "import numpy as np\n",
        "\n",
        "plt.pie(np.array(vals)[:,0], labels=np.array(labels)[:,0])\n",
        "plt.title(\"Распределение сумм заказанных товаров по клиентам\")\n",
        "plt.show()"
      ],
      "metadata": {
        "id": "uT-cvrt_teFm",
        "colab": {
          "base_uri": "https://localhost:8080/",
          "height": 428
        },
        "outputId": "7cd00e1f-ebb9-4e6c-95f2-05101defe321"
      },
      "execution_count": 42,
      "outputs": [
        {
          "output_type": "display_data",
          "data": {
            "text/plain": [
              "<Figure size 640x480 with 1 Axes>"
            ],
            "image/png": "[encoded data removed]"
          },
          "metadata": {}
        }
      ]
    },
    {
      "cell_type": "code",
      "source": [],
      "metadata": {
        "id": "uuVi-ZjN16il"
      },
      "execution_count": null,
      "outputs": []
    }
  ]
}