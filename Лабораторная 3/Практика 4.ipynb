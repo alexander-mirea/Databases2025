{
  "nbformat": 4,
  "nbformat_minor": 0,
  "metadata": {
    "kernelspec": {
      "display_name": "Python 3",
      "language": "python",
      "name": "python3"
    },
    "language_info": {
      "codemirror_mode": {
        "name": "ipython",
        "version": 3
      },
      "file_extension": ".py",
      "mimetype": "text/x-python",
      "name": "python",
      "nbconvert_exporter": "python",
      "pygments_lexer": "ipython3",
      "version": "3.7.6"
    },
    "colab": {
      "provenance": []
    }
  },
  "cells": [
    {
      "cell_type": "code",
      "metadata": {
        "id": "gxs2m9kfS2CP"
      },
      "source": [
        "%load_ext sql\n",
        "%sql sqlite:///base.db\n",
        "%config SqlMagic.style = '_DEPRECATED_DEFAULT'"
      ],
      "execution_count": 1,
      "outputs": []
    },
    {
      "cell_type": "markdown",
      "metadata": {
        "id": "B1tvnB48Iqnp"
      },
      "source": [
        "# Написание функций для работы с sqlite с использованием python"
      ]
    },
    {
      "cell_type": "markdown",
      "source": [
        "Зачем нужно:\n",
        "\n",
        "- Анализ данных и другие сложные операции\n",
        "- API (application programming interface)"
      ],
      "metadata": {
        "id": "xiKfc2UpSxWt"
      }
    },
    {
      "cell_type": "code",
      "metadata": {
        "id": "HhI93YVFS2CS",
        "colab": {
          "base_uri": "https://localhost:8080/"
        },
        "outputId": "441384d3-2e46-47e9-9a82-82d67ade9538"
      },
      "source": [
        "%%sql\n",
        "Pragma foreign_keys=on;\n",
        "\n",
        "DROP TABLE if exists Products;\n",
        "DROP TABLE if exists Invoices;\n",
        "DROP TABLE if exists Customers;\n",
        "\n",
        "CREATE TABLE Customers (\n",
        "          cust_ID integer NOT NULL Primary key,\n",
        "          cust_name varchar NOT NULL UNIQUE,\n",
        "          cust_password varchar NOT NULL,\n",
        "          address varchar NOT NULL\n",
        "          );\n",
        "\n",
        "CREATE TABLE Invoices (\n",
        "          invoice_ID integer NOT NULL Primary key,\n",
        "          product_id integer NOT NULL,\n",
        "          customer_id integer NOT NULL,\n",
        "          qty integer DEFAULT 0,\n",
        "          order_sum integer DEFAULT 0,\n",
        "          invoice_date integer,\n",
        "          FOREIGN KEY (product_id) REFERENCES Products(product_id)\n",
        "          FOREIGN KEY (customer_id) REFERENCES Customers(cust_ID));\n",
        "\n",
        "CREATE TABLE Products (\n",
        "          product_id integer NOT NULL Primary key,\n",
        "          product_name varchar NOT NULL UNIQUE,\n",
        "          qty integer NOT NULL DEFAULT 0,\n",
        "          price integer);"
      ],
      "execution_count": 2,
      "outputs": [
        {
          "output_type": "stream",
          "name": "stdout",
          "text": [
            " * sqlite:///base.db\n",
            "Done.\n",
            "Done.\n",
            "Done.\n",
            "Done.\n",
            "Done.\n",
            "Done.\n",
            "Done.\n"
          ]
        },
        {
          "output_type": "execute_result",
          "data": {
            "text/plain": [
              "[]"
            ]
          },
          "metadata": {},
          "execution_count": 2
        }
      ]
    },
    {
      "cell_type": "code",
      "source": [
        "%%sql\n",
        "\n",
        "INSERT INTO Products (product_name, qty, price) VALUES (\"Ноутбук\", 10, 30000);\n",
        "INSERT INTO Products (product_name, qty, price) VALUES (\"Монитор\", 20, 10000);\n",
        "INSERT INTO Products (product_name, qty, price) VALUES (\"Наушники\", 20, 8000);\n",
        "INSERT INTO Products (product_name, qty, price) VALUES (\"Смартфон\", 50, 34000);"
      ],
      "metadata": {
        "id": "j5RFqW4kN4mm",
        "colab": {
          "base_uri": "https://localhost:8080/"
        },
        "outputId": "82df6f69-beca-42ce-df81-b45a9248ff91"
      },
      "execution_count": 3,
      "outputs": [
        {
          "output_type": "stream",
          "name": "stdout",
          "text": [
            " * sqlite:///base.db\n",
            "1 rows affected.\n",
            "1 rows affected.\n",
            "1 rows affected.\n",
            "1 rows affected.\n"
          ]
        },
        {
          "output_type": "execute_result",
          "data": {
            "text/plain": [
              "[]"
            ]
          },
          "metadata": {},
          "execution_count": 3
        }
      ]
    },
    {
      "cell_type": "markdown",
      "source": [
        "Необходимо подключить приложение к базе данных:"
      ],
      "metadata": {
        "id": "RTnPnoz6THMG"
      }
    },
    {
      "cell_type": "code",
      "metadata": {
        "id": "iEiBNdrGS2CT"
      },
      "source": [
        "import sqlite3\n",
        "connection = sqlite3.connect('base.db') # логин-пароль не нужны, sqlite не работает как отдельный сервер"
      ],
      "execution_count": 4,
      "outputs": []
    },
    {
      "cell_type": "markdown",
      "source": [
        "В случае серверной SQL (на примере MySQL):\n",
        "\n",
        "connection = mysql.connector.connect(\n",
        "            host=host_name,\n",
        "            user=user_name,\n",
        "            passwd=user_password\n",
        "        )"
      ],
      "metadata": {
        "id": "gNahAdjpo1LP"
      }
    },
    {
      "cell_type": "code",
      "metadata": {
        "id": "EpvzBZV0S2CU",
        "colab": {
          "base_uri": "https://localhost:8080/"
        },
        "outputId": "47b62ddb-0edc-4ee7-bec4-7c6004736e40"
      },
      "source": [
        "type(connection)"
      ],
      "execution_count": 5,
      "outputs": [
        {
          "output_type": "execute_result",
          "data": {
            "text/plain": [
              "sqlite3.Connection"
            ]
          },
          "metadata": {},
          "execution_count": 5
        }
      ]
    },
    {
      "cell_type": "code",
      "metadata": {
        "id": "BIHatJdyS2CU"
      },
      "source": [
        "cur = connection.cursor()"
      ],
      "execution_count": 6,
      "outputs": []
    },
    {
      "cell_type": "markdown",
      "source": [
        "Курсор служит указателем, который позволяет языку программирования обрабатывать результаты запроса по одной записи за раз."
      ],
      "metadata": {
        "id": "b2OzJ4tDEL5r"
      }
    },
    {
      "cell_type": "code",
      "metadata": {
        "id": "HCbxIcedS2CV",
        "colab": {
          "base_uri": "https://localhost:8080/"
        },
        "outputId": "dc41b796-a798-4203-ec83-be289e5a86ff"
      },
      "source": [
        "cur.execute(\"\"\"SELECT *\n",
        "            FROM Products\"\"\") # execute(sql[, parameters]) - создание промежуточного объекта типа cursor и вызов метода execute объекта cursor"
      ],
      "execution_count": 7,
      "outputs": [
        {
          "output_type": "execute_result",
          "data": {
            "text/plain": [
              "<sqlite3.Cursor at 0x7f86af6f5040>"
            ]
          },
          "metadata": {},
          "execution_count": 7
        }
      ]
    },
    {
      "cell_type": "code",
      "metadata": {
        "id": "jSWvR6SES2CV"
      },
      "source": [
        "a = cur.fetchone() # вывод 1 строки"
      ],
      "execution_count": 8,
      "outputs": []
    },
    {
      "cell_type": "code",
      "metadata": {
        "id": "LR8gsvcOS2CW",
        "colab": {
          "base_uri": "https://localhost:8080/"
        },
        "outputId": "7ad09c71-1578-41c8-e866-67edf7135b8b"
      },
      "source": [
        "a"
      ],
      "execution_count": 9,
      "outputs": [
        {
          "output_type": "execute_result",
          "data": {
            "text/plain": [
              "(1, 'Ноутбук', 10, 30000)"
            ]
          },
          "metadata": {},
          "execution_count": 9
        }
      ]
    },
    {
      "cell_type": "code",
      "metadata": {
        "id": "Xukgf0htS2CX",
        "colab": {
          "base_uri": "https://localhost:8080/"
        },
        "outputId": "151b01ac-43e2-44bb-ce34-b6fb4ea61d70"
      },
      "source": [
        "cur.fetchall() # вывод всего"
      ],
      "execution_count": 10,
      "outputs": [
        {
          "output_type": "execute_result",
          "data": {
            "text/plain": [
              "[(2, 'Монитор', 20, 10000),\n",
              " (3, 'Наушники', 20, 8000),\n",
              " (4, 'Смартфон', 50, 34000)]"
            ]
          },
          "metadata": {},
          "execution_count": 10
        }
      ]
    },
    {
      "cell_type": "code",
      "metadata": {
        "id": "DWDaqkFyWS9A",
        "colab": {
          "base_uri": "https://localhost:8080/",
          "height": 161
        },
        "outputId": "cd7e19b9-7b16-4df5-d340-ac90c2814064"
      },
      "source": [
        "%sql SELECT * FROM Products;"
      ],
      "execution_count": 11,
      "outputs": [
        {
          "output_type": "stream",
          "name": "stdout",
          "text": [
            " * sqlite:///base.db\n",
            "Done.\n"
          ]
        },
        {
          "output_type": "execute_result",
          "data": {
            "text/plain": [
              "[(1, 'Ноутбук', 10, 30000),\n",
              " (2, 'Монитор', 20, 10000),\n",
              " (3, 'Наушники', 20, 8000),\n",
              " (4, 'Смартфон', 50, 34000)]"
            ],
            "text/html": [
              "<table>\n",
              "    <thead>\n",
              "        <tr>\n",
              "            <th>product_id</th>\n",
              "            <th>product_name</th>\n",
              "            <th>qty</th>\n",
              "            <th>price</th>\n",
              "        </tr>\n",
              "    </thead>\n",
              "    <tbody>\n",
              "        <tr>\n",
              "            <td>1</td>\n",
              "            <td>Ноутбук</td>\n",
              "            <td>10</td>\n",
              "            <td>30000</td>\n",
              "        </tr>\n",
              "        <tr>\n",
              "            <td>2</td>\n",
              "            <td>Монитор</td>\n",
              "            <td>20</td>\n",
              "            <td>10000</td>\n",
              "        </tr>\n",
              "        <tr>\n",
              "            <td>3</td>\n",
              "            <td>Наушники</td>\n",
              "            <td>20</td>\n",
              "            <td>8000</td>\n",
              "        </tr>\n",
              "        <tr>\n",
              "            <td>4</td>\n",
              "            <td>Смартфон</td>\n",
              "            <td>50</td>\n",
              "            <td>34000</td>\n",
              "        </tr>\n",
              "    </tbody>\n",
              "</table>"
            ]
          },
          "metadata": {},
          "execution_count": 11
        }
      ]
    },
    {
      "cell_type": "markdown",
      "metadata": {
        "id": "V-y3jgYZOxj3"
      },
      "source": [
        "Написать функцию для добавления клиента (имя, инфо):"
      ]
    },
    {
      "cell_type": "code",
      "metadata": {
        "id": "8EfYC8HyS2CX"
      },
      "source": [
        "def insert_customer(name, passw, address, con):\n",
        "    cur = con.cursor()\n",
        "    cur.execute('''\n",
        "        INSERT INTO Customers(cust_name, cust_password, address)\n",
        "        VALUES(?,?,?)''', (name,passw,address))\n",
        "    con.commit() # сохранить изменения"
      ],
      "execution_count": 12,
      "outputs": []
    },
    {
      "cell_type": "code",
      "metadata": {
        "id": "gDF6QookS2CX"
      },
      "source": [
        "insert_customer('Александр', '12345', 'Адрес_1', connection)\n",
        "insert_customer('Антон', '67890', 'Адрес2', connection)\n",
        "insert_customer('Михаил', 'qwerty', 'Адрес3', connection)\n",
        "insert_customer('Наталья', 'asdfgh', 'Адрес4', connection)"
      ],
      "execution_count": 13,
      "outputs": []
    },
    {
      "cell_type": "code",
      "metadata": {
        "id": "z6rRQCP-S2CY",
        "colab": {
          "base_uri": "https://localhost:8080/",
          "height": 161
        },
        "outputId": "41619c91-4416-4177-c28f-6a79cc5f2b88"
      },
      "source": [
        "%%sql\n",
        "select * from customers;"
      ],
      "execution_count": 14,
      "outputs": [
        {
          "output_type": "stream",
          "name": "stdout",
          "text": [
            " * sqlite:///base.db\n",
            "Done.\n"
          ]
        },
        {
          "output_type": "execute_result",
          "data": {
            "text/plain": [
              "[(1, 'Александр', '12345', 'Адрес_1'),\n",
              " (2, 'Антон', '67890', 'Адрес2'),\n",
              " (3, 'Михаил', 'qwerty', 'Адрес3'),\n",
              " (4, 'Наталья', 'asdfgh', 'Адрес4')]"
            ],
            "text/html": [
              "<table>\n",
              "    <thead>\n",
              "        <tr>\n",
              "            <th>cust_ID</th>\n",
              "            <th>cust_name</th>\n",
              "            <th>cust_password</th>\n",
              "            <th>address</th>\n",
              "        </tr>\n",
              "    </thead>\n",
              "    <tbody>\n",
              "        <tr>\n",
              "            <td>1</td>\n",
              "            <td>Александр</td>\n",
              "            <td>12345</td>\n",
              "            <td>Адрес_1</td>\n",
              "        </tr>\n",
              "        <tr>\n",
              "            <td>2</td>\n",
              "            <td>Антон</td>\n",
              "            <td>67890</td>\n",
              "            <td>Адрес2</td>\n",
              "        </tr>\n",
              "        <tr>\n",
              "            <td>3</td>\n",
              "            <td>Михаил</td>\n",
              "            <td>qwerty</td>\n",
              "            <td>Адрес3</td>\n",
              "        </tr>\n",
              "        <tr>\n",
              "            <td>4</td>\n",
              "            <td>Наталья</td>\n",
              "            <td>asdfgh</td>\n",
              "            <td>Адрес4</td>\n",
              "        </tr>\n",
              "    </tbody>\n",
              "</table>"
            ]
          },
          "metadata": {},
          "execution_count": 14
        }
      ]
    },
    {
      "cell_type": "markdown",
      "metadata": {
        "id": "ZB1RY2MjOqJX"
      },
      "source": [
        "Написать функцию для смены адреса клиента"
      ]
    },
    {
      "cell_type": "code",
      "source": [
        "def update_address(name, new_address):\n",
        "    cur = connection.cursor()\n",
        "    cur.execute('''UPDATE customers set address = ? where cust_name = ?''', (new_address, name))\n",
        "    connection.commit()"
      ],
      "metadata": {
        "id": "cvtju4VuQ8PE"
      },
      "execution_count": 15,
      "outputs": []
    },
    {
      "cell_type": "code",
      "metadata": {
        "id": "-vi2agFfS2CY"
      },
      "source": [
        "update_address('Александр', \"Новый_адрес\");"
      ],
      "execution_count": 16,
      "outputs": []
    },
    {
      "cell_type": "code",
      "metadata": {
        "id": "_-K44N-xS2CZ",
        "colab": {
          "base_uri": "https://localhost:8080/",
          "height": 161
        },
        "outputId": "d1b5301c-35b6-4258-bf05-33c20eb18a02"
      },
      "source": [
        "%%sql\n",
        "select * from customers;"
      ],
      "execution_count": 17,
      "outputs": [
        {
          "output_type": "stream",
          "name": "stdout",
          "text": [
            " * sqlite:///base.db\n",
            "Done.\n"
          ]
        },
        {
          "output_type": "execute_result",
          "data": {
            "text/plain": [
              "[(1, 'Александр', '12345', 'Новый_адрес'),\n",
              " (2, 'Антон', '67890', 'Адрес2'),\n",
              " (3, 'Михаил', 'qwerty', 'Адрес3'),\n",
              " (4, 'Наталья', 'asdfgh', 'Адрес4')]"
            ],
            "text/html": [
              "<table>\n",
              "    <thead>\n",
              "        <tr>\n",
              "            <th>cust_ID</th>\n",
              "            <th>cust_name</th>\n",
              "            <th>cust_password</th>\n",
              "            <th>address</th>\n",
              "        </tr>\n",
              "    </thead>\n",
              "    <tbody>\n",
              "        <tr>\n",
              "            <td>1</td>\n",
              "            <td>Александр</td>\n",
              "            <td>12345</td>\n",
              "            <td>Новый_адрес</td>\n",
              "        </tr>\n",
              "        <tr>\n",
              "            <td>2</td>\n",
              "            <td>Антон</td>\n",
              "            <td>67890</td>\n",
              "            <td>Адрес2</td>\n",
              "        </tr>\n",
              "        <tr>\n",
              "            <td>3</td>\n",
              "            <td>Михаил</td>\n",
              "            <td>qwerty</td>\n",
              "            <td>Адрес3</td>\n",
              "        </tr>\n",
              "        <tr>\n",
              "            <td>4</td>\n",
              "            <td>Наталья</td>\n",
              "            <td>asdfgh</td>\n",
              "            <td>Адрес4</td>\n",
              "        </tr>\n",
              "    </tbody>\n",
              "</table>"
            ]
          },
          "metadata": {},
          "execution_count": 17
        }
      ]
    },
    {
      "cell_type": "markdown",
      "source": [
        "Применение пароля для смены адреса:"
      ],
      "metadata": {
        "id": "ZccVREcYTLJ0"
      }
    },
    {
      "cell_type": "code",
      "source": [
        "def update_address(name, passw, new_address):\n",
        "    cur = connection.cursor()\n",
        "    cur.execute('''UPDATE customers set address = ? where cust_name = ? and cust_password = ?''', (new_address, name, passw))\n",
        "    connection.commit()"
      ],
      "metadata": {
        "id": "fHDDxYhLSHLc"
      },
      "execution_count": 18,
      "outputs": []
    },
    {
      "cell_type": "code",
      "source": [
        "update_address(\"Александр\", \"qwerty\", \"Адрес_еще_новее\");"
      ],
      "metadata": {
        "id": "9n7jbfjXSK3c"
      },
      "execution_count": 19,
      "outputs": []
    },
    {
      "cell_type": "code",
      "source": [
        "%%sql\n",
        "select * from customers;"
      ],
      "metadata": {
        "id": "_lMUnHWfSLws",
        "colab": {
          "base_uri": "https://localhost:8080/",
          "height": 161
        },
        "outputId": "dff0fc69-b069-40d5-ea14-e72f0d83a0d2"
      },
      "execution_count": 20,
      "outputs": [
        {
          "output_type": "stream",
          "name": "stdout",
          "text": [
            " * sqlite:///base.db\n",
            "Done.\n"
          ]
        },
        {
          "output_type": "execute_result",
          "data": {
            "text/plain": [
              "[(1, 'Александр', '12345', 'Новый_адрес'),\n",
              " (2, 'Антон', '67890', 'Адрес2'),\n",
              " (3, 'Михаил', 'qwerty', 'Адрес3'),\n",
              " (4, 'Наталья', 'asdfgh', 'Адрес4')]"
            ],
            "text/html": [
              "<table>\n",
              "    <thead>\n",
              "        <tr>\n",
              "            <th>cust_ID</th>\n",
              "            <th>cust_name</th>\n",
              "            <th>cust_password</th>\n",
              "            <th>address</th>\n",
              "        </tr>\n",
              "    </thead>\n",
              "    <tbody>\n",
              "        <tr>\n",
              "            <td>1</td>\n",
              "            <td>Александр</td>\n",
              "            <td>12345</td>\n",
              "            <td>Новый_адрес</td>\n",
              "        </tr>\n",
              "        <tr>\n",
              "            <td>2</td>\n",
              "            <td>Антон</td>\n",
              "            <td>67890</td>\n",
              "            <td>Адрес2</td>\n",
              "        </tr>\n",
              "        <tr>\n",
              "            <td>3</td>\n",
              "            <td>Михаил</td>\n",
              "            <td>qwerty</td>\n",
              "            <td>Адрес3</td>\n",
              "        </tr>\n",
              "        <tr>\n",
              "            <td>4</td>\n",
              "            <td>Наталья</td>\n",
              "            <td>asdfgh</td>\n",
              "            <td>Адрес4</td>\n",
              "        </tr>\n",
              "    </tbody>\n",
              "</table>"
            ]
          },
          "metadata": {},
          "execution_count": 20
        }
      ]
    },
    {
      "cell_type": "markdown",
      "metadata": {
        "id": "PIQfOkchS2CZ"
      },
      "source": [
        "Написать функцию для добавления заказа (тоже по паролю).\n",
        "\n",
        "\n",
        "Вход: имя/пароль клиента, продукт, кол-во\n",
        "\n",
        "1 шаг - проверка, что такие продукты и клиенты существуют,\n",
        "2 шаг - добавление в таблицу invoices"
      ]
    },
    {
      "cell_type": "code",
      "metadata": {
        "id": "1OOekbv1S2Cb"
      },
      "source": [
        "def check_client(name, passw): # Проверяем, есть ли такая комбинация имя-пароль\n",
        "    cur = connection.cursor()\n",
        "    cur.execute('''select cust_id from customers where cust_name = ? and cust_password = ?''', (name, passw))\n",
        "    try:\n",
        "        cli_id = cur.fetchone()[0]\n",
        "        print('Клиент найден')\n",
        "        return cli_id\n",
        "    except:\n",
        "        print('Ошибка аутентификации')\n",
        "        return 0"
      ],
      "execution_count": 21,
      "outputs": []
    },
    {
      "cell_type": "code",
      "metadata": {
        "id": "qr4pT5NXS2Cc"
      },
      "source": [
        "def check_product(product, quantity): # Проверяем, есть ли такой продукт (и кол-во)\n",
        "    cur = connection.cursor()\n",
        "    cur.execute('''select qty from products where product_name = ? ''', (product, ))\n",
        "    try:\n",
        "        qty = cur.fetchone()[0]\n",
        "        if quantity > qty:\n",
        "            print('Нет столько товаров на складе')\n",
        "            return 0\n",
        "        cur.execute('''select product_id from products where product_name = ? ''', (product, ))\n",
        "        product_id = cur.fetchone()[0]\n",
        "    except:\n",
        "        print('Такой продукт не существует')\n",
        "        return 0\n",
        "    print('Продукт можно забрать')\n",
        "    return product_id"
      ],
      "execution_count": 22,
      "outputs": []
    },
    {
      "cell_type": "code",
      "metadata": {
        "collapsed": true,
        "id": "wZfWCIzqS2Cc"
      },
      "source": [
        "def add_invoice(customer_id, product, qty, invoice_date):\n",
        "    cur = connection.cursor()\n",
        "    cur.execute('''select coalesce(max(invoice_id) + 1, 1) from invoices''')\n",
        "    inv_id = cur.fetchone()[0]\n",
        "    cur.execute('''insert into invoices(invoice_id, customer_id, product_id, qty, order_sum, invoice_date)\n",
        "                    VALUES(?,?,?,?,NULL,?)''', (inv_id, customer_id, product, qty, invoice_date))\n",
        "    connection.commit()\n",
        "    print('Заказ добавлен')\n",
        "    return inv_id"
      ],
      "execution_count": 23,
      "outputs": []
    },
    {
      "cell_type": "code",
      "metadata": {
        "collapsed": true,
        "id": "QkxqwIPYS2Cd"
      },
      "source": [
        "def update_invoice(inv_id):\n",
        "    cur = connection.cursor()\n",
        "    cur.execute('''\n",
        "    select i.qty*price\n",
        "        from Invoices i\n",
        "        inner join Products p\n",
        "        on i.product_id = p.product_id\n",
        "        where invoice_id = ?''', (inv_id,))\n",
        "    sum_order = cur.fetchone()[0]\n",
        "    cur.execute('''Update Invoices set order_sum = ? where invoice_id = ?''', (sum_order, inv_id))\n",
        "    connection.commit()"
      ],
      "execution_count": 24,
      "outputs": []
    },
    {
      "cell_type": "code",
      "source": [
        "def update_storage(product_id, quantity):\n",
        "    cur = connection.cursor()\n",
        "    cur.execute('''Update Products set qty = qty - ? where product_id = ?''', (quantity, product_id))\n",
        "    connection.commit()"
      ],
      "metadata": {
        "id": "4sLQu-BKYY7i"
      },
      "execution_count": 25,
      "outputs": []
    },
    {
      "cell_type": "code",
      "metadata": {
        "id": "IlsjYGIZS2Cd"
      },
      "source": [
        "def add_order(client_name, passw, product, quantity, invoice_date='2024-04-01'):\n",
        "    client_id = check_client(client_name, passw)\n",
        "    if client_id == 0:\n",
        "        return -1\n",
        "    prod_id = check_product(product, quantity)\n",
        "    if prod_id == 0:\n",
        "        return -2\n",
        "    inv_id = add_invoice(client_id, prod_id, quantity, invoice_date)\n",
        "    update_invoice(inv_id)\n",
        "    update_storage(prod_id, quantity)\n",
        "    connection.commit()"
      ],
      "execution_count": 26,
      "outputs": []
    },
    {
      "cell_type": "code",
      "metadata": {
        "id": "Uw1AiisWS2Ce",
        "colab": {
          "base_uri": "https://localhost:8080/"
        },
        "outputId": "6d53b78d-c589-49b8-8cf4-71ffd8caceea"
      },
      "source": [
        "add_order('Александр', '12345', 'Ноутбук', 2, '2024-04-05');"
      ],
      "execution_count": 27,
      "outputs": [
        {
          "output_type": "stream",
          "name": "stdout",
          "text": [
            "Клиент найден\n",
            "Продукт можно забрать\n",
            "Заказ добавлен\n"
          ]
        }
      ]
    },
    {
      "cell_type": "code",
      "source": [
        "%sql SELECT * FROM customers;"
      ],
      "metadata": {
        "id": "-eivkJqwZXR2",
        "colab": {
          "base_uri": "https://localhost:8080/",
          "height": 161
        },
        "outputId": "e4c28ed7-160f-4153-9307-9db454e171e6"
      },
      "execution_count": 28,
      "outputs": [
        {
          "output_type": "stream",
          "name": "stdout",
          "text": [
            " * sqlite:///base.db\n",
            "Done.\n"
          ]
        },
        {
          "output_type": "execute_result",
          "data": {
            "text/plain": [
              "[(1, 'Александр', '12345', 'Новый_адрес'),\n",
              " (2, 'Антон', '67890', 'Адрес2'),\n",
              " (3, 'Михаил', 'qwerty', 'Адрес3'),\n",
              " (4, 'Наталья', 'asdfgh', 'Адрес4')]"
            ],
            "text/html": [
              "<table>\n",
              "    <thead>\n",
              "        <tr>\n",
              "            <th>cust_ID</th>\n",
              "            <th>cust_name</th>\n",
              "            <th>cust_password</th>\n",
              "            <th>address</th>\n",
              "        </tr>\n",
              "    </thead>\n",
              "    <tbody>\n",
              "        <tr>\n",
              "            <td>1</td>\n",
              "            <td>Александр</td>\n",
              "            <td>12345</td>\n",
              "            <td>Новый_адрес</td>\n",
              "        </tr>\n",
              "        <tr>\n",
              "            <td>2</td>\n",
              "            <td>Антон</td>\n",
              "            <td>67890</td>\n",
              "            <td>Адрес2</td>\n",
              "        </tr>\n",
              "        <tr>\n",
              "            <td>3</td>\n",
              "            <td>Михаил</td>\n",
              "            <td>qwerty</td>\n",
              "            <td>Адрес3</td>\n",
              "        </tr>\n",
              "        <tr>\n",
              "            <td>4</td>\n",
              "            <td>Наталья</td>\n",
              "            <td>asdfgh</td>\n",
              "            <td>Адрес4</td>\n",
              "        </tr>\n",
              "    </tbody>\n",
              "</table>"
            ]
          },
          "metadata": {},
          "execution_count": 28
        }
      ]
    },
    {
      "cell_type": "code",
      "source": [
        "%sql SELECT * FROM Invoices;"
      ],
      "metadata": {
        "id": "ku2uBbvpZPOG",
        "colab": {
          "base_uri": "https://localhost:8080/",
          "height": 96
        },
        "outputId": "0c8881ad-69ca-4586-cef1-0dccfb7ab77a"
      },
      "execution_count": 29,
      "outputs": [
        {
          "output_type": "stream",
          "name": "stdout",
          "text": [
            " * sqlite:///base.db\n",
            "Done.\n"
          ]
        },
        {
          "output_type": "execute_result",
          "data": {
            "text/plain": [
              "[(1, 1, 1, 2, 60000, '2024-04-05')]"
            ],
            "text/html": [
              "<table>\n",
              "    <thead>\n",
              "        <tr>\n",
              "            <th>invoice_ID</th>\n",
              "            <th>product_id</th>\n",
              "            <th>customer_id</th>\n",
              "            <th>qty</th>\n",
              "            <th>order_sum</th>\n",
              "            <th>invoice_date</th>\n",
              "        </tr>\n",
              "    </thead>\n",
              "    <tbody>\n",
              "        <tr>\n",
              "            <td>1</td>\n",
              "            <td>1</td>\n",
              "            <td>1</td>\n",
              "            <td>2</td>\n",
              "            <td>60000</td>\n",
              "            <td>2024-04-05</td>\n",
              "        </tr>\n",
              "    </tbody>\n",
              "</table>"
            ]
          },
          "metadata": {},
          "execution_count": 29
        }
      ]
    },
    {
      "cell_type": "code",
      "source": [
        "%sql SELECT * FROM Products;"
      ],
      "metadata": {
        "id": "QuXUvWjiZApC",
        "colab": {
          "base_uri": "https://localhost:8080/",
          "height": 161
        },
        "outputId": "2f49bc64-f20d-4608-a53d-116a919d8090"
      },
      "execution_count": 30,
      "outputs": [
        {
          "output_type": "stream",
          "name": "stdout",
          "text": [
            " * sqlite:///base.db\n",
            "Done.\n"
          ]
        },
        {
          "output_type": "execute_result",
          "data": {
            "text/plain": [
              "[(1, 'Ноутбук', 8, 30000),\n",
              " (2, 'Монитор', 20, 10000),\n",
              " (3, 'Наушники', 20, 8000),\n",
              " (4, 'Смартфон', 50, 34000)]"
            ],
            "text/html": [
              "<table>\n",
              "    <thead>\n",
              "        <tr>\n",
              "            <th>product_id</th>\n",
              "            <th>product_name</th>\n",
              "            <th>qty</th>\n",
              "            <th>price</th>\n",
              "        </tr>\n",
              "    </thead>\n",
              "    <tbody>\n",
              "        <tr>\n",
              "            <td>1</td>\n",
              "            <td>Ноутбук</td>\n",
              "            <td>8</td>\n",
              "            <td>30000</td>\n",
              "        </tr>\n",
              "        <tr>\n",
              "            <td>2</td>\n",
              "            <td>Монитор</td>\n",
              "            <td>20</td>\n",
              "            <td>10000</td>\n",
              "        </tr>\n",
              "        <tr>\n",
              "            <td>3</td>\n",
              "            <td>Наушники</td>\n",
              "            <td>20</td>\n",
              "            <td>8000</td>\n",
              "        </tr>\n",
              "        <tr>\n",
              "            <td>4</td>\n",
              "            <td>Смартфон</td>\n",
              "            <td>50</td>\n",
              "            <td>34000</td>\n",
              "        </tr>\n",
              "    </tbody>\n",
              "</table>"
            ]
          },
          "metadata": {},
          "execution_count": 30
        }
      ]
    },
    {
      "cell_type": "code",
      "source": [
        "add_order('Александр', '123456', 'Ноутбук', 2);"
      ],
      "metadata": {
        "id": "YcbxCqMwmNZF",
        "colab": {
          "base_uri": "https://localhost:8080/"
        },
        "outputId": "1d07e8ec-8d85-48e5-a448-d615d7fc7d6b"
      },
      "execution_count": 31,
      "outputs": [
        {
          "output_type": "stream",
          "name": "stdout",
          "text": [
            "Ошибка аутентификации\n"
          ]
        }
      ]
    },
    {
      "cell_type": "code",
      "source": [
        "add_order('Александр', '12345', 'Ноутбук', 12);"
      ],
      "metadata": {
        "id": "NtyqtgTdmmuG",
        "colab": {
          "base_uri": "https://localhost:8080/"
        },
        "outputId": "db636565-1d83-4915-c8b4-74c096adb9b9"
      },
      "execution_count": 32,
      "outputs": [
        {
          "output_type": "stream",
          "name": "stdout",
          "text": [
            "Клиент найден\n",
            "Нет столько товаров на складе\n"
          ]
        }
      ]
    },
    {
      "cell_type": "code",
      "source": [
        "add_order('Александр', '12345', 'Ноутбук1', 1);"
      ],
      "metadata": {
        "id": "5hgRl6JQm-fW",
        "colab": {
          "base_uri": "https://localhost:8080/"
        },
        "outputId": "73b2db85-7764-4614-9586-b7e96815ac64"
      },
      "execution_count": 33,
      "outputs": [
        {
          "output_type": "stream",
          "name": "stdout",
          "text": [
            "Клиент найден\n",
            "Такой продукт не существует\n"
          ]
        }
      ]
    },
    {
      "cell_type": "code",
      "source": [
        "add_order('Александр', '12345', 'Ноутбук', 0);"
      ],
      "metadata": {
        "id": "qC0bfdz5nfTW",
        "colab": {
          "base_uri": "https://localhost:8080/"
        },
        "outputId": "18198a58-a96d-4f89-d917-6d7b20fa8091"
      },
      "execution_count": 34,
      "outputs": [
        {
          "output_type": "stream",
          "name": "stdout",
          "text": [
            "Клиент найден\n",
            "Продукт можно забрать\n",
            "Заказ добавлен\n"
          ]
        }
      ]
    },
    {
      "cell_type": "code",
      "source": [
        "add_order('Александр', '12345', 'Ноутбук', -10);  # :("
      ],
      "metadata": {
        "id": "BqfCXey_nk54",
        "colab": {
          "base_uri": "https://localhost:8080/"
        },
        "outputId": "25bd69ef-6bf6-4c40-f33a-7fae3628d2ca"
      },
      "execution_count": 35,
      "outputs": [
        {
          "output_type": "stream",
          "name": "stdout",
          "text": [
            "Клиент найден\n",
            "Продукт можно забрать\n",
            "Заказ добавлен\n"
          ]
        }
      ]
    },
    {
      "cell_type": "code",
      "source": [
        "%%sql\n",
        "select *\n",
        "from invoices;"
      ],
      "metadata": {
        "id": "GR7qsSucF23c",
        "colab": {
          "base_uri": "https://localhost:8080/",
          "height": 139
        },
        "outputId": "9580b56e-493e-4c8f-f1b2-2f72e229480f"
      },
      "execution_count": 36,
      "outputs": [
        {
          "output_type": "stream",
          "name": "stdout",
          "text": [
            " * sqlite:///base.db\n",
            "Done.\n"
          ]
        },
        {
          "output_type": "execute_result",
          "data": {
            "text/plain": [
              "[(1, 1, 1, 2, 60000, '2024-04-05'),\n",
              " (2, 1, 1, 0, 0, '2024-04-01'),\n",
              " (3, 1, 1, -10, -300000, '2024-04-01')]"
            ],
            "text/html": [
              "<table>\n",
              "    <thead>\n",
              "        <tr>\n",
              "            <th>invoice_ID</th>\n",
              "            <th>product_id</th>\n",
              "            <th>customer_id</th>\n",
              "            <th>qty</th>\n",
              "            <th>order_sum</th>\n",
              "            <th>invoice_date</th>\n",
              "        </tr>\n",
              "    </thead>\n",
              "    <tbody>\n",
              "        <tr>\n",
              "            <td>1</td>\n",
              "            <td>1</td>\n",
              "            <td>1</td>\n",
              "            <td>2</td>\n",
              "            <td>60000</td>\n",
              "            <td>2024-04-05</td>\n",
              "        </tr>\n",
              "        <tr>\n",
              "            <td>2</td>\n",
              "            <td>1</td>\n",
              "            <td>1</td>\n",
              "            <td>0</td>\n",
              "            <td>0</td>\n",
              "            <td>2024-04-01</td>\n",
              "        </tr>\n",
              "        <tr>\n",
              "            <td>3</td>\n",
              "            <td>1</td>\n",
              "            <td>1</td>\n",
              "            <td>-10</td>\n",
              "            <td>-300000</td>\n",
              "            <td>2024-04-01</td>\n",
              "        </tr>\n",
              "    </tbody>\n",
              "</table>"
            ]
          },
          "metadata": {},
          "execution_count": 36
        }
      ]
    },
    {
      "cell_type": "code",
      "source": [
        "add_order('Александр', '12345', 'Монитор', 5);\n",
        "add_order('Александр', '12345', 'Наушники', 5);\n",
        "add_order('Александр', '12345', 'Смартфон', 5);\n",
        "add_order('Антон', '67890', 'Монитор', 8);\n",
        "add_order('Антон', '67890', 'Наушники', 5);\n",
        "add_order('Антон', '67890', 'Смартфон', 1);\n",
        "add_order('Михаил', 'qwerty', 'Монитор', 5);\n",
        "add_order('Михаил', 'qwerty', 'Наушники', 3);\n",
        "add_order('Михаил', 'qwerty', 'Смартфон', 1);\n",
        "add_order('Наталья', 'asdfgh', 'Монитор', 1);\n",
        "add_order('Наталья', 'asdfgh', 'Наушники', 6);\n",
        "add_order('Наталья', 'asdfgh', 'Смартфон', 2);"
      ],
      "metadata": {
        "id": "dN_kyG68nDpH",
        "colab": {
          "base_uri": "https://localhost:8080/"
        },
        "outputId": "273de455-80e7-486f-8a68-e3c796620650"
      },
      "execution_count": 37,
      "outputs": [
        {
          "output_type": "stream",
          "name": "stdout",
          "text": [
            "Клиент найден\n",
            "Продукт можно забрать\n",
            "Заказ добавлен\n",
            "Клиент найден\n",
            "Продукт можно забрать\n",
            "Заказ добавлен\n",
            "Клиент найден\n",
            "Продукт можно забрать\n",
            "Заказ добавлен\n",
            "Клиент найден\n",
            "Продукт можно забрать\n",
            "Заказ добавлен\n",
            "Клиент найден\n",
            "Продукт можно забрать\n",
            "Заказ добавлен\n",
            "Клиент найден\n",
            "Продукт можно забрать\n",
            "Заказ добавлен\n",
            "Клиент найден\n",
            "Продукт можно забрать\n",
            "Заказ добавлен\n",
            "Клиент найден\n",
            "Продукт можно забрать\n",
            "Заказ добавлен\n",
            "Клиент найден\n",
            "Продукт можно забрать\n",
            "Заказ добавлен\n",
            "Клиент найден\n",
            "Продукт можно забрать\n",
            "Заказ добавлен\n",
            "Клиент найден\n",
            "Продукт можно забрать\n",
            "Заказ добавлен\n",
            "Клиент найден\n",
            "Продукт можно забрать\n",
            "Заказ добавлен\n"
          ]
        }
      ]
    },
    {
      "cell_type": "code",
      "metadata": {
        "id": "2odreikVS2Cf",
        "colab": {
          "base_uri": "https://localhost:8080/",
          "height": 395
        },
        "outputId": "c390198e-fe1f-419c-deb5-9652cff7eb64"
      },
      "source": [
        "%%sql\n",
        "select *\n",
        "from invoices;"
      ],
      "execution_count": 38,
      "outputs": [
        {
          "output_type": "stream",
          "name": "stdout",
          "text": [
            " * sqlite:///base.db\n",
            "Done.\n"
          ]
        },
        {
          "output_type": "execute_result",
          "data": {
            "text/plain": [
              "[(1, 1, 1, 2, 60000, '2024-04-05'),\n",
              " (2, 1, 1, 0, 0, '2024-04-01'),\n",
              " (3, 1, 1, -10, -300000, '2024-04-01'),\n",
              " (4, 2, 1, 5, 50000, '2024-04-01'),\n",
              " (5, 3, 1, 5, 40000, '2024-04-01'),\n",
              " (6, 4, 1, 5, 170000, '2024-04-01'),\n",
              " (7, 2, 2, 8, 80000, '2024-04-01'),\n",
              " (8, 3, 2, 5, 40000, '2024-04-01'),\n",
              " (9, 4, 2, 1, 34000, '2024-04-01'),\n",
              " (10, 2, 3, 5, 50000, '2024-04-01'),\n",
              " (11, 3, 3, 3, 24000, '2024-04-01'),\n",
              " (12, 4, 3, 1, 34000, '2024-04-01'),\n",
              " (13, 2, 4, 1, 10000, '2024-04-01'),\n",
              " (14, 3, 4, 6, 48000, '2024-04-01'),\n",
              " (15, 4, 4, 2, 68000, '2024-04-01')]"
            ],
            "text/html": [
              "<table>\n",
              "    <thead>\n",
              "        <tr>\n",
              "            <th>invoice_ID</th>\n",
              "            <th>product_id</th>\n",
              "            <th>customer_id</th>\n",
              "            <th>qty</th>\n",
              "            <th>order_sum</th>\n",
              "            <th>invoice_date</th>\n",
              "        </tr>\n",
              "    </thead>\n",
              "    <tbody>\n",
              "        <tr>\n",
              "            <td>1</td>\n",
              "            <td>1</td>\n",
              "            <td>1</td>\n",
              "            <td>2</td>\n",
              "            <td>60000</td>\n",
              "            <td>2024-04-05</td>\n",
              "        </tr>\n",
              "        <tr>\n",
              "            <td>2</td>\n",
              "            <td>1</td>\n",
              "            <td>1</td>\n",
              "            <td>0</td>\n",
              "            <td>0</td>\n",
              "            <td>2024-04-01</td>\n",
              "        </tr>\n",
              "        <tr>\n",
              "            <td>3</td>\n",
              "            <td>1</td>\n",
              "            <td>1</td>\n",
              "            <td>-10</td>\n",
              "            <td>-300000</td>\n",
              "            <td>2024-04-01</td>\n",
              "        </tr>\n",
              "        <tr>\n",
              "            <td>4</td>\n",
              "            <td>2</td>\n",
              "            <td>1</td>\n",
              "            <td>5</td>\n",
              "            <td>50000</td>\n",
              "            <td>2024-04-01</td>\n",
              "        </tr>\n",
              "        <tr>\n",
              "            <td>5</td>\n",
              "            <td>3</td>\n",
              "            <td>1</td>\n",
              "            <td>5</td>\n",
              "            <td>40000</td>\n",
              "            <td>2024-04-01</td>\n",
              "        </tr>\n",
              "        <tr>\n",
              "            <td>6</td>\n",
              "            <td>4</td>\n",
              "            <td>1</td>\n",
              "            <td>5</td>\n",
              "            <td>170000</td>\n",
              "            <td>2024-04-01</td>\n",
              "        </tr>\n",
              "        <tr>\n",
              "            <td>7</td>\n",
              "            <td>2</td>\n",
              "            <td>2</td>\n",
              "            <td>8</td>\n",
              "            <td>80000</td>\n",
              "            <td>2024-04-01</td>\n",
              "        </tr>\n",
              "        <tr>\n",
              "            <td>8</td>\n",
              "            <td>3</td>\n",
              "            <td>2</td>\n",
              "            <td>5</td>\n",
              "            <td>40000</td>\n",
              "            <td>2024-04-01</td>\n",
              "        </tr>\n",
              "        <tr>\n",
              "            <td>9</td>\n",
              "            <td>4</td>\n",
              "            <td>2</td>\n",
              "            <td>1</td>\n",
              "            <td>34000</td>\n",
              "            <td>2024-04-01</td>\n",
              "        </tr>\n",
              "        <tr>\n",
              "            <td>10</td>\n",
              "            <td>2</td>\n",
              "            <td>3</td>\n",
              "            <td>5</td>\n",
              "            <td>50000</td>\n",
              "            <td>2024-04-01</td>\n",
              "        </tr>\n",
              "        <tr>\n",
              "            <td>11</td>\n",
              "            <td>3</td>\n",
              "            <td>3</td>\n",
              "            <td>3</td>\n",
              "            <td>24000</td>\n",
              "            <td>2024-04-01</td>\n",
              "        </tr>\n",
              "        <tr>\n",
              "            <td>12</td>\n",
              "            <td>4</td>\n",
              "            <td>3</td>\n",
              "            <td>1</td>\n",
              "            <td>34000</td>\n",
              "            <td>2024-04-01</td>\n",
              "        </tr>\n",
              "        <tr>\n",
              "            <td>13</td>\n",
              "            <td>2</td>\n",
              "            <td>4</td>\n",
              "            <td>1</td>\n",
              "            <td>10000</td>\n",
              "            <td>2024-04-01</td>\n",
              "        </tr>\n",
              "        <tr>\n",
              "            <td>14</td>\n",
              "            <td>3</td>\n",
              "            <td>4</td>\n",
              "            <td>6</td>\n",
              "            <td>48000</td>\n",
              "            <td>2024-04-01</td>\n",
              "        </tr>\n",
              "        <tr>\n",
              "            <td>15</td>\n",
              "            <td>4</td>\n",
              "            <td>4</td>\n",
              "            <td>2</td>\n",
              "            <td>68000</td>\n",
              "            <td>2024-04-01</td>\n",
              "        </tr>\n",
              "    </tbody>\n",
              "</table>"
            ]
          },
          "metadata": {},
          "execution_count": 38
        }
      ]
    },
    {
      "cell_type": "code",
      "source": [
        "cur = connection.cursor()\n",
        "cur.execute('''select sum(order_sum) from invoices group by customer_id order by customer_id''')\n",
        "vals = cur.fetchall()\n",
        "cur.execute('''select cust_name from customers order by cust_ID''')\n",
        "labels = cur.fetchall()"
      ],
      "metadata": {
        "id": "ulIiU8WNp8ld"
      },
      "execution_count": 39,
      "outputs": []
    },
    {
      "cell_type": "code",
      "source": [
        "vals"
      ],
      "metadata": {
        "colab": {
          "base_uri": "https://localhost:8080/"
        },
        "id": "ILTyNi3xNjwV",
        "outputId": "d154b5dc-a9df-461a-fa06-4c6988ef3aea"
      },
      "execution_count": 40,
      "outputs": [
        {
          "output_type": "execute_result",
          "data": {
            "text/plain": [
              "[(20000,), (154000,), (108000,), (126000,)]"
            ]
          },
          "metadata": {},
          "execution_count": 40
        }
      ]
    },
    {
      "cell_type": "code",
      "source": [
        "labels"
      ],
      "metadata": {
        "colab": {
          "base_uri": "https://localhost:8080/"
        },
        "id": "vrBbhZebNmvt",
        "outputId": "40e97c6f-2c54-433a-e238-03b40fb82320"
      },
      "execution_count": 41,
      "outputs": [
        {
          "output_type": "execute_result",
          "data": {
            "text/plain": [
              "[('Александр',), ('Антон',), ('Михаил',), ('Наталья',)]"
            ]
          },
          "metadata": {},
          "execution_count": 41
        }
      ]
    },
    {
      "cell_type": "code",
      "source": [
        "import matplotlib.pyplot as plt\n",
        "import numpy as np\n",
        "\n",
        "plt.pie(np.array(vals)[:,0], labels=np.array(labels)[:,0])\n",
        "plt.title(\"Распределение сумм заказанных товаров по клиентам\")\n",
        "plt.show()"
      ],
      "metadata": {
        "id": "uT-cvrt_teFm",
        "colab": {
          "base_uri": "https://localhost:8080/",
          "height": 428
        },
        "outputId": "0aac5953-80cb-47c6-95ad-f4557e803346"
      },
      "execution_count": 42,
      "outputs": [
        {
          "output_type": "display_data",
          "data": {
            "text/plain": [
              "<Figure size 640x480 with 1 Axes>"
            ],
            "image/png": "[encoded data removed]"
          },
          "metadata": {}
        }
      ]
    },
    {
      "cell_type": "code",
      "source": [],
      "metadata": {
        "id": "uuVi-ZjN16il"
      },
      "execution_count": null,
      "outputs": []
    },
    {
      "cell_type": "markdown",
      "source": [
        "# SQL injection"
      ],
      "metadata": {
        "id": "brR2iYa0OttQ"
      }
    },
    {
      "cell_type": "markdown",
      "source": [
        "![c4593e423e573702d0039506bdbe562f.png](data:image/png;base64,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)"
      ],
      "metadata": {
        "id": "TbMlwxoJO0tw"
      }
    },
    {
      "cell_type": "code",
      "source": [
        "%%sql\n",
        "SELECT * FROM Customers\n",
        "LIMIT 5;"
      ],
      "metadata": {
        "colab": {
          "base_uri": "https://localhost:8080/",
          "height": 161
        },
        "id": "uvwGN2auRS2O",
        "outputId": "0d514774-d9b1-4a8d-d5de-29ae20719d24"
      },
      "execution_count": 43,
      "outputs": [
        {
          "output_type": "stream",
          "name": "stdout",
          "text": [
            " * sqlite:///base.db\n",
            "Done.\n"
          ]
        },
        {
          "output_type": "execute_result",
          "data": {
            "text/plain": [
              "[(1, 'Александр', '12345', 'Новый_адрес'),\n",
              " (2, 'Антон', '67890', 'Адрес2'),\n",
              " (3, 'Михаил', 'qwerty', 'Адрес3'),\n",
              " (4, 'Наталья', 'asdfgh', 'Адрес4')]"
            ],
            "text/html": [
              "<table>\n",
              "    <thead>\n",
              "        <tr>\n",
              "            <th>cust_ID</th>\n",
              "            <th>cust_name</th>\n",
              "            <th>cust_password</th>\n",
              "            <th>address</th>\n",
              "        </tr>\n",
              "    </thead>\n",
              "    <tbody>\n",
              "        <tr>\n",
              "            <td>1</td>\n",
              "            <td>Александр</td>\n",
              "            <td>12345</td>\n",
              "            <td>Новый_адрес</td>\n",
              "        </tr>\n",
              "        <tr>\n",
              "            <td>2</td>\n",
              "            <td>Антон</td>\n",
              "            <td>67890</td>\n",
              "            <td>Адрес2</td>\n",
              "        </tr>\n",
              "        <tr>\n",
              "            <td>3</td>\n",
              "            <td>Михаил</td>\n",
              "            <td>qwerty</td>\n",
              "            <td>Адрес3</td>\n",
              "        </tr>\n",
              "        <tr>\n",
              "            <td>4</td>\n",
              "            <td>Наталья</td>\n",
              "            <td>asdfgh</td>\n",
              "            <td>Адрес4</td>\n",
              "        </tr>\n",
              "    </tbody>\n",
              "</table>"
            ]
          },
          "metadata": {},
          "execution_count": 43
        }
      ]
    },
    {
      "cell_type": "code",
      "source": [
        "#f-строки\n",
        "name = 'input 1'\n",
        "print(f'Пример добавления значения переменной {name} в текст')\n",
        "\n",
        "#Через .format\n",
        "name = 'input 2'\n",
        "print('Пример добавления значения переменной {0} в текст'.format(name))\n",
        "\n",
        "#оператор % форматирования строк\n",
        "name = 'input 3'\n",
        "print(\"Другой способ вставить значение переменной %s в текст\" % name)\n",
        "\n",
        "#concat\n",
        "name = 'input 4'\n",
        "print(\"И еще пример добавления значения переменной \" + name + \" в текст\")"
      ],
      "metadata": {
        "colab": {
          "base_uri": "https://localhost:8080/"
        },
        "id": "YZ_M9X9HO6Qo",
        "outputId": "f9b36bbc-98c7-4fa0-c250-dcbcd2ba8f5d"
      },
      "execution_count": 44,
      "outputs": [
        {
          "output_type": "stream",
          "name": "stdout",
          "text": [
            "Пример добавления значения переменной input 1 в текст\n",
            "Пример добавления значения переменной input 2 в текст\n",
            "Другой способ вставить значение переменной input 3 в текст\n",
            "И еще пример добавления значения переменной input 4 в текст\n"
          ]
        }
      ]
    },
    {
      "cell_type": "code",
      "source": [
        "def print_client(passw): # Информация о клиенте\n",
        "    cur = connection.cursor()\n",
        "    cur.execute('''select * from customers where cust_password = ? ''',  (passw,)) # единственный верный вариант\n",
        "    #cur.execute(f\"select * from customers where cust_password = '{passw}'\")\n",
        "    #cur.execute(\"select * from customers where cust_password = '{0}'\".format(passw))\n",
        "    #cur.execute(\"select * from customers where cust_password = '%s'\" % passw)\n",
        "    try:\n",
        "        cli_id = cur.fetchall()\n",
        "        return cli_id\n",
        "    except:\n",
        "        return \"Неверный пароль\""
      ],
      "metadata": {
        "id": "lcnz9_wNO-pg"
      },
      "execution_count": 45,
      "outputs": []
    },
    {
      "cell_type": "code",
      "source": [
        "passw = input(\"Введите пароль: \")\n",
        "\n",
        "print_client(passw)"
      ],
      "metadata": {
        "colab": {
          "base_uri": "https://localhost:8080/"
        },
        "collapsed": true,
        "id": "OopZ6m2lPA0w",
        "outputId": "f16cd27d-a3cd-49a2-b884-07938b9c4ef7"
      },
      "execution_count": 46,
      "outputs": [
        {
          "name": "stdout",
          "output_type": "stream",
          "text": [
            "Введите пароль: 12345\n"
          ]
        },
        {
          "output_type": "execute_result",
          "data": {
            "text/plain": [
              "[(1, 'Александр', '12345', 'Новый_адрес')]"
            ]
          },
          "metadata": {},
          "execution_count": 46
        }
      ]
    },
    {
      "cell_type": "code",
      "source": [
        "def vulnerable_print(passw):\n",
        "    cur = connection.cursor()\n",
        "    cur.execute(\"select * from customers where cust_password = '{0}'\".format(passw))\n",
        "    try:\n",
        "        cli_id = cur.fetchall()\n",
        "        return cli_id\n",
        "    except:\n",
        "        return \"Неверный пароль\""
      ],
      "metadata": {
        "id": "m5j-TCJR5YFl"
      },
      "execution_count": 49,
      "outputs": []
    },
    {
      "cell_type": "code",
      "source": [
        "passw = input(\"Введите пароль: \")\n",
        "\n",
        "vulnerable_print(passw)"
      ],
      "metadata": {
        "id": "dGyLkcr4PEaJ",
        "colab": {
          "base_uri": "https://localhost:8080/"
        },
        "outputId": "059c1543-aaac-4865-a211-0e1bf44c020b"
      },
      "execution_count": 50,
      "outputs": [
        {
          "name": "stdout",
          "output_type": "stream",
          "text": [
            "Введите пароль: 12345\n"
          ]
        },
        {
          "output_type": "execute_result",
          "data": {
            "text/plain": [
              "[(1, 'Александр', '12345', 'Новый_адрес')]"
            ]
          },
          "metadata": {},
          "execution_count": 50
        }
      ]
    },
    {
      "cell_type": "code",
      "source": [
        "vulnerable_print(\".' and 1=0 union all select * from customers; --\")"
      ],
      "metadata": {
        "id": "Q4JG_yP2PF1Y",
        "colab": {
          "base_uri": "https://localhost:8080/"
        },
        "outputId": "eead3a8c-b113-4b6f-8d90-e49818422f4a"
      },
      "execution_count": 51,
      "outputs": [
        {
          "output_type": "execute_result",
          "data": {
            "text/plain": [
              "[(1, 'Александр', '12345', 'Новый_адрес'),\n",
              " (2, 'Антон', '67890', 'Адрес2'),\n",
              " (3, 'Михаил', 'qwerty', 'Адрес3'),\n",
              " (4, 'Наталья', 'asdfgh', 'Адрес4')]"
            ]
          },
          "metadata": {},
          "execution_count": 51
        }
      ]
    },
    {
      "cell_type": "code",
      "source": [
        "vulnerable_print(\".'; select * from customers; --\")  # будет работать с postgresql"
      ],
      "metadata": {
        "id": "T0h8K0w8PG8Y",
        "colab": {
          "base_uri": "https://localhost:8080/",
          "height": 263
        },
        "outputId": "5424138c-b0f6-4ce5-a213-9bb57635028d"
      },
      "execution_count": 52,
      "outputs": [
        {
          "output_type": "error",
          "ename": "ProgrammingError",
          "evalue": "You can only execute one statement at a time.",
          "traceback": [
            "\u001b[0;31m---------------------------------------------------------------------------\u001b[0m",
            "\u001b[0;31mProgrammingError\u001b[0m                          Traceback (most recent call last)",
            "\u001b[0;32m<ipython-input-52-e5b3b5ccb515>\u001b[0m in \u001b[0;36m<cell line: 0>\u001b[0;34m()\u001b[0m\n\u001b[0;32m----> 1\u001b[0;31m \u001b[0mvulnerable_print\u001b[0m\u001b[0;34m(\u001b[0m\u001b[0;34m\".'; select * from customers; --\"\u001b[0m\u001b[0;34m)\u001b[0m  \u001b[0;31m# будет работать с postgresql\u001b[0m\u001b[0;34m\u001b[0m\u001b[0;34m\u001b[0m\u001b[0m\n\u001b[0m",
            "\u001b[0;32m<ipython-input-49-9f6e2631aee0>\u001b[0m in \u001b[0;36mvulnerable_print\u001b[0;34m(passw)\u001b[0m\n\u001b[1;32m      1\u001b[0m \u001b[0;32mdef\u001b[0m \u001b[0mvulnerable_print\u001b[0m\u001b[0;34m(\u001b[0m\u001b[0mpassw\u001b[0m\u001b[0;34m)\u001b[0m\u001b[0;34m:\u001b[0m\u001b[0;34m\u001b[0m\u001b[0;34m\u001b[0m\u001b[0m\n\u001b[1;32m      2\u001b[0m     \u001b[0mcur\u001b[0m \u001b[0;34m=\u001b[0m \u001b[0mconnection\u001b[0m\u001b[0;34m.\u001b[0m\u001b[0mcursor\u001b[0m\u001b[0;34m(\u001b[0m\u001b[0;34m)\u001b[0m\u001b[0;34m\u001b[0m\u001b[0;34m\u001b[0m\u001b[0m\n\u001b[0;32m----> 3\u001b[0;31m     \u001b[0mcur\u001b[0m\u001b[0;34m.\u001b[0m\u001b[0mexecute\u001b[0m\u001b[0;34m(\u001b[0m\u001b[0;34m\"select * from customers where cust_password = '{0}'\"\u001b[0m\u001b[0;34m.\u001b[0m\u001b[0mformat\u001b[0m\u001b[0;34m(\u001b[0m\u001b[0mpassw\u001b[0m\u001b[0;34m)\u001b[0m\u001b[0;34m)\u001b[0m\u001b[0;34m\u001b[0m\u001b[0;34m\u001b[0m\u001b[0m\n\u001b[0m\u001b[1;32m      4\u001b[0m     \u001b[0;32mtry\u001b[0m\u001b[0;34m:\u001b[0m\u001b[0;34m\u001b[0m\u001b[0;34m\u001b[0m\u001b[0m\n\u001b[1;32m      5\u001b[0m         \u001b[0mcli_id\u001b[0m \u001b[0;34m=\u001b[0m \u001b[0mcur\u001b[0m\u001b[0;34m.\u001b[0m\u001b[0mfetchall\u001b[0m\u001b[0;34m(\u001b[0m\u001b[0;34m)\u001b[0m\u001b[0;34m\u001b[0m\u001b[0;34m\u001b[0m\u001b[0m\n",
            "\u001b[0;31mProgrammingError\u001b[0m: You can only execute one statement at a time."
          ]
        }
      ]
    },
    {
      "cell_type": "code",
      "source": [
        "%%sql\n",
        "select * from customers where cust_password = '.' and 1=0 union all select * from customers; --'"
      ],
      "metadata": {
        "id": "vrXP7rEJPIDg",
        "colab": {
          "base_uri": "https://localhost:8080/",
          "height": 161
        },
        "outputId": "bd4fbd9a-b163-4f5a-feb2-843197e0482a"
      },
      "execution_count": 54,
      "outputs": [
        {
          "output_type": "stream",
          "name": "stdout",
          "text": [
            " * sqlite:///base.db\n",
            "Done.\n"
          ]
        },
        {
          "output_type": "execute_result",
          "data": {
            "text/plain": [
              "[(1, 'Александр', '12345', 'Новый_адрес'),\n",
              " (2, 'Антон', '67890', 'Адрес2'),\n",
              " (3, 'Михаил', 'qwerty', 'Адрес3'),\n",
              " (4, 'Наталья', 'asdfgh', 'Адрес4')]"
            ],
            "text/html": [
              "<table>\n",
              "    <thead>\n",
              "        <tr>\n",
              "            <th>cust_ID</th>\n",
              "            <th>cust_name</th>\n",
              "            <th>cust_password</th>\n",
              "            <th>address</th>\n",
              "        </tr>\n",
              "    </thead>\n",
              "    <tbody>\n",
              "        <tr>\n",
              "            <td>1</td>\n",
              "            <td>Александр</td>\n",
              "            <td>12345</td>\n",
              "            <td>Новый_адрес</td>\n",
              "        </tr>\n",
              "        <tr>\n",
              "            <td>2</td>\n",
              "            <td>Антон</td>\n",
              "            <td>67890</td>\n",
              "            <td>Адрес2</td>\n",
              "        </tr>\n",
              "        <tr>\n",
              "            <td>3</td>\n",
              "            <td>Михаил</td>\n",
              "            <td>qwerty</td>\n",
              "            <td>Адрес3</td>\n",
              "        </tr>\n",
              "        <tr>\n",
              "            <td>4</td>\n",
              "            <td>Наталья</td>\n",
              "            <td>asdfgh</td>\n",
              "            <td>Адрес4</td>\n",
              "        </tr>\n",
              "    </tbody>\n",
              "</table>"
            ]
          },
          "metadata": {},
          "execution_count": 54
        }
      ]
    },
    {
      "cell_type": "markdown",
      "source": [
        "Как бороться?\n",
        "\n",
        "- экранирование символов\n",
        "- запросы с параметрами"
      ],
      "metadata": {
        "id": "WEjpxkFD5YX9"
      }
    },
    {
      "cell_type": "markdown",
      "source": [
        "## Экранирование значений"
      ],
      "metadata": {
        "id": "L_YPB7-NU3LJ"
      }
    },
    {
      "cell_type": "code",
      "source": [
        "def print_client(passw): # Информация о клиенте\n",
        "    cur = connection.cursor()\n",
        "    cur.execute('''select * from customers where cust_password = ? ''',  (passw,))\n",
        "    try:\n",
        "        cli_id = cur.fetchall()\n",
        "        print('''select * from customers where cust_password = ? ''',  (passw,))\n",
        "        print(f\"select * from customers where cust_password = '{passw}'\")\n",
        "        print(\"select * from customers where cust_password = '{0}'\".format(passw))\n",
        "        print(\"select * from customers where cust_password = '%s'\" % passw)\n",
        "        return cli_id\n",
        "    except:\n",
        "        return \"Неверный пароль\""
      ],
      "metadata": {
        "id": "TePbfCg3PIZw"
      },
      "execution_count": 56,
      "outputs": []
    },
    {
      "cell_type": "code",
      "source": [
        "print_client(\".' and 1=0 union all select * from customers; --\")"
      ],
      "metadata": {
        "colab": {
          "base_uri": "https://localhost:8080/"
        },
        "id": "BSAhw3AqU9wo",
        "outputId": "7f13aefa-4ed0-4b5b-abd0-c18bd8734a61"
      },
      "execution_count": 57,
      "outputs": [
        {
          "output_type": "stream",
          "name": "stdout",
          "text": [
            "select * from customers where cust_password = ?  (\".' and 1=0 union all select * from customers; --\",)\n",
            "select * from customers where cust_password = '.' and 1=0 union all select * from customers; --'\n",
            "select * from customers where cust_password = '.' and 1=0 union all select * from customers; --'\n",
            "select * from customers where cust_password = '.' and 1=0 union all select * from customers; --'\n"
          ]
        },
        {
          "output_type": "execute_result",
          "data": {
            "text/plain": [
              "[]"
            ]
          },
          "metadata": {},
          "execution_count": 57
        }
      ]
    },
    {
      "cell_type": "markdown",
      "source": [
        "## Параметризированный запрос"
      ],
      "metadata": {
        "id": "nXwfbgKAHn61"
      }
    },
    {
      "cell_type": "code",
      "source": [
        "def customer_info(passw): # Информация о клиенте\n",
        "    cur = connection.cursor()\n",
        "    cur.execute(\"select * from customers where cust_password = :pass\", {\"pass\": passw})\n",
        "    try:\n",
        "        cli_id = cur.fetchall()\n",
        "        print(\"select * from customers where cust_password = :pass\", {\"pass\": passw})\n",
        "        return cli_id\n",
        "    except:\n",
        "        return \"Неверный пароль\""
      ],
      "metadata": {
        "id": "PhikGlxC590N"
      },
      "execution_count": 58,
      "outputs": []
    },
    {
      "cell_type": "code",
      "source": [
        "customer_info(\".' and 1=0 union all select * from customers; --\")"
      ],
      "metadata": {
        "colab": {
          "base_uri": "https://localhost:8080/"
        },
        "id": "Qzhf6HvJ6Ve0",
        "outputId": "9a0fc355-4824-4cfe-bb5e-a0cb4fdde795"
      },
      "execution_count": 59,
      "outputs": [
        {
          "output_type": "stream",
          "name": "stdout",
          "text": [
            "select * from customers where cust_password = :pass {'pass': \".' and 1=0 union all select * from customers; --\"}\n"
          ]
        },
        {
          "output_type": "execute_result",
          "data": {
            "text/plain": [
              "[]"
            ]
          },
          "metadata": {},
          "execution_count": 59
        }
      ]
    },
    {
      "cell_type": "code",
      "source": [
        "customer_info(\"' UNION SELECT phone, password FROM customers--\")"
      ],
      "metadata": {
        "colab": {
          "base_uri": "https://localhost:8080/"
        },
        "id": "XEg4dQ888lT2",
        "outputId": "c1e9a88a-751e-4771-aac2-f6900c199fe8"
      },
      "execution_count": 60,
      "outputs": [
        {
          "output_type": "stream",
          "name": "stdout",
          "text": [
            "select * from customers where cust_password = :pass {'pass': \"' UNION SELECT phone, password FROM customers--\"}\n"
          ]
        },
        {
          "output_type": "execute_result",
          "data": {
            "text/plain": [
              "[]"
            ]
          },
          "metadata": {},
          "execution_count": 60
        }
      ]
    }
  ]
}