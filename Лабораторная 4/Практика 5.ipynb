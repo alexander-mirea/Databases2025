{
  "cells": [
    {
      "cell_type": "markdown",
      "metadata": {
        "id": "zbXl_KYdS04l"
      },
      "source": [
        "## Создание таблиц\n",
        "\n"
      ]
    },
    {
      "cell_type": "code",
      "execution_count": null,
      "metadata": {
        "id": "Vtgzckg9aEx3"
      },
      "outputs": [],
      "source": [
        "num_clients = 5000000   # 5 mil\n",
        "num_products = 2000000   # 2 mil\n",
        "num_orders = 10000000   # 10 mil\n",
        "\n",
        "#ВНИМАНИЕ!! ЗАПУСК ~5 минут!"
      ]
    },
    {
      "cell_type": "code",
      "execution_count": null,
      "metadata": {
        "id": "EYeFjWb_g85C"
      },
      "outputs": [],
      "source": [
        "%load_ext sql\n",
        "%sql sqlite:///bigbase.db\n",
        "%config SqlMagic.style = '_DEPRECATED_DEFAULT'"
      ]
    },
    {
      "cell_type": "markdown",
      "metadata": {
        "id": "Ab7JQ85bSrRD"
      },
      "source": [
        "### Массивы случайных данных"
      ]
    },
    {
      "cell_type": "code",
      "execution_count": null,
      "metadata": {
        "id": "UJoj0VdCSpyt"
      },
      "outputs": [],
      "source": [
        "firstnames = [\"Aaliyah\", \"Aaron\", \"Abagail\", \"Abbey\", \"Abbie\", \"Abbigail\", \"Abby\", \"Abdiel\", \"Abdul\", \"Abdullah\", \"Abe\", \"Abel\", \"Abelardo\", \"Abigail\", \"Abigale\", \"Abigayle\", \"Abner\", \"Abraham\", \"Ada\", \"Adah\", \"Adaline\", \"Adam\", \"Adan\", \"Addie\", \"Addison\", \"Adela\", \"Adelbert\", \"Adele\", \"Adelia\", \"Adeline\", \"Adell\", \"Adella\", \"Adelle\", \"Aditya\", \"Adolf\", \"Adolfo\", \"Adolph\", \"Adolphus\", \"Adonis\", \"Adrain\", \"Adrian\", \"Adriana\", \"Adrianna\", \"Adriel\", \"Adrien\", \"Adrienne\", \"Afton\", \"Aglae\", \"Agnes\", \"Agustin\", \"Agustina\", \"Ahmad\", \"Ahmed\", \"Aida\", \"Aidan\", \"Aiden\", \"Aileen\", \"Aimee\", \"Aisha\", \"Aiyana\", \"Akeem\", \"Al\", \"Alaina\", \"Alan\", \"Alana\", \"Alanis\", \"Alanna\", \"Alayna\", \"Alba\", \"Albert\", \"Alberta\", \"Albertha\", \"Alberto\", \"Albin\", \"Albina\", \"Alda\", \"Alden\", \"Alec\", \"Aleen\", \"Alejandra\", \"Alejandrin\", \"Alek\", \"Alena\", \"Alessandra\", \"Alessandro\", \"Alessia\", \"Aletha\", \"Alex\", \"Alexa\", \"Alexander\", \"Alexandra\", \"Alexandre\", \"Alexandrea\", \"Alexandria\", \"Alexandrine\", \"Alexane\", \"Alexanne\", \"Alexie\", \"Alexis\", \"Alexys\", \"Alexzander\", \"Alf\", \"Alfonzo\", \"Alford\", \"Alfred\", \"Alfreda\", \"Alfredo\", \"Ali\", \"Alia\", \"Alice\", \"Alicia\", \"Alisa\", \"Alisha\", \"Alison\", \"Alivia\", \"Aliya\", \"Aliza\", \"Alize\", \"Allen\", \"Allie\", \"Allison\", \"Ally\", \"Alphonso\", \"Alta\", \"Althea\", \"Alva\", \"Alvah\", \"Alvena\", \"Alvera\", \"Alverta\", \"Alvina\", \"Alvis\", \"Alyce\", \"Alycia\", \"Alysa\", \"Alysha\", \"Alyson\", \"Alysson\", \"Amalia\", \"Amanda\", \"Amani\", \"Amara\", \"Amari\", \"Amaya\", \"Amber\", \"Ambrose\", \"Amelia\", \"Amely\", \"America\", \"Americo\", \"Amie\", \"Amina\", \"Amir\", \"Amira\", \"Amiya\", \"Amos\", \"Amparo\", \"Amy\", \"Amya\", \"Ana\", \"Anabel\", \"Anabelle\", \"Anahi\", \"Anais\", \"Anastacio\", \"Anastasia\", \"Anderson\", \"Andre\", \"Andreane\", \"Andreanne\", \"Andres\", \"Andrew\", \"Andy\", \"Angel\", \"Angela\", \"Angelica\", \"Angelina\", \"Angeline\", \"Angelo\", \"Angie\", \"Angus\", \"Anibal\", \"Anissa\", \"Anita\", \"Aniya\", \"Aniyah\", \"Anjali\", \"Anna\", \"Annabel\", \"Annabell\", \"Annabelle\", \"Annalise\", \"Annamae\", \"Annamarie\", \"Anne\", \"Annetta\", \"Annette\", \"Annie\", \"Ansel\", \"Ansley\", \"Anthony\", \"Antoinette\", \"Antone\", \"Antonetta\", \"Antonette\", \"Antonietta\", \"Antonina\", \"Antonio\", \"Antwan\", \"Antwon\", \"Anya\", \"April\", \"Ara\", \"Araceli\", \"Aracely\", \"Arch\", \"Archibald\", \"Ardella\", \"Arden\", \"Ardith\", \"Ariane\", \"Arianna\", \"Aric\", \"Ariel\", \"Arielle\", \"Arjun\", \"Arlene\", \"Arlie\", \"Arlo\", \"Armand\", \"Armando\", \"Armani\", \"Arnaldo\", \"Arne\", \"Arno\", \"Arnoldo\", \"Arnulfo\", \"Aron\", \"Art\", \"Arthur\", \"Arturo\", \"Arvel\", \"Arvid\", \"Arvilla\", \"Aryanna\", \"Asa\", \"Asha\", \"Ashlee\", \"Ashleigh\", \"Ashley\", \"Ashly\", \"Ashlynn\", \"Ashton\", \"Ashtyn\", \"Asia\", \"Assunta\", \"Astrid\", \"Athena\", \"Aubree\", \"Aubrey\", \"Audra\", \"Audreanne\", \"Audrey\", \"August\", \"Augusta\", \"Augustine\", \"Augustus\", \"Aurelia\", \"Aurelie\", \"Aurelio\", \"Aurore\", \"Austen\", \"Austin\", \"Austyn\", \"Autumn\", \"Ava\", \"Avery\", \"Avis\", \"Axel\", \"Ayana\", \"Ayden\", \"Ayla\", \"Aylin\", \"Baby\", \"Bailee\", \"Bailey\", \"Barbara\", \"Barney\", \"Baron\", \"Barrett\", \"Barry\", \"Bart\", \"Bartholome\", \"Barton\", \"Baylee\", \"Beatrice\", \"Beau\", \"Beaulah\", \"Bella\", \"Belle\", \"Ben\", \"Benedict\", \"Benjamin\", \"Bennett\", \"Benny\", \"Benton\", \"Berenice\", \"Bernadette\", \"Bernadine\", \"Bernard\", \"Bernardo\", \"Berneice\", \"Bernhard\", \"Bernice\", \"Bernie\", \"Berniece\", \"Bernita\", \"Berry\", \"Bert\", \"Berta\", \"Bertha\", \"Bertram\", \"Bertrand\", \"Beryl\", \"Bessie\", \"Beth\", \"Bethany\", \"Bethel\", \"Betsy\", \"Bette\", \"Bettie\", \"Betty\", \"Bettye\", \"Beulah\", \"Beverly\", \"Bianka\", \"Bill\", \"Billie\", \"Billy\", \"Birdie\", \"Blair\", \"Blaise\", \"Blanca\", \"Blanche\", \"Blaze\", \"Bo\", \"Bobbie\", \"Bobby\", \"Bonita\", \"Bonnie\", \"Boris\", \"Boyd\", \"Brad\", \"Braden\", \"Bradford\", \"Bradley\", \"Bradly\", \"Brady\", \"Braeden\", \"Brain\", \"Brandi\", \"Brando\", \"Brandon\", \"Brandt\", \"Brandy\", \"Brandyn\", \"Brannon\", \"Branson\", \"Brant\", \"Braulio\", \"Braxton\", \"Brayan\", \"Breana\", \"Breanna\", \"Breanne\", \"Brenda\", \"Brendan\", \"Brenden\", \"Brendon\", \"Brenna\", \"Brennan\", \"Brennon\", \"Brent\", \"Bret\", \"Bria\", \"Brian\", \"Briana\", \"Brianne\", \"Brice\", \"Bridget\", \"Bridgette\", \"Bridie\", \"Brielle\", \"Brigitte\", \"Brisa\", \"Britney\", \"Brittany\", \"Brock\", \"Broderick\", \"Brody\", \"Brook\", \"Brooke\", \"Brooks\", \"Brown\", \"Bryana\", \"Bryce\", \"Bryon\", \"Buck\", \"Bud\", \"Buddy\", \"Buford\", \"Bulah\", \"Burdette\", \"Burley\", \"Burnice\", \"Buster\", \"Cade\", \"Caden\", \"Caesar\", \"Caitlyn\", \"Cale\", \"Caleb\", \"Caleigh\", \"Cali\", \"Calista\", \"Callie\", \"Camden\", \"Cameron\", \"Camila\", \"Camilla\", \"Camille\", \"Camren\", \"Camron\", \"Camryn\", \"Camylle\", \"Candace\", \"Candelario\", \"Candice\", \"Candida\", \"Candido\", \"Cara\", \"Carey\", \"Carissa\", \"Carlee\", \"Carleton\", \"Carley\", \"Carli\", \"Carlie\", \"Carlo\", \"Carlos\", \"Carlotta\", \"Carmel\", \"Carmela\", \"Carmella\", \"Carmelo\", \"Carmen\", \"Carmine\", \"Carol\", \"Carolanne\", \"Carole\", \"Carolina\", \"Caroline\", \"Carolyn\", \"Carolyne\", \"Carrie\", \"Carroll\", \"Carson\", \"Carter\", \"Cary\", \"Casandra\", \"Casey\", \"Casimir\", \"Casper\", \"Cassandra\", \"Cassandre\", \"Cassidy\", \"Cassie\", \"Caterina\", \"Catharine\", \"Catherine\", \"Cathrine\", \"Cathryn\", \"Cathy\", \"Cayla\", \"Ceasar\", \"Cecelia\", \"Cecil\", \"Cecile\", \"Cecilia\", \"Cedrick\", \"Celestine\", \"Celestino\", \"Celia\", \"Celine\", \"Cesar\", \"Chad\", \"Chadd\", \"Chadrick\", \"Chaim\", \"Chance\", \"Chandler\", \"Chanel\", \"Chanelle\", \"Charity\", \"Charlene\", \"Charles\", \"Charley\", \"Charlie\", \"Charlotte\", \"Chase\", \"Chasity\", \"Chauncey\", \"Chaya\", \"Chaz\", \"Chelsea\", \"Chelsey\", \"Chelsie\", \"Chesley\", \"Chester\", \"Chet\", \"Cheyanne\", \"Cheyenne\", \"Chloe\", \"Chris\", \"Christ\", \"Christa\", \"Christelle\", \"Christian\", \"Christiana\", \"Christina\", \"Christine\", \"Christop\", \"Christophe\", \"Christopher\", \"Christy\", \"Chyna\", \"Ciara\", \"Cicero\", \"Cielo\", \"Cierra\", \"Cindy\", \"Citlalli\", \"Clair\", \"Claire\", \"Clara\", \"Clarabelle\", \"Clare\", \"Clarissa\", \"Clark\", \"Claud\", \"Claude\", \"Claudia\", \"Claudie\", \"Claudine\", \"Clay\", \"Clemens\", \"Clement\", \"Clementina\", \"Clementine\", \"Clemmie\", \"Cleo\", \"Cleora\", \"Cletus\", \"Cleve\", \"Cleveland\", \"Clifford\", \"Clifton\", \"Clint\", \"Clinton\", \"Clotilde\", \"Clovis\", \"Clyde\", \"Coby\", \"Cody\", \"Colby\", \"Cole\", \"Coleman\", \"Colin\", \"Colleen\", \"Collin\", \"Colt\", \"Colten\", \"Colton\", \"Columbus\", \"Concepcion\", \"Conner\", \"Connie\", \"Connor\", \"Conor\", \"Conrad\", \"Constantin\", \"Consuelo\", \"Cora\", \"Coralie\", \"Corbin\", \"Cordelia\", \"Cordell\", \"Cordia\", \"Cordie\", \"Corene\", \"Corine\", \"Cornelius\", \"Cornell\", \"Corrine\", \"Cortez\", \"Cortney\", \"Cory\", \"Coty\", \"Courtney\", \"Coy\", \"Craig\", \"Crawford\", \"Creola\", \"Cristal\", \"Cristian\", \"Cristina\", \"Cristobal\", \"Cristopher\", \"Cruz\", \"Crystal\", \"Crystel\", \"Cullen\", \"Curt\", \"Curtis\", \"Cydney\", \"Cyril\", \"Dagmar\", \"Dahlia\", \"Daija\", \"Daisha\", \"Daisy\", \"Dakota\", \"Dale\", \"Dallas\", \"Dallin\", \"Dalton\", \"Damaris\", \"Dameon\", \"Damian\", \"Damien\", \"Damion\", \"Damon\", \"Dan\", \"Dana\", \"Dandre\", \"Dane\", \"Dangelo\", \"Danial\", \"Daniela\", \"Daniella\", \"Danika\", \"Dannie\", \"Danny\", \"Dante\", \"Danyka\", \"Daphne\", \"Daphnee\", \"Daphney\", \"Darby\", \"Daren\", \"Darian\", \"Dariana\", \"Darien\", \"Dario\", \"Darion\", \"Darius\", \"Darlene\", \"Daron\", \"Darrel\", \"Darrell\", \"Darren\", \"Darrick\", \"Darrin\", \"Darrion\", \"Darron\", \"Darryl\", \"Darwin\", \"Daryl\", \"Dashawn\", \"Dasia\", \"Dave\", \"David\", \"Davin\", \"Davion\", \"Davon\", \"Davonte\", \"Dawn\", \"Dawson\", \"Dax\", \"Dayana\", \"Dayna\", \"Dayne\", \"Dayton\", \"Dean\", \"Deangelo\", \"Deanna\", \"Deborah\", \"Declan\", \"Dedric\", \"Dedrick\", \"Deion\", \"Deja\", \"Dejah\", \"Dejon\", \"Dejuan\", \"Delaney\", \"Delbert\", \"Delfina\", \"Delia\", \"Delilah\", \"Dell\", \"Della\", \"Delmer\", \"Delores\", \"Delpha\", \"Delphia\", \"Delta\", \"Demarco\", \"Demarcus\", \"Demario\", \"Demetris\", \"Demetrius\", \"Demond\", \"Dena\", \"Denis\", \"Dennis\", \"Deon\", \"Deondre\", \"Deontae\", \"Deonte\", \"Dereck\", \"Derek\", \"Derick\", \"Deron\", \"Derrick\", \"Deshaun\", \"Deshawn\", \"Desiree\", \"Desmond\", \"Dessie\", \"Destany\", \"Destin\", \"Destinee\", \"Destiney\", \"Destini\", \"Destiny\", \"Devan\", \"Devante\", \"Deven\", \"Devin\", \"Devon\", \"Devonte\", \"Devyn\", \"Dewayne\", \"Dewitt\", \"Dexter\", \"Diamond\", \"Diana\", \"Dianna\", \"Diego\", \"Dillan\", \"Dillon\", \"Dimitri\", \"Dina\", \"Dino\", \"Dion\", \"Dixie\", \"Dock\", \"Dolly\", \"Dolores\", \"Domenic\", \"Domenica\", \"Domenick\", \"Domenico\", \"Domingo\", \"Dominic\", \"Dominique\", \"Don\", \"Donald\", \"Donato\", \"Donavon\", \"Donna\", \"Donnell\", \"Donnie\", \"Donny\", \"Dora\", \"Dorcas\", \"Dorian\", \"Doris\", \"Dorothea\", \"Dorothy\", \"Dorris\", \"Dortha\", \"Dorthy\", \"Doug\", \"Douglas\", \"Dovie\", \"Doyle\", \"Drake\", \"Drew\", \"Duane\", \"Dudley\", \"Dulce\", \"Duncan\", \"Durward\", \"Dustin\", \"Dusty\", \"Dwight\", \"Dylan\", \"Earl\", \"Earlene\", \"Earnest\", \"Earnestine\", \"Easter\", \"Easton\", \"Ebba\", \"Ed\", \"Eda\", \"Edd\", \"Eddie\", \"Eden\", \"Edgar\", \"Edgardo\", \"Edison\", \"Edmond\", \"Edmund\", \"Edna\", \"Eduardo\", \"Edward\", \"Edwardo\", \"Edwin\", \"Edwina\", \"Edyth\", \"Edythe\", \"Effie\", \"Efrain\", \"Efren\", \"Eileen\", \"Einar\", \"Eino\", \"Eladio\", \"Elaina\", \"Elbert\", \"Elda\", \"Eldon\", \"Eldora\", \"Eldred\", \"Eldridge\", \"Eleanora\", \"Eleanore\", \"Eleazar\", \"Electa\", \"Elena\", \"Elenor\", \"Elenora\", \"Eleonore\", \"Eli\", \"Elian\", \"Elias\", \"Eliezer\", \"Elijah\", \"Elinor\", \"Elinore\", \"Elisa\", \"Elisabeth\", \"Elise\", \"Eliseo\", \"Elisha\", \"Elissa\", \"Eliza\", \"Elizabeth\", \"Ella\", \"Ellen\", \"Ellie\", \"Elliot\", \"Elliott\", \"Ellis\", \"Ellsworth\", \"Elmer\", \"Elmira\", \"Elmo\", \"Elmore\", \"Elna\", \"Elnora\", \"Elody\", \"Eloisa\", \"Eloise\", \"Elouise\", \"Eloy\", \"Elroy\", \"Elsa\", \"Else\", \"Elsie\", \"Elta\", \"Elton\", \"Elva\", \"Elvera\", \"Elvie\", \"Elvis\", \"Elwin\", \"Elwyn\", \"Elyse\", \"Elyssa\", \"Elza\", \"Emanuel\", \"Emelia\", \"Emelie\", \"Emely\", \"Emerald\", \"Emerson\", \"Emery\", \"Emie\", \"Emil\", \"Emile\", \"Emilia\", \"Emiliano\", \"Emilie\", \"Emilio\", \"Emily\", \"Emma\", \"Emmalee\", \"Emmanuel\", \"Emmanuelle\", \"Emmet\", \"Emmett\", \"Emmie\", \"Emmitt\", \"Emmy\", \"Emory\", \"Ena\", \"Enid\", \"Enoch\", \"Enola\", \"Enos\", \"Enrico\", \"Enrique\", \"Ephraim\", \"Era\", \"Eriberto\", \"Eric\", \"Erica\", \"Erich\", \"Erick\", \"Ericka\", \"Erik\", \"Erika\", \"Erin\", \"Erling\", \"Erna\", \"Ernest\", \"Ernestina\", \"Ernestine\", \"Ernesto\", \"Ernie\", \"Ervin\", \"Erwin\", \"Eryn\", \"Esmeralda\", \"Esperanza\", \"Esta\", \"Esteban\", \"Estefania\", \"Estell\", \"Estella\", \"Estelle\", \"Estevan\", \"Esther\", \"Estrella\", \"Etha\", \"Ethan\", \"Ethel\", \"Ethelyn\", \"Ethyl\", \"Ettie\", \"Eudora\", \"Eugene\", \"Eugenia\", \"Eula\", \"Eulah\", \"Eulalia\", \"Euna\", \"Eunice\", \"Eusebio\", \"Eva\", \"Evalyn\", \"Evan\", \"Evangeline\", \"Evans\", \"Eve\", \"Eveline\", \"Evelyn\", \"Everardo\", \"Everett\", \"Everette\", \"Evert\", \"Evie\", \"Ewald\", \"Ewell\", \"Ezekiel\", \"Ezequiel\", \"Ezra\", \"Fabian\", \"Fabiola\", \"Fae\", \"Fannie\", \"Fanny\", \"Fatima\", \"Faustino\", \"Fausto\", \"Favian\", \"Fay\", \"Faye\", \"Federico\", \"Felicia\", \"Felicita\", \"Felicity\", \"Felipa\", \"Felipe\", \"Felix\", \"Felton\", \"Fermin\", \"Fern\", \"Fernando\", \"Ferne\", \"Fidel\", \"Filiberto\", \"Filomena\", \"Finn\", \"Fiona\", \"Flavie\", \"Fleta\", \"Fletcher\", \"Flo\", \"Florence\", \"Florencio\", \"Florian\", \"Florida\", \"Florine\", \"Flossie\", \"Floy\", \"Floyd\", \"Ford\", \"Forrest\", \"Foster\", \"Frances\", \"Francesca\", \"Francesco\", \"Francis\", \"Francisca\", \"Francisco\", \"Franco\", \"Frank\", \"Frankie\", \"Franz\", \"Fred\", \"Freda\", \"Freddie\", \"Frederic\", \"Frederick\", \"Frederik\", \"Frederique\", \"Fredrick\", \"Fredy\", \"Freeda\", \"Freeman\", \"Freida\", \"Frida\", \"Frieda\", \"Friedrich\", \"Fritz\", \"Furman\", \"Gabriel\", \"Gabriella\", \"Gabrielle\", \"Gaetano\", \"Gage\", \"Gail\", \"Gardner\", \"Garett\", \"Garfield\", \"Garland\", \"Garnet\", \"Garnett\", \"Garret\", \"Garrett\", \"Garrick\", \"Garrison\", \"Garry\", \"Garth\", \"Gaston\", \"Gavin\", \"Gayle\", \"Gene\", \"General\", \"Genesis\", \"Genevieve\", \"Gennaro\", \"Genoveva\", \"Geo\", \"Geoffrey\", \"George\", \"Georgette\", \"Georgiana\", \"Georgianna\", \"Geovanni\", \"Geovanny\", \"Geovany\", \"Gerald\", \"Geraldine\", \"Gerard\", \"Gerardo\", \"Gerda\", \"Gerhard\", \"Germaine\", \"German\", \"Gerry\", \"Gerson\", \"Gertrude\", \"Gia\", \"Gianni\", \"Gideon\", \"Gilbert\", \"Gilberto\", \"Giles\", \"Gillian\", \"Gina\", \"Gino\", \"Giovani\", \"Giovanna\", \"Giovanni\", \"Giovanny\", \"Gisselle\", \"Giuseppe\", \"Gladyce\", \"Gladys\", \"Glen\", \"Glenda\", \"Glennie\", \"Gloria\", \"Godfrey\", \"Golda\", \"Golden\", \"Gonzalo\", \"Gordon\", \"Grace\", \"Gracie\", \"Graciela\", \"Grady\", \"Graham\", \"Grant\", \"Granville\", \"Grayce\", \"Grayson\", \"Greg\", \"Gregg\", \"Gregoria\", \"Gregorio\", \"Gregory\", \"Greta\", \"Gretchen\", \"Greyson\", \"Griffin\", \"Grover\", \"Guadalupe\", \"Gudrun\", \"Guido\", \"Guillermo\", \"Guiseppe\", \"Gunnar\", \"Gunner\", \"Gus\", \"Gussie\", \"Gust\", \"Gustave\", \"Guy\", \"Gwen\", \"Gwendolyn\", \"Hadley\", \"Hailee\", \"Hailey\", \"Hailie\", \"Hal\", \"Haleigh\", \"Haley\", \"Halie\", \"Halle\", \"Hallie\", \"Hank\", \"Hanna\", \"Hannah\", \"Hans\", \"Hardy\", \"Harley\", \"Harmon\", \"Harmony\", \"Harold\", \"Harrison\", \"Harry\", \"Harvey\", \"Haskell\", \"Hassan\", \"Hassie\", \"Hattie\", \"Haven\", \"Hayden\", \"Haylee\", \"Hayley\", \"Haylie\", \"Hazel\", \"Hazle\", \"Heath\", \"Heather\", \"Heaven\", \"Heber\", \"Heidi\", \"Helen\", \"Helena\", \"Helene\", \"Hellen\", \"Helmer\", \"Heloise\", \"Henderson\", \"Henri\", \"Henriette\", \"Henry\", \"Herbert\", \"Hermann\", \"Hermina\", \"Herminia\", \"Herminio\", \"Hershel\", \"Herta\", \"Hertha\", \"Hester\", \"Hettie\", \"Hilario\", \"Hilbert\", \"Hilda\", \"Hildegard\", \"Hillard\", \"Hillary\", \"Hilma\", \"Hilton\", \"Hipolito\", \"Hiram\", \"Hobart\", \"Holden\", \"Hollie\", \"Hollis\", \"Holly\", \"Hope\", \"Horace\", \"Horacio\", \"Hortense\", \"Hosea\", \"Houston\", \"Howard\", \"Howell\", \"Hoyt\", \"Hubert\", \"Hudson\", \"Hugh\", \"Hulda\", \"Humberto\", \"Hunter\", \"Hyman\", \"Ian\", \"Ibrahim\", \"Icie\", \"Ida\", \"Idell\", \"Idella\", \"Ignacio\", \"Ignatius\", \"Ike\", \"Ila\", \"Ilene\", \"Iliana\", \"Ima\", \"Imani\", \"Imelda\", \"Immanuel\", \"Imogene\", \"Ines\", \"Irma\", \"Irving\", \"Irwin\", \"Isaac\", \"Isabel\", \"Isabell\", \"Isabella\", \"Isabelle\", \"Isac\", \"Isadore\", \"Isai\", \"Isaiah\", \"Isaias\", \"Isidro\", \"Ismael\", \"Isobel\", \"Isom\", \"Issac\", \"Itzel\", \"Iva\", \"Ivah\", \"Ivory\", \"Ivy\", \"Izabella\", \"Izaiah\", \"Jabari\", \"Jacey\", \"Jacinthe\", \"Jacinto\", \"Jack\", \"Jackeline\", \"Jackie\", \"Jacklyn\", \"Jackson\", \"Jacky\", \"Jacques\", \"Jacynthe\", \"Jada\", \"Jade\", \"Jaden\", \"Jadon\", \"Jadyn\", \"Jaeden\", \"Jaida\", \"Jaiden\", \"Jailyn\", \"Jaime\", \"Jairo\", \"Jakayla\", \"Jake\", \"Jakob\", \"Jaleel\", \"Jalen\", \"Jalon\", \"Jalyn\", \"Jamaal\", \"Jamal\", \"Jamar\", \"Jamarcus\", \"Jameson\", \"Jamey\", \"Jamie\", \"Jamil\", \"Jamir\", \"Jamison\", \"Jammie\", \"Jan\", \"Jana\", \"Janae\", \"Jane\", \"Janelle\", \"Janessa\", \"Janet\", \"Janice\", \"Janick\", \"Janie\", \"Janis\", \"Janiya\", \"Jaquan\", \"Jaquelin\", \"Jaqueline\", \"Jared\", \"Jaren\", \"Jarod\", \"Jaron\", \"Jarred\", \"Jarrell\", \"Jarret\", \"Jarrett\", \"Jarrod\", \"Jarvis\", \"Jasen\", \"Jasmin\", \"Jason\", \"Jasper\", \"Jaunita\", \"Javier\", \"Javon\", \"Javonte\", \"Jay\", \"Jayce\", \"Jaycee\", \"Jayda\", \"Jayde\", \"Jayden\", \"Jaydon\", \"Jaylan\", \"Jaylin\", \"Jaylon\", \"Jayme\", \"Jayne\", \"Jayson\", \"Jazlyn\", \"Jazmin\", \"Jazmyn\", \"Jazmyne\", \"Jean\", \"Jeanie\", \"Jeanne\", \"Jed\", \"Jedediah\", \"Jedidiah\", \"Jeff\", \"Jefferey\", \"Jeffery\", \"Jeffrey\", \"Jeffry\", \"Jena\", \"Jenifer\", \"Jennie\", \"Jennifer\", \"Jennings\", \"Jensen\", \"Jerad\", \"Jerald\", \"Jeramie\", \"Jeramy\", \"Jerel\", \"Jeremie\", \"Jeremy\", \"Jermain\", \"Jermaine\", \"Jermey\", \"Jerod\", \"Jerome\", \"Jeromy\", \"Jerrell\", \"Jerrod\", \"Jerrold\", \"Jerry\", \"Jess\", \"Jesse\", \"Jessica\", \"Jessie\", \"Jessika\", \"Jessy\", \"Jessyca\", \"Jesus\", \"Jett\", \"Jettie\", \"Jevon\", \"Jewel\", \"Jewell\", \"Jillian\", \"Jimmie\", \"Jo\", \"Joan\", \"Joana\", \"Joanie\", \"Joanne\", \"Joannie\", \"Joanny\", \"Joaquin\", \"Jocelyn\", \"Jodie\", \"Jody\", \"Joe\", \"Joel\", \"Joelle\", \"Joesph\", \"Joey\", \"Johan\", \"Johann\", \"Johathan\", \"John\", \"Johnathan\", \"Johnathon\", \"Johnnie\", \"Johnny\", \"Johnpaul\", \"Johnson\", \"Jolie\", \"Jon\", \"Jonas\", \"Jonatan\", \"Jonathan\", \"Jonathon\", \"Jordan\", \"Jordane\", \"Jordi\", \"Jordon\", \"Jordy\", \"Jordyn\", \"Jorge\", \"Jose\", \"Josefa\", \"Josefina\", \"Joseph\", \"Josephine\", \"Josh\", \"Joshuah\", \"Josiah\", \"Josiane\", \"Josianne\", \"Josie\", \"Josue\", \"Jovan\", \"Jovani\", \"Jovanny\", \"Jovany\", \"Joy\", \"Joyce\", \"Juana\", \"Juanita\", \"Judah\", \"Judd\", \"Jude\", \"Judge\", \"Judy\", \"Jules\", \"Julia\", \"Julian\", \"Juliana\", \"Julianne\", \"Julie\", \"Julien\", \"Juliet\", \"Julio\", \"Julius\", \"June\", \"Junior\", \"Junius\", \"Justen\", \"Justice\", \"Justina\", \"Juston\", \"Justus\", \"Justyn\", \"Juvenal\", \"Juwan\", \"Kacey\", \"Kaci\", \"Kacie\", \"Kade\", \"Kaden\", \"Kadin\", \"Kaela\", \"Kaelyn\", \"Kaia\", \"Kailee\", \"Kailey\", \"Kailyn\", \"Kaitlin\", \"Kaitlyn\", \"Kale\", \"Kaleb\", \"Kaleigh\", \"Kaley\", \"Kali\", \"Kallie\", \"Kameron\", \"Kamille\", \"Kamren\", \"Kamron\", \"Kamryn\", \"Kane\", \"Kara\", \"Kareem\", \"Karelle\", \"Karen\", \"Kari\", \"Kariane\", \"Karianne\", \"Karina\", \"Karine\", \"Karl\", \"Karlee\", \"Karley\", \"Karli\", \"Karlie\", \"Karolann\", \"Karson\", \"Kasandra\", \"Kasey\", \"Kassandra\", \"Katarina\", \"Katelin\", \"Katelyn\", \"Katelynn\", \"Katharina\", \"Katherine\", \"Katheryn\", \"Kathleen\", \"Kathlyn\", \"Kathryn\", \"Kathryne\", \"Katlyn\", \"Katlynn\", \"Katrina\", \"Katrine\", \"Kattie\", \"Kavon\", \"Kay\", \"Kaya\", \"Kaycee\", \"Kayden\", \"Kayla\", \"Kaylah\", \"Kaylee\", \"Kayley\", \"Kayli\", \"Kaylie\", \"Kaylin\", \"Keagan\", \"Keanu\", \"Keara\", \"Keaton\", \"Keegan\", \"Keeley\", \"Keely\", \"Keenan\", \"Keira\", \"Keith\", \"Kellen\", \"Kelley\", \"Kelli\", \"Kellie\", \"Kelly\", \"Kelsi\", \"Kelsie\", \"Kelton\", \"Kelvin\", \"Ken\", \"Kendall\", \"Kendra\", \"Kendrick\", \"Kenna\", \"Kennedi\", \"Kennedy\", \"Kenneth\", \"Kenny\", \"Kenton\", \"Kenya\", \"Kenyatta\", \"Kenyon\", \"Keon\", \"Keshaun\", \"Keshawn\", \"Keven\", \"Kevin\", \"Kevon\", \"Keyon\", \"Keyshawn\", \"Khalid\", \"Khalil\", \"Kian\", \"Kiana\", \"Kianna\", \"Kiara\", \"Kiarra\", \"Kiel\", \"Kiera\", \"Kieran\", \"Kiley\", \"Kim\", \"Kimberly\", \"King\", \"Kip\", \"Kira\", \"Kirk\", \"Kirsten\", \"Kirstin\", \"Kitty\", \"Kobe\", \"Koby\", \"Kody\", \"Kolby\", \"Kole\", \"Korbin\", \"Korey\", \"Kory\", \"Kraig\", \"Kris\", \"Krista\", \"Kristian\", \"Kristin\", \"Kristina\", \"Kristofer\", \"Kristoffer\", \"Kristopher\", \"Kristy\", \"Krystal\", \"Krystel\", \"Krystina\", \"Kurt\", \"Kurtis\", \"Kyla\", \"Kyle\", \"Kylee\", \"Kyleigh\", \"Kyler\", \"Kylie\", \"Kyra\", \"Lacey\", \"Lacy\", \"Ladarius\", \"Lafayette\", \"Laila\", \"Laisha\", \"Lamar\", \"Lambert\", \"Lamont\", \"Lance\", \"Landen\", \"Lane\", \"Laney\", \"Larissa\", \"Laron\", \"Larry\", \"Larue\", \"Laura\", \"Laurel\", \"Lauren\", \"Laurence\", \"Lauretta\", \"Lauriane\", \"Laurianne\", \"Laurie\", \"Laurine\", \"Laury\", \"Lauryn\", \"Lavada\", \"Lavern\", \"Laverna\", \"Lavina\", \"Lavinia\", \"Lavon\", \"Lavonne\", \"Lawrence\", \"Lawson\", \"Layla\", \"Layne\", \"Lazaro\", \"Lea\", \"Leann\", \"Leanna\", \"Leanne\", \"Leatha\", \"Leda\", \"Lee\", \"Leif\", \"Leila\", \"Leilani\", \"Lela\", \"Lelah\", \"Leland\", \"Lelia\", \"Lempi\", \"Lemuel\", \"Lenna\", \"Lennie\", \"Lenny\", \"Lenora\", \"Lenore\", \"Leo\", \"Leola\", \"Leon\", \"Leonard\", \"Leonardo\", \"Leone\", \"Leonel\", \"Leonie\", \"Leonor\", \"Leonora\", \"Leopold\", \"Leopoldo\", \"Leora\", \"Lera\", \"Lesley\", \"Leslie\", \"Lesly\", \"Lessie\", \"Lester\", \"Leta\", \"Letha\", \"Letitia\", \"Levi\", \"Lew\", \"Lewis\", \"Lexi\", \"Lexie\", \"Lexus\", \"Lia\", \"Liam\", \"Liana\", \"Libbie\", \"Libby\", \"Lila\", \"Lilian\", \"Liliana\", \"Liliane\", \"Lilla\", \"Lillian\", \"Lilliana\", \"Lillie\", \"Lilly\", \"Lily\", \"Lilyan\", \"Lina\", \"Lincoln\", \"Linda\", \"Lindsay\", \"Lindsey\", \"Linnea\", \"Linnie\", \"Linwood\", \"Lionel\", \"Lisa\", \"Lisandro\", \"Lisette\", \"Litzy\", \"Liza\", \"Lizeth\", \"Lizzie\", \"Llewellyn\", \"Lloyd\", \"Logan\", \"Lois\", \"Lola\", \"Lolita\", \"Loma\", \"Lon\", \"London\", \"Lonie\", \"Lonnie\", \"Lonny\", \"Lonzo\", \"Lora\", \"Loraine\", \"Loren\", \"Lorena\", \"Lorenz\", \"Lorenza\", \"Lorenzo\", \"Lori\", \"Lorine\", \"Lorna\", \"Lottie\", \"Lou\", \"Louie\", \"Lourdes\", \"Louvenia\", \"Lowell\", \"Loy\", \"Loyal\", \"Loyce\", \"Lucas\", \"Luciano\", \"Lucie\", \"Lucienne\", \"Lucile\", \"Lucinda\", \"Lucio\", \"Lucious\", \"Lucius\", \"Lucy\", \"Ludie\", \"Ludwig\", \"Lue\", \"Luella\", \"Luigi\", \"Luis\", \"Luisa\", \"Lukas\", \"Lula\", \"Lulu\", \"Luna\", \"Lupe\", \"Lura\", \"Lurline\", \"Luther\", \"Luz\", \"Lyda\", \"Lydia\", \"Lyla\", \"Lynn\", \"Lyric\", \"Lysanne\", \"Mabel\", \"Mabelle\", \"Mable\", \"Mac\", \"Macey\", \"Maci\", \"Macie\", \"Mack\", \"Mackenzie\", \"Macy\", \"Madaline\", \"Madalyn\", \"Maddison\", \"Madeline\", \"Madelyn\", \"Madelynn\", \"Madge\", \"Madie\", \"Madilyn\", \"Madisen\", \"Madison\", \"Madisyn\", \"Madonna\", \"Madyson\", \"Mae\", \"Maegan\", \"Maeve\", \"Mafalda\", \"Magali\", \"Magdalen\", \"Magdalena\", \"Maggie\", \"Magnolia\", \"Magnus\", \"Maia\", \"Maida\", \"Maiya\", \"Major\", \"Makayla\", \"Makenna\", \"Makenzie\", \"Malachi\", \"Malcolm\", \"Malinda\", \"Mallie\", \"Mallory\", \"Malvina\", \"Mandy\", \"Manley\", \"Manuel\", \"Manuela\", \"Mara\", \"Marc\", \"Marcel\", \"Marcelina\", \"Marcelino\", \"Marcella\", \"Marcelle\", \"Marcellus\", \"Marcelo\", \"Marcia\", \"Marco\", \"Marcos\", \"Marcus\", \"Margaret\", \"Margarete\", \"Margarett\", \"Margaretta\", \"Margarette\", \"Margarita\", \"Marge\", \"Margie\", \"Margot\", \"Margret\", \"Marguerite\", \"Maria\", \"Mariah\", \"Mariam\", \"Marian\", \"Mariana\", \"Mariane\", \"Marianna\", \"Marianne\", \"Mariano\", \"Maribel\", \"Marie\", \"Mariela\", \"Marielle\", \"Marietta\", \"Marilie\", \"Marilou\", \"Marilyne\", \"Marina\", \"Mario\", \"Marion\", \"Marisa\", \"Marisol\", \"Maritza\", \"Marjolaine\", \"Marjorie\", \"Marjory\", \"Mark\", \"Markus\", \"Marlee\", \"Marlen\", \"Marlene\", \"Marley\", \"Marlin\", \"Marlon\", \"Marques\", \"Marquis\", \"Marquise\", \"Marshall\", \"Marta\", \"Martin\", \"Martina\", \"Martine\", \"Marty\", \"Marvin\", \"Mary\", \"Maryam\", \"Maryjane\", \"Maryse\", \"Mason\", \"Mateo\", \"Mathew\", \"Mathias\", \"Mathilde\", \"Matilda\", \"Matilde\", \"Matt\", \"Matteo\", \"Mattie\", \"Maud\", \"Maude\", \"Maudie\", \"Maureen\", \"Maurice\", \"Mauricio\", \"Maurine\", \"Maverick\", \"Mavis\", \"Max\", \"Maxie\", \"Maxime\", \"Maximilian\", \"Maximillia\", \"Maximillian\", \"Maximo\", \"Maximus\", \"Maxine\", \"Maxwell\", \"May\", \"Maybell\", \"Maybelle\", \"Maye\", \"Maymie\", \"Maynard\", \"Mayra\", \"Mazie\", \"Mckayla\", \"Mckenna\", \"Mckenzie\", \"Meagan\", \"Meaghan\", \"Meda\", \"Megane\", \"Meggie\", \"Meghan\", \"Mekhi\", \"Melany\", \"Melba\", \"Melisa\", \"Melissa\", \"Mellie\", \"Melody\", \"Melvin\", \"Melvina\", \"Melyna\", \"Melyssa\", \"Mercedes\", \"Meredith\", \"Merl\", \"Merle\", \"Merlin\", \"Merritt\", \"Mertie\", \"Mervin\", \"Meta\", \"Mia\", \"Micaela\", \"Micah\", \"Michael\", \"Michaela\", \"Michale\", \"Micheal\", \"Michel\", \"Michele\", \"Michelle\", \"Miguel\", \"Mikayla\", \"Mike\", \"Mikel\", \"Milan\", \"Miles\", \"Milford\", \"Miller\", \"Milo\", \"Milton\", \"Mina\", \"Minerva\", \"Minnie\", \"Miracle\", \"Mireille\", \"Mireya\", \"Misael\", \"Missouri\", \"Misty\", \"Mitchel\", \"Mitchell\", \"Mittie\", \"Modesta\", \"Modesto\", \"Mohamed\", \"Mohammad\", \"Mohammed\", \"Moises\", \"Mollie\", \"Molly\", \"Mona\", \"Monica\", \"Monique\", \"Monserrat\", \"Monserrate\", \"Montana\", \"Monte\", \"Monty\", \"Morgan\", \"Moriah\", \"Morris\", \"Mortimer\", \"Morton\", \"Mose\", \"Moses\", \"Moshe\", \"Mossie\", \"Mozelle\", \"Muhammad\", \"Muriel\", \"Murl\", \"Murphy\", \"Murray\", \"Mustafa\", \"Mya\", \"Myah\", \"Mylene\", \"Myles\", \"Myra\", \"Myriam\", \"Myrl\", \"Myrna\", \"Myron\", \"Myrtice\", \"Myrtie\", \"Myrtle\", \"Nadia\", \"Nakia\", \"Name\", \"Nannie\", \"Naomi\", \"Naomie\", \"Napoleon\", \"Narciso\", \"Nash\", \"Nasir\", \"Nat\", \"Natalia\", \"Natalie\", \"Natasha\", \"Nathan\", \"Nathanael\", \"Nathanial\", \"Nathaniel\", \"Nathen\", \"Nayeli\", \"Neal\", \"Ned\", \"Nedra\", \"Neha\", \"Neil\", \"Nelda\", \"Nelle\", \"Nellie\", \"Nels\", \"Nelson\", \"Neoma\", \"Nestor\", \"Nettie\", \"Neva\", \"Newton\", \"Nia\", \"Nicholas\", \"Nicholaus\", \"Nichole\", \"Nick\", \"Nicklaus\", \"Nickolas\", \"Nico\", \"Nicola\", \"Nicolas\", \"Nicole\", \"Nicolette\", \"Nigel\", \"Nikita\", \"Nikki\", \"Nikko\", \"Niko\", \"Nikolas\", \"Nils\", \"Nina\", \"Noah\", \"Noble\", \"Noe\", \"Noel\", \"Noelia\", \"Noemi\", \"Noemie\", \"Noemy\", \"Nola\", \"Nolan\", \"Nona\", \"Nora\", \"Norbert\", \"Norberto\", \"Norene\", \"Norma\", \"Norris\", \"Norval\", \"Norwood\", \"Nova\", \"Novella\", \"Nya\", \"Nyah\", \"Nyasia\", \"Obie\", \"Oceane\", \"Ocie\", \"Octavia\", \"Oda\", \"Odell\", \"Odessa\", \"Odie\", \"Ofelia\", \"Okey\", \"Ola\", \"Olaf\", \"Ole\", \"Olen\", \"Oleta\", \"Olga\", \"Olin\", \"Oliver\", \"Ollie\", \"Oma\", \"Omari\", \"Omer\", \"Ona\", \"Onie\", \"Opal\", \"Ophelia\", \"Ora\", \"Oral\", \"Oran\", \"Oren\", \"Orie\", \"Orin\", \"Orion\", \"Orland\", \"Orlando\", \"Orlo\", \"Orpha\", \"Orrin\", \"Orval\", \"Orville\", \"Osbaldo\", \"Osborne\", \"Oscar\", \"Osvaldo\", \"Oswald\", \"Oswaldo\", \"Otha\", \"Otho\", \"Otilia\", \"Otis\", \"Ottilie\", \"Ottis\", \"Otto\", \"Ova\", \"Owen\", \"Ozella\", \"Pablo\", \"Paige\", \"Palma\", \"Pamela\", \"Pansy\", \"Parker\", \"Pascale\", \"Pasquale\", \"Pat\", \"Patience\", \"Patricia\", \"Patrick\", \"Patsy\", \"Pattie\", \"Paul\", \"Paula\", \"Pauline\", \"Paxton\", \"Payton\", \"Pearl\", \"Pearlie\", \"Pedro\", \"Peggie\", \"Penelope\", \"Percival\", \"Percy\", \"Perry\", \"Pete\", \"Petra\", \"Peyton\", \"Philip\", \"Phoebe\", \"Phyllis\", \"Pierce\", \"Pierre\", \"Pietro\", \"Pink\", \"Pinkie\", \"Piper\", \"Polly\", \"Porter\", \"Precious\", \"Presley\", \"Preston\", \"Price\", \"Prince\", \"Princess\", \"Priscilla\", \"Providenci\", \"Prudence\", \"Queen\", \"Queenie\", \"Quentin\", \"Quincy\", \"Quinn\", \"Quinton\", \"Rachael\", \"Rachel\", \"Rachelle\", \"Rae\", \"Raegan\", \"Rafael\", \"Rafaela\", \"Raheem\", \"Rahsaan\", \"Rahul\", \"Raina\", \"Raleigh\", \"Ralph\", \"Ramiro\", \"Ramon\", \"Ramona\", \"Randal\", \"Randall\", \"Randi\", \"Randy\", \"Ransom\", \"Raoul\", \"Raphael\", \"Raphaelle\", \"Raquel\", \"Rashad\", \"Rashawn\", \"Rasheed\", \"Raul\", \"Raven\", \"Ray\", \"Raymond\", \"Raymundo\", \"Reagan\", \"Reanna\", \"Rebeca\", \"Rebecca\", \"Rebeka\", \"Rebekah\", \"Reece\", \"Reed\", \"Reese\", \"Regan\", \"Reggie\", \"Reginald\", \"Reid\", \"Reilly\", \"Reina\", \"Reinhold\", \"Remington\", \"Rene\", \"Renee\", \"Ressie\", \"Reta\", \"Retha\", \"Retta\", \"Reuben\", \"Reva\", \"Rex\", \"Rey\", \"Reyes\", \"Reymundo\", \"Reyna\", \"Reynold\", \"Rhea\", \"Rhett\", \"Rhianna\", \"Rhiannon\", \"Rhoda\", \"Ricardo\", \"Richard\", \"Richie\", \"Richmond\", \"Rick\", \"Rickey\", \"Rickie\", \"Ricky\", \"Rico\", \"Rigoberto\", \"Riley\", \"Rita\", \"River\", \"Robb\", \"Robbie\", \"Robert\", \"Roberta\", \"Roberto\", \"Robin\", \"Robyn\", \"Rocio\", \"Rocky\", \"Rod\", \"Rodger\", \"Rodolfo\", \"Rodrick\", \"Rodrigo\", \"Roel\", \"Rogelio\", \"Roger\", \"Rogers\", \"Rolando\", \"Rollin\", \"Roma\", \"Romaine\", \"Roman\", \"Ron\", \"Ronaldo\", \"Ronny\", \"Roosevelt\", \"Rory\", \"Rosa\", \"Rosalee\", \"Rosalind\", \"Rosalinda\", \"Rosalyn\", \"Rosamond\", \"Rosanna\", \"Rosario\", \"Roscoe\", \"Rose\", \"Rosella\", \"Roselyn\", \"Rosemarie\", \"Rosendo\", \"Rosetta\", \"Rosie\", \"Rosina\", \"Roslyn\", \"Ross\", \"Rossie\", \"Rowena\", \"Rowland\", \"Roxane\", \"Roxanne\", \"Roy\", \"Royal\", \"Royce\", \"Rozella\", \"Ruben\", \"Rubie\", \"Ruby\", \"Rubye\", \"Rudolph\", \"Rudy\", \"Rupert\", \"Russ\", \"Russel\", \"Rusty\", \"Ruth\", \"Ruthe\", \"Ruthie\", \"Ryan\", \"Ryann\", \"Ryder\", \"Rylan\", \"Rylee\", \"Ryleigh\", \"Ryley\", \"Sabina\", \"Sabrina\", \"Sabryna\", \"Sadie\", \"Sadye\", \"Sage\", \"Saige\", \"Sallie\", \"Sally\", \"Salma\", \"Salvador\", \"Salvatore\", \"Sam\", \"Samanta\", \"Samantha\", \"Samara\", \"Samir\", \"Sammie\", \"Sammy\", \"Samson\", \"Sandra\", \"Sandrine\", \"Sandy\", \"Sanford\", \"Santa\", \"Santiago\", \"Santina\", \"Santino\", \"Santos\", \"Sarah\", \"Sarai\", \"Sarina\", \"Sasha\", \"Saul\", \"Savanah\", \"Savanna\", \"Savannah\", \"Savion\", \"Scarlett\", \"Schuyler\", \"Scot\", \"Scottie\", \"Scotty\", \"Seamus\", \"Sean\", \"Sebastian\", \"Sedrick\", \"Selena\", \"Selina\", \"Selmer\", \"Serena\", \"Serenity\", \"Seth\", \"Shad\", \"Shaina\", \"Shakira\", \"Shana\", \"Shane\", \"Shanel\", \"Shanelle\", \"Shania\", \"Shanie\", \"Shaniya\", \"Shanna\", \"Shannon\", \"Shanny\", \"Shanon\", \"Shany\", \"Sharon\", \"Shaun\", \"Shawn\", \"Shawna\", \"Shaylee\", \"Shayne\", \"Shea\", \"Sheila\", \"Sheldon\", \"Shemar\", \"Sheridan\", \"Sherman\", \"Sherwood\", \"Shirley\", \"Shyann\", \"Shyanne\", \"Sibyl\", \"Sid\", \"Sidney\", \"Sienna\", \"Sierra\", \"Sigmund\", \"Sigrid\", \"Sigurd\", \"Silas\", \"Sim\", \"Simeon\", \"Simone\", \"Sincere\", \"Sister\", \"Skye\", \"Skyla\", \"Skylar\", \"Sofia\", \"Soledad\", \"Solon\", \"Sonia\", \"Sonny\", \"Sonya\", \"Sophia\", \"Sophie\", \"Spencer\", \"Stacey\", \"Stacy\", \"Stan\", \"Stanford\", \"Stanley\", \"Stanton\", \"Stefan\", \"Stefanie\", \"Stella\", \"Stephan\", \"Stephania\", \"Stephanie\", \"Stephany\", \"Stephen\", \"Stephon\", \"Sterling\", \"Steve\", \"Stevie\", \"Stewart\", \"Stuart\", \"Summer\", \"Sunny\", \"Susan\", \"Susana\", \"Susanna\", \"Susie\", \"Suzanne\", \"Sven\", \"Syble\", \"Sydnee\", \"Sydney\", \"Sydni\", \"Sydnie\", \"Sylvan\", \"Sylvester\", \"Sylvia\", \"Tabitha\", \"Tad\", \"Talia\", \"Talon\", \"Tamara\", \"Tamia\", \"Tania\", \"Tanner\", \"Tanya\", \"Taryn\", \"Tate\", \"Tatum\", \"Tatyana\", \"Taurean\", \"Tavares\", \"Taya\", \"Taylor\", \"Teagan\", \"Ted\", \"Telly\", \"Terence\", \"Teresa\", \"Terrance\", \"Terrence\", \"Terrill\", \"Terry\", \"Tess\", \"Tessie\", \"Tevin\", \"Thad\", \"Thaddeus\", \"Thalia\", \"Thea\", \"Thelma\", \"Theo\", \"Theodora\", \"Theodore\", \"Therese\", \"Theron\", \"Thomas\", \"Thora\", \"Thurman\", \"Tia\", \"Tiana\", \"Tianna\", \"Tiara\", \"Tierra\", \"Tiffany\", \"Tillman\", \"Timmothy\", \"Timmy\", \"Timothy\", \"Tina\", \"Tito\", \"Titus\", \"Tobin\", \"Tod\", \"Tom\", \"Tomas\", \"Tomasa\", \"Tommie\", \"Toney\", \"Toni\", \"Tony\", \"Torey\", \"Torrance\", \"Toy\", \"Trace\", \"Tracey\", \"Tracy\", \"Travis\", \"Travon\", \"Tre\", \"Tremaine\", \"Tremayne\", \"Trent\", \"Tressa\", \"Tressie\", \"Treva\", \"Trever\", \"Trevion\", \"Trevor\", \"Trinity\", \"Trisha\", \"Tristian\", \"Tristin\", \"Triston\", \"Troy\", \"Trudie\", \"Trycia\", \"Trystan\", \"Turner\", \"Twila\", \"Tyler\", \"Tyra\", \"Tyree\", \"Tyreek\", \"Tyrel\", \"Tyrell\", \"Tyrese\", \"Tyrique\", \"Tyshawn\", \"Tyson\", \"Ubaldo\", \"Ulices\", \"Ulises\", \"Una\", \"Unique\", \"Urban\", \"Uriah\", \"Uriel\", \"Ursula\", \"Vada\", \"Valentin\", \"Valentina\", \"Valentine\", \"Valerie\", \"Vallie\", \"Van\", \"Vance\", \"Vanessa\", \"Vaughn\", \"Veda\", \"Velda\", \"Vella\", \"Velma\", \"Velva\", \"Vena\", \"Verda\", \"Verdie\", \"Vergie\", \"Verla\", \"Verlie\", \"Vern\", \"Verna\", \"Verner\", \"Vernice\", \"Vernie\", \"Vernon\", \"Verona\", \"Veronica\", \"Vesta\", \"Vicenta\", \"Vicente\", \"Vickie\", \"Vicky\", \"Victor\", \"Victoria\", \"Vida\", \"Vidal\", \"Vilma\", \"Vince\", \"Vincent\", \"Vincenza\", \"Vincenzo\", \"Vinnie\", \"Viola\", \"Violette\", \"Virgie\", \"Virgil\", \"Virginia\", \"Virginie\", \"Vita\", \"Vito\", \"Viva\", \"Vivian\", \"Viviane\", \"Vivianne\", \"Vivien\", \"Vivienne\", \"Vladimir\", \"Wade\", \"Waino\", \"Waldo\", \"Walker\", \"Wallace\", \"Walter\", \"Walton\", \"Wanda\", \"Ward\", \"Watson\", \"Wava\", \"Waylon\", \"Wayne\", \"Webster\", \"Weldon\", \"Wellington\", \"Wendell\", \"Wendy\", \"Werner\", \"Westley\", \"Weston\", \"Whitney\", \"Wilber\", \"Wilbert\", \"Wilburn\", \"Wiley\", \"Wilford\", \"Wilfred\", \"Wilfredo\", \"Wilfrid\", \"Wilhelm\", \"Wilhelmine\", \"Will\", \"Willa\", \"Willard\", \"William\", \"Willie\", \"Willis\", \"Willow\", \"Willy\", \"Wilma\", \"Wilmer\", \"Wilson\", \"Wilton\", \"Winfield\", \"Winifred\", \"Winnifred\", \"Winona\", \"Winston\", \"Woodrow\", \"Wyatt\", \"Wyman\", \"Xander\", \"Xavier\", \"Xzavier\", \"Yadira\", \"Yasmeen\", \"Yasmin\", \"Yasmine\", \"Yazmin\", \"Yesenia\", \"Yessenia\", \"Yolanda\", \"Yoshiko\", \"Yvette\", \"Yvonne\", \"Zachariah\", \"Zachary\", \"Zachery\", \"Zack\", \"Zackary\", \"Zackery\", \"Zakary\", \"Zander\", \"Zane\", \"Zaria\", \"Zechariah\", \"Zelda\", \"Zella\", \"Zelma\", \"Zena\", \"Zetta\", \"Zita\", \"Zoe\", \"Zoey\", \"Zoie\", \"Zoila\", \"Zola\", \"Zora\", \"Zula\"]\n",
        "\n",
        "lastnames = [\"Abbott\", \"Abernathy\", \"Abshire\", \"Adams\", \"Altenwerth\", \"Anderson\", \"Ankunding\", \"Armstrong\", \"Auer\", \"Aufderhar\", \"Bahringer\", \"Bailey\", \"Balistreri\", \"Barrows\", \"Bartell\", \"Bartoletti\", \"Barton\", \"Bashirian\", \"Batz\", \"Bauch\", \"Baumbach\", \"Bayer\", \"Beahan\", \"Beatty\", \"Bechtelar\", \"Becker\", \"Bednar\", \"Beer\", \"Beier\", \"Berge\", \"Bergnaum\", \"Bergstrom\", \"Bernhard\", \"Bernier\", \"Bins\", \"Blanda\", \"Blick\", \"Block\", \"Bode\", \"Boehm\", \"Bogan\", \"Bogisich\", \"Borer\", \"Bosco\", \"Botsford\", \"Boyer\", \"Boyle\", \"Bradtke\", \"Brakus\", \"Braun\", \"Breitenberg\", \"Brekke\", \"Brown\", \"Bruen\", \"Buckridge\", \"Carroll\", \"Carter\", \"Cartwright\", \"Casper\", \"Cassin\", \"Champlin\", \"Christiansen\", \"Cole\", \"Collier\", \"Collins\", \"Conn\", \"Connelly\", \"Conroy\", \"Considine\", \"Corkery\", \"Cormier\", \"Corwin\", \"Cremin\", \"Crist\", \"Crona\", \"Cronin\", \"Crooks\", \"Cruickshank\", \"Dach\", \"Daniel\", \"Dare\", \"Daugherty\", \"Davis\", \"Deckow\", \"Denesik\", \"Dibbert\", \"Dickens\", \"Dicki\", \"Dickinson\", \"Dietrich\", \"Donnelly\", \"Dooley\", \"Douglas\", \"Doyle\", \"DuBuque\", \"Durgan\", \"Ebert\", \"Effertz\", \"Emard\", \"Emmerich\", \"Erdman\", \"Ernser\", \"Fadel\", \"Fahey\", \"Farrell\", \"Fay\", \"Feeney\", \"Feest\", \"Feil\", \"Ferry\", \"Fisher\", \"Flatley\", \"Frami\", \"Franecki\", \"Franey\", \"Friesen\", \"Fritsch\", \"Funk\", \"Gerhold\", \"Gerlach\", \"Gibson\", \"Gislason\", \"Gleason\", \"Gleichner\", \"Glover\", \"Goldner\", \"Goodwin\", \"Gorczany\", \"Gottlieb\", \"Goyette\", \"Grady\", \"Graham\", \"Grant\", \"Green\", \"Greenfelder\", \"Greenholt\", \"Grimes\", \"Gulgowski\", \"Gusikowski\", \"Gutkowski\", \"Gutmann\", \"Haag\", \"Hackett\", \"Hagenes\", \"Hahn\", \"Haley\", \"Halvorson\", \"Hamill\", \"Hammes\", \"Hand\", \"Hane\", \"Hansen\", \"Harber\", \"Harris\", \"Hartmann\", \"Harvey\", \"Hauck\", \"Hayes\", \"Heaney\", \"Heathcote\", \"Hegmann\", \"Heidenreich\", \"Heller\", \"Herman\", \"Hermann\", \"Hermiston\", \"Herzog\", \"Hessel\", \"Hettinger\", \"Hickle\", \"Hilll\", \"Hills\", \"Hilpert\", \"Hintz\", \"Hirthe\", \"Hodkiewicz\", \"Hoeger\", \"Homenick\", \"Hoppe\", \"Howe\", \"Howell\", \"Hudson\", \"Huel\", \"Huels\", \"Hyatt\", \"Jacobi\", \"Jacobs\", \"Jacobson\", \"Jakubowski\", \"Jaskolski\", \"Jast\", \"Jenkins\", \"Jerde\", \"Johns\", \"Johnson\", \"Johnston\", \"Jones\", \"Kassulke\", \"Kautzer\", \"Keebler\", \"Keeling\", \"Kemmer\", \"Kerluke\", \"Kertzmann\", \"Kessler\", \"Kiehn\", \"Kihn\", \"Kilback\", \"King\", \"Kirlin\", \"Klein\", \"Kling\", \"Klocko\", \"Koch\", \"Koelpin\", \"Koepp\", \"Kohler\", \"Konopelski\", \"Koss\", \"Kovacek\", \"Kozey\", \"Krajcik\", \"Kreiger\", \"Kris\", \"Kshlerin\", \"Kub\", \"Kuhic\", \"Kuhlman\", \"Kuhn\", \"Kulas\", \"Kunde\", \"Kunze\", \"Kuphal\", \"Kutch\", \"Kuvalis\", \"Labadie\", \"Lakin\", \"Lang\", \"Langosh\", \"Langworth\", \"Larkin\", \"Larson\", \"Leannon\", \"Lebsack\", \"Ledner\", \"Leffler\", \"Legros\", \"Lehner\", \"Lemke\", \"Lesch\", \"Leuschke\", \"Lind\", \"Lindgren\", \"Littel\", \"Little\", \"Lockman\", \"Lowe\", \"Lubowitz\", \"Lueilwitz\", \"Luettgen\", \"Lynch\", \"MacGyver\", \"Macejkovic\", \"Maggio\", \"Mann\", \"Mante\", \"Marks\", \"Marquardt\", \"Marvin\", \"Mayer\", \"Mayert\", \"McClure\", \"McCullough\", \"McDermott\", \"McGlynn\", \"McKenzie\", \"McLaughlin\", \"Medhurst\", \"Mertz\", \"Metz\", \"Miller\", \"Mills\", \"Mitchell\", \"Moen\", \"Mohr\", \"Monahan\", \"Moore\", \"Morar\", \"Morissette\", \"Mosciski\", \"Mraz\", \"Mueller\", \"Muller\", \"Murazik\", \"Murphy\", \"Murray\", \"Nader\", \"Nicolas\", \"Nienow\", \"Nikolaus\", \"Nitzsche\", \"Nolan\", \"Oberbrunner\", \"Okuneva\", \"Olson\", \"Ondricka\", \"Orn\", \"Ortiz\", \"Osinski\", \"Pacocha\", \"Padberg\", \"Pagac\", \"Parisian\", \"Parker\", \"Paucek\", \"Pfannerstill\", \"Pfeffer\", \"Pollich\", \"Pouros\", \"Powlowski\", \"Predovic\", \"Price\", \"Prohaska\", \"Prosacco\", \"Purdy\", \"Quigley\", \"Quitzon\", \"Rath\", \"Ratke\", \"Rau\", \"Raynor\", \"Reichel\", \"Reichert\", \"Reilly\", \"Reinger\", \"Rempel\", \"Renner\", \"Reynolds\", \"Rice\", \"Rippin\", \"Ritchie\", \"Robel\", \"Roberts\", \"Rodriguez\", \"Rogahn\", \"Rohan\", \"Rolfson\", \"Romaguera\", \"Roob\", \"Rosenbaum\", \"Rowe\", \"Ruecker\", \"Runolfsdottir\", \"Runolfsson\", \"Runte\", \"Russel\", \"Rutherford\", \"Ryan\", \"Sanford\", \"Satterfield\", \"Sauer\", \"Sawayn\", \"Schaden\", \"Schaefer\", \"Schamberger\", \"Schiller\", \"Schimmel\", \"Schinner\", \"Schmeler\", \"Schmidt\", \"Schmitt\", \"Schneider\", \"Schoen\", \"Schowalter\", \"Schroeder\", \"Schulist\", \"Schultz\", \"Schumm\", \"Schuppe\", \"Schuster\", \"Senger\", \"Shanahan\", \"Shields\", \"Simonis\", \"Sipes\", \"Skiles\", \"Smith\", \"Smitham\", \"Spencer\", \"Spinka\", \"Sporer\", \"Stamm\", \"Stanton\", \"Stark\", \"Stehr\", \"Steuber\", \"Stiedemann\", \"Stokes\", \"Stoltenberg\", \"Stracke\", \"Streich\", \"Stroman\", \"Strosin\", \"Swaniawski\", \"Swift\", \"Terry\", \"Thiel\", \"Thompson\", \"Tillman\", \"Torp\", \"Torphy\", \"Towne\", \"Toy\", \"Trantow\", \"Tremblay\", \"Treutel\", \"Tromp\", \"Turcotte\", \"Turner\", \"Ullrich\", \"Upton\", \"Vandervort\", \"Veum\", \"Volkman\", \"Von\", \"VonRueden\", \"Waelchi\", \"Walker\", \"Walsh\", \"Walter\", \"Ward\", \"Waters\", \"Watsica\", \"Weber\", \"Wehner\", \"Weimann\", \"Weissnat\", \"Welch\", \"West\", \"White\", \"Wiegand\", \"Wilderman\", \"Wilkinson\", \"Will\", \"Williamson\", \"Willms\", \"Windler\", \"Wintheiser\", \"Wisoky\", \"Wisozk\", \"Witting\", \"Wiza\", \"Wolf\", \"Wolff\", \"Wuckert\", \"Wunsch\", \"Wyman\", \"Yost\", \"Yundt\", \"Zboncak\", \"Zemlak\", \"Ziemann\", \"Zieme\", \"Zulauf\"]\n",
        "\n",
        "countries = [\"Afghanistan\", \"Albania\", \"Algeria\", \"Andorra\", \"Angola\", \"Anguilla\", \"Argentina\", \"Armenia\", \"Aruba\", \"Australia\", \"Austria\", \"Azerbaijan\", \"Bahamas\", \"Bahrain\", \"Bangladesh\", \"Barbados\", \"Belarus\", \"Belgium\", \"Belize\", \"Benin\", \"Bermuda\", \"Bhutan\", \"Bolivia\", \"Bosnia and Herzegovina\", \"Botswana\", \"Brazil\", \"Bulgaria\", \"Burkina Faso\", \"Burundi\", \"Cambodia\", \"Cameroon\", \"Canada\", \"Central African Republic\", \"Chad\", \"Chile\", \"China\", \"Colombia\", \"Comoros\", \"Congo\", \"Costa Rica\", \"Cote d'Ivoire\", \"Croatia\", \"Cuba\", \"Cyprus\", \"Czech Republic\", \"Denmark\", \"Djibouti\", \"Dominica\", \"Dominican Republic\", \"Ecuador\", \"Egypt\", \"Eritrea\", \"Estonia\", \"Ethiopia\", \"Falkland Islands (Malvinas)\", \"Faroe Islands\", \"Fiji\", \"Finland\", \"France\", \"French Polynesia\", \"French Southern Territories\", \"Gabon\", \"Gambia\", \"Georgia\", \"Germany\", \"Ghana\", \"Gibraltar\", \"Greece\", \"Greenland\", \"Grenada\", \"Guadeloupe\", \"Guam\", \"Guatemala\", \"Guernsey\", \"Guinea\", \"Guinea-Bissau\", \"Guyana\", \"Haiti\", \"Honduras\", \"Hong Kong\", \"Hungary\", \"Iceland\", \"India\", \"Indonesia\", \"Iran\", \"Iraq\", \"Ireland\", \"Isle of Man\", \"Israel\", \"Italy\", \"Jamaica\", \"Japan\", \"Jersey\", \"Jordan\", \"Kazakhstan\", \"Kenya\", \"Kiribati\", \"Kuwait\", \"Latvia\", \"Lebanon\", \"Lesotho\", \"Liberia\", \"Libyan Arab Jamahiriya\", \"Liechtenstein\", \"Lithuania\", \"Luxembourg\", \"Macao\", \"Macedonia\", \"Madagascar\", \"Malawi\", \"Malaysia\", \"Maldives\", \"Mali\", \"Malta\", \"Marshall Islands\", \"Martinique\", \"Mauritania\", \"Mauritius\", \"Mayotte\", \"Mexico\", \"Micronesia\", \"Moldova\", \"Monaco\", \"Mongolia\", \"Montenegro\", \"Montserrat\", \"Morocco\", \"Mozambique\", \"Myanmar\", \"Namibia\", \"Nauru\", \"Nepal\", \"Netherlands\", \"Netherlands Antilles\", \"New Caledonia\", \"New Zealand\", \"Nicaragua\", \"Niger\", \"Nigeria\", \"Norway\", \"Oman\", \"Pakistan\", \"Palau\", \"Palestinian Territory\", \"Panama\", \"Papua New Guinea\", \"Paraguay\", \"Peru\", \"Philippines\", \"Pitcairn Islands\", \"Poland\", \"Portugal\", \"Puerto Rico\", \"Qatar\", \"Republic of Korea\", \"Reunion\", \"Romania\", \"Russian Federation\", \"Rwanda\", \"Samoa\", \"San Marino\", \"Sao Tome and Principe\", \"Saudi Arabia\", \"Senegal\", \"Serbia\", \"Seychelles\", \"Sierra Leone\", \"Singapore\", \"Slovakia\", \"Slovenia\", \"Solomon Islands\", \"South Africa\", \"Spain\", \"Sudan\", \"Suriname\", \"Swaziland\", \"Sweden\", \"Switzerland\", \"Syrian Arab Republic\", \"Tajikistan\", \"Tanzania\", \"Thailand\", \"Timor-Leste\", \"Togo\", \"Tokelau\", \"Tonga\", \"Trinidad and Tobago\", \"Tunisia\", \"Turkey\", \"Turkmenistan\", \"Turks and Caicos Islands\", \"Tuvalu\", \"Uganda\", \"Ukraine\", \"United Arab Emirates\", \"United Kingdom\", \"United States of America\", \"Uruguay\", \"Uzbekistan\", \"Vanuatu\", \"Venezuela\", \"Vietnam\", \"Yemen\", \"Zambia\", \"Zimbabwe\"]\n",
        "\n",
        "priorities = [\"Critical\", \"High\", \"Low\", \"Medium\"]\n",
        "\n",
        "categories = [\"Automobile\", \"Beauty\", \"Books\", \"Clothing\", \"Computers\", \"Electronics\", \"Games\", \"Garden\", \"Grocery\", \"Health\", \"Home\", \"Industrial\", \"Jewelery\", \"Kids\", \"Movies\", \"Music\", \"Outdoors\", \"Shoes\", \"Sports\", \"Tools\", \"Toys\"]"
      ]
    },
    {
      "cell_type": "markdown",
      "metadata": {
        "id": "qyW5qdNlS8Jt"
      },
      "source": [
        "### Создание таблиц для работы"
      ]
    },
    {
      "cell_type": "code",
      "execution_count": null,
      "metadata": {
        "id": "lK033XT0TAv0"
      },
      "outputs": [],
      "source": [
        "%%sql\n",
        "Pragma foreign_keys=on;\n",
        "\n",
        "DROP TABLE if exists Products;\n",
        "DROP TABLE if exists Orders;\n",
        "DROP TABLE if exists Customers;\n",
        "\n",
        "CREATE TABLE Customers (\n",
        "          id          integer       NOT NULL Primary key,\n",
        "          firstName   varchar(255)  NOT NULL,\n",
        "          lastName    varchar(255)  NOT NULL,\n",
        "          phone       varchar(10)   NOT NULL,\n",
        "          country     varchar(255),\n",
        "          registered  integer       NOT NULL\n",
        "          );\n",
        "\n",
        "CREATE TABLE Products (\n",
        "          id          integer       NOT NULL Primary key,\n",
        "          category    varchar(255)  NOT NULL,\n",
        "          quantity    integer       NOT NULL DEFAULT 0,\n",
        "          price       integer\n",
        "          );\n",
        "\n",
        "CREATE TABLE Orders (\n",
        "          id              integer   NOT NULL Primary key,\n",
        "          product_id      integer   NOT NULL,\n",
        "          customer_id     integer   NOT NULL,\n",
        "          quantity        integer   DEFAULT 0,\n",
        "          order_priority  varchar(15),\n",
        "          order_date      integer,\n",
        "          FOREIGN KEY (product_id) REFERENCES Products(id),\n",
        "          FOREIGN KEY (customer_id) REFERENCES Customers(id)\n",
        "          );"
      ]
    },
    {
      "cell_type": "code",
      "execution_count": null,
      "metadata": {
        "id": "VEAk1rkzTSwm"
      },
      "outputs": [],
      "source": [
        "import sqlite3\n",
        "connection = sqlite3.connect('bigbase.db')\n",
        "cur = connection.cursor()"
      ]
    },
    {
      "cell_type": "code",
      "execution_count": null,
      "metadata": {
        "id": "tU0YwpS2TWee"
      },
      "outputs": [],
      "source": [
        "%%time\n",
        "import datetime\n",
        "import random as r\n",
        "\n",
        "for i in range(num_clients):\n",
        "    firstname = r.choice(firstnames)\n",
        "    lastname = r.choice(lastnames)\n",
        "    country = r.choice(countries)\n",
        "    rand_phone = str(r.randint(1, 9))+'-'+str(r.randint(100, 999))+'-'+str(r.randint(100, 999))+'-'+str(r.randint(1000, 9999))\n",
        "    start_date = datetime.datetime(r.randint(2010, 2022), 1, 1)\n",
        "    random_date = start_date + datetime.timedelta(days=r.randint(0, 365))\n",
        "    cur.execute('''INSERT INTO Customers(firstName, lastName, phone, country, registered)\n",
        "    VALUES(?,?,?,?,?)''', (firstname, lastname, rand_phone, country, random_date))\n",
        "connection.commit()\n",
        "\n",
        "for i in range(num_products):\n",
        "    price = r.randint(10,990)*100-1\n",
        "    category = r.choice(categories)\n",
        "    quantity = r.randint(0,10000)\n",
        "    cur.execute('''INSERT INTO Products(category, quantity, price)\n",
        "    VALUES(?,?,?)''', (category, quantity, price))\n",
        "connection.commit()\n",
        "\n",
        "for i in range(num_orders):\n",
        "    product_id = r.randint(1, num_products)\n",
        "    customer_id = r.randint(1, num_clients)\n",
        "    quantity = r.randint(1, 999)\n",
        "    order_priority = r.choice(priorities)\n",
        "    random_date = datetime.datetime(2023, 1, 1) + datetime.timedelta(days=r.randint(0, 365))\n",
        "    cur.execute('''INSERT INTO Orders(product_id, customer_id, quantity, order_priority, order_date)\n",
        "    VALUES(?,?,?,?,?)''', (product_id, customer_id, quantity, order_priority, random_date))\n",
        "connection.commit()"
      ]
    },
    {
      "cell_type": "code",
      "execution_count": null,
      "metadata": {
        "id": "RFfQ9eiqTZL2"
      },
      "outputs": [],
      "source": [
        "cur.execute('''select count(*) from Customers''')\n",
        "check_clients = cur.fetchone()[0]\n",
        "cur.execute('''select count(*) from Products''')\n",
        "check_products = cur.fetchone()[0]\n",
        "cur.execute('''select count(*) from Orders''')\n",
        "check_orders = cur.fetchone()[0]\n",
        "\n",
        "flag = (check_clients == num_clients and check_products == num_products and check_orders == num_orders)"
      ]
    },
    {
      "cell_type": "markdown",
      "metadata": {
        "id": "wlE4ffznZCox"
      },
      "source": [
        "### Проверка:"
      ]
    },
    {
      "cell_type": "code",
      "execution_count": null,
      "metadata": {
        "id": "9WaxsREuZGp4"
      },
      "outputs": [],
      "source": [
        "print(\"OK\" if flag else \"Не прогрузились данные\")"
      ]
    },
    {
      "cell_type": "markdown",
      "metadata": {
        "id": "ygpKcbLkjEAu"
      },
      "source": [
        "# Обработка запросов\n",
        "До того, как будет обработан запрос, система должна транслировать запрос в подходящую форму. Внутреннее представление может различаться (обычно для общего случая рассматривается реляционная алгебра)\n",
        "\n",
        "Рассмотрим запрос:\n",
        "```sql\n",
        "SELECT id, quantity\n",
        "FROM Orders\n",
        "WHERE quantity > 100;\n",
        "```\n",
        "\n",
        "Он может быть переписан на язык реляционной алгебры\n",
        "\n",
        "- $ \\sigma_{quantity>100}(\\Pi_{id, quantity}(Orders)) $\n",
        "- $ \\Pi_{id, quantity}(\\sigma_{quantity>100}(Orders)) $\n"
      ]
    },
    {
      "cell_type": "markdown",
      "metadata": {
        "id": "jkTCOpvZjEAw"
      },
      "source": [
        "Различные планы выполнения для одного и того же запроса могут иметь различную стоимость. От пользователя не ожидается, что он должен писать запросы с наиболее эффективным планом. Это задача СУБД выбрать такой план запроса, который будет минимальный по стоимости для запроса. Данная задача называется оптимизацией запросов (query optimization).\n",
        "\n",
        "Однако это не значит, что от пользователя совсем ничего не зависит."
      ]
    },
    {
      "cell_type": "markdown",
      "metadata": {
        "id": "YlmkdCzQjEAw"
      },
      "source": [
        "Мы не будем сосредотачиваться на глубоком анализе базы данных, а обсудим простые советы по настройке запросов и приемы, которые могут быть применены, чтобы получить немедленный выигрыш в производительности."
      ]
    },
    {
      "cell_type": "code",
      "execution_count": null,
      "metadata": {
        "colab": {
          "base_uri": "https://localhost:8080/",
          "height": 131
        },
        "id": "H9UjGxCCMZFv",
        "outputId": "2067a022-138e-4ee1-ef28-606b012dfa63"
      },
      "outputs": [
        {
          "output_type": "stream",
          "name": "stdout",
          "text": [
            " * sqlite:///bigbase.db\n",
            "Done.\n",
            "CPU times: user 3.2 ms, sys: 128 µs, total: 3.33 ms\n",
            "Wall time: 3.04 ms\n"
          ]
        },
        {
          "output_type": "execute_result",
          "data": {
            "text/plain": [
              "[(3, 0, 0, 'SCAN Orders')]"
            ],
            "text/html": [
              "<table>\n",
              "    <thead>\n",
              "        <tr>\n",
              "            <th>id</th>\n",
              "            <th>parent</th>\n",
              "            <th>notused</th>\n",
              "            <th>detail</th>\n",
              "        </tr>\n",
              "    </thead>\n",
              "    <tbody>\n",
              "        <tr>\n",
              "            <td>3</td>\n",
              "            <td>0</td>\n",
              "            <td>0</td>\n",
              "            <td>SCAN Orders</td>\n",
              "        </tr>\n",
              "    </tbody>\n",
              "</table>"
            ]
          },
          "metadata": {},
          "execution_count": 58
        }
      ],
      "source": [
        "%%time\n",
        "%%sql\n",
        "EXPLAIN QUERY PLAN\n",
        "SELECT id, quantity\n",
        "FROM Orders\n",
        "WHERE quantity > 100\n",
        "LIMIT 10;"
      ]
    },
    {
      "cell_type": "code",
      "source": [
        "%%time\n",
        "%%sql\n",
        "EXPLAIN QUERY PLAN\n",
        "SELECT count(id)\n",
        "FROM Orders\n",
        "WHERE quantity > 100;"
      ],
      "metadata": {
        "colab": {
          "base_uri": "https://localhost:8080/",
          "height": 131
        },
        "id": "WdKAKBhJKVB0",
        "outputId": "e0188217-a0bc-4b92-988e-04c9ae2fa87d"
      },
      "execution_count": null,
      "outputs": [
        {
          "output_type": "stream",
          "name": "stdout",
          "text": [
            " * sqlite:///bigbase.db\n",
            "Done.\n",
            "CPU times: user 2.52 ms, sys: 334 µs, total: 2.85 ms\n",
            "Wall time: 2.61 ms\n"
          ]
        },
        {
          "output_type": "execute_result",
          "data": {
            "text/plain": [
              "[(3, 0, 0, 'SCAN Orders')]"
            ],
            "text/html": [
              "<table>\n",
              "    <thead>\n",
              "        <tr>\n",
              "            <th>id</th>\n",
              "            <th>parent</th>\n",
              "            <th>notused</th>\n",
              "            <th>detail</th>\n",
              "        </tr>\n",
              "    </thead>\n",
              "    <tbody>\n",
              "        <tr>\n",
              "            <td>3</td>\n",
              "            <td>0</td>\n",
              "            <td>0</td>\n",
              "            <td>SCAN Orders</td>\n",
              "        </tr>\n",
              "    </tbody>\n",
              "</table>"
            ]
          },
          "metadata": {},
          "execution_count": 59
        }
      ]
    },
    {
      "cell_type": "markdown",
      "metadata": {
        "id": "uLYYl_iQjEAx"
      },
      "source": [
        "# Рекомендации по оптимизации запросов"
      ]
    },
    {
      "cell_type": "markdown",
      "metadata": {
        "id": "bFG1NZQOuUgc"
      },
      "source": [
        "## 1) DISTINCT при выводе результата\n",
        "\n",
        "- Неявным distinct является GROUP BY или UNION\n",
        "\n",
        "\n"
      ]
    },
    {
      "cell_type": "markdown",
      "metadata": {
        "id": "i_nO5bLZWniK"
      },
      "source": [
        "> Вывести те даты, в которые был и заказ, и регистрация"
      ]
    },
    {
      "cell_type": "code",
      "source": [
        "%%time\n",
        "%%sql\n",
        "SELECT DISTINCT\n",
        "    o.order_date--, COUNT(o.order_date)\n",
        "    FROM\n",
        "    (SELECT registered FROM Customers) c\n",
        "    JOIN\n",
        "    (SELECT order_date FROM Orders) o\n",
        "\n",
        "    ON (c.registered = o.order_date)\n",
        "LIMIT 10;"
      ],
      "metadata": {
        "colab": {
          "base_uri": "https://localhost:8080/",
          "height": 323
        },
        "id": "eKwIRdm8LuXD",
        "outputId": "aa2ec751-636d-4470-91d4-bba880bed652"
      },
      "execution_count": null,
      "outputs": [
        {
          "output_type": "stream",
          "name": "stdout",
          "text": [
            " * sqlite:///bigbase.db\n",
            "Done.\n",
            "CPU times: user 29.7 s, sys: 24.5 s, total: 54.1 s\n",
            "Wall time: 54.8 s\n"
          ]
        },
        {
          "output_type": "execute_result",
          "data": {
            "text/plain": [
              "[('2023-01-01 00:00:00',),\n",
              " ('2023-01-01 00:00:00',),\n",
              " ('2023-01-01 00:00:00',),\n",
              " ('2023-01-01 00:00:00',),\n",
              " ('2023-01-01 00:00:00',),\n",
              " ('2023-01-01 00:00:00',),\n",
              " ('2023-01-01 00:00:00',),\n",
              " ('2023-01-01 00:00:00',),\n",
              " ('2023-01-01 00:00:00',),\n",
              " ('2023-01-01 00:00:00',)]"
            ],
            "text/html": [
              "<table>\n",
              "    <thead>\n",
              "        <tr>\n",
              "            <th>order_date</th>\n",
              "        </tr>\n",
              "    </thead>\n",
              "    <tbody>\n",
              "        <tr>\n",
              "            <td>2023-01-01 00:00:00</td>\n",
              "        </tr>\n",
              "        <tr>\n",
              "            <td>2023-01-01 00:00:00</td>\n",
              "        </tr>\n",
              "        <tr>\n",
              "            <td>2023-01-01 00:00:00</td>\n",
              "        </tr>\n",
              "        <tr>\n",
              "            <td>2023-01-01 00:00:00</td>\n",
              "        </tr>\n",
              "        <tr>\n",
              "            <td>2023-01-01 00:00:00</td>\n",
              "        </tr>\n",
              "        <tr>\n",
              "            <td>2023-01-01 00:00:00</td>\n",
              "        </tr>\n",
              "        <tr>\n",
              "            <td>2023-01-01 00:00:00</td>\n",
              "        </tr>\n",
              "        <tr>\n",
              "            <td>2023-01-01 00:00:00</td>\n",
              "        </tr>\n",
              "        <tr>\n",
              "            <td>2023-01-01 00:00:00</td>\n",
              "        </tr>\n",
              "        <tr>\n",
              "            <td>2023-01-01 00:00:00</td>\n",
              "        </tr>\n",
              "    </tbody>\n",
              "</table>"
            ]
          },
          "metadata": {},
          "execution_count": 60
        }
      ]
    },
    {
      "cell_type": "markdown",
      "metadata": {
        "id": "5KwlHVmCVqNa"
      },
      "source": [
        "### Нужен ли этот distinct?"
      ]
    },
    {
      "cell_type": "markdown",
      "metadata": {
        "id": "6VIVEb4oWKJa"
      },
      "source": [
        "Ну вообще-то да, вы же не планируете выводить столько одинаковых строк?\n",
        "\n"
      ]
    },
    {
      "cell_type": "markdown",
      "metadata": {
        "id": "FmWQHAzPWbM6"
      },
      "source": [
        "А что насчет использования внутри подзапроса?"
      ]
    },
    {
      "cell_type": "markdown",
      "metadata": {
        "id": "q-p9t-LQXP35"
      },
      "source": [
        "### Продолжаем:"
      ]
    },
    {
      "cell_type": "code",
      "execution_count": null,
      "metadata": {
        "id": "I_Kz5RHaJXZH"
      },
      "outputs": [],
      "source": [
        "%%time\n",
        "%%sql\n",
        "EXPLAIN QUERY PLAN\n",
        "SELECT DISTINCT\n",
        "    o.order_date--, COUNT(o.order_date)\n",
        "    FROM\n",
        "    (SELECT registered FROM Customers) c\n",
        "    JOIN\n",
        "    (SELECT order_date FROM Orders) o\n",
        "    ON (c.registered = o.order_date);"
      ]
    },
    {
      "cell_type": "code",
      "execution_count": null,
      "metadata": {
        "colab": {
          "base_uri": "https://localhost:8080/",
          "height": 281
        },
        "id": "EqDoRF2NJyp2",
        "outputId": "f2b570be-a850-427f-fc84-daf50bf13193"
      },
      "outputs": [
        {
          "output_type": "stream",
          "name": "stdout",
          "text": [
            " * sqlite:///bigbase.db\n",
            "Done.\n",
            "CPU times: user 3.54 ms, sys: 520 µs, total: 4.06 ms\n",
            "Wall time: 3.95 ms\n"
          ]
        },
        {
          "output_type": "execute_result",
          "data": {
            "text/plain": [
              "[(3, 0, 0, 'MATERIALIZE c'),\n",
              " (7, 3, 0, 'SCAN Customers'),\n",
              " (17, 3, 0, 'USE TEMP B-TREE FOR DISTINCT'),\n",
              " (21, 0, 0, 'MATERIALIZE o'),\n",
              " (25, 21, 0, 'SCAN Orders'),\n",
              " (35, 21, 0, 'USE TEMP B-TREE FOR DISTINCT'),\n",
              " (37, 0, 0, 'SCAN c'),\n",
              " (47, 0, 0, 'SEARCH o USING AUTOMATIC COVERING INDEX (order_date=?)')]"
            ],
            "text/html": [
              "<table>\n",
              "    <thead>\n",
              "        <tr>\n",
              "            <th>id</th>\n",
              "            <th>parent</th>\n",
              "            <th>notused</th>\n",
              "            <th>detail</th>\n",
              "        </tr>\n",
              "    </thead>\n",
              "    <tbody>\n",
              "        <tr>\n",
              "            <td>3</td>\n",
              "            <td>0</td>\n",
              "            <td>0</td>\n",
              "            <td>MATERIALIZE c</td>\n",
              "        </tr>\n",
              "        <tr>\n",
              "            <td>7</td>\n",
              "            <td>3</td>\n",
              "            <td>0</td>\n",
              "            <td>SCAN Customers</td>\n",
              "        </tr>\n",
              "        <tr>\n",
              "            <td>17</td>\n",
              "            <td>3</td>\n",
              "            <td>0</td>\n",
              "            <td>USE TEMP B-TREE FOR DISTINCT</td>\n",
              "        </tr>\n",
              "        <tr>\n",
              "            <td>21</td>\n",
              "            <td>0</td>\n",
              "            <td>0</td>\n",
              "            <td>MATERIALIZE o</td>\n",
              "        </tr>\n",
              "        <tr>\n",
              "            <td>25</td>\n",
              "            <td>21</td>\n",
              "            <td>0</td>\n",
              "            <td>SCAN Orders</td>\n",
              "        </tr>\n",
              "        <tr>\n",
              "            <td>35</td>\n",
              "            <td>21</td>\n",
              "            <td>0</td>\n",
              "            <td>USE TEMP B-TREE FOR DISTINCT</td>\n",
              "        </tr>\n",
              "        <tr>\n",
              "            <td>37</td>\n",
              "            <td>0</td>\n",
              "            <td>0</td>\n",
              "            <td>SCAN c</td>\n",
              "        </tr>\n",
              "        <tr>\n",
              "            <td>47</td>\n",
              "            <td>0</td>\n",
              "            <td>0</td>\n",
              "            <td>SEARCH o USING AUTOMATIC COVERING INDEX (order_date=?)</td>\n",
              "        </tr>\n",
              "    </tbody>\n",
              "</table>"
            ]
          },
          "metadata": {},
          "execution_count": 68
        }
      ],
      "source": [
        "%%time\n",
        "%%sql\n",
        "--distinct на каждом этапе\n",
        "EXPLAIN QUERY PLAN\n",
        "SELECT o.order_date FROM\n",
        "    (SELECT DISTINCT (registered) FROM Customers) c\n",
        "    JOIN\n",
        "    (SELECT DISTINCT (order_date) FROM Orders) o\n",
        "    ON (c.registered = o.order_date);"
      ]
    },
    {
      "cell_type": "code",
      "execution_count": null,
      "metadata": {
        "colab": {
          "base_uri": "https://localhost:8080/",
          "height": 131
        },
        "id": "kgPydV-2qnzq",
        "outputId": "79da6109-9375-487a-a254-1a998a828fa7",
        "collapsed": true
      },
      "outputs": [
        {
          "output_type": "stream",
          "name": "stdout",
          "text": [
            " * sqlite:///bigbase.db\n",
            "Done.\n",
            "CPU times: user 8.1 s, sys: 384 ms, total: 8.48 s\n",
            "Wall time: 8.56 s\n"
          ]
        },
        {
          "output_type": "execute_result",
          "data": {
            "text/plain": [
              "[('2023-01-01 00:00:00',)]"
            ],
            "text/html": [
              "<table>\n",
              "    <thead>\n",
              "        <tr>\n",
              "            <th>registered</th>\n",
              "        </tr>\n",
              "    </thead>\n",
              "    <tbody>\n",
              "        <tr>\n",
              "            <td>2023-01-01 00:00:00</td>\n",
              "        </tr>\n",
              "    </tbody>\n",
              "</table>"
            ]
          },
          "metadata": {},
          "execution_count": 63
        }
      ],
      "source": [
        "%%time\n",
        "%%sql\n",
        "--EXPLAIN QUERY PLAN\n",
        "SELECT DISTINCT (registered) FROM Customers\n",
        "    INTERSECT\n",
        "SELECT DISTINCT (order_date) FROM Orders;"
      ]
    },
    {
      "cell_type": "markdown",
      "metadata": {
        "id": "tRRIwK9yNaq4"
      },
      "source": [
        "То же самое, но на ключевом атрибуте:"
      ]
    },
    {
      "cell_type": "markdown",
      "metadata": {
        "id": "hVOi4yY6YRyR"
      },
      "source": [
        "> Вывести кол-во клиентов, которые делали заказы когда-либо"
      ]
    },
    {
      "cell_type": "markdown",
      "metadata": {
        "id": "EIF_3E5LrA2Z"
      },
      "source": [
        "##### Спойлер:"
      ]
    },
    {
      "cell_type": "code",
      "execution_count": null,
      "metadata": {
        "colab": {
          "base_uri": "https://localhost:8080/",
          "height": 152
        },
        "id": "WfOja0fnKnlO",
        "outputId": "9130027a-8aad-45fe-be2f-a77be5785045"
      },
      "outputs": [
        {
          "output_type": "stream",
          "name": "stdout",
          "text": [
            " * sqlite:///bigbase.db\n",
            "Done.\n",
            "CPU times: user 2.2 ms, sys: 0 ns, total: 2.2 ms\n",
            "Wall time: 1.96 ms\n"
          ]
        },
        {
          "output_type": "execute_result",
          "data": {
            "text/plain": [
              "[(3, 0, 0, 'USE TEMP B-TREE FOR count(DISTINCT)'), (5, 0, 0, 'SCAN Orders')]"
            ],
            "text/html": [
              "<table>\n",
              "    <thead>\n",
              "        <tr>\n",
              "            <th>id</th>\n",
              "            <th>parent</th>\n",
              "            <th>notused</th>\n",
              "            <th>detail</th>\n",
              "        </tr>\n",
              "    </thead>\n",
              "    <tbody>\n",
              "        <tr>\n",
              "            <td>3</td>\n",
              "            <td>0</td>\n",
              "            <td>0</td>\n",
              "            <td>USE TEMP B-TREE FOR count(DISTINCT)</td>\n",
              "        </tr>\n",
              "        <tr>\n",
              "            <td>5</td>\n",
              "            <td>0</td>\n",
              "            <td>0</td>\n",
              "            <td>SCAN Orders</td>\n",
              "        </tr>\n",
              "    </tbody>\n",
              "</table>"
            ]
          },
          "metadata": {},
          "execution_count": 65
        }
      ],
      "source": [
        "%%time\n",
        "%%sql\n",
        "\n",
        "EXPLAIN QUERY PLAN\n",
        "SELECT count(DISTINCT(customer_id)) FROM Orders;"
      ]
    },
    {
      "cell_type": "markdown",
      "metadata": {
        "id": "eKt6RD68rDWB"
      },
      "source": [
        "### Distinct до и после"
      ]
    },
    {
      "cell_type": "code",
      "execution_count": null,
      "metadata": {
        "colab": {
          "base_uri": "https://localhost:8080/",
          "height": 174
        },
        "id": "GyBPZ8reNqc4",
        "outputId": "2102f856-dffc-4a20-dc4f-10994676a4ff"
      },
      "outputs": [
        {
          "output_type": "stream",
          "name": "stdout",
          "text": [
            " * sqlite:///bigbase.db\n",
            "Done.\n",
            "CPU times: user 2.65 ms, sys: 0 ns, total: 2.65 ms\n",
            "Wall time: 2.45 ms\n"
          ]
        },
        {
          "output_type": "execute_result",
          "data": {
            "text/plain": [
              "[(3, 0, 0, 'USE TEMP B-TREE FOR count(DISTINCT)'),\n",
              " (6, 0, 0, 'SCAN Orders'),\n",
              " (8, 0, 0, 'SEARCH Customers USING INTEGER PRIMARY KEY (rowid=?)')]"
            ],
            "text/html": [
              "<table>\n",
              "    <thead>\n",
              "        <tr>\n",
              "            <th>id</th>\n",
              "            <th>parent</th>\n",
              "            <th>notused</th>\n",
              "            <th>detail</th>\n",
              "        </tr>\n",
              "    </thead>\n",
              "    <tbody>\n",
              "        <tr>\n",
              "            <td>3</td>\n",
              "            <td>0</td>\n",
              "            <td>0</td>\n",
              "            <td>USE TEMP B-TREE FOR count(DISTINCT)</td>\n",
              "        </tr>\n",
              "        <tr>\n",
              "            <td>6</td>\n",
              "            <td>0</td>\n",
              "            <td>0</td>\n",
              "            <td>SCAN Orders</td>\n",
              "        </tr>\n",
              "        <tr>\n",
              "            <td>8</td>\n",
              "            <td>0</td>\n",
              "            <td>0</td>\n",
              "            <td>SEARCH Customers USING INTEGER PRIMARY KEY (rowid=?)</td>\n",
              "        </tr>\n",
              "    </tbody>\n",
              "</table>"
            ]
          },
          "metadata": {},
          "execution_count": 66
        }
      ],
      "source": [
        "%%time\n",
        "%%sql\n",
        "-- distinct \"в конце\"\n",
        "EXPLAIN QUERY PLAN\n",
        "SELECT count(DISTINCT(c.id))\n",
        "    FROM\n",
        "    (SELECT id FROM Customers) c\n",
        "    JOIN\n",
        "    (SELECT customer_id FROM Orders) o\n",
        "    ON (c.id = o.customer_id);"
      ]
    },
    {
      "cell_type": "code",
      "execution_count": null,
      "metadata": {
        "id": "kPVzwNToMzaE"
      },
      "outputs": [],
      "source": [
        "%%time\n",
        "%%sql\n",
        "--distinct на каждом этапе\n",
        "--EXPLAIN QUERY PLAN\n",
        "SELECT count(c.id) FROM\n",
        "    (SELECT DISTINCT(id) FROM Customers) c -- нет смысла (?)\n",
        "    JOIN\n",
        "    (SELECT DISTINCT(customer_id) FROM Orders) o\n",
        "    ON (c.id = o.customer_id);"
      ]
    },
    {
      "cell_type": "markdown",
      "metadata": {
        "id": "O1N7d2bfcjXG"
      },
      "source": [
        "**Почему так?** См. EXPLAIN"
      ]
    },
    {
      "cell_type": "code",
      "execution_count": null,
      "metadata": {
        "id": "3aYWSUvxQBjU"
      },
      "outputs": [],
      "source": [
        "%%sql\n",
        "EXPLAIN QUERY PLAN\n",
        "SELECT COUNT(DISTINCT(id)) FROM Customers;"
      ]
    },
    {
      "cell_type": "markdown",
      "metadata": {
        "id": "7dWqj-nNW2E2"
      },
      "source": [
        "Вывод:\n",
        "\n",
        "*   См. Explain\n",
        "*   Иногда distinct все-таки даже полезен"
      ]
    },
    {
      "cell_type": "markdown",
      "metadata": {
        "id": "-4UJPKVsVm0z"
      },
      "source": [
        "## 2) ORDER BY в последнюю очередь"
      ]
    },
    {
      "cell_type": "code",
      "source": [
        "%%time\n",
        "%%sql\n",
        "\n",
        "EXPLAIN QUERY PLAN\n",
        "SELECT DISTINCT(c.id)\n",
        "    FROM\n",
        "    (SELECT id FROM Customers) c\n",
        "    JOIN\n",
        "    (SELECT customer_id FROM Orders) o\n",
        "    ON (c.id = o.customer_id)\n",
        "    ORDER BY id\n",
        "LIMIT 10;"
      ],
      "metadata": {
        "colab": {
          "base_uri": "https://localhost:8080/",
          "height": 174
        },
        "id": "xC_EiErJDkq4",
        "outputId": "ab505986-a5e2-4cdf-ebb3-eb59b2b11f9f"
      },
      "execution_count": null,
      "outputs": [
        {
          "output_type": "stream",
          "name": "stdout",
          "text": [
            " * sqlite:///bigbase.db\n",
            "Done.\n",
            "CPU times: user 3.19 ms, sys: 0 ns, total: 3.19 ms\n",
            "Wall time: 2.84 ms\n"
          ]
        },
        {
          "output_type": "execute_result",
          "data": {
            "text/plain": [
              "[(9, 0, 0, 'SCAN Orders'),\n",
              " (11, 0, 0, 'SEARCH Customers USING INTEGER PRIMARY KEY (rowid=?)'),\n",
              " (14, 0, 0, 'USE TEMP B-TREE FOR DISTINCT')]"
            ],
            "text/html": [
              "<table>\n",
              "    <thead>\n",
              "        <tr>\n",
              "            <th>id</th>\n",
              "            <th>parent</th>\n",
              "            <th>notused</th>\n",
              "            <th>detail</th>\n",
              "        </tr>\n",
              "    </thead>\n",
              "    <tbody>\n",
              "        <tr>\n",
              "            <td>9</td>\n",
              "            <td>0</td>\n",
              "            <td>0</td>\n",
              "            <td>SCAN Orders</td>\n",
              "        </tr>\n",
              "        <tr>\n",
              "            <td>11</td>\n",
              "            <td>0</td>\n",
              "            <td>0</td>\n",
              "            <td>SEARCH Customers USING INTEGER PRIMARY KEY (rowid=?)</td>\n",
              "        </tr>\n",
              "        <tr>\n",
              "            <td>14</td>\n",
              "            <td>0</td>\n",
              "            <td>0</td>\n",
              "            <td>USE TEMP B-TREE FOR DISTINCT</td>\n",
              "        </tr>\n",
              "    </tbody>\n",
              "</table>"
            ]
          },
          "metadata": {},
          "execution_count": 77
        }
      ]
    },
    {
      "cell_type": "code",
      "source": [
        "%%time\n",
        "%%sql\n",
        "\n",
        "EXPLAIN QUERY PLAN\n",
        "SELECT DISTINCT(c.id)\n",
        "    FROM\n",
        "    (SELECT id FROM Customers ORDER BY id) c\n",
        "    JOIN\n",
        "    (SELECT customer_id FROM Orders ORDER BY order_date) o\n",
        "    ON (c.id = o.customer_id)\n",
        "LIMIT 10;"
      ],
      "metadata": {
        "colab": {
          "base_uri": "https://localhost:8080/",
          "height": 174
        },
        "id": "3pgRawlgDIoA",
        "outputId": "ec6da276-33da-462e-fae2-6d1237a8e59a"
      },
      "execution_count": null,
      "outputs": [
        {
          "output_type": "stream",
          "name": "stdout",
          "text": [
            " * sqlite:///bigbase.db\n",
            "Done.\n",
            "CPU times: user 3.06 ms, sys: 43 µs, total: 3.11 ms\n",
            "Wall time: 2.77 ms\n"
          ]
        },
        {
          "output_type": "execute_result",
          "data": {
            "text/plain": [
              "[(5, 0, 0, 'SCAN Orders'),\n",
              " (7, 0, 0, 'SEARCH Customers USING INTEGER PRIMARY KEY (rowid=?)'),\n",
              " (17, 0, 0, 'USE TEMP B-TREE FOR DISTINCT')]"
            ],
            "text/html": [
              "<table>\n",
              "    <thead>\n",
              "        <tr>\n",
              "            <th>id</th>\n",
              "            <th>parent</th>\n",
              "            <th>notused</th>\n",
              "            <th>detail</th>\n",
              "        </tr>\n",
              "    </thead>\n",
              "    <tbody>\n",
              "        <tr>\n",
              "            <td>5</td>\n",
              "            <td>0</td>\n",
              "            <td>0</td>\n",
              "            <td>SCAN Orders</td>\n",
              "        </tr>\n",
              "        <tr>\n",
              "            <td>7</td>\n",
              "            <td>0</td>\n",
              "            <td>0</td>\n",
              "            <td>SEARCH Customers USING INTEGER PRIMARY KEY (rowid=?)</td>\n",
              "        </tr>\n",
              "        <tr>\n",
              "            <td>17</td>\n",
              "            <td>0</td>\n",
              "            <td>0</td>\n",
              "            <td>USE TEMP B-TREE FOR DISTINCT</td>\n",
              "        </tr>\n",
              "    </tbody>\n",
              "</table>"
            ]
          },
          "metadata": {},
          "execution_count": 76
        }
      ]
    },
    {
      "cell_type": "markdown",
      "metadata": {
        "id": "KdgnxB_wAc9G"
      },
      "source": [
        "## 3) JOIN:\n",
        "* Порядок не важен при INNER (оптимизатор справляется сам)\n",
        "* Остальное задает явный порядок\n",
        "  - Не используйте LEFT JOIN там, где достаточно INNER\n",
        "  - Не используйте FULL JOIN без необходимости\n",
        "  - Не используйте CROSS JOIN\n",
        "* Туда же соединения через запятую\n",
        "* Фильтрация впереди соединений"
      ]
    },
    {
      "cell_type": "code",
      "execution_count": null,
      "metadata": {
        "colab": {
          "base_uri": "https://localhost:8080/",
          "height": 152
        },
        "id": "t2NZvH-hr-J_",
        "outputId": "5fcf2a44-cbfd-449b-ddb9-3fdca5c05d6b"
      },
      "outputs": [
        {
          "output_type": "stream",
          "name": "stdout",
          "text": [
            " * sqlite:///bigbase.db\n",
            "Done.\n",
            "CPU times: user 1.9 ms, sys: 1.03 ms, total: 2.93 ms\n",
            "Wall time: 3.34 ms\n"
          ]
        },
        {
          "output_type": "execute_result",
          "data": {
            "text/plain": [
              "[(4, 0, 0, 'SCAN o'),\n",
              " (6, 0, 0, 'SEARCH c USING INTEGER PRIMARY KEY (rowid=?)')]"
            ],
            "text/html": [
              "<table>\n",
              "    <thead>\n",
              "        <tr>\n",
              "            <th>id</th>\n",
              "            <th>parent</th>\n",
              "            <th>notused</th>\n",
              "            <th>detail</th>\n",
              "        </tr>\n",
              "    </thead>\n",
              "    <tbody>\n",
              "        <tr>\n",
              "            <td>4</td>\n",
              "            <td>0</td>\n",
              "            <td>0</td>\n",
              "            <td>SCAN o</td>\n",
              "        </tr>\n",
              "        <tr>\n",
              "            <td>6</td>\n",
              "            <td>0</td>\n",
              "            <td>0</td>\n",
              "            <td>SEARCH c USING INTEGER PRIMARY KEY (rowid=?)</td>\n",
              "        </tr>\n",
              "    </tbody>\n",
              "</table>"
            ]
          },
          "metadata": {},
          "execution_count": 79
        }
      ],
      "source": [
        "%%time\n",
        "%%sql\n",
        "EXPLAIN QUERY PLAN\n",
        "SELECT c.id, o.id FROM Orders o\n",
        "  JOIN Customers c ON o.Customer_id = c.id\n",
        "limit 5;"
      ]
    },
    {
      "cell_type": "code",
      "source": [
        "%%time\n",
        "%%sql\n",
        "--EXPLAIN QUERY PLAN\n",
        "SELECT c.id, o.id FROM Customers c\n",
        "  CROSS JOIN Orders o ON o.Customer_id = c.id\n",
        "limit 5;"
      ],
      "metadata": {
        "colab": {
          "base_uri": "https://localhost:8080/",
          "height": 217
        },
        "id": "Hwjjtl7GUYqJ",
        "outputId": "ec584aa0-1118-42f2-86a8-258455529d19"
      },
      "execution_count": null,
      "outputs": [
        {
          "output_type": "stream",
          "name": "stdout",
          "text": [
            " * sqlite:///bigbase.db\n",
            "Done.\n",
            "CPU times: user 23.5 s, sys: 43.8 s, total: 1min 7s\n",
            "Wall time: 1min 9s\n"
          ]
        },
        {
          "output_type": "execute_result",
          "data": {
            "text/plain": [
              "[(1, 843063), (1, 7334205), (3, 2389660), (3, 3897098), (3, 7311621)]"
            ],
            "text/html": [
              "<table>\n",
              "    <thead>\n",
              "        <tr>\n",
              "            <th>id</th>\n",
              "            <th>id_1</th>\n",
              "        </tr>\n",
              "    </thead>\n",
              "    <tbody>\n",
              "        <tr>\n",
              "            <td>1</td>\n",
              "            <td>843063</td>\n",
              "        </tr>\n",
              "        <tr>\n",
              "            <td>1</td>\n",
              "            <td>7334205</td>\n",
              "        </tr>\n",
              "        <tr>\n",
              "            <td>3</td>\n",
              "            <td>2389660</td>\n",
              "        </tr>\n",
              "        <tr>\n",
              "            <td>3</td>\n",
              "            <td>3897098</td>\n",
              "        </tr>\n",
              "        <tr>\n",
              "            <td>3</td>\n",
              "            <td>7311621</td>\n",
              "        </tr>\n",
              "    </tbody>\n",
              "</table>"
            ]
          },
          "metadata": {},
          "execution_count": 82
        }
      ]
    },
    {
      "cell_type": "code",
      "execution_count": null,
      "metadata": {
        "colab": {
          "base_uri": "https://localhost:8080/",
          "height": 152
        },
        "id": "YfkkBb0zrgov",
        "outputId": "7e2ece4a-666e-43b2-c862-23790bdc99cd"
      },
      "outputs": [
        {
          "output_type": "stream",
          "name": "stdout",
          "text": [
            " * sqlite:///bigbase.db\n",
            "Done.\n",
            "CPU times: user 1.88 ms, sys: 0 ns, total: 1.88 ms\n",
            "Wall time: 1.83 ms\n"
          ]
        },
        {
          "output_type": "execute_result",
          "data": {
            "text/plain": [
              "[(4, 0, 0, 'SCAN c'),\n",
              " (14, 0, 0, 'SEARCH o USING AUTOMATIC COVERING INDEX (customer_id=?)')]"
            ],
            "text/html": [
              "<table>\n",
              "    <thead>\n",
              "        <tr>\n",
              "            <th>id</th>\n",
              "            <th>parent</th>\n",
              "            <th>notused</th>\n",
              "            <th>detail</th>\n",
              "        </tr>\n",
              "    </thead>\n",
              "    <tbody>\n",
              "        <tr>\n",
              "            <td>4</td>\n",
              "            <td>0</td>\n",
              "            <td>0</td>\n",
              "            <td>SCAN c</td>\n",
              "        </tr>\n",
              "        <tr>\n",
              "            <td>14</td>\n",
              "            <td>0</td>\n",
              "            <td>0</td>\n",
              "            <td>SEARCH o USING AUTOMATIC COVERING INDEX (customer_id=?)</td>\n",
              "        </tr>\n",
              "    </tbody>\n",
              "</table>"
            ]
          },
          "metadata": {},
          "execution_count": 81
        }
      ],
      "source": [
        "%%time\n",
        "%%sql\n",
        "EXPLAIN QUERY PLAN\n",
        "SELECT c.id, o.id FROM Customers c\n",
        "  CROSS JOIN Orders o ON o.Customer_id = c.id\n",
        "limit 5;"
      ]
    },
    {
      "cell_type": "code",
      "source": [
        "%%time\n",
        "%%sql\n",
        "EXPLAIN QUERY PLAN\n",
        "SELECT c.id, o.id FROM Orders o\n",
        "  CROSS JOIN Customers c ON o.Customer_id = c.id\n",
        "limit 5;"
      ],
      "metadata": {
        "id": "RRUFnoGaV03S"
      },
      "execution_count": null,
      "outputs": []
    },
    {
      "cell_type": "markdown",
      "metadata": {
        "id": "sOddmg8_xi9u"
      },
      "source": [
        "## 4) Подзапросы\n",
        "Постарайтесь свести к минимуму количество подзапросов\n",
        "\n",
        "- Вместо подзапроса всегда можно использовать WITH"
      ]
    },
    {
      "cell_type": "code",
      "execution_count": null,
      "metadata": {
        "id": "LXpTE5Se7O5V"
      },
      "outputs": [],
      "source": [
        "%%time\n",
        "%%sql\n",
        "\n",
        "--EXPLAIN QUERY PLAN\n",
        "SELECT p.id, category FROM Products p\n",
        "    WHERE p.quantity < (SELECT MIN(quantity) FROM orders)\n",
        "Limit 1;"
      ]
    },
    {
      "cell_type": "code",
      "execution_count": null,
      "metadata": {
        "id": "MIsZ9ZSU8Kt0"
      },
      "outputs": [],
      "source": [
        "%%time\n",
        "%%sql\n",
        "--EXPLAIN QUERY PLAN\n",
        "WITH min_quan as (SELECT MIN(quantity) FROM orders)\n",
        "SELECT id, category FROM Products\n",
        "    WHERE quantity < (SELECT * FROM min_quan)\n",
        "Limit 1;"
      ]
    },
    {
      "cell_type": "markdown",
      "metadata": {
        "id": "wCidtrO9pOtn"
      },
      "source": [
        "## 5) Использование EXISTS"
      ]
    },
    {
      "cell_type": "markdown",
      "metadata": {
        "id": "8twSytlYqHD_"
      },
      "source": [
        "- оператор EXISTS останавливается при первом **совпадении**\n",
        "- оператор IN выполняет полное сканирование списка значений\n",
        "- EXCEPT выполняется быстрее, чем WHERE NOT EXIST"
      ]
    },
    {
      "cell_type": "markdown",
      "metadata": {
        "id": "uOYecGire_gV"
      },
      "source": [
        "> Вывести клиентов, которые делали заказы\n"
      ]
    },
    {
      "cell_type": "code",
      "source": [
        "EXISTS      -----          COUNT(.....) > 0"
      ],
      "metadata": {
        "id": "ooanjpx2WOeV"
      },
      "execution_count": null,
      "outputs": []
    },
    {
      "cell_type": "code",
      "execution_count": null,
      "metadata": {
        "colab": {
          "base_uri": "https://localhost:8080/",
          "height": 323
        },
        "id": "NRcTs98Estzf",
        "outputId": "2bf586c5-b955-48cc-d4c1-f636f535c49e"
      },
      "outputs": [
        {
          "output_type": "stream",
          "name": "stdout",
          "text": [
            " * sqlite:///bigbase.db\n",
            "Done.\n",
            "CPU times: user 23 s, sys: 37.8 s, total: 1min\n",
            "Wall time: 1min 1s\n"
          ]
        },
        {
          "output_type": "execute_result",
          "data": {
            "text/plain": [
              "[('Aaliyah', 'Haley'),\n",
              " ('Aaliyah', 'Nikolaus'),\n",
              " ('Aaliyah', 'Goodwin'),\n",
              " ('Aaliyah', 'Nienow'),\n",
              " ('Aaliyah', 'Steuber'),\n",
              " ('Aaliyah', 'Rutherford'),\n",
              " ('Aaliyah', 'Bahringer'),\n",
              " ('Aaliyah', 'Stroman'),\n",
              " ('Aaliyah', 'Franey'),\n",
              " ('Aaliyah', 'Emmerich')]"
            ],
            "text/html": [
              "<table>\n",
              "    <thead>\n",
              "        <tr>\n",
              "            <th>firstName</th>\n",
              "            <th>lastName</th>\n",
              "        </tr>\n",
              "    </thead>\n",
              "    <tbody>\n",
              "        <tr>\n",
              "            <td>Aaliyah</td>\n",
              "            <td>Haley</td>\n",
              "        </tr>\n",
              "        <tr>\n",
              "            <td>Aaliyah</td>\n",
              "            <td>Nikolaus</td>\n",
              "        </tr>\n",
              "        <tr>\n",
              "            <td>Aaliyah</td>\n",
              "            <td>Goodwin</td>\n",
              "        </tr>\n",
              "        <tr>\n",
              "            <td>Aaliyah</td>\n",
              "            <td>Nienow</td>\n",
              "        </tr>\n",
              "        <tr>\n",
              "            <td>Aaliyah</td>\n",
              "            <td>Steuber</td>\n",
              "        </tr>\n",
              "        <tr>\n",
              "            <td>Aaliyah</td>\n",
              "            <td>Rutherford</td>\n",
              "        </tr>\n",
              "        <tr>\n",
              "            <td>Aaliyah</td>\n",
              "            <td>Bahringer</td>\n",
              "        </tr>\n",
              "        <tr>\n",
              "            <td>Aaliyah</td>\n",
              "            <td>Stroman</td>\n",
              "        </tr>\n",
              "        <tr>\n",
              "            <td>Aaliyah</td>\n",
              "            <td>Franey</td>\n",
              "        </tr>\n",
              "        <tr>\n",
              "            <td>Aaliyah</td>\n",
              "            <td>Emmerich</td>\n",
              "        </tr>\n",
              "    </tbody>\n",
              "</table>"
            ]
          },
          "metadata": {},
          "execution_count": 83
        }
      ],
      "source": [
        "%%time\n",
        "%%sql\n",
        "--EXPLAIN QUERY PLAN\n",
        "SELECT Customers.firstName, Customers.LastName FROM Customers\n",
        "    WHERE Customers.id IN\n",
        "        (SELECT DISTINCT(Customer_id) FROM Orders)\n",
        "ORDER BY Customers.firstName\n",
        "LIMIT 10;"
      ]
    },
    {
      "cell_type": "code",
      "execution_count": null,
      "metadata": {
        "colab": {
          "base_uri": "https://localhost:8080/",
          "height": 323
        },
        "id": "fA9rqmv4teDY",
        "outputId": "c7ba2e7b-b927-4401-8964-127f223fa752"
      },
      "outputs": [
        {
          "output_type": "stream",
          "name": "stdout",
          "text": [
            " * sqlite:///bigbase.db\n",
            "Done.\n",
            "CPU times: user 4.91 s, sys: 951 ms, total: 5.86 s\n",
            "Wall time: 5.91 s\n"
          ]
        },
        {
          "output_type": "execute_result",
          "data": {
            "text/plain": [
              "[('Emile', 'Klocko'),\n",
              " ('Tiara', 'Gibson'),\n",
              " ('Miguel', 'Kutch'),\n",
              " ('Mina', 'Jakubowski'),\n",
              " ('Araceli', 'Bogan'),\n",
              " ('Ambrose', 'Cole'),\n",
              " ('Russel', 'Moen'),\n",
              " ('Minnie', 'Ward'),\n",
              " ('Wallace', 'Considine'),\n",
              " ('Vena', 'Rice')]"
            ],
            "text/html": [
              "<table>\n",
              "    <thead>\n",
              "        <tr>\n",
              "            <th>firstName</th>\n",
              "            <th>lastName</th>\n",
              "        </tr>\n",
              "    </thead>\n",
              "    <tbody>\n",
              "        <tr>\n",
              "            <td>Emile</td>\n",
              "            <td>Klocko</td>\n",
              "        </tr>\n",
              "        <tr>\n",
              "            <td>Tiara</td>\n",
              "            <td>Gibson</td>\n",
              "        </tr>\n",
              "        <tr>\n",
              "            <td>Miguel</td>\n",
              "            <td>Kutch</td>\n",
              "        </tr>\n",
              "        <tr>\n",
              "            <td>Mina</td>\n",
              "            <td>Jakubowski</td>\n",
              "        </tr>\n",
              "        <tr>\n",
              "            <td>Araceli</td>\n",
              "            <td>Bogan</td>\n",
              "        </tr>\n",
              "        <tr>\n",
              "            <td>Ambrose</td>\n",
              "            <td>Cole</td>\n",
              "        </tr>\n",
              "        <tr>\n",
              "            <td>Russel</td>\n",
              "            <td>Moen</td>\n",
              "        </tr>\n",
              "        <tr>\n",
              "            <td>Minnie</td>\n",
              "            <td>Ward</td>\n",
              "        </tr>\n",
              "        <tr>\n",
              "            <td>Wallace</td>\n",
              "            <td>Considine</td>\n",
              "        </tr>\n",
              "        <tr>\n",
              "            <td>Vena</td>\n",
              "            <td>Rice</td>\n",
              "        </tr>\n",
              "    </tbody>\n",
              "</table>"
            ]
          },
          "metadata": {},
          "execution_count": 84
        }
      ],
      "source": [
        "%%time\n",
        "%%sql\n",
        "--EXPLAIN QUERY PLAN\n",
        "SELECT Customers.firstName, Customers.LastName FROM Customers\n",
        "    WHERE EXISTS\n",
        "        (SELECT 1 FROM Orders o WHERE o.Customer_id = Customers.id)\n",
        "--ORDER BY Customers.firstName\n",
        "LIMIT 10;"
      ]
    },
    {
      "cell_type": "markdown",
      "metadata": {
        "id": "3ezIYPfEkkOE"
      },
      "source": [
        "## 6) Использование конкретных имен атрибутов вместо * в запросе SELECT\n",
        "\n",
        "* Относится больше к читаемости кода"
      ]
    },
    {
      "cell_type": "markdown",
      "metadata": {
        "id": "6cMQsgr1o57m"
      },
      "source": [
        "## 7) Использование материализованных представлений и индексов\n",
        "- Не путать с CREATE VIEW"
      ]
    },
    {
      "cell_type": "code",
      "execution_count": null,
      "metadata": {
        "id": "LiQcLFpcxZnB"
      },
      "outputs": [],
      "source": [
        "%%sql\n",
        "CREATE VIEW min_quan AS\n",
        "    SELECT MIN(quantity) FROM orders;"
      ]
    },
    {
      "cell_type": "code",
      "execution_count": null,
      "metadata": {
        "id": "2nVbzIYwxmND"
      },
      "outputs": [],
      "source": [
        "%%time\n",
        "%%sql\n",
        "SELECT * FROM min_quan;"
      ]
    },
    {
      "cell_type": "code",
      "execution_count": null,
      "metadata": {
        "id": "miMp195NyIrx"
      },
      "outputs": [],
      "source": [
        "%%sql\n",
        "DELETE FROM orders\n",
        "WHERE Orders.quantity = 1;"
      ]
    },
    {
      "cell_type": "code",
      "execution_count": null,
      "metadata": {
        "id": "pOZ5Z4j5yht4"
      },
      "outputs": [],
      "source": [
        "%%sql\n",
        "-- \"костыль\"\n",
        "DROP TABLE if exists orders_stat;\n",
        "\n",
        "CREATE TABLE orders_stat (min_quantity integer);\n",
        "\n",
        "INSERT INTO orders_stat(min_quantity) SELECT MIN(quantity) FROM orders;"
      ]
    },
    {
      "cell_type": "code",
      "execution_count": null,
      "metadata": {
        "id": "cbiOuRAKzU4K"
      },
      "outputs": [],
      "source": [
        "%%time\n",
        "%%sql\n",
        "SELECT * FROM orders_stat;"
      ]
    },
    {
      "cell_type": "markdown",
      "metadata": {
        "id": "SbfGX4QfxkXd"
      },
      "source": [
        "## Куда менее важное:\n",
        "\n"
      ]
    },
    {
      "cell_type": "markdown",
      "metadata": {
        "id": "O-pbJO9YoFVl"
      },
      "source": [
        "#### *По возможности, использовать полное сравнение вместо LIKE*"
      ]
    },
    {
      "cell_type": "code",
      "execution_count": null,
      "metadata": {
        "id": "RewGgTatoCn1",
        "colab": {
          "base_uri": "https://localhost:8080/",
          "height": 131
        },
        "outputId": "ad9cec9d-3523-47c0-bb1d-647baed63334"
      },
      "outputs": [
        {
          "output_type": "stream",
          "name": "stdout",
          "text": [
            " * sqlite:///bigbase.db\n",
            "Done.\n",
            "CPU times: user 548 ms, sys: 130 ms, total: 677 ms\n",
            "Wall time: 678 ms\n"
          ]
        },
        {
          "output_type": "execute_result",
          "data": {
            "text/plain": [
              "[(4928860, 'Harmon', 'Walker', '8-705-450-2224', 'Russian Federation', '2019-09-21 00:00:00')]"
            ],
            "text/html": [
              "<table>\n",
              "    <thead>\n",
              "        <tr>\n",
              "            <th>id</th>\n",
              "            <th>firstName</th>\n",
              "            <th>lastName</th>\n",
              "            <th>phone</th>\n",
              "            <th>country</th>\n",
              "            <th>registered</th>\n",
              "        </tr>\n",
              "    </thead>\n",
              "    <tbody>\n",
              "        <tr>\n",
              "            <td>4928860</td>\n",
              "            <td>Harmon</td>\n",
              "            <td>Walker</td>\n",
              "            <td>8-705-450-2224</td>\n",
              "            <td>Russian Federation</td>\n",
              "            <td>2019-09-21 00:00:00</td>\n",
              "        </tr>\n",
              "    </tbody>\n",
              "</table>"
            ]
          },
          "metadata": {},
          "execution_count": 88
        }
      ],
      "source": [
        "%%time\n",
        "%%sql\n",
        "SELECT * FROM Customers where country like 'Russia%' AND phone like '8-%-2224';"
      ]
    },
    {
      "cell_type": "code",
      "execution_count": null,
      "metadata": {
        "id": "kZWjFmFZoJAV",
        "colab": {
          "base_uri": "https://localhost:8080/",
          "height": 131
        },
        "outputId": "e06279ae-4016-4df5-9812-03f2a64769b5"
      },
      "outputs": [
        {
          "output_type": "stream",
          "name": "stdout",
          "text": [
            " * sqlite:///bigbase.db\n",
            "Done.\n",
            "CPU times: user 471 ms, sys: 207 ms, total: 678 ms\n",
            "Wall time: 676 ms\n"
          ]
        },
        {
          "output_type": "execute_result",
          "data": {
            "text/plain": [
              "[(4928860, 'Harmon', 'Walker', '8-705-450-2224', 'Russian Federation', '2019-09-21 00:00:00')]"
            ],
            "text/html": [
              "<table>\n",
              "    <thead>\n",
              "        <tr>\n",
              "            <th>id</th>\n",
              "            <th>firstName</th>\n",
              "            <th>lastName</th>\n",
              "            <th>phone</th>\n",
              "            <th>country</th>\n",
              "            <th>registered</th>\n",
              "        </tr>\n",
              "    </thead>\n",
              "    <tbody>\n",
              "        <tr>\n",
              "            <td>4928860</td>\n",
              "            <td>Harmon</td>\n",
              "            <td>Walker</td>\n",
              "            <td>8-705-450-2224</td>\n",
              "            <td>Russian Federation</td>\n",
              "            <td>2019-09-21 00:00:00</td>\n",
              "        </tr>\n",
              "    </tbody>\n",
              "</table>"
            ]
          },
          "metadata": {},
          "execution_count": 91
        }
      ],
      "source": [
        "%%time\n",
        "%%sql\n",
        "SELECT * FROM Customers where country = 'Russian Federation' AND phone = '8-705-450-2224';"
      ]
    },
    {
      "cell_type": "markdown",
      "metadata": {
        "id": "yiyTMu-TnsGF"
      },
      "source": [
        "#### *Порядок операций в написании условия*"
      ]
    },
    {
      "cell_type": "code",
      "execution_count": null,
      "metadata": {
        "id": "lVzksPMKnuOd",
        "outputId": "d7d029ee-e303-470d-8376-6502e6e4e683",
        "colab": {
          "base_uri": "https://localhost:8080/",
          "height": 130
        }
      },
      "outputs": [
        {
          "output_type": "stream",
          "name": "stdout",
          "text": [
            " * sqlite:///bigbase.db\n",
            "Done.\n",
            "CPU times: user 483 ms, sys: 154 ms, total: 637 ms\n",
            "Wall time: 633 ms\n"
          ]
        },
        {
          "output_type": "execute_result",
          "data": {
            "text/plain": [
              "[(4928860, 'Harmon', 'Walker', '8-705-450-2224', 'Russian Federation', '2019-09-21 00:00:00')]"
            ],
            "text/html": [
              "<table>\n",
              "    <thead>\n",
              "        <tr>\n",
              "            <th>id</th>\n",
              "            <th>firstName</th>\n",
              "            <th>lastName</th>\n",
              "            <th>phone</th>\n",
              "            <th>country</th>\n",
              "            <th>registered</th>\n",
              "        </tr>\n",
              "    </thead>\n",
              "    <tbody>\n",
              "        <tr>\n",
              "            <td>4928860</td>\n",
              "            <td>Harmon</td>\n",
              "            <td>Walker</td>\n",
              "            <td>8-705-450-2224</td>\n",
              "            <td>Russian Federation</td>\n",
              "            <td>2019-09-21 00:00:00</td>\n",
              "        </tr>\n",
              "    </tbody>\n",
              "</table>"
            ]
          },
          "metadata": {},
          "execution_count": 92
        }
      ],
      "source": [
        "%%time\n",
        "%%sql\n",
        "SELECT * FROM Customers where country = 'Russian Federation' AND phone = '8-705-450-2224';"
      ]
    },
    {
      "cell_type": "code",
      "execution_count": null,
      "metadata": {
        "id": "0FRAL1ianw01",
        "outputId": "f5669726-9662-4878-df72-0376e691ce94",
        "colab": {
          "base_uri": "https://localhost:8080/",
          "height": 130
        }
      },
      "outputs": [
        {
          "output_type": "stream",
          "name": "stdout",
          "text": [
            " * sqlite:///bigbase.db\n",
            "Done.\n",
            "CPU times: user 426 ms, sys: 116 ms, total: 542 ms\n",
            "Wall time: 535 ms\n"
          ]
        },
        {
          "output_type": "execute_result",
          "data": {
            "text/plain": [
              "[(4928860, 'Harmon', 'Walker', '8-705-450-2224', 'Russian Federation', '2019-09-21 00:00:00')]"
            ],
            "text/html": [
              "<table>\n",
              "    <thead>\n",
              "        <tr>\n",
              "            <th>id</th>\n",
              "            <th>firstName</th>\n",
              "            <th>lastName</th>\n",
              "            <th>phone</th>\n",
              "            <th>country</th>\n",
              "            <th>registered</th>\n",
              "        </tr>\n",
              "    </thead>\n",
              "    <tbody>\n",
              "        <tr>\n",
              "            <td>4928860</td>\n",
              "            <td>Harmon</td>\n",
              "            <td>Walker</td>\n",
              "            <td>8-705-450-2224</td>\n",
              "            <td>Russian Federation</td>\n",
              "            <td>2019-09-21 00:00:00</td>\n",
              "        </tr>\n",
              "    </tbody>\n",
              "</table>"
            ]
          },
          "metadata": {},
          "execution_count": 93
        }
      ],
      "source": [
        "%%time\n",
        "%%sql\n",
        "SELECT * FROM Customers where phone = '8-705-450-2224' AND country = 'Russian Federation';"
      ]
    },
    {
      "cell_type": "code",
      "source": [],
      "metadata": {
        "id": "DuA05UbkZYmf"
      },
      "execution_count": null,
      "outputs": []
    }
  ],
  "metadata": {
    "celltoolbar": "Slideshow",
    "colab": {
      "collapsed_sections": [
        "Ab7JQ85bSrRD",
        "qyW5qdNlS8Jt",
        "EIF_3E5LrA2Z"
      ],
      "provenance": []
    },
    "kernelspec": {
      "display_name": "Python 3",
      "language": "python",
      "name": "python3"
    },
    "language_info": {
      "codemirror_mode": {
        "name": "ipython",
        "version": 3
      },
      "file_extension": ".py",
      "mimetype": "text/x-python",
      "name": "python",
      "nbconvert_exporter": "python",
      "pygments_lexer": "ipython3",
      "version": "3.7.4"
    }
  },
  "nbformat": 4,
  "nbformat_minor": 0
}