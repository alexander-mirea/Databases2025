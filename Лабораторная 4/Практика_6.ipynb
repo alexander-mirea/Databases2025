{
  "cells": [
    {
      "cell_type": "markdown",
      "metadata": {
        "id": "zbXl_KYdS04l"
      },
      "source": [
        "## Создание таблиц\n",
        "\n"
      ]
    },
    {
      "cell_type": "code",
      "execution_count": 1,
      "metadata": {
        "id": "Vtgzckg9aEx3"
      },
      "outputs": [],
      "source": [
        "num_clients = 5000000   # 5 mil\n",
        "num_products = 2000000   # 2 mil\n",
        "num_orders = 10000000   # 10 mil\n",
        "\n",
        "#ВНИМАНИЕ! ЗАПУСК ~5 минут"
      ]
    },
    {
      "cell_type": "code",
      "execution_count": 2,
      "metadata": {
        "id": "EYeFjWb_g85C"
      },
      "outputs": [],
      "source": [
        "%load_ext sql\n",
        "%sql sqlite:///bigbase.db\n",
        "%config SqlMagic.style = '_DEPRECATED_DEFAULT'"
      ]
    },
    {
      "cell_type": "markdown",
      "metadata": {
        "id": "Ab7JQ85bSrRD"
      },
      "source": [
        "### Массивы случайных данных"
      ]
    },
    {
      "cell_type": "code",
      "execution_count": 3,
      "metadata": {
        "id": "UJoj0VdCSpyt"
      },
      "outputs": [],
      "source": [
        "firstnames = [\"Aaliyah\", \"Aaron\", \"Abagail\", \"Abbey\", \"Abbie\", \"Abbigail\", \"Abby\", \"Abdiel\", \"Abdul\", \"Abdullah\", \"Abe\", \"Abel\", \"Abelardo\", \"Abigail\", \"Abigale\", \"Abigayle\", \"Abner\", \"Abraham\", \"Ada\", \"Adah\", \"Adaline\", \"Adam\", \"Adan\", \"Addie\", \"Addison\", \"Adela\", \"Adelbert\", \"Adele\", \"Adelia\", \"Adeline\", \"Adell\", \"Adella\", \"Adelle\", \"Aditya\", \"Adolf\", \"Adolfo\", \"Adolph\", \"Adolphus\", \"Adonis\", \"Adrain\", \"Adrian\", \"Adriana\", \"Adrianna\", \"Adriel\", \"Adrien\", \"Adrienne\", \"Afton\", \"Aglae\", \"Agnes\", \"Agustin\", \"Agustina\", \"Ahmad\", \"Ahmed\", \"Aida\", \"Aidan\", \"Aiden\", \"Aileen\", \"Aimee\", \"Aisha\", \"Aiyana\", \"Akeem\", \"Al\", \"Alaina\", \"Alan\", \"Alana\", \"Alanis\", \"Alanna\", \"Alayna\", \"Alba\", \"Albert\", \"Alberta\", \"Albertha\", \"Alberto\", \"Albin\", \"Albina\", \"Alda\", \"Alden\", \"Alec\", \"Aleen\", \"Alejandra\", \"Alejandrin\", \"Alek\", \"Alena\", \"Alessandra\", \"Alessandro\", \"Alessia\", \"Aletha\", \"Alex\", \"Alexa\", \"Alexander\", \"Alexandra\", \"Alexandre\", \"Alexandrea\", \"Alexandria\", \"Alexandrine\", \"Alexane\", \"Alexanne\", \"Alexie\", \"Alexis\", \"Alexys\", \"Alexzander\", \"Alf\", \"Alfonzo\", \"Alford\", \"Alfred\", \"Alfreda\", \"Alfredo\", \"Ali\", \"Alia\", \"Alice\", \"Alicia\", \"Alisa\", \"Alisha\", \"Alison\", \"Alivia\", \"Aliya\", \"Aliza\", \"Alize\", \"Allen\", \"Allie\", \"Allison\", \"Ally\", \"Alphonso\", \"Alta\", \"Althea\", \"Alva\", \"Alvah\", \"Alvena\", \"Alvera\", \"Alverta\", \"Alvina\", \"Alvis\", \"Alyce\", \"Alycia\", \"Alysa\", \"Alysha\", \"Alyson\", \"Alysson\", \"Amalia\", \"Amanda\", \"Amani\", \"Amara\", \"Amari\", \"Amaya\", \"Amber\", \"Ambrose\", \"Amelia\", \"Amely\", \"America\", \"Americo\", \"Amie\", \"Amina\", \"Amir\", \"Amira\", \"Amiya\", \"Amos\", \"Amparo\", \"Amy\", \"Amya\", \"Ana\", \"Anabel\", \"Anabelle\", \"Anahi\", \"Anais\", \"Anastacio\", \"Anastasia\", \"Anderson\", \"Andre\", \"Andreane\", \"Andreanne\", \"Andres\", \"Andrew\", \"Andy\", \"Angel\", \"Angela\", \"Angelica\", \"Angelina\", \"Angeline\", \"Angelo\", \"Angie\", \"Angus\", \"Anibal\", \"Anissa\", \"Anita\", \"Aniya\", \"Aniyah\", \"Anjali\", \"Anna\", \"Annabel\", \"Annabell\", \"Annabelle\", \"Annalise\", \"Annamae\", \"Annamarie\", \"Anne\", \"Annetta\", \"Annette\", \"Annie\", \"Ansel\", \"Ansley\", \"Anthony\", \"Antoinette\", \"Antone\", \"Antonetta\", \"Antonette\", \"Antonietta\", \"Antonina\", \"Antonio\", \"Antwan\", \"Antwon\", \"Anya\", \"April\", \"Ara\", \"Araceli\", \"Aracely\", \"Arch\", \"Archibald\", \"Ardella\", \"Arden\", \"Ardith\", \"Ariane\", \"Arianna\", \"Aric\", \"Ariel\", \"Arielle\", \"Arjun\", \"Arlene\", \"Arlie\", \"Arlo\", \"Armand\", \"Armando\", \"Armani\", \"Arnaldo\", \"Arne\", \"Arno\", \"Arnoldo\", \"Arnulfo\", \"Aron\", \"Art\", \"Arthur\", \"Arturo\", \"Arvel\", \"Arvid\", \"Arvilla\", \"Aryanna\", \"Asa\", \"Asha\", \"Ashlee\", \"Ashleigh\", \"Ashley\", \"Ashly\", \"Ashlynn\", \"Ashton\", \"Ashtyn\", \"Asia\", \"Assunta\", \"Astrid\", \"Athena\", \"Aubree\", \"Aubrey\", \"Audra\", \"Audreanne\", \"Audrey\", \"August\", \"Augusta\", \"Augustine\", \"Augustus\", \"Aurelia\", \"Aurelie\", \"Aurelio\", \"Aurore\", \"Austen\", \"Austin\", \"Austyn\", \"Autumn\", \"Ava\", \"Avery\", \"Avis\", \"Axel\", \"Ayana\", \"Ayden\", \"Ayla\", \"Aylin\", \"Baby\", \"Bailee\", \"Bailey\", \"Barbara\", \"Barney\", \"Baron\", \"Barrett\", \"Barry\", \"Bart\", \"Bartholome\", \"Barton\", \"Baylee\", \"Beatrice\", \"Beau\", \"Beaulah\", \"Bella\", \"Belle\", \"Ben\", \"Benedict\", \"Benjamin\", \"Bennett\", \"Benny\", \"Benton\", \"Berenice\", \"Bernadette\", \"Bernadine\", \"Bernard\", \"Bernardo\", \"Berneice\", \"Bernhard\", \"Bernice\", \"Bernie\", \"Berniece\", \"Bernita\", \"Berry\", \"Bert\", \"Berta\", \"Bertha\", \"Bertram\", \"Bertrand\", \"Beryl\", \"Bessie\", \"Beth\", \"Bethany\", \"Bethel\", \"Betsy\", \"Bette\", \"Bettie\", \"Betty\", \"Bettye\", \"Beulah\", \"Beverly\", \"Bianka\", \"Bill\", \"Billie\", \"Billy\", \"Birdie\", \"Blair\", \"Blaise\", \"Blanca\", \"Blanche\", \"Blaze\", \"Bo\", \"Bobbie\", \"Bobby\", \"Bonita\", \"Bonnie\", \"Boris\", \"Boyd\", \"Brad\", \"Braden\", \"Bradford\", \"Bradley\", \"Bradly\", \"Brady\", \"Braeden\", \"Brain\", \"Brandi\", \"Brando\", \"Brandon\", \"Brandt\", \"Brandy\", \"Brandyn\", \"Brannon\", \"Branson\", \"Brant\", \"Braulio\", \"Braxton\", \"Brayan\", \"Breana\", \"Breanna\", \"Breanne\", \"Brenda\", \"Brendan\", \"Brenden\", \"Brendon\", \"Brenna\", \"Brennan\", \"Brennon\", \"Brent\", \"Bret\", \"Bria\", \"Brian\", \"Briana\", \"Brianne\", \"Brice\", \"Bridget\", \"Bridgette\", \"Bridie\", \"Brielle\", \"Brigitte\", \"Brisa\", \"Britney\", \"Brittany\", \"Brock\", \"Broderick\", \"Brody\", \"Brook\", \"Brooke\", \"Brooks\", \"Brown\", \"Bryana\", \"Bryce\", \"Bryon\", \"Buck\", \"Bud\", \"Buddy\", \"Buford\", \"Bulah\", \"Burdette\", \"Burley\", \"Burnice\", \"Buster\", \"Cade\", \"Caden\", \"Caesar\", \"Caitlyn\", \"Cale\", \"Caleb\", \"Caleigh\", \"Cali\", \"Calista\", \"Callie\", \"Camden\", \"Cameron\", \"Camila\", \"Camilla\", \"Camille\", \"Camren\", \"Camron\", \"Camryn\", \"Camylle\", \"Candace\", \"Candelario\", \"Candice\", \"Candida\", \"Candido\", \"Cara\", \"Carey\", \"Carissa\", \"Carlee\", \"Carleton\", \"Carley\", \"Carli\", \"Carlie\", \"Carlo\", \"Carlos\", \"Carlotta\", \"Carmel\", \"Carmela\", \"Carmella\", \"Carmelo\", \"Carmen\", \"Carmine\", \"Carol\", \"Carolanne\", \"Carole\", \"Carolina\", \"Caroline\", \"Carolyn\", \"Carolyne\", \"Carrie\", \"Carroll\", \"Carson\", \"Carter\", \"Cary\", \"Casandra\", \"Casey\", \"Casimir\", \"Casper\", \"Cassandra\", \"Cassandre\", \"Cassidy\", \"Cassie\", \"Caterina\", \"Catharine\", \"Catherine\", \"Cathrine\", \"Cathryn\", \"Cathy\", \"Cayla\", \"Ceasar\", \"Cecelia\", \"Cecil\", \"Cecile\", \"Cecilia\", \"Cedrick\", \"Celestine\", \"Celestino\", \"Celia\", \"Celine\", \"Cesar\", \"Chad\", \"Chadd\", \"Chadrick\", \"Chaim\", \"Chance\", \"Chandler\", \"Chanel\", \"Chanelle\", \"Charity\", \"Charlene\", \"Charles\", \"Charley\", \"Charlie\", \"Charlotte\", \"Chase\", \"Chasity\", \"Chauncey\", \"Chaya\", \"Chaz\", \"Chelsea\", \"Chelsey\", \"Chelsie\", \"Chesley\", \"Chester\", \"Chet\", \"Cheyanne\", \"Cheyenne\", \"Chloe\", \"Chris\", \"Christ\", \"Christa\", \"Christelle\", \"Christian\", \"Christiana\", \"Christina\", \"Christine\", \"Christop\", \"Christophe\", \"Christopher\", \"Christy\", \"Chyna\", \"Ciara\", \"Cicero\", \"Cielo\", \"Cierra\", \"Cindy\", \"Citlalli\", \"Clair\", \"Claire\", \"Clara\", \"Clarabelle\", \"Clare\", \"Clarissa\", \"Clark\", \"Claud\", \"Claude\", \"Claudia\", \"Claudie\", \"Claudine\", \"Clay\", \"Clemens\", \"Clement\", \"Clementina\", \"Clementine\", \"Clemmie\", \"Cleo\", \"Cleora\", \"Cletus\", \"Cleve\", \"Cleveland\", \"Clifford\", \"Clifton\", \"Clint\", \"Clinton\", \"Clotilde\", \"Clovis\", \"Clyde\", \"Coby\", \"Cody\", \"Colby\", \"Cole\", \"Coleman\", \"Colin\", \"Colleen\", \"Collin\", \"Colt\", \"Colten\", \"Colton\", \"Columbus\", \"Concepcion\", \"Conner\", \"Connie\", \"Connor\", \"Conor\", \"Conrad\", \"Constantin\", \"Consuelo\", \"Cora\", \"Coralie\", \"Corbin\", \"Cordelia\", \"Cordell\", \"Cordia\", \"Cordie\", \"Corene\", \"Corine\", \"Cornelius\", \"Cornell\", \"Corrine\", \"Cortez\", \"Cortney\", \"Cory\", \"Coty\", \"Courtney\", \"Coy\", \"Craig\", \"Crawford\", \"Creola\", \"Cristal\", \"Cristian\", \"Cristina\", \"Cristobal\", \"Cristopher\", \"Cruz\", \"Crystal\", \"Crystel\", \"Cullen\", \"Curt\", \"Curtis\", \"Cydney\", \"Cyril\", \"Dagmar\", \"Dahlia\", \"Daija\", \"Daisha\", \"Daisy\", \"Dakota\", \"Dale\", \"Dallas\", \"Dallin\", \"Dalton\", \"Damaris\", \"Dameon\", \"Damian\", \"Damien\", \"Damion\", \"Damon\", \"Dan\", \"Dana\", \"Dandre\", \"Dane\", \"Dangelo\", \"Danial\", \"Daniela\", \"Daniella\", \"Danika\", \"Dannie\", \"Danny\", \"Dante\", \"Danyka\", \"Daphne\", \"Daphnee\", \"Daphney\", \"Darby\", \"Daren\", \"Darian\", \"Dariana\", \"Darien\", \"Dario\", \"Darion\", \"Darius\", \"Darlene\", \"Daron\", \"Darrel\", \"Darrell\", \"Darren\", \"Darrick\", \"Darrin\", \"Darrion\", \"Darron\", \"Darryl\", \"Darwin\", \"Daryl\", \"Dashawn\", \"Dasia\", \"Dave\", \"David\", \"Davin\", \"Davion\", \"Davon\", \"Davonte\", \"Dawn\", \"Dawson\", \"Dax\", \"Dayana\", \"Dayna\", \"Dayne\", \"Dayton\", \"Dean\", \"Deangelo\", \"Deanna\", \"Deborah\", \"Declan\", \"Dedric\", \"Dedrick\", \"Deion\", \"Deja\", \"Dejah\", \"Dejon\", \"Dejuan\", \"Delaney\", \"Delbert\", \"Delfina\", \"Delia\", \"Delilah\", \"Dell\", \"Della\", \"Delmer\", \"Delores\", \"Delpha\", \"Delphia\", \"Delta\", \"Demarco\", \"Demarcus\", \"Demario\", \"Demetris\", \"Demetrius\", \"Demond\", \"Dena\", \"Denis\", \"Dennis\", \"Deon\", \"Deondre\", \"Deontae\", \"Deonte\", \"Dereck\", \"Derek\", \"Derick\", \"Deron\", \"Derrick\", \"Deshaun\", \"Deshawn\", \"Desiree\", \"Desmond\", \"Dessie\", \"Destany\", \"Destin\", \"Destinee\", \"Destiney\", \"Destini\", \"Destiny\", \"Devan\", \"Devante\", \"Deven\", \"Devin\", \"Devon\", \"Devonte\", \"Devyn\", \"Dewayne\", \"Dewitt\", \"Dexter\", \"Diamond\", \"Diana\", \"Dianna\", \"Diego\", \"Dillan\", \"Dillon\", \"Dimitri\", \"Dina\", \"Dino\", \"Dion\", \"Dixie\", \"Dock\", \"Dolly\", \"Dolores\", \"Domenic\", \"Domenica\", \"Domenick\", \"Domenico\", \"Domingo\", \"Dominic\", \"Dominique\", \"Don\", \"Donald\", \"Donato\", \"Donavon\", \"Donna\", \"Donnell\", \"Donnie\", \"Donny\", \"Dora\", \"Dorcas\", \"Dorian\", \"Doris\", \"Dorothea\", \"Dorothy\", \"Dorris\", \"Dortha\", \"Dorthy\", \"Doug\", \"Douglas\", \"Dovie\", \"Doyle\", \"Drake\", \"Drew\", \"Duane\", \"Dudley\", \"Dulce\", \"Duncan\", \"Durward\", \"Dustin\", \"Dusty\", \"Dwight\", \"Dylan\", \"Earl\", \"Earlene\", \"Earnest\", \"Earnestine\", \"Easter\", \"Easton\", \"Ebba\", \"Ed\", \"Eda\", \"Edd\", \"Eddie\", \"Eden\", \"Edgar\", \"Edgardo\", \"Edison\", \"Edmond\", \"Edmund\", \"Edna\", \"Eduardo\", \"Edward\", \"Edwardo\", \"Edwin\", \"Edwina\", \"Edyth\", \"Edythe\", \"Effie\", \"Efrain\", \"Efren\", \"Eileen\", \"Einar\", \"Eino\", \"Eladio\", \"Elaina\", \"Elbert\", \"Elda\", \"Eldon\", \"Eldora\", \"Eldred\", \"Eldridge\", \"Eleanora\", \"Eleanore\", \"Eleazar\", \"Electa\", \"Elena\", \"Elenor\", \"Elenora\", \"Eleonore\", \"Eli\", \"Elian\", \"Elias\", \"Eliezer\", \"Elijah\", \"Elinor\", \"Elinore\", \"Elisa\", \"Elisabeth\", \"Elise\", \"Eliseo\", \"Elisha\", \"Elissa\", \"Eliza\", \"Elizabeth\", \"Ella\", \"Ellen\", \"Ellie\", \"Elliot\", \"Elliott\", \"Ellis\", \"Ellsworth\", \"Elmer\", \"Elmira\", \"Elmo\", \"Elmore\", \"Elna\", \"Elnora\", \"Elody\", \"Eloisa\", \"Eloise\", \"Elouise\", \"Eloy\", \"Elroy\", \"Elsa\", \"Else\", \"Elsie\", \"Elta\", \"Elton\", \"Elva\", \"Elvera\", \"Elvie\", \"Elvis\", \"Elwin\", \"Elwyn\", \"Elyse\", \"Elyssa\", \"Elza\", \"Emanuel\", \"Emelia\", \"Emelie\", \"Emely\", \"Emerald\", \"Emerson\", \"Emery\", \"Emie\", \"Emil\", \"Emile\", \"Emilia\", \"Emiliano\", \"Emilie\", \"Emilio\", \"Emily\", \"Emma\", \"Emmalee\", \"Emmanuel\", \"Emmanuelle\", \"Emmet\", \"Emmett\", \"Emmie\", \"Emmitt\", \"Emmy\", \"Emory\", \"Ena\", \"Enid\", \"Enoch\", \"Enola\", \"Enos\", \"Enrico\", \"Enrique\", \"Ephraim\", \"Era\", \"Eriberto\", \"Eric\", \"Erica\", \"Erich\", \"Erick\", \"Ericka\", \"Erik\", \"Erika\", \"Erin\", \"Erling\", \"Erna\", \"Ernest\", \"Ernestina\", \"Ernestine\", \"Ernesto\", \"Ernie\", \"Ervin\", \"Erwin\", \"Eryn\", \"Esmeralda\", \"Esperanza\", \"Esta\", \"Esteban\", \"Estefania\", \"Estell\", \"Estella\", \"Estelle\", \"Estevan\", \"Esther\", \"Estrella\", \"Etha\", \"Ethan\", \"Ethel\", \"Ethelyn\", \"Ethyl\", \"Ettie\", \"Eudora\", \"Eugene\", \"Eugenia\", \"Eula\", \"Eulah\", \"Eulalia\", \"Euna\", \"Eunice\", \"Eusebio\", \"Eva\", \"Evalyn\", \"Evan\", \"Evangeline\", \"Evans\", \"Eve\", \"Eveline\", \"Evelyn\", \"Everardo\", \"Everett\", \"Everette\", \"Evert\", \"Evie\", \"Ewald\", \"Ewell\", \"Ezekiel\", \"Ezequiel\", \"Ezra\", \"Fabian\", \"Fabiola\", \"Fae\", \"Fannie\", \"Fanny\", \"Fatima\", \"Faustino\", \"Fausto\", \"Favian\", \"Fay\", \"Faye\", \"Federico\", \"Felicia\", \"Felicita\", \"Felicity\", \"Felipa\", \"Felipe\", \"Felix\", \"Felton\", \"Fermin\", \"Fern\", \"Fernando\", \"Ferne\", \"Fidel\", \"Filiberto\", \"Filomena\", \"Finn\", \"Fiona\", \"Flavie\", \"Fleta\", \"Fletcher\", \"Flo\", \"Florence\", \"Florencio\", \"Florian\", \"Florida\", \"Florine\", \"Flossie\", \"Floy\", \"Floyd\", \"Ford\", \"Forrest\", \"Foster\", \"Frances\", \"Francesca\", \"Francesco\", \"Francis\", \"Francisca\", \"Francisco\", \"Franco\", \"Frank\", \"Frankie\", \"Franz\", \"Fred\", \"Freda\", \"Freddie\", \"Frederic\", \"Frederick\", \"Frederik\", \"Frederique\", \"Fredrick\", \"Fredy\", \"Freeda\", \"Freeman\", \"Freida\", \"Frida\", \"Frieda\", \"Friedrich\", \"Fritz\", \"Furman\", \"Gabriel\", \"Gabriella\", \"Gabrielle\", \"Gaetano\", \"Gage\", \"Gail\", \"Gardner\", \"Garett\", \"Garfield\", \"Garland\", \"Garnet\", \"Garnett\", \"Garret\", \"Garrett\", \"Garrick\", \"Garrison\", \"Garry\", \"Garth\", \"Gaston\", \"Gavin\", \"Gayle\", \"Gene\", \"General\", \"Genesis\", \"Genevieve\", \"Gennaro\", \"Genoveva\", \"Geo\", \"Geoffrey\", \"George\", \"Georgette\", \"Georgiana\", \"Georgianna\", \"Geovanni\", \"Geovanny\", \"Geovany\", \"Gerald\", \"Geraldine\", \"Gerard\", \"Gerardo\", \"Gerda\", \"Gerhard\", \"Germaine\", \"German\", \"Gerry\", \"Gerson\", \"Gertrude\", \"Gia\", \"Gianni\", \"Gideon\", \"Gilbert\", \"Gilberto\", \"Giles\", \"Gillian\", \"Gina\", \"Gino\", \"Giovani\", \"Giovanna\", \"Giovanni\", \"Giovanny\", \"Gisselle\", \"Giuseppe\", \"Gladyce\", \"Gladys\", \"Glen\", \"Glenda\", \"Glennie\", \"Gloria\", \"Godfrey\", \"Golda\", \"Golden\", \"Gonzalo\", \"Gordon\", \"Grace\", \"Gracie\", \"Graciela\", \"Grady\", \"Graham\", \"Grant\", \"Granville\", \"Grayce\", \"Grayson\", \"Greg\", \"Gregg\", \"Gregoria\", \"Gregorio\", \"Gregory\", \"Greta\", \"Gretchen\", \"Greyson\", \"Griffin\", \"Grover\", \"Guadalupe\", \"Gudrun\", \"Guido\", \"Guillermo\", \"Guiseppe\", \"Gunnar\", \"Gunner\", \"Gus\", \"Gussie\", \"Gust\", \"Gustave\", \"Guy\", \"Gwen\", \"Gwendolyn\", \"Hadley\", \"Hailee\", \"Hailey\", \"Hailie\", \"Hal\", \"Haleigh\", \"Haley\", \"Halie\", \"Halle\", \"Hallie\", \"Hank\", \"Hanna\", \"Hannah\", \"Hans\", \"Hardy\", \"Harley\", \"Harmon\", \"Harmony\", \"Harold\", \"Harrison\", \"Harry\", \"Harvey\", \"Haskell\", \"Hassan\", \"Hassie\", \"Hattie\", \"Haven\", \"Hayden\", \"Haylee\", \"Hayley\", \"Haylie\", \"Hazel\", \"Hazle\", \"Heath\", \"Heather\", \"Heaven\", \"Heber\", \"Heidi\", \"Helen\", \"Helena\", \"Helene\", \"Hellen\", \"Helmer\", \"Heloise\", \"Henderson\", \"Henri\", \"Henriette\", \"Henry\", \"Herbert\", \"Hermann\", \"Hermina\", \"Herminia\", \"Herminio\", \"Hershel\", \"Herta\", \"Hertha\", \"Hester\", \"Hettie\", \"Hilario\", \"Hilbert\", \"Hilda\", \"Hildegard\", \"Hillard\", \"Hillary\", \"Hilma\", \"Hilton\", \"Hipolito\", \"Hiram\", \"Hobart\", \"Holden\", \"Hollie\", \"Hollis\", \"Holly\", \"Hope\", \"Horace\", \"Horacio\", \"Hortense\", \"Hosea\", \"Houston\", \"Howard\", \"Howell\", \"Hoyt\", \"Hubert\", \"Hudson\", \"Hugh\", \"Hulda\", \"Humberto\", \"Hunter\", \"Hyman\", \"Ian\", \"Ibrahim\", \"Icie\", \"Ida\", \"Idell\", \"Idella\", \"Ignacio\", \"Ignatius\", \"Ike\", \"Ila\", \"Ilene\", \"Iliana\", \"Ima\", \"Imani\", \"Imelda\", \"Immanuel\", \"Imogene\", \"Ines\", \"Irma\", \"Irving\", \"Irwin\", \"Isaac\", \"Isabel\", \"Isabell\", \"Isabella\", \"Isabelle\", \"Isac\", \"Isadore\", \"Isai\", \"Isaiah\", \"Isaias\", \"Isidro\", \"Ismael\", \"Isobel\", \"Isom\", \"Issac\", \"Itzel\", \"Iva\", \"Ivah\", \"Ivory\", \"Ivy\", \"Izabella\", \"Izaiah\", \"Jabari\", \"Jacey\", \"Jacinthe\", \"Jacinto\", \"Jack\", \"Jackeline\", \"Jackie\", \"Jacklyn\", \"Jackson\", \"Jacky\", \"Jacques\", \"Jacynthe\", \"Jada\", \"Jade\", \"Jaden\", \"Jadon\", \"Jadyn\", \"Jaeden\", \"Jaida\", \"Jaiden\", \"Jailyn\", \"Jaime\", \"Jairo\", \"Jakayla\", \"Jake\", \"Jakob\", \"Jaleel\", \"Jalen\", \"Jalon\", \"Jalyn\", \"Jamaal\", \"Jamal\", \"Jamar\", \"Jamarcus\", \"Jameson\", \"Jamey\", \"Jamie\", \"Jamil\", \"Jamir\", \"Jamison\", \"Jammie\", \"Jan\", \"Jana\", \"Janae\", \"Jane\", \"Janelle\", \"Janessa\", \"Janet\", \"Janice\", \"Janick\", \"Janie\", \"Janis\", \"Janiya\", \"Jaquan\", \"Jaquelin\", \"Jaqueline\", \"Jared\", \"Jaren\", \"Jarod\", \"Jaron\", \"Jarred\", \"Jarrell\", \"Jarret\", \"Jarrett\", \"Jarrod\", \"Jarvis\", \"Jasen\", \"Jasmin\", \"Jason\", \"Jasper\", \"Jaunita\", \"Javier\", \"Javon\", \"Javonte\", \"Jay\", \"Jayce\", \"Jaycee\", \"Jayda\", \"Jayde\", \"Jayden\", \"Jaydon\", \"Jaylan\", \"Jaylin\", \"Jaylon\", \"Jayme\", \"Jayne\", \"Jayson\", \"Jazlyn\", \"Jazmin\", \"Jazmyn\", \"Jazmyne\", \"Jean\", \"Jeanie\", \"Jeanne\", \"Jed\", \"Jedediah\", \"Jedidiah\", \"Jeff\", \"Jefferey\", \"Jeffery\", \"Jeffrey\", \"Jeffry\", \"Jena\", \"Jenifer\", \"Jennie\", \"Jennifer\", \"Jennings\", \"Jensen\", \"Jerad\", \"Jerald\", \"Jeramie\", \"Jeramy\", \"Jerel\", \"Jeremie\", \"Jeremy\", \"Jermain\", \"Jermaine\", \"Jermey\", \"Jerod\", \"Jerome\", \"Jeromy\", \"Jerrell\", \"Jerrod\", \"Jerrold\", \"Jerry\", \"Jess\", \"Jesse\", \"Jessica\", \"Jessie\", \"Jessika\", \"Jessy\", \"Jessyca\", \"Jesus\", \"Jett\", \"Jettie\", \"Jevon\", \"Jewel\", \"Jewell\", \"Jillian\", \"Jimmie\", \"Jo\", \"Joan\", \"Joana\", \"Joanie\", \"Joanne\", \"Joannie\", \"Joanny\", \"Joaquin\", \"Jocelyn\", \"Jodie\", \"Jody\", \"Joe\", \"Joel\", \"Joelle\", \"Joesph\", \"Joey\", \"Johan\", \"Johann\", \"Johathan\", \"John\", \"Johnathan\", \"Johnathon\", \"Johnnie\", \"Johnny\", \"Johnpaul\", \"Johnson\", \"Jolie\", \"Jon\", \"Jonas\", \"Jonatan\", \"Jonathan\", \"Jonathon\", \"Jordan\", \"Jordane\", \"Jordi\", \"Jordon\", \"Jordy\", \"Jordyn\", \"Jorge\", \"Jose\", \"Josefa\", \"Josefina\", \"Joseph\", \"Josephine\", \"Josh\", \"Joshuah\", \"Josiah\", \"Josiane\", \"Josianne\", \"Josie\", \"Josue\", \"Jovan\", \"Jovani\", \"Jovanny\", \"Jovany\", \"Joy\", \"Joyce\", \"Juana\", \"Juanita\", \"Judah\", \"Judd\", \"Jude\", \"Judge\", \"Judy\", \"Jules\", \"Julia\", \"Julian\", \"Juliana\", \"Julianne\", \"Julie\", \"Julien\", \"Juliet\", \"Julio\", \"Julius\", \"June\", \"Junior\", \"Junius\", \"Justen\", \"Justice\", \"Justina\", \"Juston\", \"Justus\", \"Justyn\", \"Juvenal\", \"Juwan\", \"Kacey\", \"Kaci\", \"Kacie\", \"Kade\", \"Kaden\", \"Kadin\", \"Kaela\", \"Kaelyn\", \"Kaia\", \"Kailee\", \"Kailey\", \"Kailyn\", \"Kaitlin\", \"Kaitlyn\", \"Kale\", \"Kaleb\", \"Kaleigh\", \"Kaley\", \"Kali\", \"Kallie\", \"Kameron\", \"Kamille\", \"Kamren\", \"Kamron\", \"Kamryn\", \"Kane\", \"Kara\", \"Kareem\", \"Karelle\", \"Karen\", \"Kari\", \"Kariane\", \"Karianne\", \"Karina\", \"Karine\", \"Karl\", \"Karlee\", \"Karley\", \"Karli\", \"Karlie\", \"Karolann\", \"Karson\", \"Kasandra\", \"Kasey\", \"Kassandra\", \"Katarina\", \"Katelin\", \"Katelyn\", \"Katelynn\", \"Katharina\", \"Katherine\", \"Katheryn\", \"Kathleen\", \"Kathlyn\", \"Kathryn\", \"Kathryne\", \"Katlyn\", \"Katlynn\", \"Katrina\", \"Katrine\", \"Kattie\", \"Kavon\", \"Kay\", \"Kaya\", \"Kaycee\", \"Kayden\", \"Kayla\", \"Kaylah\", \"Kaylee\", \"Kayley\", \"Kayli\", \"Kaylie\", \"Kaylin\", \"Keagan\", \"Keanu\", \"Keara\", \"Keaton\", \"Keegan\", \"Keeley\", \"Keely\", \"Keenan\", \"Keira\", \"Keith\", \"Kellen\", \"Kelley\", \"Kelli\", \"Kellie\", \"Kelly\", \"Kelsi\", \"Kelsie\", \"Kelton\", \"Kelvin\", \"Ken\", \"Kendall\", \"Kendra\", \"Kendrick\", \"Kenna\", \"Kennedi\", \"Kennedy\", \"Kenneth\", \"Kenny\", \"Kenton\", \"Kenya\", \"Kenyatta\", \"Kenyon\", \"Keon\", \"Keshaun\", \"Keshawn\", \"Keven\", \"Kevin\", \"Kevon\", \"Keyon\", \"Keyshawn\", \"Khalid\", \"Khalil\", \"Kian\", \"Kiana\", \"Kianna\", \"Kiara\", \"Kiarra\", \"Kiel\", \"Kiera\", \"Kieran\", \"Kiley\", \"Kim\", \"Kimberly\", \"King\", \"Kip\", \"Kira\", \"Kirk\", \"Kirsten\", \"Kirstin\", \"Kitty\", \"Kobe\", \"Koby\", \"Kody\", \"Kolby\", \"Kole\", \"Korbin\", \"Korey\", \"Kory\", \"Kraig\", \"Kris\", \"Krista\", \"Kristian\", \"Kristin\", \"Kristina\", \"Kristofer\", \"Kristoffer\", \"Kristopher\", \"Kristy\", \"Krystal\", \"Krystel\", \"Krystina\", \"Kurt\", \"Kurtis\", \"Kyla\", \"Kyle\", \"Kylee\", \"Kyleigh\", \"Kyler\", \"Kylie\", \"Kyra\", \"Lacey\", \"Lacy\", \"Ladarius\", \"Lafayette\", \"Laila\", \"Laisha\", \"Lamar\", \"Lambert\", \"Lamont\", \"Lance\", \"Landen\", \"Lane\", \"Laney\", \"Larissa\", \"Laron\", \"Larry\", \"Larue\", \"Laura\", \"Laurel\", \"Lauren\", \"Laurence\", \"Lauretta\", \"Lauriane\", \"Laurianne\", \"Laurie\", \"Laurine\", \"Laury\", \"Lauryn\", \"Lavada\", \"Lavern\", \"Laverna\", \"Lavina\", \"Lavinia\", \"Lavon\", \"Lavonne\", \"Lawrence\", \"Lawson\", \"Layla\", \"Layne\", \"Lazaro\", \"Lea\", \"Leann\", \"Leanna\", \"Leanne\", \"Leatha\", \"Leda\", \"Lee\", \"Leif\", \"Leila\", \"Leilani\", \"Lela\", \"Lelah\", \"Leland\", \"Lelia\", \"Lempi\", \"Lemuel\", \"Lenna\", \"Lennie\", \"Lenny\", \"Lenora\", \"Lenore\", \"Leo\", \"Leola\", \"Leon\", \"Leonard\", \"Leonardo\", \"Leone\", \"Leonel\", \"Leonie\", \"Leonor\", \"Leonora\", \"Leopold\", \"Leopoldo\", \"Leora\", \"Lera\", \"Lesley\", \"Leslie\", \"Lesly\", \"Lessie\", \"Lester\", \"Leta\", \"Letha\", \"Letitia\", \"Levi\", \"Lew\", \"Lewis\", \"Lexi\", \"Lexie\", \"Lexus\", \"Lia\", \"Liam\", \"Liana\", \"Libbie\", \"Libby\", \"Lila\", \"Lilian\", \"Liliana\", \"Liliane\", \"Lilla\", \"Lillian\", \"Lilliana\", \"Lillie\", \"Lilly\", \"Lily\", \"Lilyan\", \"Lina\", \"Lincoln\", \"Linda\", \"Lindsay\", \"Lindsey\", \"Linnea\", \"Linnie\", \"Linwood\", \"Lionel\", \"Lisa\", \"Lisandro\", \"Lisette\", \"Litzy\", \"Liza\", \"Lizeth\", \"Lizzie\", \"Llewellyn\", \"Lloyd\", \"Logan\", \"Lois\", \"Lola\", \"Lolita\", \"Loma\", \"Lon\", \"London\", \"Lonie\", \"Lonnie\", \"Lonny\", \"Lonzo\", \"Lora\", \"Loraine\", \"Loren\", \"Lorena\", \"Lorenz\", \"Lorenza\", \"Lorenzo\", \"Lori\", \"Lorine\", \"Lorna\", \"Lottie\", \"Lou\", \"Louie\", \"Lourdes\", \"Louvenia\", \"Lowell\", \"Loy\", \"Loyal\", \"Loyce\", \"Lucas\", \"Luciano\", \"Lucie\", \"Lucienne\", \"Lucile\", \"Lucinda\", \"Lucio\", \"Lucious\", \"Lucius\", \"Lucy\", \"Ludie\", \"Ludwig\", \"Lue\", \"Luella\", \"Luigi\", \"Luis\", \"Luisa\", \"Lukas\", \"Lula\", \"Lulu\", \"Luna\", \"Lupe\", \"Lura\", \"Lurline\", \"Luther\", \"Luz\", \"Lyda\", \"Lydia\", \"Lyla\", \"Lynn\", \"Lyric\", \"Lysanne\", \"Mabel\", \"Mabelle\", \"Mable\", \"Mac\", \"Macey\", \"Maci\", \"Macie\", \"Mack\", \"Mackenzie\", \"Macy\", \"Madaline\", \"Madalyn\", \"Maddison\", \"Madeline\", \"Madelyn\", \"Madelynn\", \"Madge\", \"Madie\", \"Madilyn\", \"Madisen\", \"Madison\", \"Madisyn\", \"Madonna\", \"Madyson\", \"Mae\", \"Maegan\", \"Maeve\", \"Mafalda\", \"Magali\", \"Magdalen\", \"Magdalena\", \"Maggie\", \"Magnolia\", \"Magnus\", \"Maia\", \"Maida\", \"Maiya\", \"Major\", \"Makayla\", \"Makenna\", \"Makenzie\", \"Malachi\", \"Malcolm\", \"Malinda\", \"Mallie\", \"Mallory\", \"Malvina\", \"Mandy\", \"Manley\", \"Manuel\", \"Manuela\", \"Mara\", \"Marc\", \"Marcel\", \"Marcelina\", \"Marcelino\", \"Marcella\", \"Marcelle\", \"Marcellus\", \"Marcelo\", \"Marcia\", \"Marco\", \"Marcos\", \"Marcus\", \"Margaret\", \"Margarete\", \"Margarett\", \"Margaretta\", \"Margarette\", \"Margarita\", \"Marge\", \"Margie\", \"Margot\", \"Margret\", \"Marguerite\", \"Maria\", \"Mariah\", \"Mariam\", \"Marian\", \"Mariana\", \"Mariane\", \"Marianna\", \"Marianne\", \"Mariano\", \"Maribel\", \"Marie\", \"Mariela\", \"Marielle\", \"Marietta\", \"Marilie\", \"Marilou\", \"Marilyne\", \"Marina\", \"Mario\", \"Marion\", \"Marisa\", \"Marisol\", \"Maritza\", \"Marjolaine\", \"Marjorie\", \"Marjory\", \"Mark\", \"Markus\", \"Marlee\", \"Marlen\", \"Marlene\", \"Marley\", \"Marlin\", \"Marlon\", \"Marques\", \"Marquis\", \"Marquise\", \"Marshall\", \"Marta\", \"Martin\", \"Martina\", \"Martine\", \"Marty\", \"Marvin\", \"Mary\", \"Maryam\", \"Maryjane\", \"Maryse\", \"Mason\", \"Mateo\", \"Mathew\", \"Mathias\", \"Mathilde\", \"Matilda\", \"Matilde\", \"Matt\", \"Matteo\", \"Mattie\", \"Maud\", \"Maude\", \"Maudie\", \"Maureen\", \"Maurice\", \"Mauricio\", \"Maurine\", \"Maverick\", \"Mavis\", \"Max\", \"Maxie\", \"Maxime\", \"Maximilian\", \"Maximillia\", \"Maximillian\", \"Maximo\", \"Maximus\", \"Maxine\", \"Maxwell\", \"May\", \"Maybell\", \"Maybelle\", \"Maye\", \"Maymie\", \"Maynard\", \"Mayra\", \"Mazie\", \"Mckayla\", \"Mckenna\", \"Mckenzie\", \"Meagan\", \"Meaghan\", \"Meda\", \"Megane\", \"Meggie\", \"Meghan\", \"Mekhi\", \"Melany\", \"Melba\", \"Melisa\", \"Melissa\", \"Mellie\", \"Melody\", \"Melvin\", \"Melvina\", \"Melyna\", \"Melyssa\", \"Mercedes\", \"Meredith\", \"Merl\", \"Merle\", \"Merlin\", \"Merritt\", \"Mertie\", \"Mervin\", \"Meta\", \"Mia\", \"Micaela\", \"Micah\", \"Michael\", \"Michaela\", \"Michale\", \"Micheal\", \"Michel\", \"Michele\", \"Michelle\", \"Miguel\", \"Mikayla\", \"Mike\", \"Mikel\", \"Milan\", \"Miles\", \"Milford\", \"Miller\", \"Milo\", \"Milton\", \"Mina\", \"Minerva\", \"Minnie\", \"Miracle\", \"Mireille\", \"Mireya\", \"Misael\", \"Missouri\", \"Misty\", \"Mitchel\", \"Mitchell\", \"Mittie\", \"Modesta\", \"Modesto\", \"Mohamed\", \"Mohammad\", \"Mohammed\", \"Moises\", \"Mollie\", \"Molly\", \"Mona\", \"Monica\", \"Monique\", \"Monserrat\", \"Monserrate\", \"Montana\", \"Monte\", \"Monty\", \"Morgan\", \"Moriah\", \"Morris\", \"Mortimer\", \"Morton\", \"Mose\", \"Moses\", \"Moshe\", \"Mossie\", \"Mozelle\", \"Muhammad\", \"Muriel\", \"Murl\", \"Murphy\", \"Murray\", \"Mustafa\", \"Mya\", \"Myah\", \"Mylene\", \"Myles\", \"Myra\", \"Myriam\", \"Myrl\", \"Myrna\", \"Myron\", \"Myrtice\", \"Myrtie\", \"Myrtle\", \"Nadia\", \"Nakia\", \"Name\", \"Nannie\", \"Naomi\", \"Naomie\", \"Napoleon\", \"Narciso\", \"Nash\", \"Nasir\", \"Nat\", \"Natalia\", \"Natalie\", \"Natasha\", \"Nathan\", \"Nathanael\", \"Nathanial\", \"Nathaniel\", \"Nathen\", \"Nayeli\", \"Neal\", \"Ned\", \"Nedra\", \"Neha\", \"Neil\", \"Nelda\", \"Nelle\", \"Nellie\", \"Nels\", \"Nelson\", \"Neoma\", \"Nestor\", \"Nettie\", \"Neva\", \"Newton\", \"Nia\", \"Nicholas\", \"Nicholaus\", \"Nichole\", \"Nick\", \"Nicklaus\", \"Nickolas\", \"Nico\", \"Nicola\", \"Nicolas\", \"Nicole\", \"Nicolette\", \"Nigel\", \"Nikita\", \"Nikki\", \"Nikko\", \"Niko\", \"Nikolas\", \"Nils\", \"Nina\", \"Noah\", \"Noble\", \"Noe\", \"Noel\", \"Noelia\", \"Noemi\", \"Noemie\", \"Noemy\", \"Nola\", \"Nolan\", \"Nona\", \"Nora\", \"Norbert\", \"Norberto\", \"Norene\", \"Norma\", \"Norris\", \"Norval\", \"Norwood\", \"Nova\", \"Novella\", \"Nya\", \"Nyah\", \"Nyasia\", \"Obie\", \"Oceane\", \"Ocie\", \"Octavia\", \"Oda\", \"Odell\", \"Odessa\", \"Odie\", \"Ofelia\", \"Okey\", \"Ola\", \"Olaf\", \"Ole\", \"Olen\", \"Oleta\", \"Olga\", \"Olin\", \"Oliver\", \"Ollie\", \"Oma\", \"Omari\", \"Omer\", \"Ona\", \"Onie\", \"Opal\", \"Ophelia\", \"Ora\", \"Oral\", \"Oran\", \"Oren\", \"Orie\", \"Orin\", \"Orion\", \"Orland\", \"Orlando\", \"Orlo\", \"Orpha\", \"Orrin\", \"Orval\", \"Orville\", \"Osbaldo\", \"Osborne\", \"Oscar\", \"Osvaldo\", \"Oswald\", \"Oswaldo\", \"Otha\", \"Otho\", \"Otilia\", \"Otis\", \"Ottilie\", \"Ottis\", \"Otto\", \"Ova\", \"Owen\", \"Ozella\", \"Pablo\", \"Paige\", \"Palma\", \"Pamela\", \"Pansy\", \"Parker\", \"Pascale\", \"Pasquale\", \"Pat\", \"Patience\", \"Patricia\", \"Patrick\", \"Patsy\", \"Pattie\", \"Paul\", \"Paula\", \"Pauline\", \"Paxton\", \"Payton\", \"Pearl\", \"Pearlie\", \"Pedro\", \"Peggie\", \"Penelope\", \"Percival\", \"Percy\", \"Perry\", \"Pete\", \"Petra\", \"Peyton\", \"Philip\", \"Phoebe\", \"Phyllis\", \"Pierce\", \"Pierre\", \"Pietro\", \"Pink\", \"Pinkie\", \"Piper\", \"Polly\", \"Porter\", \"Precious\", \"Presley\", \"Preston\", \"Price\", \"Prince\", \"Princess\", \"Priscilla\", \"Providenci\", \"Prudence\", \"Queen\", \"Queenie\", \"Quentin\", \"Quincy\", \"Quinn\", \"Quinton\", \"Rachael\", \"Rachel\", \"Rachelle\", \"Rae\", \"Raegan\", \"Rafael\", \"Rafaela\", \"Raheem\", \"Rahsaan\", \"Rahul\", \"Raina\", \"Raleigh\", \"Ralph\", \"Ramiro\", \"Ramon\", \"Ramona\", \"Randal\", \"Randall\", \"Randi\", \"Randy\", \"Ransom\", \"Raoul\", \"Raphael\", \"Raphaelle\", \"Raquel\", \"Rashad\", \"Rashawn\", \"Rasheed\", \"Raul\", \"Raven\", \"Ray\", \"Raymond\", \"Raymundo\", \"Reagan\", \"Reanna\", \"Rebeca\", \"Rebecca\", \"Rebeka\", \"Rebekah\", \"Reece\", \"Reed\", \"Reese\", \"Regan\", \"Reggie\", \"Reginald\", \"Reid\", \"Reilly\", \"Reina\", \"Reinhold\", \"Remington\", \"Rene\", \"Renee\", \"Ressie\", \"Reta\", \"Retha\", \"Retta\", \"Reuben\", \"Reva\", \"Rex\", \"Rey\", \"Reyes\", \"Reymundo\", \"Reyna\", \"Reynold\", \"Rhea\", \"Rhett\", \"Rhianna\", \"Rhiannon\", \"Rhoda\", \"Ricardo\", \"Richard\", \"Richie\", \"Richmond\", \"Rick\", \"Rickey\", \"Rickie\", \"Ricky\", \"Rico\", \"Rigoberto\", \"Riley\", \"Rita\", \"River\", \"Robb\", \"Robbie\", \"Robert\", \"Roberta\", \"Roberto\", \"Robin\", \"Robyn\", \"Rocio\", \"Rocky\", \"Rod\", \"Rodger\", \"Rodolfo\", \"Rodrick\", \"Rodrigo\", \"Roel\", \"Rogelio\", \"Roger\", \"Rogers\", \"Rolando\", \"Rollin\", \"Roma\", \"Romaine\", \"Roman\", \"Ron\", \"Ronaldo\", \"Ronny\", \"Roosevelt\", \"Rory\", \"Rosa\", \"Rosalee\", \"Rosalind\", \"Rosalinda\", \"Rosalyn\", \"Rosamond\", \"Rosanna\", \"Rosario\", \"Roscoe\", \"Rose\", \"Rosella\", \"Roselyn\", \"Rosemarie\", \"Rosendo\", \"Rosetta\", \"Rosie\", \"Rosina\", \"Roslyn\", \"Ross\", \"Rossie\", \"Rowena\", \"Rowland\", \"Roxane\", \"Roxanne\", \"Roy\", \"Royal\", \"Royce\", \"Rozella\", \"Ruben\", \"Rubie\", \"Ruby\", \"Rubye\", \"Rudolph\", \"Rudy\", \"Rupert\", \"Russ\", \"Russel\", \"Rusty\", \"Ruth\", \"Ruthe\", \"Ruthie\", \"Ryan\", \"Ryann\", \"Ryder\", \"Rylan\", \"Rylee\", \"Ryleigh\", \"Ryley\", \"Sabina\", \"Sabrina\", \"Sabryna\", \"Sadie\", \"Sadye\", \"Sage\", \"Saige\", \"Sallie\", \"Sally\", \"Salma\", \"Salvador\", \"Salvatore\", \"Sam\", \"Samanta\", \"Samantha\", \"Samara\", \"Samir\", \"Sammie\", \"Sammy\", \"Samson\", \"Sandra\", \"Sandrine\", \"Sandy\", \"Sanford\", \"Santa\", \"Santiago\", \"Santina\", \"Santino\", \"Santos\", \"Sarah\", \"Sarai\", \"Sarina\", \"Sasha\", \"Saul\", \"Savanah\", \"Savanna\", \"Savannah\", \"Savion\", \"Scarlett\", \"Schuyler\", \"Scot\", \"Scottie\", \"Scotty\", \"Seamus\", \"Sean\", \"Sebastian\", \"Sedrick\", \"Selena\", \"Selina\", \"Selmer\", \"Serena\", \"Serenity\", \"Seth\", \"Shad\", \"Shaina\", \"Shakira\", \"Shana\", \"Shane\", \"Shanel\", \"Shanelle\", \"Shania\", \"Shanie\", \"Shaniya\", \"Shanna\", \"Shannon\", \"Shanny\", \"Shanon\", \"Shany\", \"Sharon\", \"Shaun\", \"Shawn\", \"Shawna\", \"Shaylee\", \"Shayne\", \"Shea\", \"Sheila\", \"Sheldon\", \"Shemar\", \"Sheridan\", \"Sherman\", \"Sherwood\", \"Shirley\", \"Shyann\", \"Shyanne\", \"Sibyl\", \"Sid\", \"Sidney\", \"Sienna\", \"Sierra\", \"Sigmund\", \"Sigrid\", \"Sigurd\", \"Silas\", \"Sim\", \"Simeon\", \"Simone\", \"Sincere\", \"Sister\", \"Skye\", \"Skyla\", \"Skylar\", \"Sofia\", \"Soledad\", \"Solon\", \"Sonia\", \"Sonny\", \"Sonya\", \"Sophia\", \"Sophie\", \"Spencer\", \"Stacey\", \"Stacy\", \"Stan\", \"Stanford\", \"Stanley\", \"Stanton\", \"Stefan\", \"Stefanie\", \"Stella\", \"Stephan\", \"Stephania\", \"Stephanie\", \"Stephany\", \"Stephen\", \"Stephon\", \"Sterling\", \"Steve\", \"Stevie\", \"Stewart\", \"Stuart\", \"Summer\", \"Sunny\", \"Susan\", \"Susana\", \"Susanna\", \"Susie\", \"Suzanne\", \"Sven\", \"Syble\", \"Sydnee\", \"Sydney\", \"Sydni\", \"Sydnie\", \"Sylvan\", \"Sylvester\", \"Sylvia\", \"Tabitha\", \"Tad\", \"Talia\", \"Talon\", \"Tamara\", \"Tamia\", \"Tania\", \"Tanner\", \"Tanya\", \"Taryn\", \"Tate\", \"Tatum\", \"Tatyana\", \"Taurean\", \"Tavares\", \"Taya\", \"Taylor\", \"Teagan\", \"Ted\", \"Telly\", \"Terence\", \"Teresa\", \"Terrance\", \"Terrence\", \"Terrill\", \"Terry\", \"Tess\", \"Tessie\", \"Tevin\", \"Thad\", \"Thaddeus\", \"Thalia\", \"Thea\", \"Thelma\", \"Theo\", \"Theodora\", \"Theodore\", \"Therese\", \"Theron\", \"Thomas\", \"Thora\", \"Thurman\", \"Tia\", \"Tiana\", \"Tianna\", \"Tiara\", \"Tierra\", \"Tiffany\", \"Tillman\", \"Timmothy\", \"Timmy\", \"Timothy\", \"Tina\", \"Tito\", \"Titus\", \"Tobin\", \"Tod\", \"Tom\", \"Tomas\", \"Tomasa\", \"Tommie\", \"Toney\", \"Toni\", \"Tony\", \"Torey\", \"Torrance\", \"Toy\", \"Trace\", \"Tracey\", \"Tracy\", \"Travis\", \"Travon\", \"Tre\", \"Tremaine\", \"Tremayne\", \"Trent\", \"Tressa\", \"Tressie\", \"Treva\", \"Trever\", \"Trevion\", \"Trevor\", \"Trinity\", \"Trisha\", \"Tristian\", \"Tristin\", \"Triston\", \"Troy\", \"Trudie\", \"Trycia\", \"Trystan\", \"Turner\", \"Twila\", \"Tyler\", \"Tyra\", \"Tyree\", \"Tyreek\", \"Tyrel\", \"Tyrell\", \"Tyrese\", \"Tyrique\", \"Tyshawn\", \"Tyson\", \"Ubaldo\", \"Ulices\", \"Ulises\", \"Una\", \"Unique\", \"Urban\", \"Uriah\", \"Uriel\", \"Ursula\", \"Vada\", \"Valentin\", \"Valentina\", \"Valentine\", \"Valerie\", \"Vallie\", \"Van\", \"Vance\", \"Vanessa\", \"Vaughn\", \"Veda\", \"Velda\", \"Vella\", \"Velma\", \"Velva\", \"Vena\", \"Verda\", \"Verdie\", \"Vergie\", \"Verla\", \"Verlie\", \"Vern\", \"Verna\", \"Verner\", \"Vernice\", \"Vernie\", \"Vernon\", \"Verona\", \"Veronica\", \"Vesta\", \"Vicenta\", \"Vicente\", \"Vickie\", \"Vicky\", \"Victor\", \"Victoria\", \"Vida\", \"Vidal\", \"Vilma\", \"Vince\", \"Vincent\", \"Vincenza\", \"Vincenzo\", \"Vinnie\", \"Viola\", \"Violette\", \"Virgie\", \"Virgil\", \"Virginia\", \"Virginie\", \"Vita\", \"Vito\", \"Viva\", \"Vivian\", \"Viviane\", \"Vivianne\", \"Vivien\", \"Vivienne\", \"Vladimir\", \"Wade\", \"Waino\", \"Waldo\", \"Walker\", \"Wallace\", \"Walter\", \"Walton\", \"Wanda\", \"Ward\", \"Watson\", \"Wava\", \"Waylon\", \"Wayne\", \"Webster\", \"Weldon\", \"Wellington\", \"Wendell\", \"Wendy\", \"Werner\", \"Westley\", \"Weston\", \"Whitney\", \"Wilber\", \"Wilbert\", \"Wilburn\", \"Wiley\", \"Wilford\", \"Wilfred\", \"Wilfredo\", \"Wilfrid\", \"Wilhelm\", \"Wilhelmine\", \"Will\", \"Willa\", \"Willard\", \"William\", \"Willie\", \"Willis\", \"Willow\", \"Willy\", \"Wilma\", \"Wilmer\", \"Wilson\", \"Wilton\", \"Winfield\", \"Winifred\", \"Winnifred\", \"Winona\", \"Winston\", \"Woodrow\", \"Wyatt\", \"Wyman\", \"Xander\", \"Xavier\", \"Xzavier\", \"Yadira\", \"Yasmeen\", \"Yasmin\", \"Yasmine\", \"Yazmin\", \"Yesenia\", \"Yessenia\", \"Yolanda\", \"Yoshiko\", \"Yvette\", \"Yvonne\", \"Zachariah\", \"Zachary\", \"Zachery\", \"Zack\", \"Zackary\", \"Zackery\", \"Zakary\", \"Zander\", \"Zane\", \"Zaria\", \"Zechariah\", \"Zelda\", \"Zella\", \"Zelma\", \"Zena\", \"Zetta\", \"Zita\", \"Zoe\", \"Zoey\", \"Zoie\", \"Zoila\", \"Zola\", \"Zora\", \"Zula\"]\n",
        "\n",
        "lastnames = [\"Abbott\", \"Abernathy\", \"Abshire\", \"Adams\", \"Altenwerth\", \"Anderson\", \"Ankunding\", \"Armstrong\", \"Auer\", \"Aufderhar\", \"Bahringer\", \"Bailey\", \"Balistreri\", \"Barrows\", \"Bartell\", \"Bartoletti\", \"Barton\", \"Bashirian\", \"Batz\", \"Bauch\", \"Baumbach\", \"Bayer\", \"Beahan\", \"Beatty\", \"Bechtelar\", \"Becker\", \"Bednar\", \"Beer\", \"Beier\", \"Berge\", \"Bergnaum\", \"Bergstrom\", \"Bernhard\", \"Bernier\", \"Bins\", \"Blanda\", \"Blick\", \"Block\", \"Bode\", \"Boehm\", \"Bogan\", \"Bogisich\", \"Borer\", \"Bosco\", \"Botsford\", \"Boyer\", \"Boyle\", \"Bradtke\", \"Brakus\", \"Braun\", \"Breitenberg\", \"Brekke\", \"Brown\", \"Bruen\", \"Buckridge\", \"Carroll\", \"Carter\", \"Cartwright\", \"Casper\", \"Cassin\", \"Champlin\", \"Christiansen\", \"Cole\", \"Collier\", \"Collins\", \"Conn\", \"Connelly\", \"Conroy\", \"Considine\", \"Corkery\", \"Cormier\", \"Corwin\", \"Cremin\", \"Crist\", \"Crona\", \"Cronin\", \"Crooks\", \"Cruickshank\", \"Dach\", \"Daniel\", \"Dare\", \"Daugherty\", \"Davis\", \"Deckow\", \"Denesik\", \"Dibbert\", \"Dickens\", \"Dicki\", \"Dickinson\", \"Dietrich\", \"Donnelly\", \"Dooley\", \"Douglas\", \"Doyle\", \"DuBuque\", \"Durgan\", \"Ebert\", \"Effertz\", \"Emard\", \"Emmerich\", \"Erdman\", \"Ernser\", \"Fadel\", \"Fahey\", \"Farrell\", \"Fay\", \"Feeney\", \"Feest\", \"Feil\", \"Ferry\", \"Fisher\", \"Flatley\", \"Frami\", \"Franecki\", \"Franey\", \"Friesen\", \"Fritsch\", \"Funk\", \"Gerhold\", \"Gerlach\", \"Gibson\", \"Gislason\", \"Gleason\", \"Gleichner\", \"Glover\", \"Goldner\", \"Goodwin\", \"Gorczany\", \"Gottlieb\", \"Goyette\", \"Grady\", \"Graham\", \"Grant\", \"Green\", \"Greenfelder\", \"Greenholt\", \"Grimes\", \"Gulgowski\", \"Gusikowski\", \"Gutkowski\", \"Gutmann\", \"Haag\", \"Hackett\", \"Hagenes\", \"Hahn\", \"Haley\", \"Halvorson\", \"Hamill\", \"Hammes\", \"Hand\", \"Hane\", \"Hansen\", \"Harber\", \"Harris\", \"Hartmann\", \"Harvey\", \"Hauck\", \"Hayes\", \"Heaney\", \"Heathcote\", \"Hegmann\", \"Heidenreich\", \"Heller\", \"Herman\", \"Hermann\", \"Hermiston\", \"Herzog\", \"Hessel\", \"Hettinger\", \"Hickle\", \"Hilll\", \"Hills\", \"Hilpert\", \"Hintz\", \"Hirthe\", \"Hodkiewicz\", \"Hoeger\", \"Homenick\", \"Hoppe\", \"Howe\", \"Howell\", \"Hudson\", \"Huel\", \"Huels\", \"Hyatt\", \"Jacobi\", \"Jacobs\", \"Jacobson\", \"Jakubowski\", \"Jaskolski\", \"Jast\", \"Jenkins\", \"Jerde\", \"Johns\", \"Johnson\", \"Johnston\", \"Jones\", \"Kassulke\", \"Kautzer\", \"Keebler\", \"Keeling\", \"Kemmer\", \"Kerluke\", \"Kertzmann\", \"Kessler\", \"Kiehn\", \"Kihn\", \"Kilback\", \"King\", \"Kirlin\", \"Klein\", \"Kling\", \"Klocko\", \"Koch\", \"Koelpin\", \"Koepp\", \"Kohler\", \"Konopelski\", \"Koss\", \"Kovacek\", \"Kozey\", \"Krajcik\", \"Kreiger\", \"Kris\", \"Kshlerin\", \"Kub\", \"Kuhic\", \"Kuhlman\", \"Kuhn\", \"Kulas\", \"Kunde\", \"Kunze\", \"Kuphal\", \"Kutch\", \"Kuvalis\", \"Labadie\", \"Lakin\", \"Lang\", \"Langosh\", \"Langworth\", \"Larkin\", \"Larson\", \"Leannon\", \"Lebsack\", \"Ledner\", \"Leffler\", \"Legros\", \"Lehner\", \"Lemke\", \"Lesch\", \"Leuschke\", \"Lind\", \"Lindgren\", \"Littel\", \"Little\", \"Lockman\", \"Lowe\", \"Lubowitz\", \"Lueilwitz\", \"Luettgen\", \"Lynch\", \"MacGyver\", \"Macejkovic\", \"Maggio\", \"Mann\", \"Mante\", \"Marks\", \"Marquardt\", \"Marvin\", \"Mayer\", \"Mayert\", \"McClure\", \"McCullough\", \"McDermott\", \"McGlynn\", \"McKenzie\", \"McLaughlin\", \"Medhurst\", \"Mertz\", \"Metz\", \"Miller\", \"Mills\", \"Mitchell\", \"Moen\", \"Mohr\", \"Monahan\", \"Moore\", \"Morar\", \"Morissette\", \"Mosciski\", \"Mraz\", \"Mueller\", \"Muller\", \"Murazik\", \"Murphy\", \"Murray\", \"Nader\", \"Nicolas\", \"Nienow\", \"Nikolaus\", \"Nitzsche\", \"Nolan\", \"Oberbrunner\", \"Okuneva\", \"Olson\", \"Ondricka\", \"Orn\", \"Ortiz\", \"Osinski\", \"Pacocha\", \"Padberg\", \"Pagac\", \"Parisian\", \"Parker\", \"Paucek\", \"Pfannerstill\", \"Pfeffer\", \"Pollich\", \"Pouros\", \"Powlowski\", \"Predovic\", \"Price\", \"Prohaska\", \"Prosacco\", \"Purdy\", \"Quigley\", \"Quitzon\", \"Rath\", \"Ratke\", \"Rau\", \"Raynor\", \"Reichel\", \"Reichert\", \"Reilly\", \"Reinger\", \"Rempel\", \"Renner\", \"Reynolds\", \"Rice\", \"Rippin\", \"Ritchie\", \"Robel\", \"Roberts\", \"Rodriguez\", \"Rogahn\", \"Rohan\", \"Rolfson\", \"Romaguera\", \"Roob\", \"Rosenbaum\", \"Rowe\", \"Ruecker\", \"Runolfsdottir\", \"Runolfsson\", \"Runte\", \"Russel\", \"Rutherford\", \"Ryan\", \"Sanford\", \"Satterfield\", \"Sauer\", \"Sawayn\", \"Schaden\", \"Schaefer\", \"Schamberger\", \"Schiller\", \"Schimmel\", \"Schinner\", \"Schmeler\", \"Schmidt\", \"Schmitt\", \"Schneider\", \"Schoen\", \"Schowalter\", \"Schroeder\", \"Schulist\", \"Schultz\", \"Schumm\", \"Schuppe\", \"Schuster\", \"Senger\", \"Shanahan\", \"Shields\", \"Simonis\", \"Sipes\", \"Skiles\", \"Smith\", \"Smitham\", \"Spencer\", \"Spinka\", \"Sporer\", \"Stamm\", \"Stanton\", \"Stark\", \"Stehr\", \"Steuber\", \"Stiedemann\", \"Stokes\", \"Stoltenberg\", \"Stracke\", \"Streich\", \"Stroman\", \"Strosin\", \"Swaniawski\", \"Swift\", \"Terry\", \"Thiel\", \"Thompson\", \"Tillman\", \"Torp\", \"Torphy\", \"Towne\", \"Toy\", \"Trantow\", \"Tremblay\", \"Treutel\", \"Tromp\", \"Turcotte\", \"Turner\", \"Ullrich\", \"Upton\", \"Vandervort\", \"Veum\", \"Volkman\", \"Von\", \"VonRueden\", \"Waelchi\", \"Walker\", \"Walsh\", \"Walter\", \"Ward\", \"Waters\", \"Watsica\", \"Weber\", \"Wehner\", \"Weimann\", \"Weissnat\", \"Welch\", \"West\", \"White\", \"Wiegand\", \"Wilderman\", \"Wilkinson\", \"Will\", \"Williamson\", \"Willms\", \"Windler\", \"Wintheiser\", \"Wisoky\", \"Wisozk\", \"Witting\", \"Wiza\", \"Wolf\", \"Wolff\", \"Wuckert\", \"Wunsch\", \"Wyman\", \"Yost\", \"Yundt\", \"Zboncak\", \"Zemlak\", \"Ziemann\", \"Zieme\", \"Zulauf\"]\n",
        "\n",
        "countries = [\"Afghanistan\", \"Albania\", \"Algeria\", \"Andorra\", \"Angola\", \"Anguilla\", \"Argentina\", \"Armenia\", \"Aruba\", \"Australia\", \"Austria\", \"Azerbaijan\", \"Bahamas\", \"Bahrain\", \"Bangladesh\", \"Barbados\", \"Belarus\", \"Belgium\", \"Belize\", \"Benin\", \"Bermuda\", \"Bhutan\", \"Bolivia\", \"Bosnia and Herzegovina\", \"Botswana\", \"Brazil\", \"Bulgaria\", \"Burkina Faso\", \"Burundi\", \"Cambodia\", \"Cameroon\", \"Canada\", \"Central African Republic\", \"Chad\", \"Chile\", \"China\", \"Colombia\", \"Comoros\", \"Congo\", \"Costa Rica\", \"Cote d'Ivoire\", \"Croatia\", \"Cuba\", \"Cyprus\", \"Czech Republic\", \"Denmark\", \"Djibouti\", \"Dominica\", \"Dominican Republic\", \"Ecuador\", \"Egypt\", \"Eritrea\", \"Estonia\", \"Ethiopia\", \"Falkland Islands (Malvinas)\", \"Faroe Islands\", \"Fiji\", \"Finland\", \"France\", \"French Polynesia\", \"French Southern Territories\", \"Gabon\", \"Gambia\", \"Georgia\", \"Germany\", \"Ghana\", \"Gibraltar\", \"Greece\", \"Greenland\", \"Grenada\", \"Guadeloupe\", \"Guam\", \"Guatemala\", \"Guernsey\", \"Guinea\", \"Guinea-Bissau\", \"Guyana\", \"Haiti\", \"Honduras\", \"Hong Kong\", \"Hungary\", \"Iceland\", \"India\", \"Indonesia\", \"Iran\", \"Iraq\", \"Ireland\", \"Isle of Man\", \"Israel\", \"Italy\", \"Jamaica\", \"Japan\", \"Jersey\", \"Jordan\", \"Kazakhstan\", \"Kenya\", \"Kiribati\", \"Kuwait\", \"Latvia\", \"Lebanon\", \"Lesotho\", \"Liberia\", \"Libyan Arab Jamahiriya\", \"Liechtenstein\", \"Lithuania\", \"Luxembourg\", \"Macao\", \"Macedonia\", \"Madagascar\", \"Malawi\", \"Malaysia\", \"Maldives\", \"Mali\", \"Malta\", \"Marshall Islands\", \"Martinique\", \"Mauritania\", \"Mauritius\", \"Mayotte\", \"Mexico\", \"Micronesia\", \"Moldova\", \"Monaco\", \"Mongolia\", \"Montenegro\", \"Montserrat\", \"Morocco\", \"Mozambique\", \"Myanmar\", \"Namibia\", \"Nauru\", \"Nepal\", \"Netherlands\", \"Netherlands Antilles\", \"New Caledonia\", \"New Zealand\", \"Nicaragua\", \"Niger\", \"Nigeria\", \"Norway\", \"Oman\", \"Pakistan\", \"Palau\", \"Palestinian Territory\", \"Panama\", \"Papua New Guinea\", \"Paraguay\", \"Peru\", \"Philippines\", \"Pitcairn Islands\", \"Poland\", \"Portugal\", \"Puerto Rico\", \"Qatar\", \"Republic of Korea\", \"Reunion\", \"Romania\", \"Russian Federation\", \"Rwanda\", \"Samoa\", \"San Marino\", \"Sao Tome and Principe\", \"Saudi Arabia\", \"Senegal\", \"Serbia\", \"Seychelles\", \"Sierra Leone\", \"Singapore\", \"Slovakia\", \"Slovenia\", \"Solomon Islands\", \"South Africa\", \"Spain\", \"Sudan\", \"Suriname\", \"Swaziland\", \"Sweden\", \"Switzerland\", \"Syrian Arab Republic\", \"Tajikistan\", \"Tanzania\", \"Thailand\", \"Timor-Leste\", \"Togo\", \"Tokelau\", \"Tonga\", \"Trinidad and Tobago\", \"Tunisia\", \"Turkey\", \"Turkmenistan\", \"Turks and Caicos Islands\", \"Tuvalu\", \"Uganda\", \"Ukraine\", \"United Arab Emirates\", \"United Kingdom\", \"United States of America\", \"Uruguay\", \"Uzbekistan\", \"Vanuatu\", \"Venezuela\", \"Vietnam\", \"Yemen\", \"Zambia\", \"Zimbabwe\"]\n",
        "\n",
        "priorities = [\"Critical\", \"High\", \"Low\", \"Medium\"]\n",
        "\n",
        "categories = [\"Automobile\", \"Beauty\", \"Books\", \"Clothing\", \"Computers\", \"Electronics\", \"Games\", \"Garden\", \"Grocery\", \"Health\", \"Home\", \"Industrial\", \"Jewelery\", \"Kids\", \"Movies\", \"Music\", \"Outdoors\", \"Shoes\", \"Sports\", \"Tools\", \"Toys\"]"
      ]
    },
    {
      "cell_type": "markdown",
      "metadata": {
        "id": "qyW5qdNlS8Jt"
      },
      "source": [
        "### Создание таблиц для работы"
      ]
    },
    {
      "cell_type": "code",
      "execution_count": 4,
      "metadata": {
        "id": "lK033XT0TAv0",
        "colab": {
          "base_uri": "https://localhost:8080/"
        },
        "outputId": "d4897723-c94c-42e5-ba8d-02f44e705866"
      },
      "outputs": [
        {
          "output_type": "stream",
          "name": "stdout",
          "text": [
            " * sqlite:///bigbase.db\n",
            "Done.\n",
            "Done.\n",
            "Done.\n",
            "Done.\n",
            "Done.\n",
            "Done.\n",
            "Done.\n"
          ]
        },
        {
          "output_type": "execute_result",
          "data": {
            "text/plain": [
              "[]"
            ]
          },
          "metadata": {},
          "execution_count": 4
        }
      ],
      "source": [
        "%%sql\n",
        "Pragma foreign_keys=on;\n",
        "\n",
        "DROP TABLE if exists Products;\n",
        "DROP TABLE if exists Orders;\n",
        "DROP TABLE if exists Customers;\n",
        "\n",
        "CREATE TABLE Customers (\n",
        "          id          integer       NOT NULL Primary key,\n",
        "          firstName   varchar(255)  NOT NULL,\n",
        "          lastName    varchar(255)  NOT NULL,\n",
        "          phone       varchar(10)   NOT NULL,\n",
        "          country     varchar(255),\n",
        "          registered  integer       NOT NULL\n",
        "          );\n",
        "\n",
        "CREATE TABLE Products (\n",
        "          id          integer       NOT NULL Primary key,\n",
        "          category    varchar(255)  NOT NULL,\n",
        "          quantity    integer       NOT NULL DEFAULT 0,\n",
        "          price       integer\n",
        "          );\n",
        "\n",
        "CREATE TABLE Orders (\n",
        "          id              integer   NOT NULL Primary key,\n",
        "          product_id      integer   NOT NULL,\n",
        "          customer_id     integer   NOT NULL,\n",
        "          quantity        integer   DEFAULT 0,\n",
        "          order_priority  varchar(15),\n",
        "          order_date      integer,\n",
        "          FOREIGN KEY (product_id) REFERENCES Products(id),\n",
        "          FOREIGN KEY (customer_id) REFERENCES Customers(id)\n",
        "          );"
      ]
    },
    {
      "cell_type": "code",
      "execution_count": 5,
      "metadata": {
        "id": "VEAk1rkzTSwm"
      },
      "outputs": [],
      "source": [
        "import sqlite3\n",
        "connection = sqlite3.connect('bigbase.db')\n",
        "cur = connection.cursor()"
      ]
    },
    {
      "cell_type": "code",
      "execution_count": 6,
      "metadata": {
        "id": "tU0YwpS2TWee",
        "colab": {
          "base_uri": "https://localhost:8080/"
        },
        "outputId": "c7d7b746-e8cd-468b-ff2c-2958538cbb00"
      },
      "outputs": [
        {
          "output_type": "stream",
          "name": "stdout",
          "text": [
            "CPU times: user 2min 55s, sys: 2.83 s, total: 2min 58s\n",
            "Wall time: 3min 3s\n"
          ]
        }
      ],
      "source": [
        "%%time\n",
        "import datetime\n",
        "import random as r\n",
        "\n",
        "for i in range(num_clients):\n",
        "    firstname = r.choice(firstnames)\n",
        "    lastname = r.choice(lastnames)\n",
        "    country = r.choice(countries)\n",
        "    rand_phone = str(r.randint(1, 9))+'-'+str(r.randint(100, 999))+'-'+str(r.randint(100, 999))+'-'+str(r.randint(1000, 9999))\n",
        "    start_date = datetime.datetime(r.randint(2010, 2022), 1, 1)\n",
        "    random_date = start_date + datetime.timedelta(days=r.randint(0, 365))\n",
        "    cur.execute('''INSERT INTO Customers(firstName, lastName, phone, country, registered)\n",
        "    VALUES(?,?,?,?,?)''', (firstname, lastname, rand_phone, country, random_date))\n",
        "connection.commit()\n",
        "\n",
        "for i in range(num_products):\n",
        "    price = r.randint(10,990)*100-1\n",
        "    category = r.choice(categories)\n",
        "    quantity = r.randint(0,10000)\n",
        "    cur.execute('''INSERT INTO Products(category, quantity, price)\n",
        "    VALUES(?,?,?)''', (category, quantity, price))\n",
        "connection.commit()\n",
        "\n",
        "for i in range(num_orders):\n",
        "    product_id = r.randint(1, num_products)\n",
        "    customer_id = r.randint(1, num_clients)\n",
        "    quantity = r.randint(1, 999)\n",
        "    order_priority = r.choice(priorities)\n",
        "    random_date = datetime.datetime(2023, 1, 1) + datetime.timedelta(days=r.randint(0, 365))\n",
        "    cur.execute('''INSERT INTO Orders(product_id, customer_id, quantity, order_priority, order_date)\n",
        "    VALUES(?,?,?,?,?)''', (product_id, customer_id, quantity, order_priority, random_date))\n",
        "connection.commit()"
      ]
    },
    {
      "cell_type": "code",
      "execution_count": 7,
      "metadata": {
        "id": "RFfQ9eiqTZL2"
      },
      "outputs": [],
      "source": [
        "cur.execute('''select count(*) from Customers''')\n",
        "check_clients = cur.fetchone()[0]\n",
        "cur.execute('''select count(*) from Products''')\n",
        "check_products = cur.fetchone()[0]\n",
        "cur.execute('''select count(*) from Orders''')\n",
        "check_orders = cur.fetchone()[0]\n",
        "\n",
        "flag = (check_clients == num_clients and check_products == num_products and check_orders == num_orders)"
      ]
    },
    {
      "cell_type": "markdown",
      "metadata": {
        "id": "wlE4ffznZCox"
      },
      "source": [
        "### Проверка:"
      ]
    },
    {
      "cell_type": "code",
      "execution_count": 8,
      "metadata": {
        "id": "9WaxsREuZGp4",
        "colab": {
          "base_uri": "https://localhost:8080/"
        },
        "outputId": "fa6ddc03-8e56-4cc8-adc7-335b32722c91"
      },
      "outputs": [
        {
          "output_type": "stream",
          "name": "stdout",
          "text": [
            "OK\n"
          ]
        }
      ],
      "source": [
        "print(\"OK\" if flag else \"Не прогрузились данные\")"
      ]
    },
    {
      "cell_type": "markdown",
      "source": [
        "# SQL journal_mode"
      ],
      "metadata": {
        "id": "c9q3070cWL-T"
      }
    },
    {
      "cell_type": "code",
      "source": [
        "%%sql\n",
        "SELECT count(*) FROM Orders;"
      ],
      "metadata": {
        "id": "fMjxQZqbyXEt",
        "colab": {
          "base_uri": "https://localhost:8080/",
          "height": 95
        },
        "outputId": "292563ba-de60-4085-ae9f-7768c5fd6dd5"
      },
      "execution_count": 9,
      "outputs": [
        {
          "output_type": "stream",
          "name": "stdout",
          "text": [
            " * sqlite:///bigbase.db\n",
            "Done.\n"
          ]
        },
        {
          "output_type": "execute_result",
          "data": {
            "text/plain": [
              "[(10000000,)]"
            ],
            "text/html": [
              "<table>\n",
              "    <thead>\n",
              "        <tr>\n",
              "            <th>count(*)</th>\n",
              "        </tr>\n",
              "    </thead>\n",
              "    <tbody>\n",
              "        <tr>\n",
              "            <td>10000000</td>\n",
              "        </tr>\n",
              "    </tbody>\n",
              "</table>"
            ]
          },
          "metadata": {},
          "execution_count": 9
        }
      ]
    },
    {
      "cell_type": "code",
      "source": [
        "def add_order():\n",
        "    product_id = r.randint(1, num_products)\n",
        "    customer_id = r.randint(1, num_clients)\n",
        "    quantity = r.randint(1, 999)\n",
        "    order_priority = r.choice(priorities)\n",
        "    random_date = datetime.datetime(2023, 1, 1) + datetime.timedelta(days=r.randint(0, 365))\n",
        "    cur.execute('''INSERT INTO Orders(product_id, customer_id, quantity, order_priority, order_date)\n",
        "    VALUES(?,?,?,?,?)''', (product_id, customer_id, quantity, order_priority, random_date))"
      ],
      "metadata": {
        "id": "_Y21qr4zxlcl"
      },
      "execution_count": 10,
      "outputs": []
    },
    {
      "cell_type": "code",
      "source": [
        "cur.execute('''BEGIN;''')\n",
        "for i in range(100000):\n",
        "    add_order()"
      ],
      "metadata": {
        "id": "AcRJZphGcruQ"
      },
      "execution_count": 11,
      "outputs": []
    },
    {
      "cell_type": "markdown",
      "source": [
        "Можно увидеть, как создан файл журнала *bigbase.db-journal*. Это временный файл, применяемый для отката транзакции; он удаляется после её завершения."
      ],
      "metadata": {
        "id": "zWYlhv44arqN"
      }
    },
    {
      "cell_type": "code",
      "source": [
        "cur.execute('''END;''')"
      ],
      "metadata": {
        "id": "iDZXtTplbkZe",
        "colab": {
          "base_uri": "https://localhost:8080/"
        },
        "outputId": "d62f1ea9-cd88-42d8-cf17-188856c0be9e"
      },
      "execution_count": 12,
      "outputs": [
        {
          "output_type": "execute_result",
          "data": {
            "text/plain": [
              "<sqlite3.Cursor at 0x7c9111c42840>"
            ]
          },
          "metadata": {},
          "execution_count": 12
        }
      ]
    },
    {
      "cell_type": "code",
      "source": [
        "cur.execute('''ROLLBACK;''')"
      ],
      "metadata": {
        "id": "rR1YzA0VbnV-",
        "colab": {
          "base_uri": "https://localhost:8080/"
        },
        "outputId": "f39b00bc-ba49-4d82-99ad-3b8e7639928b"
      },
      "execution_count": 55,
      "outputs": [
        {
          "output_type": "execute_result",
          "data": {
            "text/plain": [
              "<sqlite3.Cursor at 0x7c8631e862c0>"
            ]
          },
          "metadata": {},
          "execution_count": 55
        }
      ]
    },
    {
      "cell_type": "code",
      "source": [
        "%%sql\n",
        "PRAGMA journal_mode;"
      ],
      "metadata": {
        "id": "YQy4pjciXcym",
        "colab": {
          "base_uri": "https://localhost:8080/",
          "height": 95
        },
        "outputId": "9adaf8ef-e5eb-4399-bf66-a27f2380ae69"
      },
      "execution_count": 13,
      "outputs": [
        {
          "output_type": "stream",
          "name": "stdout",
          "text": [
            " * sqlite:///bigbase.db\n",
            "Done.\n"
          ]
        },
        {
          "output_type": "execute_result",
          "data": {
            "text/plain": [
              "[('delete',)]"
            ],
            "text/html": [
              "<table>\n",
              "    <thead>\n",
              "        <tr>\n",
              "            <th>journal_mode</th>\n",
              "        </tr>\n",
              "    </thead>\n",
              "    <tbody>\n",
              "        <tr>\n",
              "            <td>delete</td>\n",
              "        </tr>\n",
              "    </tbody>\n",
              "</table>"
            ]
          },
          "metadata": {},
          "execution_count": 13
        }
      ]
    },
    {
      "cell_type": "markdown",
      "source": [
        "**PRAGMA journal_mode = DELETE | TRUNCATE | PERSIST | MEMORY | WAL | OFF**"
      ],
      "metadata": {
        "id": "6s0dzRniY83-"
      }
    },
    {
      "cell_type": "markdown",
      "source": [
        "По умолчанию используется DELETE - работает, как описано выше\n",
        "\n",
        "Серьезно отличается только WAL и OFF, остальные влияют на способы хранения.\n",
        "Например, PERSIST - чуть быстрее, т.к. не удаляет файл журнала, а заполняет заголовок файла нулями, как бы \"удаляя\""
      ],
      "metadata": {
        "id": "YNwrjhD0XZfX"
      }
    },
    {
      "cell_type": "markdown",
      "source": [
        "Режим Write Ahead Log:\n",
        "\n",
        "Традиционный журнал работает путем записи копии исходного содержимого базы данных в отдельный файл журнала отката, а затем внесения изменений непосредственно в файл базы данных. В случае сбоя исходное содержимое, содержащееся в журнале отката, воспроизводится в файл базы данных, чтобы вернуть файл базы данных в исходное состояние.\n",
        "\n",
        "При подходе WAL исходное содержимое сохраняется в файле базы данных, а изменения добавляются в отдельный файл \"-wal\".\n",
        "\n",
        "С каждой базой данных связан дополнительный файл \"-wal\" и файл для работы с разделяемой памятью \"-shm\""
      ],
      "metadata": {
        "id": "kcC7hgwcWMSL"
      }
    },
    {
      "cell_type": "code",
      "source": [
        "%%time\n",
        "import datetime\n",
        "import random as r\n",
        "\n",
        "cur.execute('''BEGIN;''')\n",
        "for i in range(10000):\n",
        "    add_order()\n",
        "cur.execute('''END;''')"
      ],
      "metadata": {
        "id": "cecFOkihZ9D7",
        "colab": {
          "base_uri": "https://localhost:8080/"
        },
        "outputId": "e28d0ff8-602c-47c3-945b-43519f86c710"
      },
      "execution_count": 29,
      "outputs": [
        {
          "output_type": "stream",
          "name": "stdout",
          "text": [
            "CPU times: user 81.9 ms, sys: 0 ns, total: 81.9 ms\n",
            "Wall time: 86.4 ms\n"
          ]
        },
        {
          "output_type": "execute_result",
          "data": {
            "text/plain": [
              "<sqlite3.Cursor at 0x7c9111c42840>"
            ]
          },
          "metadata": {},
          "execution_count": 29
        }
      ]
    },
    {
      "cell_type": "code",
      "source": [
        "%%time\n",
        "for i in range(10000):\n",
        "    cur.execute('''BEGIN;''')\n",
        "    add_order()\n",
        "    cur.execute('''END;''')"
      ],
      "metadata": {
        "id": "mwKKS42deRoG",
        "colab": {
          "base_uri": "https://localhost:8080/"
        },
        "outputId": "75eaf9be-e986-43bf-a83b-e672da0a70c2"
      },
      "execution_count": 15,
      "outputs": [
        {
          "output_type": "stream",
          "name": "stdout",
          "text": [
            "CPU times: user 2.13 s, sys: 3.65 s, total: 5.78 s\n",
            "Wall time: 1min 19s\n"
          ]
        }
      ]
    },
    {
      "cell_type": "code",
      "source": [
        "%%sql\n",
        "PRAGMA journal_mode = WAL;"
      ],
      "metadata": {
        "id": "muea_opzUxt1",
        "colab": {
          "base_uri": "https://localhost:8080/",
          "height": 95
        },
        "outputId": "38905cf3-b71a-41f4-8400-13b5351dc51b"
      },
      "execution_count": 16,
      "outputs": [
        {
          "output_type": "stream",
          "name": "stdout",
          "text": [
            " * sqlite:///bigbase.db\n",
            "Done.\n"
          ]
        },
        {
          "output_type": "execute_result",
          "data": {
            "text/plain": [
              "[('wal',)]"
            ],
            "text/html": [
              "<table>\n",
              "    <thead>\n",
              "        <tr>\n",
              "            <th>journal_mode</th>\n",
              "        </tr>\n",
              "    </thead>\n",
              "    <tbody>\n",
              "        <tr>\n",
              "            <td>wal</td>\n",
              "        </tr>\n",
              "    </tbody>\n",
              "</table>"
            ]
          },
          "metadata": {},
          "execution_count": 16
        }
      ]
    },
    {
      "cell_type": "code",
      "source": [
        "%%time\n",
        "for i in range(10000):\n",
        "    cur.execute('''BEGIN;''')\n",
        "    add_order()\n",
        "    cur.execute('''END;''')"
      ],
      "metadata": {
        "id": "7zAD-rvQaBLj",
        "colab": {
          "base_uri": "https://localhost:8080/"
        },
        "outputId": "eb286f54-733d-40f8-9a83-1d423df80915"
      },
      "execution_count": 17,
      "outputs": [
        {
          "output_type": "stream",
          "name": "stdout",
          "text": [
            "CPU times: user 1.05 s, sys: 577 ms, total: 1.63 s\n",
            "Wall time: 21.8 s\n"
          ]
        }
      ]
    },
    {
      "cell_type": "code",
      "source": [
        "%%sql\n",
        "SELECT count(*) from Orders;"
      ],
      "metadata": {
        "id": "4rgFjvCKc6AR",
        "colab": {
          "base_uri": "https://localhost:8080/",
          "height": 95
        },
        "outputId": "5bf45391-b90a-4008-fa27-f830293250fa"
      },
      "execution_count": 20,
      "outputs": [
        {
          "output_type": "stream",
          "name": "stdout",
          "text": [
            " * sqlite:///bigbase.db\n",
            "Done.\n"
          ]
        },
        {
          "output_type": "execute_result",
          "data": {
            "text/plain": [
              "[(10150000,)]"
            ],
            "text/html": [
              "<table>\n",
              "    <thead>\n",
              "        <tr>\n",
              "            <th>count(*)</th>\n",
              "        </tr>\n",
              "    </thead>\n",
              "    <tbody>\n",
              "        <tr>\n",
              "            <td>10150000</td>\n",
              "        </tr>\n",
              "    </tbody>\n",
              "</table>"
            ]
          },
          "metadata": {},
          "execution_count": 20
        }
      ]
    },
    {
      "cell_type": "markdown",
      "source": [
        "Журнал создается при подключении к БД и не удаляется до отключения от БД (и даже тогда не удаляется, перезаписывается при новом подключении)."
      ],
      "metadata": {
        "id": "QCHkNDoweQ4n"
      }
    },
    {
      "cell_type": "markdown",
      "metadata": {
        "id": "uLYYl_iQjEAx"
      },
      "source": [
        "# Backup"
      ]
    },
    {
      "cell_type": "markdown",
      "source": [
        "![image.png](data:image/png;base64,iVBORw0KGgoAAAANSUhEUgAAAmYAAABVCAYAAADjXSigAAAgAElEQVR4Ae1dCbAdRdl9EFkUCVsiiIBsEoEom2IMIAiKFdnkSRQQgiURJUBYYqRQTCR5AcJSkS2IAqLmBWIZDCmwKDAIAi+AkBLZtBAFI7yKURQMiYJW///pma9vT0/P3Jn75s6bufd01Xszd6aXr093f33m661H0REBIkAEiAARIAJEgAhUAoGeSkhBIYgAESACRIAIEAEiQAQUiRkrAREgAkSACBABIkAEKoIAiVlFCoJiEAEiQASIABEgAkSAxIx1gAgQASJABIgAESACFUGAxKwiBUExiAARIAJEgAgQASJAYsY6QASIABEgAkSACBCBiiBAYlaRgqAYRIAIEAEiQASIABEgMWMdIAJEgAgQASJABIhARRAgMatIQVAMIkAEiAARIAJEgAiQmLEOEAEiQASIABEgAkSgIgiQmFWkICgGESACRIAIEAEiQAQ6npitWbNG/fWvf23b3+rVq1UV/9atW8faTQSIABEgAkSACNQMgY4iZn/605/U/Pnz1VFHHaXe9773qZEjR6qenp6u/dt8883VmDFj1MSJE9XNN9+sBgcHa1Y9KS4RIAJEgAgQge5CoCOI2UMPPaSOOOKIriVgecjn8ccfr5588snuquXMLREgAkSACBCBmiBQa2L297//XZ188skRQjZ27Fg1ffp0tWTJEvXII48oWNH+9re/dd3fCy+8oB5++GF1++23q7POOkvtuuuuEZzOOOOMmlRRikkEiAARIAJEoHsQqC0xe/zxx9Xuu+9uyMYxxxyjiVj3FF3+nN57773q4x//uMHsgAMOUH/84x/zR8QQRIAIEAEiQASIQFsQqCUxW7x4sdp44401wdh6663VXXfd1RZwOjXS2267TW2wwQYav2233VY98MADnZpV5osIEAEiQASIQK0QqB0xg6VMSNm4cePU888/XyvAqyLso48+qnbbbTdNznbYYQf15z//uSqiUQ4iQASIABEgAl2LQK2IGeaUyfAlSNlbb73VtQVXRMZfeeUVtfPOO2tydvDBBxcRJeMgAkSACBABIkAEhoBArYjZpEmTzPAlLWVDKHUrKBYIrLfeehrXr3/969Yb3hIBIkAEiAARIAJlI1AbYoYtMWRbCM4pK7aa3HTTTQZbrOakIwJEgAgQASJABIYHgdoQM9mnDKsv6YpHYP/999fkbPLkycVHzhiJABEgAkSACBCBTAgMCzHD3LD+/v5MAsIT9iITaxn2Jmvqlvdp/33Lk30OzMKJAH1qIOJlUPVPDE4K6F3YZJf8lf2qN3aqQK/qXykRhnFN7FfemLSMlv8wvqR0tbx2XCZ9Kw5JGlfzvkel4SBBfvazn2nMNtxwQ/Xmm2/KY16JABEIEcDGzL/+9a+JBxEgAl2GADjLnDlz1KpVq0rJeW5i9vrrr6t58+bpY34++9nPqrlz5+pzKPNIe84556h3vetdavvtt1cXXXSRJl5p4XHMEojZnnvumebNejeg+kCaZkVpV8ND8D5GgkKy1AtyZpOgRkB9F5C6OOEZXNhrEcKyiJk/nyILcMtCzJAxHOEE/0uXLnVyzJ9EgAi85z3vUe9+97vVpz/9aYU9AemIABHoDgSeeuopzVm22mor9YUvfEE9+OCDmTK+cOFCdcopp6ijjz5aYQ73ihUrMoXLRcwGBgY0mRLrlVy33HJLdc8992RKEJ4uv/xytckmm6gRI0ZoMoC9yD7zmc8kxoFMIa2vfe1rmdPwW8TC4K61KnxsrFIJ77U3/S6F7KzsV/3aUlcOMeubBeugazULiGfwLkVWB80TTjhB43z66ac7b/iTCBABnL+7/vrrq4022kjrwQ9/+MPq1ltvJTBEgAh0OAIgZjAkYaGctP/99ttP/eAHP/COMK1Zs0ZNmDBB96fCk+R65ZVXNkUrMzFbt26d2mmnnXRCuH7zm99UM2bMMNtXbLHFFpnNfELMRFBcJbM4UgkWstdee80IL/ttYbgtswuH8nzWIkPAIpHZVjT73vbUhGzZXlUTvy75a3Eos295kI5t/QusZX1qoBmJjMir1DXXXKPL99BDD3Xe8CcRIAJCzERvYZPm7bbbTuH5tddeq9auXUuQiAAR6EAEhJhJ28cV7R8W9G222UZNmzZNPfPMMybnJ510ku5LQeSmTJmiLrnkEnX44YcbotZsVCozMbv++ut1pGCNq1evNgJgPtIee+yh311wwQXq5Zdfbvr3rW99S73jHe8wQtqZfdvb3qYzCpPhaaedprCh7MiRI7Xf5ctTJo0ZieQmJEax4cwE0uUQJa/FrQl5kpSDa1nETClDxHTCFlHLScx+8pOfaJyxtxnm8qX9ZSln+mneFohRdTFy6z90Hyxmtr7CPXQWpmbg7+yzz9bz0FCubnj3N8u+umXPsumusnHbpvsbQ5Jo327bx2/oBIwAgqSBfOEjTfzdcccdEVogW37BX5rLTMy+9KUv6cQwP8x1mCcmAopAQ70is9jhH0cGSVx5z3UMCEt0mM/3DPmJWdF8pCbFCudiokqzmGnp9Zw6bTXTcoeLGnx5iAtqnuBoJsGa12ARCHEgDqwDrAOsA6wDWeoAFs/BqAS/sKS5DsYlvAO3SXOZidmpp56qI5w6dWosvpkzZ+p3mDOWRfhmfmQcF5NtJZMIk3uPrZiFK8mK5bOiBc8iCwgqS8xCq9nEftWP1aZiJcxJzO6///5Cyq9Z+fI9lRzrAOsA6wDrQCfVAQxtjh492iyigwXNdbIf69vf/nb3VeR3ZmL2/e9/X3faYIH2uYqYC4Y5FgB41qxZ6p///GfTv9mzZ8eGMm0yNmrUKIUVnz/96U8V5rZtttlmOn4sPsjnHCIWI2phbJrARC1reBMbzkwK7xXKSdv146bZJO6YRc8lieHvyEKAnMRs0aJFGmcce5VWjnfeeac68cQTFc7YRLnj+tvf/jY1TFp8fNe8zRCj4jFCPbY7BtRpzG9FXfbV51122SU2lIkvZOhEfEB+7nOfU7fffnvmdoD0DzzwQNOOkD7LufhyJqbdiynal93GcS/tHO0vqa27dQaWLhiK3LiEjEEHjB8/XuuPX/7yl8YfpgfZ7vjjj9fvsLI7zWUmZv/973/VmDFjdKRgghjSxCpJWRAAwV599dW0tMw7mfzvkrHe3l5DxoxnpUy6uSb/hxHYQ5fRuViNFAIClvz10lhA0IRsNaLUdzEyZb235Qoe+6x2EsCTrkvMhEiKtQxBcxKzq6++WpfvYYcdJgmnXrG/3I477qjDfPvb3071y5dEoEoI2MrzkEMOUfjdzMnkf8wpw8cjVpOjrSxYsGBIE//RdkThY5UXHREgAkNDAO1Z+ia0rS9+8YuZ2nhSqvbkfx8Ze+mllyJBZeqXpH3hhReqgw46yLTzu+++O+Lf/ZGZmCHgE088YUiSKBJcwSQxPymrO//88/VEOii3JDJmx3XsscfqDJ177rn242z3xhI1EGweaxMXxGDe+7aBjQ9nBoQqZQsKs12GTMqPW+KQbJy0eciXyaGHtHmImfEuNzmJGb74UZ5nnnmmxND0ancqIGp0RKAOCIj+AinL6qDnMOd1r732Ut/5zneUq4yzxuPzJ+0InQnbkQ8hPiMC2RBA+5H2jWuWj65mMcs+ZjBKiWXsxRdfTAyGRZHgNrYccn/dddclhpMXuYgZAmEH3BtuuEEzUKwwwBYL//rXvyS+zFcMU/773//O5P973/uezuD73//+TP6jnkLCE+7S37B+Bb7ilqto6MCaFj0hQCxs9hYVCBUnbX6yFfcXpukliSJ/VAYhlG5+ItLnJGabbrqpxjnvWaTo3FDpaDWLoM8fFUXAJkF5RMTO//g4bZeTL/wiOpJ2ych4iUDVEZD+qOiPHExzSCNjPlyWLFmit8vAHqFYJPncc8/5vMWe5SZmsRhKeLBy5UrDPH/1q1/lTzEkKIlHMKXs8i8EyCVh8lxYcHB1yFMoqRC5hl+/FS3wHlrp7OOefPIVbDGTrTIwKfF///tfLowx/IK8oSHQEYGqIyDtsGofEhhugWy40hEBIpAfAfnoQjuq8wdOLYgZigcnAwBs7KZLVzwCe++9t8a3lV3/0QCks+MwTPFlwxiLQ0CGOar4ESEfOHmGV4tDhjERgXojIG0bfVHVPrryIlsbYvbYY4+Zzh/mQbriEJDNg7F3nL3iNk8KMgzDyct5UKPfshGQL+oqkh9+4JRdG5heJyEgbbuKH115ca4NMUPGZC81HLb99NNP580r/XsQuO+++wzhxTFbrToZhqn7l0qr+We4eiAg80+qWk/lA6fOwzD1qAmUstMQqHrbzoN3rYgZDgaVIbd99tmnpUUHecDpdL8w/creLM2OiGiGhRAzzo9phhTfDycCMuReVeIjxIyW5+GsJUy7bgjYw5i4r7urFTED2Fi2KhvOgqThN11+BLC9iWwQi/2ZVq1alT8SK4SYkas4RGSJydsuRsBW3lWFQT5wSMyqWkKUq4oIyDSAThjGBL61I2YQGts5bLHFFnoIDiRt8eLFVawrlZVJJhnDeoADyx999NEhyypxdkrDGDIgjKByCNRBeQsxo+W5ctWHAlUYgU4zDNSSmKF+YI4ZhjNlaAJDcVUdnqhKfcZJ9+PGjTOYYdfyV155pRDxSMwKgZGRtBEBErM2gsuoicAwIiDErFM+aGpLzFAH3njjDfWVr3zFEA2QNBwRNWXKFNXf36+WLVumCRx26O62P5wBds8996gf//jHCsdDYMdiIbG44jitIl0dOj3JL4a0+Df8GEh5lHWVj4cqD7fXpYPB5uBYwV2mXl27dm1ZVaXt6SAvZWJXZlqoF//5z3/ajqGdgFia0X46wdWamEkBrFixQh133HER4mGTEN43zgEFSXv++ecFusKuVSVmIGBorLJih3WhUReqggWGv6FYQZxQXu1yJGatI/vzn/9cnXXWWQqnr8g0kuGoP5i6sttuu6mvfvWrCiMAOPqm6m7dunUK5zyfdtppWnaZIz0c+JWZ5pZbbqn23HNPdd5556l77723rcUk+p3ErK0wtxY5JrDfcsstCie4Y2EADlbHQellVsaqpIWDlrHict9999Wd3qJFi9Rrr73WGrAZQgkxQ/6r4CCPrHCrSplQjuakUEhaOwiaWKOqbDGrGnm85JJL1MiRIyurQzfaaCM1c+bMzMf7lambsIsAtiCCLmbb71GjR49W8+bNa0sRCDFD++kEV41etM1IwmxchT8MvZb112ZIY9GjIxXlE3tZ4gPIIY1U5EFnj04ZZK0dHX6J2euYpFAO8gdlCouZXW5SZkVmWIhZleehVIWY4QPX/rB55zvfqUclbrrpJvXggw9qq/vrr79emj4DyXnhhRfUww8/rH70ox+pE088MWK5w0d4lsOhi6xPaXHhkPtRo0YZnbjVVlupk046SS1YsEANDAzovJTVF5SdDgwAv//97xWOT8S52ji1BwRa9DGsrjgCsEgndZXErEhUGVftEUAnKw1vuMiPbbWDLJ1i1q595ciRAShWm6Dhvqj6RGKWrSBggZK2jOGoK664IlvAYfB17bXXmr0YIfO0adOGQYpoklOnTjX4vfe971Xf/e53ox668Ndbb72l+vr61CabbGKwmTt3bmFISH0lMSsMUkbUKQhI4yiqI82Di1gaIAO+noZDhjzy0m86AkKiiixPibPKFjP5uEAdHg538sknm45z8uTJClaxqjt0+uecc46Ru7e3d9hEPuqoo4wc06dPHzY5qprw6tWrtbVT+grMFSzCSXxoP53gumIosxMKqg55GC5zsnRmaJywsNB1BgIg11KniiAqIGSoI1W2pNp1ueyPC0zSlg5uzpw5tatEV111lZEfpLJsN2nSJJP+/Pnzy06+Vulh7p3UtRkzZgxJdrQTiYvEbEhQMnAnIiBDUGWak+1GSVLWebXKLt+hWrqGo362UiJCRsskZldffbXp3HBfV4e5cdJJl0ku7eHfhQsX1hW+UuW++OKLTVkNpc+wdUSpGWhjYrSYtRHcbotaLBJD7UDz4CadLUlZHtTq5de2Ig1FgUuHXfWvaiFmQ8lrnhLGRG3BBlazujsZskaeHnnkkbZnB5PcBb8yyWDbM1ZCAl/+8pc1dhtuuKEaHBxsKUXRD0VY1VsSoA2BSMzaAGq3RikNBEqqjK99dFyiEMtIr1vLtQr5ls62VeVbp69qyWtZHxunnHKKbkcHHHBAFYq6EBmOOOIInadjjjmmkPjSIpkwYYJO69hjj03zxncJCIwdO1bjh33yWnFlt5dWZMwbhsQsL2L0n4pAmV/7khYaZjvcwKwe1TOxX7X2HdcOibo3TptYtWJJEuXdKrErE/kyP3CwdYN83Nx5551lZrOtaT300EMmX9gct11uyZIlJp3HHnssOZnlfcZfT0+fGvD4HFzYq5Leebx3zCOc0iN1EEct5nUStl39QF55ivBPYlYEiozDIGB3gO20YtnWMpN4wTckZgUDOsTo7LqVN6p2k/i88jTzX5a82F4CHduRRx6ZKJJuB/+/aEI6wJ6eXtW/MvAekAm8azxrRDSg+np6VO/CQaVW9qveSBx2fNa9/SGUEEbH10gk8U5WmOK0k3Y57KcGXE499dTkJMJ89C23vQyq/onRD79uJWZA5WMf+5jGcfbs2TZITe/tD7aqT1FomhnLA4mZBQZvh44AGkornQqWUYNsZV2eX8Z8NhKzodeHImNoVQnb4XBfByckFJ1+ng5n8eLFaunSpZmzuMcee+gO8frrr28SxiJZls+ATPSqXpCMWa4dyB8mCB68i4cJIxcLk03UlFKGCMbSsoQKb3HaCfDDOcFZHLbdwL5omDOW1WGfN6SBI5eSnJ9wkZjZeOGECeA4fvx4+3HTe2kndbCEN82M5YHEzAKDt8UgII0FDQ33WRzm02y99dZ6N2/sBXTrrbemkjQhf60Ma2WRB35IzLIiVZ4/WeyRtV7ZpKysOVtFoSF1HO0oK6HEDvjbbbed/sOWEWlnFD777LO6M0T8L774YhOx/STLkA5NpFyrmT9MkFAaMQvfOaTMCBiStqgFyrw1N9iBHnnDH04MaOZAzEC0tt9+e7XTTjups88+O5WkLVu2TMeNI5dwqHuS0xgl5cUKZLC0nnXL7W9+8xtTVi+//HKmbNujJln1QaaIK+CJxKwChdCJItjkDNatZh0LzjfFyhycbYorzvnEYclJJE0UbnK84RdpZPjE7ThC8pXgxxAzZ0jFO5Ti+InNFTHDGY5corDFQhDK4qYRKG1ryAf+JGzGCpQ1P9nSanS6Ol6DYTh/xsXDa+EIO2ATNl4+btbEUppVEQuRA8lJrituKtX4DXltcoY8N8sDSAXa0Prrr6823nhjTTJA1Hwk7a677tKdIXanb+4a5W37bZCJuAVIKX+YIHxY9r560ZR4hWn5wtrCKaXPCoauwFFIzRyIGY5Ogv8RI0YY/JJI2o033qj9fvSjH02M2teWpG2b9hiGbmAZjS4Wh5PvRjinPTn+lKNjAh0an+9m5HL8B0TY0V8J8+WiOiEczo5mK/ZLDnfPQqLteZhoI53mSMw6rUQrlB/pRIVEoZNEg8IfOhj7DwRsgw02MF9NCIMOBs9ckoYJohKnP7u+TiIYBml8ZYuCiSomKDnxY5SLTYB8nYbnWRDWitsQFZt8WIo0lobtz5Udufbn0Y9H8DRrfmwMgpC+tBqyC15GJk204nlv+FNmzpF0UjpHevJzNN9ufoTwH3fccZH6Y9clfEmj7tmkpp2WVVfGIn8jX3Y+UO+Rt6R2hGE7tBtpH7iCpOGsQpA2kDRsUQBL2s0336z9feQjH8kgclDednkhUIMUKCUdf6Oc/WGCxML645IHsVQndPgiaKx9yQvnKismL7jgAvWHP/wh9Q/bhmy++eYR7IAfSJrgh7IQSxqOGMJ7nAWZ5iIYWR51Hqx27/MXz2cctyAcPtribS5SXsv7gvl+rgx2OIN/dGi6kUaP0Y+mvUfK0KMrQt0XkcWSQW7HjBmj8cQRVnZ7lnvUebRj+dgC9igPvO80R2LWaSVasfygMbkdCxpU3j/bkrbpppua8N7sGuuU923wUJOpdBLgKs4goNvZuL8lzeC56aQSZMqWhsQZvfoUedRH9Fexafnz7ZcpVNZGgbu/Rc7geZoCF2KWp/6gDtbduUQzT/5tv7YlTdrR0UcfnQGeLOXtdsr+MEFiwTvfHDN/PY2K6K9nUT/45X4c2li0ci+WNBBcHOyOOJodK5Qkq5vPmL8kHaWfN0hYLJyGIamNORh50nDl0iES9JebtvtbUtPPLRIqz+2rLADIWi7oVzqhbdsYyD2JmSDBa1sRQAOCksTXTitEzVaIsKCh8SYPwYRK37tSLMimV/k4CPj9OB2KR7EF0TgkI0GxpaURIyg6LZfUWuTS896OIy2tWAfpiSu68s7f6foVs9NJJGAB3LSMhsA5BaKU/mLOorhRz/B13Wlf02IxQBtqpR1hPhSsQmhDmI8GLLHnV3OXsbzDehN8kPjDBGk57cgSwF9PLQ+upS76KvJLVmZmqTNZ/MCCj+FOYDd69GiNHyyQac7fJuJzWF1/iTjo9tNo9264QBaXJIcShm3Pzav5gJQ26JKohDYbTdtp5zYoul40yKT9Su6xj54rl/sbdR79SF0t4JLXZlcSs2YI8X0pCMgcM7sh2mQMDXLq1KnqgQce0J2t+EsUzqeArA4/UelZEfr9OB2Kl8BY5EnSTFBsaWk0SFWo8HrsYQQZRmooaEt0721aWg1iljUtf6cbVdQihqOwfWVjW1HdTkGisSwgUM50cQRkjpm0D1xtMrb33nuryy67TD3zzDPqhz/8oe4IP/ShD8Ujij3JWt5hWesy9IcJonbakZWerqfO8Jr1Wt9m8QOPhx9+uM7jFVdcod58883Uv7Vr15o5ZjZ+Nhnbf//9FY6swrCorCTENIw0528TGYmZ3S6ceyFT/vjtcgikCzBz5ntFiLTlz22DCformnZDd9j4Ne7TddWuu+6qy+qOO+5Ig7Mr3pGYdUUxVz+TQsySyJibA2nsWU3ZgQJpKCU/SYmm4vfjdChasaUrHB1rgmJLS8MQM4/yRJxBnjKkHWYrLS1DzDKn5e90o4pa8PQTM+lYxFeWqwxNZZ38nyXOTvIjxCyJjNl5vfvuu3VHiGG55i5HeZs65A8TpOW0I1sAE95+aN879cl+5dzvtddeOo9Zzq+0J/8LGcOcPZuM2dHLHD28T3P+NpGRmLkEyZOQP36HmIX6x+gUiceDtVdPJOivaNrZy0WSt68ytF7GMVp2ulW8JzGrYql0oUyHHnqoHh6wLWNpMMgE0OwmbUdpaIWUTmq8CipcaWaITOrKMysHCYotLQ2jRBNkDZRieh4sCRK2/3A6yMxp+TvdqKKW1B3sZeGCWBPFW4arDN9lL/cMkXaQF2w5s+222ypYxubOnastY0nZwzCvfOD87ne/S/IWPm+hvCf26k1lTT2OpODUO9+7JFLiIROR4OGPVatWmfw98cQTPi+RZyBmo0aN0vueJZExO4B9asI//vEP+1Xk3t8mmhOzYDFF8/btj99PzGIfQx4svTopQX+5abu/I0Ck/AAZk7r46quvpvjsjlckZt1RzrXIJYYpszqZBA6CFnNQIq5SjymWUHE5QyZQLKK8vAoqRszEchUdZoRMdlyy87nELTKnpdHo0DydYqhQo/O+JFb/NS2tVKLpTcsjk7HiuXNJXGLWWMHXyGMos2flmOQG1lFR3p02d0zyONQryAKGKbO6/fbbT2M6b968JkHylHdj1S3KK1bGOqU0YtaoH+6WMEHHH10xmCT4LbfcovO28847J3mJPccRSximzOpkviv2XUxySWTFbY9xf34dFayGbLSxeDhI4hAz+W1/DIU6EWVk6yVXLp2vmP4MchtPOyxXV/9Cb8aeNRCbOXOmLqvDDjus8bCL70jMurjw65x16aRhQYl30qLQrLlejvKRvGslFJm70VB4XgXlIWY6LkvJCXnwLV+3FSDCpaUR6dDc+GcNtGcoE0JlSitPR+0hZhq0UIlH8E+2EAgZ5/wyDV4h/y688ELdIWJFXJKLt5FGGcU75kYsEi5Sj83rJsQM/tx6GNYTf3wmYnODA8zRFs844wzzrOgbHMWENCZOnJgYdRJGbttP8hc8j+qyxoeUfBg29FYgiEvM8NRpbyBKBVvMBAQp+4YuTCLoQQhYeOH38ssvlyi6+kpi1tXFX9/Mg4zJcCY76vqWYx7JRclzGDMPaul+YV0TXHGYdKc42TwXecOB5u1y9913n8HvF7/4RbuS6eh4cRwYyglbuaxcGR7C2tE5bp45ErPmGNFHRRGwrWZZFwFUNCsUqwkCMukfFlK6YhHAamd0jGPHji024mGM7cADD9R5mjRpUtul+PznP6/TwjxZunwIrFmzRu2www4aP1hv6QIESMxYE2qNgFjN2GHXuhhThRcCDvJAAp4KVUsvBwcH9c72wLcMItOSkDkCnXnmmbqjR36ee+65HCFb82qf83jeeee1FkmXhurt7dVlhT3h3njjjS5FIZ5tErM4JnxSIwQwpCkr9bwLAWqUF4oaR8AmZSzfOD5FPcF2EiAy+MNE7Lq6K6+80uQDQ2RlOextJvhdc801ZSVb63SmTZtmMFu6dGmt81K08CRmRSPK+EpHAORMlKJ/MUDpIjHBAhAgKSsAxBxRzJkzx7QjnAdZN/eNb3zDyH/++eeXLv65555r0q8zuS0DuMmTJxusrrrqqjKSrFUaJGa1Ki4Km4QAJoTb5IxDXklI1eO5rMBEmdJSVl6ZTZ8+3bQjnKHZfH+z8mRLSumll15SJ5xwgpH79NNPT/La9uc24cCw8F/+8pe2p1mnBJ588kmFLTFEV5PA+kuPxMyPC5/WEAF7WBMNHxPGSdDqVZA2IZMyrFcO6i/t/PnzTceJMoAlqIqr5bCBLKxk6623npEXx00Nt5nVvVMAAAJlSURBVLMtjziBYcaMGWr16tXDLdawpg/dPGXKFFNOqFfYZ47OjwCJmR8XPq0pAlAAbueO4U2QNFjVQNTwB3/8G14MpCxQXrLqEgobfygzbosxfI0QxzWNHz8+0pGOGzdOXXTRRQrz0ZYtW6aefvppPbkeE+zb/ffss8/qdouNXC+++GJ10EEHRWTbd9991eLFi4cPMCflRYsWqQ9+8IMRGQ8++GB16aWXqttuu03df//9bces3WWSFP9TTz2lsHXIggULFFZayibG0raxejXPZuIOtF3xk8SsK4q5+zIJ0iUrNkUh8OpsUhnZ2LUa70DIQNToqoEADjrffffdIwSjSu1ol112UTfccEM1wPJIcd1115nFSVXCbThkwSayIKx0zREgMWuOEX3UGAEQNFheYJEBUUPHPxxKiWn6iR/KQ8gYh52r29BgBcEw4ac+9SmFg8G32Wab0tsRzgGFFeqTn/ykwnDhihUrqguYI9njjz+uZs+erT7xiU+oD3zgAwrbQ3SqThgxYoQ+r3WfffZREyZMUDjuC9Y1uuwIkJhlx4o+iQARIAJEgAgQASLQVgRIzNoKLyMnAkSACBABIkAEiEB2BEjMsmNFn0SACBABIkAEiAARaCsCJGZthZeREwEiQASIABEgAkQgOwIkZtmxok8iQASIABEgAkSACLQVARKztsLLyIkAESACRIAIEAEikB0BErPsWNEnESACRIAIEAEiQATaigCJWVvhZeREgAgQASJABIgAEciOAIlZdqzokwgQASJABIgAESACbUWAxKyt8DJyIkAEiAARIAJEgAhkR+D/AAHEW9B1Gbj0AAAAAElFTkSuQmCC)"
      ],
      "metadata": {
        "id": "44MMuMGDakZ4"
      }
    },
    {
      "cell_type": "markdown",
      "source": [
        "Не только сохраняет, но и уменьшает размер"
      ],
      "metadata": {
        "id": "3oTa4NYVbcaH"
      }
    },
    {
      "cell_type": "code",
      "source": [
        "%%sql\n",
        "SELECT count(*) FROM Orders;"
      ],
      "metadata": {
        "id": "EDSi7PlwfPKm",
        "colab": {
          "base_uri": "https://localhost:8080/",
          "height": 95
        },
        "outputId": "df259f6a-f8b8-432e-a075-b7f212dba487"
      },
      "execution_count": 21,
      "outputs": [
        {
          "output_type": "stream",
          "name": "stdout",
          "text": [
            " * sqlite:///bigbase.db\n",
            "Done.\n"
          ]
        },
        {
          "output_type": "execute_result",
          "data": {
            "text/plain": [
              "[(10150000,)]"
            ],
            "text/html": [
              "<table>\n",
              "    <thead>\n",
              "        <tr>\n",
              "            <th>count(*)</th>\n",
              "        </tr>\n",
              "    </thead>\n",
              "    <tbody>\n",
              "        <tr>\n",
              "            <td>10150000</td>\n",
              "        </tr>\n",
              "    </tbody>\n",
              "</table>"
            ]
          },
          "metadata": {},
          "execution_count": 21
        }
      ]
    },
    {
      "cell_type": "code",
      "source": [
        "%%sql\n",
        "VACUUM INTO 'base_backup.db';"
      ],
      "metadata": {
        "id": "3vcugD9iVCZT",
        "colab": {
          "base_uri": "https://localhost:8080/"
        },
        "outputId": "26997fc6-ac72-461c-f5ee-dccb375b9d87"
      },
      "execution_count": 22,
      "outputs": [
        {
          "output_type": "stream",
          "name": "stdout",
          "text": [
            " * sqlite:///bigbase.db\n",
            "Done.\n"
          ]
        },
        {
          "output_type": "execute_result",
          "data": {
            "text/plain": [
              "[]"
            ]
          },
          "metadata": {},
          "execution_count": 22
        }
      ]
    },
    {
      "cell_type": "code",
      "source": [
        "%%sql\n",
        "DELETE FROM Orders;\n",
        "SELECT count(*) FROM Orders;"
      ],
      "metadata": {
        "id": "5yRHjxfT55Jn",
        "colab": {
          "base_uri": "https://localhost:8080/",
          "height": 113
        },
        "outputId": "87db765a-d68d-48c6-9075-e964b2f0d9cd"
      },
      "execution_count": 23,
      "outputs": [
        {
          "output_type": "stream",
          "name": "stdout",
          "text": [
            " * sqlite:///bigbase.db\n",
            "10150000 rows affected.\n",
            "Done.\n"
          ]
        },
        {
          "output_type": "execute_result",
          "data": {
            "text/plain": [
              "[(0,)]"
            ],
            "text/html": [
              "<table>\n",
              "    <thead>\n",
              "        <tr>\n",
              "            <th>count(*)</th>\n",
              "        </tr>\n",
              "    </thead>\n",
              "    <tbody>\n",
              "        <tr>\n",
              "            <td>0</td>\n",
              "        </tr>\n",
              "    </tbody>\n",
              "</table>"
            ]
          },
          "metadata": {},
          "execution_count": 23
        }
      ]
    },
    {
      "cell_type": "code",
      "source": [
        "%%sql\n",
        "VACUUM;"
      ],
      "metadata": {
        "colab": {
          "base_uri": "https://localhost:8080/"
        },
        "id": "skq0-rBjmQ3d",
        "outputId": "397dca6f-5627-4696-c449-74a663b13a57"
      },
      "execution_count": 24,
      "outputs": [
        {
          "output_type": "stream",
          "name": "stdout",
          "text": [
            " * sqlite:///bigbase.db\n",
            "Done.\n"
          ]
        },
        {
          "output_type": "execute_result",
          "data": {
            "text/plain": [
              "[]"
            ]
          },
          "metadata": {},
          "execution_count": 24
        }
      ]
    },
    {
      "cell_type": "code",
      "source": [
        "!rm base_backup.db #удаляет файл"
      ],
      "metadata": {
        "id": "Uf61fx455oPh"
      },
      "execution_count": 67,
      "outputs": []
    },
    {
      "cell_type": "code",
      "source": [
        "%%sql\n",
        "CREATE TRIGGER delete_warning BEFORE DELETE ON Orders\n",
        "BEGIN\n",
        "    SELECT RAISE(ABORT, \"delete_warning: Проверь, что удаляешь, или сделай бэкап\");\n",
        "END;"
      ],
      "metadata": {
        "id": "_Q7X_5T57P34",
        "colab": {
          "base_uri": "https://localhost:8080/"
        },
        "outputId": "c787da76-de50-4e3f-cf48-b968d7637aaf"
      },
      "execution_count": 25,
      "outputs": [
        {
          "output_type": "stream",
          "name": "stdout",
          "text": [
            " * sqlite:///bigbase.db\n",
            "Done.\n"
          ]
        },
        {
          "output_type": "execute_result",
          "data": {
            "text/plain": [
              "[]"
            ]
          },
          "metadata": {},
          "execution_count": 25
        }
      ]
    },
    {
      "cell_type": "code",
      "source": [
        "%%sql\n",
        "DELETE FROM Orders;\n",
        "SELECT count(*) FROM Orders;"
      ],
      "metadata": {
        "id": "LsbpGbzqmFeX",
        "colab": {
          "base_uri": "https://localhost:8080/"
        },
        "outputId": "93f3a887-6401-4f0a-a4dc-0c36dea7a10a"
      },
      "execution_count": 30,
      "outputs": [
        {
          "output_type": "stream",
          "name": "stdout",
          "text": [
            " * sqlite:///bigbase.db\n",
            "(sqlite3.IntegrityError) delete_warning: Проверь, что удаляешь, или сделай бэкап\n",
            "[SQL: DELETE FROM Orders;]\n",
            "(Background on this error at: https://sqlalche.me/e/20/gkpj)\n"
          ]
        }
      ]
    },
    {
      "cell_type": "code",
      "source": [
        "%%sql\n",
        "SELECT * FROM sqlite_master where name = 'delete_warning';"
      ],
      "metadata": {
        "id": "QfSSomwSmF7y",
        "colab": {
          "base_uri": "https://localhost:8080/",
          "height": 147
        },
        "outputId": "3b4d0f38-6176-43ab-8781-84ecb7b4c275"
      },
      "execution_count": 28,
      "outputs": [
        {
          "output_type": "stream",
          "name": "stdout",
          "text": [
            " * sqlite:///bigbase.db\n",
            "Done.\n"
          ]
        },
        {
          "output_type": "execute_result",
          "data": {
            "text/plain": [
              "[('trigger', 'delete_warning', 'Orders', 0, 'CREATE TRIGGER delete_warning BEFORE DELETE ON Orders\\nBEGIN\\n    SELECT RAISE(ABORT, \"delete_warning: Проверь, что удаляешь, или сделай бэкап\");\\nEND')]"
            ],
            "text/html": [
              "<table>\n",
              "    <thead>\n",
              "        <tr>\n",
              "            <th>type</th>\n",
              "            <th>name</th>\n",
              "            <th>tbl_name</th>\n",
              "            <th>rootpage</th>\n",
              "            <th>sql</th>\n",
              "        </tr>\n",
              "    </thead>\n",
              "    <tbody>\n",
              "        <tr>\n",
              "            <td>trigger</td>\n",
              "            <td>delete_warning</td>\n",
              "            <td>Orders</td>\n",
              "            <td>0</td>\n",
              "            <td>CREATE TRIGGER delete_warning BEFORE DELETE ON Orders<br>BEGIN<br>    SELECT RAISE(ABORT, &quot;delete_warning: Проверь, что удаляешь, или сделай бэкап&quot;);<br>END</td>\n",
              "        </tr>\n",
              "    </tbody>\n",
              "</table>"
            ]
          },
          "metadata": {},
          "execution_count": 28
        }
      ]
    },
    {
      "cell_type": "code",
      "source": [
        "%%sql\n",
        "DROP TRIGGER delete_warning;"
      ],
      "metadata": {
        "id": "wZBI27LJ7_hk",
        "colab": {
          "base_uri": "https://localhost:8080/"
        },
        "outputId": "1fedc4a9-ff05-47fd-d241-90eca2d08547"
      },
      "execution_count": 31,
      "outputs": [
        {
          "output_type": "stream",
          "name": "stdout",
          "text": [
            " * sqlite:///bigbase.db\n",
            "Done.\n"
          ]
        },
        {
          "output_type": "execute_result",
          "data": {
            "text/plain": [
              "[]"
            ]
          },
          "metadata": {},
          "execution_count": 31
        }
      ]
    },
    {
      "cell_type": "markdown",
      "source": [
        "Итого, доступные методы:\n",
        "- транзакции (особенно при одиночной работе)\n",
        "- триггеры\n",
        "- backup"
      ],
      "metadata": {
        "id": "ycOnQfilsBCV"
      }
    }
  ],
  "metadata": {
    "celltoolbar": "Slideshow",
    "colab": {
      "collapsed_sections": [
        "zbXl_KYdS04l",
        "Ab7JQ85bSrRD"
      ],
      "provenance": []
    },
    "kernelspec": {
      "display_name": "Python 3",
      "language": "python",
      "name": "python3"
    },
    "language_info": {
      "codemirror_mode": {
        "name": "ipython",
        "version": 3
      },
      "file_extension": ".py",
      "mimetype": "text/x-python",
      "name": "python",
      "nbconvert_exporter": "python",
      "pygments_lexer": "ipython3",
      "version": "3.7.4"
    }
  },
  "nbformat": 4,
  "nbformat_minor": 0
}