{
  "nbformat": 4,
  "nbformat_minor": 0,
  "metadata": {
    "kernelspec": {
      "display_name": "Python 3",
      "language": "python",
      "name": "python3"
    },
    "language_info": {
      "codemirror_mode": {
        "name": "ipython",
        "version": 3
      },
      "file_extension": ".py",
      "mimetype": "text/x-python",
      "name": "python",
      "nbconvert_exporter": "python",
      "pygments_lexer": "ipython3",
      "version": "3.7.6"
    },
    "colab": {
      "provenance": []
    }
  },
  "cells": [
    {
      "cell_type": "code",
      "metadata": {
        "id": "gxs2m9kfS2CP"
      },
      "source": [
        "%load_ext sql\n",
        "%sql sqlite:///base.db\n",
        "%config SqlMagic.style = '_DEPRECATED_DEFAULT'"
      ],
      "execution_count": 1,
      "outputs": []
    },
    {
      "cell_type": "markdown",
      "source": [
        "# Ограничение целостности БД"
      ],
      "metadata": {
        "id": "dABjhcFr9ktz"
      }
    },
    {
      "cell_type": "markdown",
      "source": [
        "**Стандарт языка SQL** поддерживает только декларативные ограничения целостности, реализуемые в виде:\n",
        "\n",
        "- ограничения домена;\n",
        "\n",
        "- ограничения, входящие в определение таблицы;\n",
        "\n",
        "- ограничения, хранящиеся в базе данных в виде независимых утверждений (check)"
      ],
      "metadata": {
        "id": "3tY2gKNiSzXI"
      }
    },
    {
      "cell_type": "markdown",
      "source": [
        "**Ограничения стандарта SQL:**\n",
        "\n",
        "- PRIMARY KEY\n",
        "- FOREIGN KEY (ON DELETE, ON UPDATE)\n",
        "- NOT NULL\n",
        "- UNIQUE\n",
        "- DEFAULT\n",
        "- CHECK"
      ],
      "metadata": {
        "id": "Fvo_7oBST6wJ"
      }
    },
    {
      "cell_type": "code",
      "metadata": {
        "id": "HhI93YVFS2CS",
        "colab": {
          "base_uri": "https://localhost:8080/"
        },
        "outputId": "2894e3ca-10fe-47a7-a196-5ed271d2f329"
      },
      "source": [
        "%%sql\n",
        "PRAGMA foreign_keys=on;\n",
        "\n",
        "DROP TABLE IF EXISTS Orders;\n",
        "DROP TABLE IF EXISTS Customers;\n",
        "\n",
        "CREATE TABLE Customers (\n",
        "          customer_id integer PRIMARY KEY,\n",
        "          cust_name varchar(30),\n",
        "          registered datetime,\n",
        "          address varchar(50)\n",
        "          );\n",
        "\n",
        "CREATE TABLE Orders (\n",
        "          order_ID integer PRIMARY KEY,\n",
        "          customer_id integer NOT NULL,\n",
        "          order_sum integer NOT NULL,\n",
        "          order_date datetime NOT NULL,\n",
        "          address varchar(50),\n",
        "          FOREIGN KEY (customer_id) REFERENCES Customers(customer_id)\n",
        "             ON UPDATE CASCADE\n",
        "             ON DELETE SET DEFAULT\n",
        "           --  ON UPDATE RESTRICT\n",
        "           --  ON DELETE CASCADE\n",
        "\n",
        "          -- RESTRICT, CASCADE, SET NULL, SET DEFAULT, NO ACTION\n",
        "          CHECK (order_sum > 0)\n",
        "          );"
      ],
      "execution_count": 2,
      "outputs": [
        {
          "output_type": "stream",
          "name": "stdout",
          "text": [
            " * sqlite:///base.db\n",
            "Done.\n",
            "Done.\n",
            "Done.\n",
            "Done.\n",
            "Done.\n"
          ]
        },
        {
          "output_type": "execute_result",
          "data": {
            "text/plain": [
              "[]"
            ]
          },
          "metadata": {},
          "execution_count": 2
        }
      ]
    },
    {
      "cell_type": "markdown",
      "source": [
        "![image.png](data:image/png;base64,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)"
      ],
      "metadata": {
        "id": "PHOavwWHMpVm"
      }
    },
    {
      "cell_type": "code",
      "source": [
        "%%sql\n",
        "INSERT INTO Customers(cust_name) VALUES(\"Антон\");\n",
        "INSERT INTO Customers(cust_name, address) VALUES(\"Павел\", \"Адрес1\");\n",
        "INSERT INTO Customers(cust_name) VALUES(\"Наталья\");"
      ],
      "metadata": {
        "id": "PW2XWa_Rbafm",
        "colab": {
          "base_uri": "https://localhost:8080/"
        },
        "outputId": "cf4a5f50-07c1-4e6f-d0d2-8324e331a5f3"
      },
      "execution_count": 3,
      "outputs": [
        {
          "output_type": "stream",
          "name": "stdout",
          "text": [
            " * sqlite:///base.db\n",
            "1 rows affected.\n",
            "1 rows affected.\n",
            "1 rows affected.\n"
          ]
        },
        {
          "output_type": "execute_result",
          "data": {
            "text/plain": [
              "[]"
            ]
          },
          "metadata": {},
          "execution_count": 3
        }
      ]
    },
    {
      "cell_type": "code",
      "source": [
        "%sql SELECT * FROM Customers;"
      ],
      "metadata": {
        "id": "wEa7ER5xlxt_",
        "colab": {
          "base_uri": "https://localhost:8080/",
          "height": 139
        },
        "outputId": "594f06ab-1607-4ccc-efa5-9979508a208f"
      },
      "execution_count": 4,
      "outputs": [
        {
          "output_type": "stream",
          "name": "stdout",
          "text": [
            " * sqlite:///base.db\n",
            "Done.\n"
          ]
        },
        {
          "output_type": "execute_result",
          "data": {
            "text/plain": [
              "[(1, 'Антон', None, None),\n",
              " (2, 'Павел', None, 'Адрес1'),\n",
              " (3, 'Наталья', None, None)]"
            ],
            "text/html": [
              "<table>\n",
              "    <thead>\n",
              "        <tr>\n",
              "            <th>customer_id</th>\n",
              "            <th>cust_name</th>\n",
              "            <th>registered</th>\n",
              "            <th>address</th>\n",
              "        </tr>\n",
              "    </thead>\n",
              "    <tbody>\n",
              "        <tr>\n",
              "            <td>1</td>\n",
              "            <td>Антон</td>\n",
              "            <td>None</td>\n",
              "            <td>None</td>\n",
              "        </tr>\n",
              "        <tr>\n",
              "            <td>2</td>\n",
              "            <td>Павел</td>\n",
              "            <td>None</td>\n",
              "            <td>Адрес1</td>\n",
              "        </tr>\n",
              "        <tr>\n",
              "            <td>3</td>\n",
              "            <td>Наталья</td>\n",
              "            <td>None</td>\n",
              "            <td>None</td>\n",
              "        </tr>\n",
              "    </tbody>\n",
              "</table>"
            ]
          },
          "metadata": {},
          "execution_count": 4
        }
      ]
    },
    {
      "cell_type": "code",
      "source": [
        "%%sql\n",
        "INSERT INTO Orders(customer_id, order_sum, order_date) VALUES(1, 24000, '2025-03-01');\n",
        "INSERT INTO Orders(customer_id, order_sum, order_date) VALUES(2, 36000, '2025-03-01');\n",
        "INSERT INTO Orders(customer_id, order_sum, order_date) VALUES(3, 14000, '2025-03-01');\n",
        "INSERT INTO Orders(customer_id, order_sum, order_date) VALUES(2, 22000, '2025-03-02');"
      ],
      "metadata": {
        "id": "ryVSSyLLfIpN",
        "colab": {
          "base_uri": "https://localhost:8080/"
        },
        "outputId": "8ae5d15e-690d-4b20-a7c9-cf757224665c"
      },
      "execution_count": 5,
      "outputs": [
        {
          "output_type": "stream",
          "name": "stdout",
          "text": [
            " * sqlite:///base.db\n",
            "1 rows affected.\n",
            "1 rows affected.\n",
            "1 rows affected.\n",
            "1 rows affected.\n"
          ]
        },
        {
          "output_type": "execute_result",
          "data": {
            "text/plain": [
              "[]"
            ]
          },
          "metadata": {},
          "execution_count": 5
        }
      ]
    },
    {
      "cell_type": "code",
      "source": [
        "%sql SELECT * FROM Orders;"
      ],
      "metadata": {
        "id": "rN7aU_fAl3rf",
        "colab": {
          "base_uri": "https://localhost:8080/",
          "height": 161
        },
        "outputId": "4140f3e5-e1b4-46da-d71d-33f72ca55dc2"
      },
      "execution_count": 6,
      "outputs": [
        {
          "output_type": "stream",
          "name": "stdout",
          "text": [
            " * sqlite:///base.db\n",
            "Done.\n"
          ]
        },
        {
          "output_type": "execute_result",
          "data": {
            "text/plain": [
              "[(1, 1, 24000, '2025-03-01', None),\n",
              " (2, 2, 36000, '2025-03-01', None),\n",
              " (3, 3, 14000, '2025-03-01', None),\n",
              " (4, 2, 22000, '2025-03-02', None)]"
            ],
            "text/html": [
              "<table>\n",
              "    <thead>\n",
              "        <tr>\n",
              "            <th>order_ID</th>\n",
              "            <th>customer_id</th>\n",
              "            <th>order_sum</th>\n",
              "            <th>order_date</th>\n",
              "            <th>address</th>\n",
              "        </tr>\n",
              "    </thead>\n",
              "    <tbody>\n",
              "        <tr>\n",
              "            <td>1</td>\n",
              "            <td>1</td>\n",
              "            <td>24000</td>\n",
              "            <td>2025-03-01</td>\n",
              "            <td>None</td>\n",
              "        </tr>\n",
              "        <tr>\n",
              "            <td>2</td>\n",
              "            <td>2</td>\n",
              "            <td>36000</td>\n",
              "            <td>2025-03-01</td>\n",
              "            <td>None</td>\n",
              "        </tr>\n",
              "        <tr>\n",
              "            <td>3</td>\n",
              "            <td>3</td>\n",
              "            <td>14000</td>\n",
              "            <td>2025-03-01</td>\n",
              "            <td>None</td>\n",
              "        </tr>\n",
              "        <tr>\n",
              "            <td>4</td>\n",
              "            <td>2</td>\n",
              "            <td>22000</td>\n",
              "            <td>2025-03-02</td>\n",
              "            <td>None</td>\n",
              "        </tr>\n",
              "    </tbody>\n",
              "</table>"
            ]
          },
          "metadata": {},
          "execution_count": 6
        }
      ]
    },
    {
      "cell_type": "code",
      "source": [
        "%%sql\n",
        "UPDATE Customers set customer_id = 4 WHERE cust_name = 'Антон';"
      ],
      "metadata": {
        "id": "3L_D8yfTjIDC",
        "colab": {
          "base_uri": "https://localhost:8080/"
        },
        "outputId": "1b0622ad-62aa-40ec-97f5-bdad1a387b29"
      },
      "execution_count": 8,
      "outputs": [
        {
          "output_type": "stream",
          "name": "stdout",
          "text": [
            " * sqlite:///base.db\n",
            "1 rows affected.\n"
          ]
        },
        {
          "output_type": "execute_result",
          "data": {
            "text/plain": [
              "[]"
            ]
          },
          "metadata": {},
          "execution_count": 8
        }
      ]
    },
    {
      "cell_type": "code",
      "source": [
        "%sql SELECT * FROM Orders;"
      ],
      "metadata": {
        "id": "je3__3htm7RU",
        "colab": {
          "base_uri": "https://localhost:8080/",
          "height": 161
        },
        "outputId": "06f2032c-c961-412d-9500-01b97fb32783"
      },
      "execution_count": 9,
      "outputs": [
        {
          "output_type": "stream",
          "name": "stdout",
          "text": [
            " * sqlite:///base.db\n",
            "Done.\n"
          ]
        },
        {
          "output_type": "execute_result",
          "data": {
            "text/plain": [
              "[(1, 4, 24000, '2025-03-01', None),\n",
              " (2, 2, 36000, '2025-03-01', None),\n",
              " (3, 3, 14000, '2025-03-01', None),\n",
              " (4, 2, 22000, '2025-03-02', None)]"
            ],
            "text/html": [
              "<table>\n",
              "    <thead>\n",
              "        <tr>\n",
              "            <th>order_ID</th>\n",
              "            <th>customer_id</th>\n",
              "            <th>order_sum</th>\n",
              "            <th>order_date</th>\n",
              "            <th>address</th>\n",
              "        </tr>\n",
              "    </thead>\n",
              "    <tbody>\n",
              "        <tr>\n",
              "            <td>1</td>\n",
              "            <td>4</td>\n",
              "            <td>24000</td>\n",
              "            <td>2025-03-01</td>\n",
              "            <td>None</td>\n",
              "        </tr>\n",
              "        <tr>\n",
              "            <td>2</td>\n",
              "            <td>2</td>\n",
              "            <td>36000</td>\n",
              "            <td>2025-03-01</td>\n",
              "            <td>None</td>\n",
              "        </tr>\n",
              "        <tr>\n",
              "            <td>3</td>\n",
              "            <td>3</td>\n",
              "            <td>14000</td>\n",
              "            <td>2025-03-01</td>\n",
              "            <td>None</td>\n",
              "        </tr>\n",
              "        <tr>\n",
              "            <td>4</td>\n",
              "            <td>2</td>\n",
              "            <td>22000</td>\n",
              "            <td>2025-03-02</td>\n",
              "            <td>None</td>\n",
              "        </tr>\n",
              "    </tbody>\n",
              "</table>"
            ]
          },
          "metadata": {},
          "execution_count": 9
        }
      ]
    },
    {
      "cell_type": "code",
      "source": [
        "%%sql\n",
        "INSERT INTO Orders(customer_id, order_sum, order_date) VALUES(1, -24000, '2025-02-21');"
      ],
      "metadata": {
        "id": "VNkqaefGttK0",
        "colab": {
          "base_uri": "https://localhost:8080/"
        },
        "outputId": "b37339a6-4292-4c2a-e013-5007fc87d0d0"
      },
      "execution_count": 10,
      "outputs": [
        {
          "output_type": "stream",
          "name": "stdout",
          "text": [
            " * sqlite:///base.db\n",
            "(sqlite3.IntegrityError) CHECK constraint failed: order_sum > 0\n",
            "[SQL: INSERT INTO Orders(customer_id, order_sum, order_date) VALUES(1, -24000, '2025-02-21');]\n",
            "(Background on this error at: https://sqlalche.me/e/20/gkpj)\n"
          ]
        }
      ]
    },
    {
      "cell_type": "code",
      "source": [
        "%%sql\n",
        "DELETE from Customers where customer_id = 3;"
      ],
      "metadata": {
        "id": "NTSae1QniNY4",
        "colab": {
          "base_uri": "https://localhost:8080/"
        },
        "outputId": "538c78ed-569a-46ee-c70e-e53d3790b922"
      },
      "execution_count": 11,
      "outputs": [
        {
          "output_type": "stream",
          "name": "stdout",
          "text": [
            " * sqlite:///base.db\n",
            "(sqlite3.IntegrityError) NOT NULL constraint failed: Orders.customer_id\n",
            "[SQL: DELETE from Customers where customer_id = 3;]\n",
            "(Background on this error at: https://sqlalche.me/e/20/gkpj)\n"
          ]
        }
      ]
    },
    {
      "cell_type": "code",
      "source": [
        "%sql SELECT * FROM Orders;"
      ],
      "metadata": {
        "id": "-91QDUUrmbif",
        "colab": {
          "base_uri": "https://localhost:8080/",
          "height": 161
        },
        "outputId": "3c6724f7-aa16-4c43-8ddb-d2ba23b6604d"
      },
      "execution_count": 12,
      "outputs": [
        {
          "output_type": "stream",
          "name": "stdout",
          "text": [
            " * sqlite:///base.db\n",
            "Done.\n"
          ]
        },
        {
          "output_type": "execute_result",
          "data": {
            "text/plain": [
              "[(1, 4, 24000, '2025-03-01', None),\n",
              " (2, 2, 36000, '2025-03-01', None),\n",
              " (3, 3, 14000, '2025-03-01', None),\n",
              " (4, 2, 22000, '2025-03-02', None)]"
            ],
            "text/html": [
              "<table>\n",
              "    <thead>\n",
              "        <tr>\n",
              "            <th>order_ID</th>\n",
              "            <th>customer_id</th>\n",
              "            <th>order_sum</th>\n",
              "            <th>order_date</th>\n",
              "            <th>address</th>\n",
              "        </tr>\n",
              "    </thead>\n",
              "    <tbody>\n",
              "        <tr>\n",
              "            <td>1</td>\n",
              "            <td>4</td>\n",
              "            <td>24000</td>\n",
              "            <td>2025-03-01</td>\n",
              "            <td>None</td>\n",
              "        </tr>\n",
              "        <tr>\n",
              "            <td>2</td>\n",
              "            <td>2</td>\n",
              "            <td>36000</td>\n",
              "            <td>2025-03-01</td>\n",
              "            <td>None</td>\n",
              "        </tr>\n",
              "        <tr>\n",
              "            <td>3</td>\n",
              "            <td>3</td>\n",
              "            <td>14000</td>\n",
              "            <td>2025-03-01</td>\n",
              "            <td>None</td>\n",
              "        </tr>\n",
              "        <tr>\n",
              "            <td>4</td>\n",
              "            <td>2</td>\n",
              "            <td>22000</td>\n",
              "            <td>2025-03-02</td>\n",
              "            <td>None</td>\n",
              "        </tr>\n",
              "    </tbody>\n",
              "</table>"
            ]
          },
          "metadata": {},
          "execution_count": 12
        }
      ]
    },
    {
      "cell_type": "markdown",
      "source": [
        "# Несогласованность"
      ],
      "metadata": {
        "id": "T5HdP3nR-f8d"
      }
    },
    {
      "cell_type": "code",
      "source": [
        "%%sql\n",
        "Pragma foreign_keys=on;\n",
        "\n",
        "DROP TABLE if exists Orders;\n",
        "DROP TABLE if exists Customers;\n",
        "\n",
        "CREATE TABLE Customers(\n",
        "          customer_id integer PRIMARY KEY,\n",
        "          cust_name varchar(30) NOT NULL UNIQUE,\n",
        "          registered datetime NOT NULL,\n",
        "          address varchar(50)\n",
        "          );\n",
        "\n",
        "CREATE TABLE Orders(\n",
        "          order_ID integer PRIMARY KEY,\n",
        "          customer_id integer NOT NULL,\n",
        "          order_sum integer NOT NULL,\n",
        "          order_date datetime NOT NULL,\n",
        "          address varchar(50),\n",
        "          FOREIGN KEY (customer_id) REFERENCES Customers(customer_id)\n",
        "          );"
      ],
      "metadata": {
        "id": "G-g6u2MqkaA-",
        "colab": {
          "base_uri": "https://localhost:8080/"
        },
        "outputId": "11821db9-03b4-4332-e638-d96766b305dd"
      },
      "execution_count": 13,
      "outputs": [
        {
          "output_type": "stream",
          "name": "stdout",
          "text": [
            " * sqlite:///base.db\n",
            "Done.\n",
            "Done.\n",
            "Done.\n",
            "Done.\n",
            "Done.\n"
          ]
        },
        {
          "output_type": "execute_result",
          "data": {
            "text/plain": [
              "[]"
            ]
          },
          "metadata": {},
          "execution_count": 13
        }
      ]
    },
    {
      "cell_type": "markdown",
      "source": [
        "![image.png](data:image/png;base64,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)"
      ],
      "metadata": {
        "id": "ffgg7ca_Q13d"
      }
    },
    {
      "cell_type": "code",
      "source": [
        "%%sql\n",
        "INSERT INTO Orders(customer_id, order_sum, order_date) VALUES(1, 24000, '2025-03-01');"
      ],
      "metadata": {
        "colab": {
          "base_uri": "https://localhost:8080/"
        },
        "id": "1Sqpjzk9N6aF",
        "outputId": "c45cdcbd-5bb7-4453-ea4c-8f1a416e78cd"
      },
      "execution_count": 16,
      "outputs": [
        {
          "output_type": "stream",
          "name": "stdout",
          "text": [
            " * sqlite:///base.db\n",
            "(sqlite3.IntegrityError) FOREIGN KEY constraint failed\n",
            "[SQL: INSERT INTO Orders(customer_id, order_sum, order_date) VALUES(2, 24000, '2025-03-01');]\n",
            "(Background on this error at: https://sqlalche.me/e/20/gkpj)\n"
          ]
        }
      ]
    },
    {
      "cell_type": "code",
      "source": [
        "%%sql\n",
        "INSERT INTO Customers(cust_name, registered, address) VALUES(\"Антон\", '2025-03-03', \"адрес Антона\");\n",
        "INSERT INTO Orders(customer_id, order_sum, order_date) VALUES(1, 24000, '2025-03-01');"
      ],
      "metadata": {
        "id": "Vl0SSbHfo44g",
        "colab": {
          "base_uri": "https://localhost:8080/"
        },
        "outputId": "bb094081-5a57-4f51-f05b-495bbf8e0153"
      },
      "execution_count": 14,
      "outputs": [
        {
          "output_type": "stream",
          "name": "stdout",
          "text": [
            " * sqlite:///base.db\n",
            "1 rows affected.\n",
            "1 rows affected.\n"
          ]
        },
        {
          "output_type": "execute_result",
          "data": {
            "text/plain": [
              "[]"
            ]
          },
          "metadata": {},
          "execution_count": 14
        }
      ]
    },
    {
      "cell_type": "code",
      "source": [
        "%%sql\n",
        "-- Ничего не мешает делать заказы до регистрации -> несогласованность\n",
        "SELECT order_ID, cust_name, registered, order_date FROM\n",
        "Customers JOIN Orders USING(customer_id);"
      ],
      "metadata": {
        "id": "1-i6SpqZuB4P",
        "colab": {
          "base_uri": "https://localhost:8080/",
          "height": 96
        },
        "outputId": "5757619a-3833-4bad-9f8f-1d287256ce8c"
      },
      "execution_count": 15,
      "outputs": [
        {
          "output_type": "stream",
          "name": "stdout",
          "text": [
            " * sqlite:///base.db\n",
            "Done.\n"
          ]
        },
        {
          "output_type": "execute_result",
          "data": {
            "text/plain": [
              "[(1, 'Антон', '2025-03-03', '2025-03-01')]"
            ],
            "text/html": [
              "<table>\n",
              "    <thead>\n",
              "        <tr>\n",
              "            <th>order_ID</th>\n",
              "            <th>cust_name</th>\n",
              "            <th>registered</th>\n",
              "            <th>order_date</th>\n",
              "        </tr>\n",
              "    </thead>\n",
              "    <tbody>\n",
              "        <tr>\n",
              "            <td>1</td>\n",
              "            <td>Антон</td>\n",
              "            <td>2025-03-03</td>\n",
              "            <td>2025-03-01</td>\n",
              "        </tr>\n",
              "    </tbody>\n",
              "</table>"
            ]
          },
          "metadata": {},
          "execution_count": 15
        }
      ]
    },
    {
      "cell_type": "markdown",
      "source": [
        "# Ограничения не из стандарта SQL:"
      ],
      "metadata": {
        "id": "Y6txVaXNj93R"
      }
    },
    {
      "cell_type": "markdown",
      "source": [
        "Триггер — это хранимая процедура, которая не вызывается непосредственно, а исполняется при наступлении определенного события (UPDATE, INSERT, DELETE)."
      ],
      "metadata": {
        "id": "zDGEaAhPn1Pg"
      }
    },
    {
      "cell_type": "markdown",
      "source": [
        "Триггеры можно разделить на три вида по их применению:\n",
        "\n",
        "BEFORE\n",
        "\n",
        "AFTER\n",
        "\n",
        "<s>INSTEAD OF</s> (для VIEW)\n",
        "\n",
        "\n",
        "---\n",
        "\n",
        "\n",
        "И на 3 вида по типу команд:\n",
        "\n",
        "DELETE\n",
        "\n",
        "UPDATE\n",
        "\n",
        "INSERT"
      ],
      "metadata": {
        "id": "sOprZ92ArMI0"
      }
    },
    {
      "cell_type": "markdown",
      "source": [
        "https://www.sqlite.org/lang_createtrigger.html"
      ],
      "metadata": {
        "id": "GizMLnRgsqfY"
      }
    },
    {
      "cell_type": "markdown",
      "source": [
        "![image.png](data:image/png;base64,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)"
      ],
      "metadata": {
        "id": "IvBSH_VOse-t"
      }
    },
    {
      "cell_type": "markdown",
      "source": [
        "Замечания:\n",
        "Триггер может создаваться для какой-либо конкретной таблицы или для строк (FOR EACH ROW)\n",
        "В SQLite нет табличных триггеров, а только FOR EACH ROW триггеры, которые срабатывают при изменении каждой строки в таблице."
      ],
      "metadata": {
        "id": "vhHvVAdqwnYF"
      }
    },
    {
      "cell_type": "code",
      "source": [
        "%%sql\n",
        "SELECT * FROM Customers;"
      ],
      "metadata": {
        "id": "4jEiwx4n2zod",
        "colab": {
          "base_uri": "https://localhost:8080/",
          "height": 96
        },
        "outputId": "27da0cd4-1411-4594-b5c9-dba6149565cf"
      },
      "execution_count": 17,
      "outputs": [
        {
          "output_type": "stream",
          "name": "stdout",
          "text": [
            " * sqlite:///base.db\n",
            "Done.\n"
          ]
        },
        {
          "output_type": "execute_result",
          "data": {
            "text/plain": [
              "[(1, 'Антон', '2025-03-03', 'адрес Антона')]"
            ],
            "text/html": [
              "<table>\n",
              "    <thead>\n",
              "        <tr>\n",
              "            <th>customer_id</th>\n",
              "            <th>cust_name</th>\n",
              "            <th>registered</th>\n",
              "            <th>address</th>\n",
              "        </tr>\n",
              "    </thead>\n",
              "    <tbody>\n",
              "        <tr>\n",
              "            <td>1</td>\n",
              "            <td>Антон</td>\n",
              "            <td>2025-03-03</td>\n",
              "            <td>адрес Антона</td>\n",
              "        </tr>\n",
              "    </tbody>\n",
              "</table>"
            ]
          },
          "metadata": {},
          "execution_count": 17
        }
      ]
    },
    {
      "cell_type": "markdown",
      "source": [
        "NEW - новое значение в таблице\n",
        "\n",
        "OLD - старое значение в таблице (до модификации)"
      ],
      "metadata": {
        "id": "X198Muz14bZQ"
      }
    },
    {
      "cell_type": "markdown",
      "source": [
        "Пример 1 - После введения нового адреса заказа обновить адрес клиента:"
      ],
      "metadata": {
        "id": "GTYV9dUL5rD9"
      }
    },
    {
      "cell_type": "code",
      "source": [
        "%%sql\n",
        "\n",
        "DROP TRIGGER if exists upd_address;\n",
        "\n",
        "CREATE TRIGGER upd_address AFTER INSERT ON Orders\n",
        "BEGIN\n",
        "UPDATE Customers SET address = new.address WHERE customer_id = new.customer_id;\n",
        "END;"
      ],
      "metadata": {
        "id": "W0ooSHiY2Qlr",
        "colab": {
          "base_uri": "https://localhost:8080/"
        },
        "outputId": "1facf1c2-3b67-46bc-c865-2a8f4b9cdd97"
      },
      "execution_count": 18,
      "outputs": [
        {
          "output_type": "stream",
          "name": "stdout",
          "text": [
            " * sqlite:///base.db\n",
            "Done.\n",
            "Done.\n"
          ]
        },
        {
          "output_type": "execute_result",
          "data": {
            "text/plain": [
              "[]"
            ]
          },
          "metadata": {},
          "execution_count": 18
        }
      ]
    },
    {
      "cell_type": "code",
      "source": [
        "%%sql\n",
        "INSERT INTO Orders(customer_id, order_sum, order_date, address)\n",
        "    VALUES(1, 7000, '2025-03-03', \"Новый адрес Антона\");"
      ],
      "metadata": {
        "id": "c6Z1QdeI26ul",
        "colab": {
          "base_uri": "https://localhost:8080/"
        },
        "outputId": "2c3819f1-3f17-4a3c-b3c4-74bc389aa544"
      },
      "execution_count": 19,
      "outputs": [
        {
          "output_type": "stream",
          "name": "stdout",
          "text": [
            " * sqlite:///base.db\n",
            "1 rows affected.\n"
          ]
        },
        {
          "output_type": "execute_result",
          "data": {
            "text/plain": [
              "[]"
            ]
          },
          "metadata": {},
          "execution_count": 19
        }
      ]
    },
    {
      "cell_type": "code",
      "source": [
        "%%sql\n",
        "SELECT * FROM Orders;"
      ],
      "metadata": {
        "id": "NChFXsIi3ouG",
        "colab": {
          "base_uri": "https://localhost:8080/",
          "height": 118
        },
        "outputId": "95ea10c3-2c78-43a0-d8e6-732ec79a2254"
      },
      "execution_count": 25,
      "outputs": [
        {
          "output_type": "stream",
          "name": "stdout",
          "text": [
            " * sqlite:///base.db\n",
            "Done.\n"
          ]
        },
        {
          "output_type": "execute_result",
          "data": {
            "text/plain": [
              "[(1, 1, 24000, '2025-03-01', None),\n",
              " (2, 1, 7000, '2025-03-03', 'Новый адрес Антона')]"
            ],
            "text/html": [
              "<table>\n",
              "    <thead>\n",
              "        <tr>\n",
              "            <th>order_ID</th>\n",
              "            <th>customer_id</th>\n",
              "            <th>order_sum</th>\n",
              "            <th>order_date</th>\n",
              "            <th>address</th>\n",
              "        </tr>\n",
              "    </thead>\n",
              "    <tbody>\n",
              "        <tr>\n",
              "            <td>1</td>\n",
              "            <td>1</td>\n",
              "            <td>24000</td>\n",
              "            <td>2025-03-01</td>\n",
              "            <td>None</td>\n",
              "        </tr>\n",
              "        <tr>\n",
              "            <td>2</td>\n",
              "            <td>1</td>\n",
              "            <td>7000</td>\n",
              "            <td>2025-03-03</td>\n",
              "            <td>Новый адрес Антона</td>\n",
              "        </tr>\n",
              "    </tbody>\n",
              "</table>"
            ]
          },
          "metadata": {},
          "execution_count": 25
        }
      ]
    },
    {
      "cell_type": "code",
      "source": [
        "%%sql\n",
        "SELECT * FROM Customers;"
      ],
      "metadata": {
        "id": "NNqP8eCk3AOV",
        "colab": {
          "base_uri": "https://localhost:8080/",
          "height": 96
        },
        "outputId": "4f474315-8be1-4772-befc-204bee89cfae"
      },
      "execution_count": 24,
      "outputs": [
        {
          "output_type": "stream",
          "name": "stdout",
          "text": [
            " * sqlite:///base.db\n",
            "Done.\n"
          ]
        },
        {
          "output_type": "execute_result",
          "data": {
            "text/plain": [
              "[(1, 'Антон', '2025-03-03', 'Новый адрес Антона')]"
            ],
            "text/html": [
              "<table>\n",
              "    <thead>\n",
              "        <tr>\n",
              "            <th>customer_id</th>\n",
              "            <th>cust_name</th>\n",
              "            <th>registered</th>\n",
              "            <th>address</th>\n",
              "        </tr>\n",
              "    </thead>\n",
              "    <tbody>\n",
              "        <tr>\n",
              "            <td>1</td>\n",
              "            <td>Антон</td>\n",
              "            <td>2025-03-03</td>\n",
              "            <td>Новый адрес Антона</td>\n",
              "        </tr>\n",
              "    </tbody>\n",
              "</table>"
            ]
          },
          "metadata": {},
          "execution_count": 24
        }
      ]
    },
    {
      "cell_type": "code",
      "source": [
        "%%sql\n",
        "INSERT INTO Orders(customer_id, order_sum, order_date)\n",
        "    VALUES(1, 4000, '2025-03-03');"
      ],
      "metadata": {
        "id": "Qz6f7robDMm7",
        "colab": {
          "base_uri": "https://localhost:8080/"
        },
        "outputId": "57a18cbd-6e8b-4e98-a475-62376925b652"
      },
      "execution_count": 23,
      "outputs": [
        {
          "output_type": "stream",
          "name": "stdout",
          "text": [
            " * sqlite:///base.db\n",
            "(sqlite3.IntegrityError) NOT NULL constraint failed: Customers.address\n",
            "[SQL: INSERT INTO Orders(customer_id, order_sum, order_date)\n",
            "    VALUES(1, 4000, '2025-03-03');]\n",
            "(Background on this error at: https://sqlalche.me/e/20/gkpj)\n"
          ]
        }
      ]
    },
    {
      "cell_type": "code",
      "source": [
        "%%sql\n",
        "SELECT * FROM Customers; -- упс"
      ],
      "metadata": {
        "id": "XLsYE1joDNlL",
        "colab": {
          "base_uri": "https://localhost:8080/",
          "height": 96
        },
        "outputId": "e4dec1da-c020-4882-99e7-0ca37ab7d48b"
      },
      "execution_count": 52,
      "outputs": [
        {
          "output_type": "stream",
          "name": "stdout",
          "text": [
            " * sqlite:///base.db\n",
            "Done.\n"
          ]
        },
        {
          "output_type": "execute_result",
          "data": {
            "text/plain": [
              "[(1, 'Антон', '2025-03-03', 'Новый адрес Антона', None)]"
            ],
            "text/html": [
              "<table>\n",
              "    <thead>\n",
              "        <tr>\n",
              "            <th>customer_id</th>\n",
              "            <th>cust_name</th>\n",
              "            <th>registered</th>\n",
              "            <th>address</th>\n",
              "            <th>cust_info</th>\n",
              "        </tr>\n",
              "    </thead>\n",
              "    <tbody>\n",
              "        <tr>\n",
              "            <td>1</td>\n",
              "            <td>Антон</td>\n",
              "            <td>2025-03-03</td>\n",
              "            <td>Новый адрес Антона</td>\n",
              "            <td>None</td>\n",
              "        </tr>\n",
              "    </tbody>\n",
              "</table>"
            ]
          },
          "metadata": {},
          "execution_count": 52
        }
      ]
    },
    {
      "cell_type": "markdown",
      "source": [
        "Исправляем:"
      ],
      "metadata": {
        "id": "LiUNFSYsDJlr"
      }
    },
    {
      "cell_type": "code",
      "source": [
        "%%sql\n",
        "\n",
        "DROP TRIGGER upd_address;\n",
        "\n",
        "CREATE TRIGGER upd_address AFTER INSERT ON Orders\n",
        "WHEN new.address IS NOT NULL\n",
        "BEGIN\n",
        "UPDATE Customers SET address = new.address WHERE customer_id = new.customer_id;\n",
        "END;"
      ],
      "metadata": {
        "id": "-RRIPTvTDrUE",
        "colab": {
          "base_uri": "https://localhost:8080/"
        },
        "outputId": "b74efc0e-b16a-4f56-b8c6-736003b4859f"
      },
      "execution_count": 45,
      "outputs": [
        {
          "output_type": "stream",
          "name": "stdout",
          "text": [
            " * sqlite:///base.db\n",
            "Done.\n",
            "Done.\n"
          ]
        },
        {
          "output_type": "execute_result",
          "data": {
            "text/plain": [
              "[]"
            ]
          },
          "metadata": {},
          "execution_count": 45
        }
      ]
    },
    {
      "cell_type": "markdown",
      "source": [
        "## RAISE()"
      ],
      "metadata": {
        "id": "fAuYpqTo6V09"
      }
    },
    {
      "cell_type": "markdown",
      "source": [
        "![image.png](data:image/png;base64,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)"
      ],
      "metadata": {
        "id": "m9MIUUtN8GeB"
      }
    },
    {
      "cell_type": "markdown",
      "source": [
        "Пример 2 - решение несогласованности"
      ],
      "metadata": {
        "id": "SBhjzfJ08-hz"
      }
    },
    {
      "cell_type": "code",
      "source": [
        "%%sql\n",
        "\n",
        "DROP TRIGGER if exists reg_check;\n",
        "\n",
        "CREATE TRIGGER reg_check BEFORE INSERT\n",
        "ON Orders\n",
        "BEGIN\n",
        "SELECT RAISE (FAIL, \"Дата заказа раньше регистрации клиента\")\n",
        "    FROM Customers JOIN Orders USING(customer_id)\n",
        "        WHERE new.order_date < registered;\n",
        "END;"
      ],
      "metadata": {
        "id": "0oLTh2HCtfCD",
        "colab": {
          "base_uri": "https://localhost:8080/"
        },
        "outputId": "1749cbb1-144a-4d17-a694-4e4c94c264a9"
      },
      "execution_count": 26,
      "outputs": [
        {
          "output_type": "stream",
          "name": "stdout",
          "text": [
            " * sqlite:///base.db\n",
            "Done.\n",
            "Done.\n"
          ]
        },
        {
          "output_type": "execute_result",
          "data": {
            "text/plain": [
              "[]"
            ]
          },
          "metadata": {},
          "execution_count": 26
        }
      ]
    },
    {
      "cell_type": "code",
      "source": [
        "%%sql\n",
        "INSERT INTO Orders(customer_id, order_sum, order_date, address)\n",
        "    VALUES(1, 1000, '2025-03-01', \"Новый адрес Антона\");"
      ],
      "metadata": {
        "id": "Wr3mW79E0JBr",
        "colab": {
          "base_uri": "https://localhost:8080/"
        },
        "outputId": "5f1561bc-62ea-4618-a051-8bc96ba0f2df"
      },
      "execution_count": 27,
      "outputs": [
        {
          "output_type": "stream",
          "name": "stdout",
          "text": [
            " * sqlite:///base.db\n",
            "(sqlite3.IntegrityError) Дата заказа раньше регистрации клиента\n",
            "[SQL: INSERT INTO Orders(customer_id, order_sum, order_date, address)\n",
            "    VALUES(1, 1000, '2025-03-01', \"Новый адрес Антона\");]\n",
            "(Background on this error at: https://sqlalche.me/e/20/gkpj)\n"
          ]
        }
      ]
    },
    {
      "cell_type": "code",
      "source": [
        "%%sql\n",
        "SELECT * FROM Customers;"
      ],
      "metadata": {
        "id": "8CI1utW5wX18",
        "colab": {
          "base_uri": "https://localhost:8080/",
          "height": 96
        },
        "outputId": "c8cf9136-b687-420c-d235-dca92dee3d84"
      },
      "execution_count": 28,
      "outputs": [
        {
          "output_type": "stream",
          "name": "stdout",
          "text": [
            " * sqlite:///base.db\n",
            "Done.\n"
          ]
        },
        {
          "output_type": "execute_result",
          "data": {
            "text/plain": [
              "[(1, 'Антон', '2025-03-03', 'Новый адрес Антона')]"
            ],
            "text/html": [
              "<table>\n",
              "    <thead>\n",
              "        <tr>\n",
              "            <th>customer_id</th>\n",
              "            <th>cust_name</th>\n",
              "            <th>registered</th>\n",
              "            <th>address</th>\n",
              "        </tr>\n",
              "    </thead>\n",
              "    <tbody>\n",
              "        <tr>\n",
              "            <td>1</td>\n",
              "            <td>Антон</td>\n",
              "            <td>2025-03-03</td>\n",
              "            <td>Новый адрес Антона</td>\n",
              "        </tr>\n",
              "    </tbody>\n",
              "</table>"
            ]
          },
          "metadata": {},
          "execution_count": 28
        }
      ]
    },
    {
      "cell_type": "code",
      "source": [
        "%%sql\n",
        "INSERT INTO Orders(customer_id, order_sum, order_date)\n",
        "    VALUES(1, 4000, '2025-03-03');"
      ],
      "metadata": {
        "id": "qa-2UcRT7qog",
        "colab": {
          "base_uri": "https://localhost:8080/"
        },
        "outputId": "90b0a086-1c90-4ada-853d-be2fcd8d72ae"
      },
      "execution_count": 29,
      "outputs": [
        {
          "output_type": "stream",
          "name": "stdout",
          "text": [
            " * sqlite:///base.db\n",
            "(sqlite3.IntegrityError) NOT NULL constraint failed: Customers.address\n",
            "[SQL: INSERT INTO Orders(customer_id, order_sum, order_date)\n",
            "    VALUES(1, 4000, '2025-03-03');]\n",
            "(Background on this error at: https://sqlalche.me/e/20/gkpj)\n"
          ]
        }
      ]
    },
    {
      "cell_type": "code",
      "source": [
        "%%sql\n",
        "SELECT * FROM Orders;"
      ],
      "metadata": {
        "id": "CLM5g_howXzb",
        "colab": {
          "base_uri": "https://localhost:8080/",
          "height": 118
        },
        "outputId": "7aacd2fb-88bc-497a-ee37-dbe769a228c9"
      },
      "execution_count": 30,
      "outputs": [
        {
          "output_type": "stream",
          "name": "stdout",
          "text": [
            " * sqlite:///base.db\n",
            "Done.\n"
          ]
        },
        {
          "output_type": "execute_result",
          "data": {
            "text/plain": [
              "[(1, 1, 24000, '2025-03-01', None),\n",
              " (2, 1, 7000, '2025-03-03', 'Новый адрес Антона')]"
            ],
            "text/html": [
              "<table>\n",
              "    <thead>\n",
              "        <tr>\n",
              "            <th>order_ID</th>\n",
              "            <th>customer_id</th>\n",
              "            <th>order_sum</th>\n",
              "            <th>order_date</th>\n",
              "            <th>address</th>\n",
              "        </tr>\n",
              "    </thead>\n",
              "    <tbody>\n",
              "        <tr>\n",
              "            <td>1</td>\n",
              "            <td>1</td>\n",
              "            <td>24000</td>\n",
              "            <td>2025-03-01</td>\n",
              "            <td>None</td>\n",
              "        </tr>\n",
              "        <tr>\n",
              "            <td>2</td>\n",
              "            <td>1</td>\n",
              "            <td>7000</td>\n",
              "            <td>2025-03-03</td>\n",
              "            <td>Новый адрес Антона</td>\n",
              "        </tr>\n",
              "    </tbody>\n",
              "</table>"
            ]
          },
          "metadata": {},
          "execution_count": 30
        }
      ]
    },
    {
      "cell_type": "code",
      "source": [
        "%%sql\n",
        "UPDATE Orders set order_date = '2025-01-01' WHERE customer_id = 1;"
      ],
      "metadata": {
        "id": "WJW5JEVR_8K3",
        "colab": {
          "base_uri": "https://localhost:8080/"
        },
        "outputId": "414a60c2-9990-44e2-a854-949cb3f87385"
      },
      "execution_count": 31,
      "outputs": [
        {
          "output_type": "stream",
          "name": "stdout",
          "text": [
            " * sqlite:///base.db\n",
            "2 rows affected.\n"
          ]
        },
        {
          "output_type": "execute_result",
          "data": {
            "text/plain": [
              "[]"
            ]
          },
          "metadata": {},
          "execution_count": 31
        }
      ]
    },
    {
      "cell_type": "code",
      "source": [
        "%%sql\n",
        "SELECT * FROM Orders;"
      ],
      "metadata": {
        "colab": {
          "base_uri": "https://localhost:8080/",
          "height": 118
        },
        "id": "WX3HunMmlKkz",
        "outputId": "6a98a582-d355-4810-96ec-1c18b6634161"
      },
      "execution_count": 32,
      "outputs": [
        {
          "output_type": "stream",
          "name": "stdout",
          "text": [
            " * sqlite:///base.db\n",
            "Done.\n"
          ]
        },
        {
          "output_type": "execute_result",
          "data": {
            "text/plain": [
              "[(1, 1, 24000, '2025-01-01', None),\n",
              " (2, 1, 7000, '2025-01-01', 'Новый адрес Антона')]"
            ],
            "text/html": [
              "<table>\n",
              "    <thead>\n",
              "        <tr>\n",
              "            <th>order_ID</th>\n",
              "            <th>customer_id</th>\n",
              "            <th>order_sum</th>\n",
              "            <th>order_date</th>\n",
              "            <th>address</th>\n",
              "        </tr>\n",
              "    </thead>\n",
              "    <tbody>\n",
              "        <tr>\n",
              "            <td>1</td>\n",
              "            <td>1</td>\n",
              "            <td>24000</td>\n",
              "            <td>2025-01-01</td>\n",
              "            <td>None</td>\n",
              "        </tr>\n",
              "        <tr>\n",
              "            <td>2</td>\n",
              "            <td>1</td>\n",
              "            <td>7000</td>\n",
              "            <td>2025-01-01</td>\n",
              "            <td>Новый адрес Антона</td>\n",
              "        </tr>\n",
              "    </tbody>\n",
              "</table>"
            ]
          },
          "metadata": {},
          "execution_count": 32
        }
      ]
    },
    {
      "cell_type": "code",
      "source": [
        "%%sql\n",
        "SELECT * FROM Customers;"
      ],
      "metadata": {
        "colab": {
          "base_uri": "https://localhost:8080/",
          "height": 96
        },
        "id": "4j9LeNpblRFa",
        "outputId": "240d2f09-2a10-400c-bab9-dc153c3331ab"
      },
      "execution_count": 33,
      "outputs": [
        {
          "output_type": "stream",
          "name": "stdout",
          "text": [
            " * sqlite:///base.db\n",
            "Done.\n"
          ]
        },
        {
          "output_type": "execute_result",
          "data": {
            "text/plain": [
              "[(1, 'Антон', '2025-03-03', 'Новый адрес Антона')]"
            ],
            "text/html": [
              "<table>\n",
              "    <thead>\n",
              "        <tr>\n",
              "            <th>customer_id</th>\n",
              "            <th>cust_name</th>\n",
              "            <th>registered</th>\n",
              "            <th>address</th>\n",
              "        </tr>\n",
              "    </thead>\n",
              "    <tbody>\n",
              "        <tr>\n",
              "            <td>1</td>\n",
              "            <td>Антон</td>\n",
              "            <td>2025-03-03</td>\n",
              "            <td>Новый адрес Антона</td>\n",
              "        </tr>\n",
              "    </tbody>\n",
              "</table>"
            ]
          },
          "metadata": {},
          "execution_count": 33
        }
      ]
    },
    {
      "cell_type": "code",
      "source": [
        "%%sql\n",
        "\n",
        "DROP TRIGGER if exists reg_check_update;\n",
        "\n",
        "CREATE TRIGGER reg_check_update BEFORE UPDATE OF order_date\n",
        "ON Orders\n",
        "BEGIN\n",
        "SELECT RAISE (FAIL, \"Дата заказа раньше регистрации клиента\")\n",
        "    FROM Customers JOIN Orders USING(customer_id)\n",
        "        WHERE new.order_date < registered;\n",
        "END;"
      ],
      "metadata": {
        "colab": {
          "base_uri": "https://localhost:8080/"
        },
        "id": "TOFMPyc4l8lL",
        "outputId": "f9dc650a-11e2-4ac5-f7e6-e4cc8d074442"
      },
      "execution_count": 34,
      "outputs": [
        {
          "output_type": "stream",
          "name": "stdout",
          "text": [
            " * sqlite:///base.db\n",
            "Done.\n",
            "Done.\n"
          ]
        },
        {
          "output_type": "execute_result",
          "data": {
            "text/plain": [
              "[]"
            ]
          },
          "metadata": {},
          "execution_count": 34
        }
      ]
    },
    {
      "cell_type": "markdown",
      "source": [
        "## Пример 3 - \"Архив\""
      ],
      "metadata": {
        "id": "UaWKWDJ_81FD"
      }
    },
    {
      "cell_type": "markdown",
      "source": [
        "Если удалили заказ, он сохраняется в \"архиве\""
      ],
      "metadata": {
        "id": "urQFM86eVZmV"
      }
    },
    {
      "cell_type": "code",
      "source": [
        "%%sql\n",
        "\n",
        "DROP TABLE if exists log_orders;\n",
        "\n",
        "CREATE TABLE log_orders (\n",
        "          order_ID integer PRIMARY KEY,\n",
        "          customer_id integer NOT NULL,\n",
        "          order_sum integer,\n",
        "          order_date datetime NOT NULL,\n",
        "          address NOT NULL\n",
        "          );"
      ],
      "metadata": {
        "id": "WnJv_dBvAiAH",
        "colab": {
          "base_uri": "https://localhost:8080/"
        },
        "outputId": "be02b3f0-26d9-43b4-84df-8a082b5435ff"
      },
      "execution_count": 35,
      "outputs": [
        {
          "output_type": "stream",
          "name": "stdout",
          "text": [
            " * sqlite:///base.db\n",
            "Done.\n",
            "Done.\n"
          ]
        },
        {
          "output_type": "execute_result",
          "data": {
            "text/plain": [
              "[]"
            ]
          },
          "metadata": {},
          "execution_count": 35
        }
      ]
    },
    {
      "cell_type": "code",
      "source": [
        "%%sql\n",
        "\n",
        "DROP TRIGGER if exists log;\n",
        "\n",
        "CREATE TRIGGER log BEFORE DELETE\n",
        "ON Orders\n",
        "BEGIN\n",
        "INSERT INTO log_orders(order_ID, customer_id, order_sum, order_date, address)\n",
        "    VALUES (OLD.order_ID, OLD.customer_id, OLD.order_sum, OLD.order_date, OLD.address);\n",
        "END;"
      ],
      "metadata": {
        "id": "HQ2of8VswXw8",
        "colab": {
          "base_uri": "https://localhost:8080/"
        },
        "outputId": "95bc239e-41c7-4cc1-ace4-7480eef6bb51"
      },
      "execution_count": 36,
      "outputs": [
        {
          "output_type": "stream",
          "name": "stdout",
          "text": [
            " * sqlite:///base.db\n",
            "Done.\n",
            "Done.\n"
          ]
        },
        {
          "output_type": "execute_result",
          "data": {
            "text/plain": [
              "[]"
            ]
          },
          "metadata": {},
          "execution_count": 36
        }
      ]
    },
    {
      "cell_type": "code",
      "source": [
        "%%sql\n",
        "SELECT * FROM Orders;"
      ],
      "metadata": {
        "id": "BLq1menB80DC",
        "colab": {
          "base_uri": "https://localhost:8080/",
          "height": 96
        },
        "outputId": "b88827cf-fa91-4841-a1a1-f1f71f48b925"
      },
      "execution_count": 40,
      "outputs": [
        {
          "output_type": "stream",
          "name": "stdout",
          "text": [
            " * sqlite:///base.db\n",
            "Done.\n"
          ]
        },
        {
          "output_type": "execute_result",
          "data": {
            "text/plain": [
              "[(1, 1, 24000, '2025-01-01', None)]"
            ],
            "text/html": [
              "<table>\n",
              "    <thead>\n",
              "        <tr>\n",
              "            <th>order_ID</th>\n",
              "            <th>customer_id</th>\n",
              "            <th>order_sum</th>\n",
              "            <th>order_date</th>\n",
              "            <th>address</th>\n",
              "        </tr>\n",
              "    </thead>\n",
              "    <tbody>\n",
              "        <tr>\n",
              "            <td>1</td>\n",
              "            <td>1</td>\n",
              "            <td>24000</td>\n",
              "            <td>2025-01-01</td>\n",
              "            <td>None</td>\n",
              "        </tr>\n",
              "    </tbody>\n",
              "</table>"
            ]
          },
          "metadata": {},
          "execution_count": 40
        }
      ]
    },
    {
      "cell_type": "code",
      "source": [
        "%%sql\n",
        "SELECT * FROM log_orders;"
      ],
      "metadata": {
        "id": "vij0g_Y480Aa",
        "colab": {
          "base_uri": "https://localhost:8080/",
          "height": 96
        },
        "outputId": "8f4afa7c-53ba-43e4-eb43-b10e69ac902f"
      },
      "execution_count": 41,
      "outputs": [
        {
          "output_type": "stream",
          "name": "stdout",
          "text": [
            " * sqlite:///base.db\n",
            "Done.\n"
          ]
        },
        {
          "output_type": "execute_result",
          "data": {
            "text/plain": [
              "[(2, 1, 7000, '2025-01-01', 'Новый адрес Антона')]"
            ],
            "text/html": [
              "<table>\n",
              "    <thead>\n",
              "        <tr>\n",
              "            <th>order_ID</th>\n",
              "            <th>customer_id</th>\n",
              "            <th>order_sum</th>\n",
              "            <th>order_date</th>\n",
              "            <th>address</th>\n",
              "        </tr>\n",
              "    </thead>\n",
              "    <tbody>\n",
              "        <tr>\n",
              "            <td>2</td>\n",
              "            <td>1</td>\n",
              "            <td>7000</td>\n",
              "            <td>2025-01-01</td>\n",
              "            <td>Новый адрес Антона</td>\n",
              "        </tr>\n",
              "    </tbody>\n",
              "</table>"
            ]
          },
          "metadata": {},
          "execution_count": 41
        }
      ]
    },
    {
      "cell_type": "code",
      "source": [
        "%%sql\n",
        "DELETE FROM Orders WHERE order_ID = 2;"
      ],
      "metadata": {
        "id": "eLOtqCTvBivA",
        "colab": {
          "base_uri": "https://localhost:8080/"
        },
        "outputId": "95c3c49b-014c-4cb3-b545-55ba1218c01a"
      },
      "execution_count": 43,
      "outputs": [
        {
          "output_type": "stream",
          "name": "stdout",
          "text": [
            " * sqlite:///base.db\n",
            "(sqlite3.OperationalError) no such table: Orders\n",
            "[SQL: DELETE FROM Orders WHERE order_ID = 2;]\n",
            "(Background on this error at: https://sqlalche.me/e/20/e3q8)\n"
          ]
        }
      ]
    },
    {
      "cell_type": "code",
      "source": [
        "%%sql\n",
        "DROP TABLE Orders;"
      ],
      "metadata": {
        "id": "aNjIwZdPCAWB",
        "colab": {
          "base_uri": "https://localhost:8080/"
        },
        "outputId": "37a8bd3c-0c55-4d78-febf-8281e59f6a40"
      },
      "execution_count": 42,
      "outputs": [
        {
          "output_type": "stream",
          "name": "stdout",
          "text": [
            " * sqlite:///base.db\n",
            "Done.\n"
          ]
        },
        {
          "output_type": "execute_result",
          "data": {
            "text/plain": [
              "[]"
            ]
          },
          "metadata": {},
          "execution_count": 42
        }
      ]
    }
  ]
}
